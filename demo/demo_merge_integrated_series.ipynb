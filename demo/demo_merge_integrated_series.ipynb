{
    "cells": [
        {
            "cell_type": "code",
            "execution_count": 1,
            "source": [
                "import pandas as pd\r\n",
                "from textblob import TextBlob\r\n",
                "import math\r\n",
                "from sklearn.preprocessing import MinMaxScaler\r\n",
                "from matplotlib.pyplot import MultipleLocator\r\n",
                "import matplotlib.pyplot as plt\r\n",
                "import numpy as np\r\n"
            ],
            "outputs": [],
            "metadata": {}
        },
        {
            "cell_type": "code",
            "execution_count": 2,
            "source": [
                "df_news = pd.read_csv(\"data/Bai_news_headlines.csv\")\r\n",
                "df_news.date = pd.to_datetime(df_news.date)"
            ],
            "outputs": [],
            "metadata": {}
        },
        {
            "cell_type": "code",
            "execution_count": 4,
            "source": [
                "h_matrix_file = open('seanmf_results/4H.txt','r',encoding='utf-8')"
            ],
            "outputs": [],
            "metadata": {}
        },
        {
            "cell_type": "code",
            "execution_count": 5,
            "source": [
                "df_prop = pd.DataFrame(columns = ['date','topic1','topic2','topic3','topic4'])\r\n",
                "t1_l,t2_l,t3_l,t4_l,t5_l,t6_l= [],[],[],[],[],[]\r\n",
                "\r\n",
                "for line in h_matrix_file:\r\n",
                "    values = str(line).split(' ')\r\n",
                "    values = [float(i) for i in values]\r\n",
                "    t1_l.append(values[0]/(sum(values))) ## The first entry is the word\r\n",
                "    t2_l.append(values[1]/(sum(values)))\r\n",
                "    t3_l.append(values[2]/(sum(values)))\r\n",
                "    t4_l.append(values[3]/(sum(values)))\r\n",
                "\r\n",
                "\r\n",
                "h_matrix_file.close()\r\n",
                "df_prop['topic1'] = t1_l\r\n",
                "df_prop['topic2'] = t2_l\r\n",
                "df_prop['topic3'] = t3_l\r\n",
                "df_prop['topic4'] = t4_l\r\n"
            ],
            "outputs": [],
            "metadata": {}
        },
        {
            "cell_type": "code",
            "execution_count": 6,
            "source": [
                "df_news.shape"
            ],
            "outputs": [
                {
                    "output_type": "execute_result",
                    "data": {
                        "text/plain": [
                            "(28220, 2)"
                        ]
                    },
                    "metadata": {},
                    "execution_count": 6
                }
            ],
            "metadata": {}
        },
        {
            "cell_type": "code",
            "execution_count": 7,
            "source": [
                "df_prop.shape"
            ],
            "outputs": [
                {
                    "output_type": "execute_result",
                    "data": {
                        "text/plain": [
                            "(28220, 5)"
                        ]
                    },
                    "metadata": {},
                    "execution_count": 7
                }
            ],
            "metadata": {}
        },
        {
            "cell_type": "code",
            "execution_count": 8,
            "source": [
                "df_prop['date'] = df_news.date"
            ],
            "outputs": [],
            "metadata": {}
        },
        {
            "cell_type": "code",
            "execution_count": 11,
            "source": [
                "\r\n",
                "df_grouped_prop = df_prop.groupby(['date']).mean()\r\n",
                "df_grouped_prop.reset_index(inplace=True)\r\n"
            ],
            "outputs": [],
            "metadata": {}
        },
        {
            "cell_type": "code",
            "execution_count": 21,
            "source": [
                "df_grouped_prop.columns"
            ],
            "outputs": [
                {
                    "output_type": "execute_result",
                    "data": {
                        "text/plain": [
                            "Index(['date', 'topic1', 'topic2', 'topic3', 'topic4'], dtype='object')"
                        ]
                    },
                    "metadata": {},
                    "execution_count": 21
                }
            ],
            "metadata": {}
        },
        {
            "cell_type": "code",
            "execution_count": 13,
            "source": [
                "df_sentiment = pd.read_csv(\"Bai_news_headlines_sentiment_indicators.csv\")\r\n",
                "df_sentiment.date = pd.to_datetime(df_sentiment.date)\r\n",
                "df_sentiment['normalized_polarity']= MinMaxScaler().fit_transform(np.array(df_sentiment['cumulated_polarity']).reshape(-1, 1))\r\n"
            ],
            "outputs": [],
            "metadata": {}
        },
        {
            "cell_type": "code",
            "execution_count": 37,
            "source": [
                "df_sentiment.shape"
            ],
            "outputs": [
                {
                    "output_type": "execute_result",
                    "data": {
                        "text/plain": [
                            "(2583, 4)"
                        ]
                    },
                    "metadata": {},
                    "execution_count": 37
                }
            ],
            "metadata": {}
        },
        {
            "cell_type": "code",
            "execution_count": 16,
            "source": [
                "df_price = pd.read_csv(\"data/Bai_origin_oil.csv\")\r\n",
                "df_price.date = pd.to_datetime(df_price.date)\r\n",
                "df_price['normalized_price']= MinMaxScaler().fit_transform(np.array(df_price['price']).reshape(-1, 1))\r\n"
            ],
            "outputs": [],
            "metadata": {}
        },
        {
            "cell_type": "code",
            "execution_count": 35,
            "source": [
                "df_price.shape"
            ],
            "outputs": [
                {
                    "output_type": "execute_result",
                    "data": {
                        "text/plain": [
                            "(2008, 3)"
                        ]
                    },
                    "metadata": {},
                    "execution_count": 35
                }
            ],
            "metadata": {}
        },
        {
            "cell_type": "code",
            "execution_count": 36,
            "source": [
                "df_grouped_prop.shape"
            ],
            "outputs": [
                {
                    "output_type": "execute_result",
                    "data": {
                        "text/plain": [
                            "(2583, 5)"
                        ]
                    },
                    "metadata": {},
                    "execution_count": 36
                }
            ],
            "metadata": {}
        },
        {
            "cell_type": "code",
            "execution_count": null,
            "source": [
                "df_polarity_price=pd.merge(df_sentiment,df_price,on=[\"date\"])[[\"date\",\"normalized_polarity\",\"normalized_price\"]]\r\n"
            ],
            "outputs": [],
            "metadata": {}
        },
        {
            "cell_type": "code",
            "execution_count": 34,
            "source": [
                "df_polarity_price=pd.merge(df_sentiment,df_price,on=[\"date\"])[[\"date\",\"normalized_polarity\",\"normalized_price\"]]\r\n",
                "df_polarity_price"
            ],
            "outputs": [
                {
                    "output_type": "execute_result",
                    "data": {
                        "text/plain": [
                            "           date  normalized_polarity  normalized_price\n",
                            "0    2011-03-29             0.820735          0.896216\n",
                            "1    2011-03-30             0.789064          0.890023\n",
                            "2    2011-03-31             0.783535          0.917431\n",
                            "3    2011-04-01             0.806864          0.933028\n",
                            "4    2011-04-04             0.923509          0.939794\n",
                            "...         ...                  ...               ...\n",
                            "1988 2019-03-18             0.731557          0.377294\n",
                            "1989 2019-03-19             0.776877          0.377638\n",
                            "1990 2019-03-20             0.761152          0.389106\n",
                            "1991 2019-03-21             0.780255          0.387500\n",
                            "1992 2019-03-22             0.810537          0.374771\n",
                            "\n",
                            "[1993 rows x 3 columns]"
                        ],
                        "text/html": [
                            "<div>\n",
                            "<style scoped>\n",
                            "    .dataframe tbody tr th:only-of-type {\n",
                            "        vertical-align: middle;\n",
                            "    }\n",
                            "\n",
                            "    .dataframe tbody tr th {\n",
                            "        vertical-align: top;\n",
                            "    }\n",
                            "\n",
                            "    .dataframe thead th {\n",
                            "        text-align: right;\n",
                            "    }\n",
                            "</style>\n",
                            "<table border=\"1\" class=\"dataframe\">\n",
                            "  <thead>\n",
                            "    <tr style=\"text-align: right;\">\n",
                            "      <th></th>\n",
                            "      <th>date</th>\n",
                            "      <th>normalized_polarity</th>\n",
                            "      <th>normalized_price</th>\n",
                            "    </tr>\n",
                            "  </thead>\n",
                            "  <tbody>\n",
                            "    <tr>\n",
                            "      <th>0</th>\n",
                            "      <td>2011-03-29</td>\n",
                            "      <td>0.820735</td>\n",
                            "      <td>0.896216</td>\n",
                            "    </tr>\n",
                            "    <tr>\n",
                            "      <th>1</th>\n",
                            "      <td>2011-03-30</td>\n",
                            "      <td>0.789064</td>\n",
                            "      <td>0.890023</td>\n",
                            "    </tr>\n",
                            "    <tr>\n",
                            "      <th>2</th>\n",
                            "      <td>2011-03-31</td>\n",
                            "      <td>0.783535</td>\n",
                            "      <td>0.917431</td>\n",
                            "    </tr>\n",
                            "    <tr>\n",
                            "      <th>3</th>\n",
                            "      <td>2011-04-01</td>\n",
                            "      <td>0.806864</td>\n",
                            "      <td>0.933028</td>\n",
                            "    </tr>\n",
                            "    <tr>\n",
                            "      <th>4</th>\n",
                            "      <td>2011-04-04</td>\n",
                            "      <td>0.923509</td>\n",
                            "      <td>0.939794</td>\n",
                            "    </tr>\n",
                            "    <tr>\n",
                            "      <th>...</th>\n",
                            "      <td>...</td>\n",
                            "      <td>...</td>\n",
                            "      <td>...</td>\n",
                            "    </tr>\n",
                            "    <tr>\n",
                            "      <th>1988</th>\n",
                            "      <td>2019-03-18</td>\n",
                            "      <td>0.731557</td>\n",
                            "      <td>0.377294</td>\n",
                            "    </tr>\n",
                            "    <tr>\n",
                            "      <th>1989</th>\n",
                            "      <td>2019-03-19</td>\n",
                            "      <td>0.776877</td>\n",
                            "      <td>0.377638</td>\n",
                            "    </tr>\n",
                            "    <tr>\n",
                            "      <th>1990</th>\n",
                            "      <td>2019-03-20</td>\n",
                            "      <td>0.761152</td>\n",
                            "      <td>0.389106</td>\n",
                            "    </tr>\n",
                            "    <tr>\n",
                            "      <th>1991</th>\n",
                            "      <td>2019-03-21</td>\n",
                            "      <td>0.780255</td>\n",
                            "      <td>0.387500</td>\n",
                            "    </tr>\n",
                            "    <tr>\n",
                            "      <th>1992</th>\n",
                            "      <td>2019-03-22</td>\n",
                            "      <td>0.810537</td>\n",
                            "      <td>0.374771</td>\n",
                            "    </tr>\n",
                            "  </tbody>\n",
                            "</table>\n",
                            "<p>1993 rows × 3 columns</p>\n",
                            "</div>"
                        ]
                    },
                    "metadata": {},
                    "execution_count": 34
                }
            ],
            "metadata": {}
        },
        {
            "cell_type": "code",
            "execution_count": 38,
            "source": [
                "df_final=pd.merge(df_polarity_price,df_grouped_prop,on=[\"date\"])"
            ],
            "outputs": [],
            "metadata": {}
        },
        {
            "cell_type": "code",
            "execution_count": 39,
            "source": [
                "df_final"
            ],
            "outputs": [
                {
                    "output_type": "execute_result",
                    "data": {
                        "text/plain": [
                            "           date  normalized_polarity  normalized_price    topic1    topic2  \\\n",
                            "0    2011-03-29             0.820735          0.896216  0.322602  0.633046   \n",
                            "1    2011-03-30             0.789064          0.890023  0.389422  0.542997   \n",
                            "2    2011-03-31             0.783535          0.917431  0.373578  0.593646   \n",
                            "3    2011-04-01             0.806864          0.933028  0.360771  0.539566   \n",
                            "4    2011-04-04             0.923509          0.939794  0.341547  0.561921   \n",
                            "...         ...                  ...               ...       ...       ...   \n",
                            "1988 2019-03-18             0.731557          0.377294  0.495080  0.353325   \n",
                            "1989 2019-03-19             0.776877          0.377638  0.439608  0.414550   \n",
                            "1990 2019-03-20             0.761152          0.389106  0.563433  0.289652   \n",
                            "1991 2019-03-21             0.780255          0.387500  0.491381  0.346630   \n",
                            "1992 2019-03-22             0.810537          0.374771  0.434081  0.434152   \n",
                            "\n",
                            "        topic3    topic4  \n",
                            "0     0.001900  0.042452  \n",
                            "1     0.034930  0.032651  \n",
                            "2     0.011477  0.021299  \n",
                            "3     0.070864  0.028800  \n",
                            "4     0.048073  0.048459  \n",
                            "...        ...       ...  \n",
                            "1988  0.077713  0.073882  \n",
                            "1989  0.088073  0.057769  \n",
                            "1990  0.081781  0.065134  \n",
                            "1991  0.094365  0.067624  \n",
                            "1992  0.089622  0.042145  \n",
                            "\n",
                            "[1993 rows x 7 columns]"
                        ],
                        "text/html": [
                            "<div>\n",
                            "<style scoped>\n",
                            "    .dataframe tbody tr th:only-of-type {\n",
                            "        vertical-align: middle;\n",
                            "    }\n",
                            "\n",
                            "    .dataframe tbody tr th {\n",
                            "        vertical-align: top;\n",
                            "    }\n",
                            "\n",
                            "    .dataframe thead th {\n",
                            "        text-align: right;\n",
                            "    }\n",
                            "</style>\n",
                            "<table border=\"1\" class=\"dataframe\">\n",
                            "  <thead>\n",
                            "    <tr style=\"text-align: right;\">\n",
                            "      <th></th>\n",
                            "      <th>date</th>\n",
                            "      <th>normalized_polarity</th>\n",
                            "      <th>normalized_price</th>\n",
                            "      <th>topic1</th>\n",
                            "      <th>topic2</th>\n",
                            "      <th>topic3</th>\n",
                            "      <th>topic4</th>\n",
                            "    </tr>\n",
                            "  </thead>\n",
                            "  <tbody>\n",
                            "    <tr>\n",
                            "      <th>0</th>\n",
                            "      <td>2011-03-29</td>\n",
                            "      <td>0.820735</td>\n",
                            "      <td>0.896216</td>\n",
                            "      <td>0.322602</td>\n",
                            "      <td>0.633046</td>\n",
                            "      <td>0.001900</td>\n",
                            "      <td>0.042452</td>\n",
                            "    </tr>\n",
                            "    <tr>\n",
                            "      <th>1</th>\n",
                            "      <td>2011-03-30</td>\n",
                            "      <td>0.789064</td>\n",
                            "      <td>0.890023</td>\n",
                            "      <td>0.389422</td>\n",
                            "      <td>0.542997</td>\n",
                            "      <td>0.034930</td>\n",
                            "      <td>0.032651</td>\n",
                            "    </tr>\n",
                            "    <tr>\n",
                            "      <th>2</th>\n",
                            "      <td>2011-03-31</td>\n",
                            "      <td>0.783535</td>\n",
                            "      <td>0.917431</td>\n",
                            "      <td>0.373578</td>\n",
                            "      <td>0.593646</td>\n",
                            "      <td>0.011477</td>\n",
                            "      <td>0.021299</td>\n",
                            "    </tr>\n",
                            "    <tr>\n",
                            "      <th>3</th>\n",
                            "      <td>2011-04-01</td>\n",
                            "      <td>0.806864</td>\n",
                            "      <td>0.933028</td>\n",
                            "      <td>0.360771</td>\n",
                            "      <td>0.539566</td>\n",
                            "      <td>0.070864</td>\n",
                            "      <td>0.028800</td>\n",
                            "    </tr>\n",
                            "    <tr>\n",
                            "      <th>4</th>\n",
                            "      <td>2011-04-04</td>\n",
                            "      <td>0.923509</td>\n",
                            "      <td>0.939794</td>\n",
                            "      <td>0.341547</td>\n",
                            "      <td>0.561921</td>\n",
                            "      <td>0.048073</td>\n",
                            "      <td>0.048459</td>\n",
                            "    </tr>\n",
                            "    <tr>\n",
                            "      <th>...</th>\n",
                            "      <td>...</td>\n",
                            "      <td>...</td>\n",
                            "      <td>...</td>\n",
                            "      <td>...</td>\n",
                            "      <td>...</td>\n",
                            "      <td>...</td>\n",
                            "      <td>...</td>\n",
                            "    </tr>\n",
                            "    <tr>\n",
                            "      <th>1988</th>\n",
                            "      <td>2019-03-18</td>\n",
                            "      <td>0.731557</td>\n",
                            "      <td>0.377294</td>\n",
                            "      <td>0.495080</td>\n",
                            "      <td>0.353325</td>\n",
                            "      <td>0.077713</td>\n",
                            "      <td>0.073882</td>\n",
                            "    </tr>\n",
                            "    <tr>\n",
                            "      <th>1989</th>\n",
                            "      <td>2019-03-19</td>\n",
                            "      <td>0.776877</td>\n",
                            "      <td>0.377638</td>\n",
                            "      <td>0.439608</td>\n",
                            "      <td>0.414550</td>\n",
                            "      <td>0.088073</td>\n",
                            "      <td>0.057769</td>\n",
                            "    </tr>\n",
                            "    <tr>\n",
                            "      <th>1990</th>\n",
                            "      <td>2019-03-20</td>\n",
                            "      <td>0.761152</td>\n",
                            "      <td>0.389106</td>\n",
                            "      <td>0.563433</td>\n",
                            "      <td>0.289652</td>\n",
                            "      <td>0.081781</td>\n",
                            "      <td>0.065134</td>\n",
                            "    </tr>\n",
                            "    <tr>\n",
                            "      <th>1991</th>\n",
                            "      <td>2019-03-21</td>\n",
                            "      <td>0.780255</td>\n",
                            "      <td>0.387500</td>\n",
                            "      <td>0.491381</td>\n",
                            "      <td>0.346630</td>\n",
                            "      <td>0.094365</td>\n",
                            "      <td>0.067624</td>\n",
                            "    </tr>\n",
                            "    <tr>\n",
                            "      <th>1992</th>\n",
                            "      <td>2019-03-22</td>\n",
                            "      <td>0.810537</td>\n",
                            "      <td>0.374771</td>\n",
                            "      <td>0.434081</td>\n",
                            "      <td>0.434152</td>\n",
                            "      <td>0.089622</td>\n",
                            "      <td>0.042145</td>\n",
                            "    </tr>\n",
                            "  </tbody>\n",
                            "</table>\n",
                            "<p>1993 rows × 7 columns</p>\n",
                            "</div>"
                        ]
                    },
                    "metadata": {},
                    "execution_count": 39
                }
            ],
            "metadata": {}
        },
        {
            "cell_type": "code",
            "execution_count": 51,
            "source": [
                "df_final.to_csv(\"integrated_series.csv\",index=False)"
            ],
            "outputs": [],
            "metadata": {}
        },
        {
            "cell_type": "code",
            "execution_count": null,
            "source": [],
            "outputs": [],
            "metadata": {}
        }
    ],
    "metadata": {
        "orig_nbformat": 4,
        "language_info": {
            "name": "python",
            "version": "3.7.11",
            "mimetype": "text/x-python",
            "codemirror_mode": {
                "name": "ipython",
                "version": 3
            },
            "pygments_lexer": "ipython3",
            "nbconvert_exporter": "python",
            "file_extension": ".py"
        },
        "kernelspec": {
            "name": "python3",
            "display_name": "Python 3.7.11 64-bit ('ds-env': conda)"
        },
        "interpreter": {
            "hash": "6ea1ff613e4d4108378a98b641e44fcddf5add35145041c20507c4a55380beef"
        }
    },
    "nbformat": 4,
    "nbformat_minor": 2
}