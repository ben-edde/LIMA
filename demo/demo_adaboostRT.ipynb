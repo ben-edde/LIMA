{
    "cells": [
        {
            "cell_type": "code",
            "execution_count": 1,
            "source": [
                "import pandas as pd\r\n",
                "from textblob import TextBlob\r\n",
                "import math\r\n",
                "from sklearn.preprocessing import MinMaxScaler\r\n",
                "from matplotlib.pyplot import MultipleLocator\r\n",
                "import matplotlib.pyplot as plt\r\n",
                "import numpy as np"
            ],
            "outputs": [],
            "metadata": {}
        },
        {
            "cell_type": "code",
            "execution_count": 2,
            "source": [
                "df_normalized_polarity_price = pd.read_csv(\"normalized_polarity_price.csv\")\r\n",
                "df_normalized_polarity_price.date = pd.to_datetime(df_normalized_polarity_price.date)"
            ],
            "outputs": [],
            "metadata": {}
        },
        {
            "cell_type": "code",
            "execution_count": 3,
            "source": [
                "df_normalized_polarity_price.head()"
            ],
            "outputs": [
                {
                    "output_type": "execute_result",
                    "data": {
                        "text/plain": [
                            "        date  normalized_polarity  normalized_price\n",
                            "0 2011-03-29             0.820735          0.896216\n",
                            "1 2011-03-30             0.789064          0.890023\n",
                            "2 2011-03-31             0.783535          0.917431\n",
                            "3 2011-04-01             0.806864          0.933028\n",
                            "4 2011-04-04             0.923509          0.939794"
                        ],
                        "text/html": [
                            "<div>\n",
                            "<style scoped>\n",
                            "    .dataframe tbody tr th:only-of-type {\n",
                            "        vertical-align: middle;\n",
                            "    }\n",
                            "\n",
                            "    .dataframe tbody tr th {\n",
                            "        vertical-align: top;\n",
                            "    }\n",
                            "\n",
                            "    .dataframe thead th {\n",
                            "        text-align: right;\n",
                            "    }\n",
                            "</style>\n",
                            "<table border=\"1\" class=\"dataframe\">\n",
                            "  <thead>\n",
                            "    <tr style=\"text-align: right;\">\n",
                            "      <th></th>\n",
                            "      <th>date</th>\n",
                            "      <th>normalized_polarity</th>\n",
                            "      <th>normalized_price</th>\n",
                            "    </tr>\n",
                            "  </thead>\n",
                            "  <tbody>\n",
                            "    <tr>\n",
                            "      <th>0</th>\n",
                            "      <td>2011-03-29</td>\n",
                            "      <td>0.820735</td>\n",
                            "      <td>0.896216</td>\n",
                            "    </tr>\n",
                            "    <tr>\n",
                            "      <th>1</th>\n",
                            "      <td>2011-03-30</td>\n",
                            "      <td>0.789064</td>\n",
                            "      <td>0.890023</td>\n",
                            "    </tr>\n",
                            "    <tr>\n",
                            "      <th>2</th>\n",
                            "      <td>2011-03-31</td>\n",
                            "      <td>0.783535</td>\n",
                            "      <td>0.917431</td>\n",
                            "    </tr>\n",
                            "    <tr>\n",
                            "      <th>3</th>\n",
                            "      <td>2011-04-01</td>\n",
                            "      <td>0.806864</td>\n",
                            "      <td>0.933028</td>\n",
                            "    </tr>\n",
                            "    <tr>\n",
                            "      <th>4</th>\n",
                            "      <td>2011-04-04</td>\n",
                            "      <td>0.923509</td>\n",
                            "      <td>0.939794</td>\n",
                            "    </tr>\n",
                            "  </tbody>\n",
                            "</table>\n",
                            "</div>"
                        ]
                    },
                    "metadata": {},
                    "execution_count": 3
                }
            ],
            "metadata": {}
        },
        {
            "cell_type": "code",
            "execution_count": 4,
            "source": [
                "lag_dict = {'normalized_polarity':4,'normalized_price':2} "
            ],
            "outputs": [],
            "metadata": {}
        },
        {
            "cell_type": "code",
            "execution_count": 5,
            "source": [
                "frame = []\r\n",
                "series_index=1\r\n",
                "for each_type in lag_dict:\r\n",
                "    lag = lag_dict[each_type]\r\n",
                "    ts = df_normalized_polarity_price[each_type].tolist()\r\n",
                "    df = pd.DataFrame(ts)\r\n",
                "    n_vars = 1 if type(ts) is list else ts.shape[1]\r\n",
                "    cols,names = list(),list()\r\n",
                "    # input sq(t-n,...,t-1)\r\n",
                "    for i in range(lag,0,-1):\r\n",
                "        cols.append(df.shift(i))\r\n",
                "        names += [('(t-%d)%d' % (i,j+1)) for j in range(n_vars)]\r\n",
                "    # forecast sq(t,t+1,..,t+n)\r\n",
                "    for i in range(0,1):\r\n",
                "        cols.append(df.shift(-i))\r\n",
                "        if i==0:\r\n",
                "            names += [('(t)%d' % (j+1)) for j in range(n_vars)]\r\n",
                "        else:\r\n",
                "            names += [('(t+%d)' % (j+1)) for j in range(n_vars)]\r\n",
                "    # put it all together\r\n",
                "    agg = pd.concat(cols,axis=1)\r\n",
                "    agg.columns = names\r\n",
                "    # drop rows with NaN values\r\n",
                "    agg.dropna(inplace=True)\r\n",
                "    colList = agg.columns\r\n",
                "    length = len(colList)\r\n",
                "    agg.columns = ['var'+str(series_index)+'(t-%d)' %(length-1-i) for i in range(length)]\r\n",
                "    series_index+=1\r\n",
                "    frame.append(agg)\r\n",
                "\r\n",
                "agg1 = pd.concat(frame,axis=1)\r\n",
                "agg1.dropna(inplace=True)\r\n",
                "\r\n",
                "for name in agg1.columns:\r\n",
                "    if name != 'var2(t-0)':\r\n",
                "        if '(t-0)' in name:\r\n",
                "            agg1 = agg1.drop([name],axis=1)"
            ],
            "outputs": [],
            "metadata": {}
        },
        {
            "cell_type": "code",
            "execution_count": 6,
            "source": [
                "agg1"
            ],
            "outputs": [
                {
                    "output_type": "execute_result",
                    "data": {
                        "text/plain": [
                            "      var1(t-4)  var1(t-3)  var1(t-2)  var1(t-1)  var2(t-2)  var2(t-1)  \\\n",
                            "4      0.820735   0.789064   0.783535   0.806864   0.917431   0.933028   \n",
                            "5      0.789064   0.783535   0.806864   0.923509   0.933028   0.939794   \n",
                            "6      0.783535   0.806864   0.923509   0.838991   0.939794   0.936124   \n",
                            "7      0.806864   0.923509   0.838991   0.849925   0.936124   0.942546   \n",
                            "8      0.923509   0.838991   0.849925   0.861313   0.942546   0.959060   \n",
                            "...         ...        ...        ...        ...        ...        ...   \n",
                            "1988   0.735858   0.735692   0.725664   0.739899   0.371560   0.370642   \n",
                            "1989   0.735692   0.725664   0.739899   0.731557   0.370642   0.377294   \n",
                            "1990   0.725664   0.739899   0.731557   0.776877   0.377294   0.377638   \n",
                            "1991   0.739899   0.731557   0.776877   0.761152   0.377638   0.389106   \n",
                            "1992   0.731557   0.776877   0.761152   0.780255   0.389106   0.387500   \n",
                            "\n",
                            "      var2(t-0)  \n",
                            "4      0.939794  \n",
                            "5      0.936124  \n",
                            "6      0.942546  \n",
                            "7      0.959060  \n",
                            "8      0.987156  \n",
                            "...         ...  \n",
                            "1988   0.377294  \n",
                            "1989   0.377638  \n",
                            "1990   0.389106  \n",
                            "1991   0.387500  \n",
                            "1992   0.374771  \n",
                            "\n",
                            "[1989 rows x 7 columns]"
                        ],
                        "text/html": [
                            "<div>\n",
                            "<style scoped>\n",
                            "    .dataframe tbody tr th:only-of-type {\n",
                            "        vertical-align: middle;\n",
                            "    }\n",
                            "\n",
                            "    .dataframe tbody tr th {\n",
                            "        vertical-align: top;\n",
                            "    }\n",
                            "\n",
                            "    .dataframe thead th {\n",
                            "        text-align: right;\n",
                            "    }\n",
                            "</style>\n",
                            "<table border=\"1\" class=\"dataframe\">\n",
                            "  <thead>\n",
                            "    <tr style=\"text-align: right;\">\n",
                            "      <th></th>\n",
                            "      <th>var1(t-4)</th>\n",
                            "      <th>var1(t-3)</th>\n",
                            "      <th>var1(t-2)</th>\n",
                            "      <th>var1(t-1)</th>\n",
                            "      <th>var2(t-2)</th>\n",
                            "      <th>var2(t-1)</th>\n",
                            "      <th>var2(t-0)</th>\n",
                            "    </tr>\n",
                            "  </thead>\n",
                            "  <tbody>\n",
                            "    <tr>\n",
                            "      <th>4</th>\n",
                            "      <td>0.820735</td>\n",
                            "      <td>0.789064</td>\n",
                            "      <td>0.783535</td>\n",
                            "      <td>0.806864</td>\n",
                            "      <td>0.917431</td>\n",
                            "      <td>0.933028</td>\n",
                            "      <td>0.939794</td>\n",
                            "    </tr>\n",
                            "    <tr>\n",
                            "      <th>5</th>\n",
                            "      <td>0.789064</td>\n",
                            "      <td>0.783535</td>\n",
                            "      <td>0.806864</td>\n",
                            "      <td>0.923509</td>\n",
                            "      <td>0.933028</td>\n",
                            "      <td>0.939794</td>\n",
                            "      <td>0.936124</td>\n",
                            "    </tr>\n",
                            "    <tr>\n",
                            "      <th>6</th>\n",
                            "      <td>0.783535</td>\n",
                            "      <td>0.806864</td>\n",
                            "      <td>0.923509</td>\n",
                            "      <td>0.838991</td>\n",
                            "      <td>0.939794</td>\n",
                            "      <td>0.936124</td>\n",
                            "      <td>0.942546</td>\n",
                            "    </tr>\n",
                            "    <tr>\n",
                            "      <th>7</th>\n",
                            "      <td>0.806864</td>\n",
                            "      <td>0.923509</td>\n",
                            "      <td>0.838991</td>\n",
                            "      <td>0.849925</td>\n",
                            "      <td>0.936124</td>\n",
                            "      <td>0.942546</td>\n",
                            "      <td>0.959060</td>\n",
                            "    </tr>\n",
                            "    <tr>\n",
                            "      <th>8</th>\n",
                            "      <td>0.923509</td>\n",
                            "      <td>0.838991</td>\n",
                            "      <td>0.849925</td>\n",
                            "      <td>0.861313</td>\n",
                            "      <td>0.942546</td>\n",
                            "      <td>0.959060</td>\n",
                            "      <td>0.987156</td>\n",
                            "    </tr>\n",
                            "    <tr>\n",
                            "      <th>...</th>\n",
                            "      <td>...</td>\n",
                            "      <td>...</td>\n",
                            "      <td>...</td>\n",
                            "      <td>...</td>\n",
                            "      <td>...</td>\n",
                            "      <td>...</td>\n",
                            "      <td>...</td>\n",
                            "    </tr>\n",
                            "    <tr>\n",
                            "      <th>1988</th>\n",
                            "      <td>0.735858</td>\n",
                            "      <td>0.735692</td>\n",
                            "      <td>0.725664</td>\n",
                            "      <td>0.739899</td>\n",
                            "      <td>0.371560</td>\n",
                            "      <td>0.370642</td>\n",
                            "      <td>0.377294</td>\n",
                            "    </tr>\n",
                            "    <tr>\n",
                            "      <th>1989</th>\n",
                            "      <td>0.735692</td>\n",
                            "      <td>0.725664</td>\n",
                            "      <td>0.739899</td>\n",
                            "      <td>0.731557</td>\n",
                            "      <td>0.370642</td>\n",
                            "      <td>0.377294</td>\n",
                            "      <td>0.377638</td>\n",
                            "    </tr>\n",
                            "    <tr>\n",
                            "      <th>1990</th>\n",
                            "      <td>0.725664</td>\n",
                            "      <td>0.739899</td>\n",
                            "      <td>0.731557</td>\n",
                            "      <td>0.776877</td>\n",
                            "      <td>0.377294</td>\n",
                            "      <td>0.377638</td>\n",
                            "      <td>0.389106</td>\n",
                            "    </tr>\n",
                            "    <tr>\n",
                            "      <th>1991</th>\n",
                            "      <td>0.739899</td>\n",
                            "      <td>0.731557</td>\n",
                            "      <td>0.776877</td>\n",
                            "      <td>0.761152</td>\n",
                            "      <td>0.377638</td>\n",
                            "      <td>0.389106</td>\n",
                            "      <td>0.387500</td>\n",
                            "    </tr>\n",
                            "    <tr>\n",
                            "      <th>1992</th>\n",
                            "      <td>0.731557</td>\n",
                            "      <td>0.776877</td>\n",
                            "      <td>0.761152</td>\n",
                            "      <td>0.780255</td>\n",
                            "      <td>0.389106</td>\n",
                            "      <td>0.387500</td>\n",
                            "      <td>0.374771</td>\n",
                            "    </tr>\n",
                            "  </tbody>\n",
                            "</table>\n",
                            "<p>1989 rows × 7 columns</p>\n",
                            "</div>"
                        ]
                    },
                    "metadata": {},
                    "execution_count": 6
                }
            ],
            "metadata": {}
        },
        {
            "cell_type": "code",
            "execution_count": 7,
            "source": [
                "values = agg1.values\r\n",
                "# ensure all data is float\r\n",
                "values = values.astype('float32')\r\n",
                "values.shape"
            ],
            "outputs": [
                {
                    "output_type": "execute_result",
                    "data": {
                        "text/plain": [
                            "(1989, 7)"
                        ]
                    },
                    "metadata": {},
                    "execution_count": 7
                }
            ],
            "metadata": {}
        },
        {
            "cell_type": "code",
            "execution_count": 8,
            "source": [
                "\r\n",
                "#Filling Nan with mean\r\n",
                "numFeat = np.shape(values)[1]\r\n",
                "for i in range(numFeat):\r\n",
                "    meanVal = np.mean(values[np.nonzero(~np.isnan(values[:,i]))[0],i]) \r\n",
                "    #values that are not NaN (a number)\r\n",
                "    values[np.nonzero(np.isnan(values[:,i]))[0],i] = meanVal"
            ],
            "outputs": [],
            "metadata": {}
        },
        {
            "cell_type": "code",
            "execution_count": 47,
            "source": [
                "# split into train and test sets\r\n",
                "size = int(len(values)*2/3)\r\n",
                "train = values[:size, :]\r\n",
                "test = values[size:, :]\r\n",
                "\r\n",
                "# split into input and outputs\r\n",
                "train_2X, train_y = train[:, :-1], train[:, -1]\r\n",
                "test_2X, test_y = test[:, :-1], test[:, -1]\r\n",
                "\r\n",
                "\r\n",
                "#Data format to be used in RFE model\r\n",
                "ta_X = train_2X\r\n",
                "ta_y = train_y\r\n",
                "te_X = test_2X\r\n",
                "real_y = test_y "
            ],
            "outputs": [],
            "metadata": {}
        },
        {
            "cell_type": "code",
            "execution_count": 48,
            "source": [
                "te_X.shape"
            ],
            "outputs": [
                {
                    "output_type": "execute_result",
                    "data": {
                        "text/plain": [
                            "(663, 6)"
                        ]
                    },
                    "metadata": {},
                    "execution_count": 48
                }
            ],
            "metadata": {}
        },
        {
            "cell_type": "markdown",
            "source": [
                "# preprocessing done, now start regression"
            ],
            "metadata": {}
        },
        {
            "cell_type": "code",
            "execution_count": 49,
            "source": [
                "from sklearn.feature_selection import RFE\r\n",
                "from sklearn.tree import DecisionTreeRegressor\r\n",
                "from sklearn.ensemble import AdaBoostRegressor  \r\n",
                "ada = AdaBoostRegressor(base_estimator = DecisionTreeRegressor(splitter=\"random\",\r\n",
                "                                                                max_depth=1,\r\n",
                "                                                                min_samples_split=3),\r\n",
                "                        n_estimators=30,learning_rate=0.01)\r\n",
                "\r\n",
                "model_list = [ada]"
            ],
            "outputs": [],
            "metadata": {}
        },
        {
            "cell_type": "code",
            "execution_count": 50,
            "source": [
                "#define RMSE\r\n",
                "# l1-true,l2-false\r\n",
                "def RMSE(l1,l2):\r\n",
                "    length = len(l1)\r\n",
                "    sum = 0\r\n",
                "    for i in range(length):\r\n",
                "        sum = sum + np.square(l1[i]-l2[i])\r\n",
                "    return math.sqrt(sum/length)\r\n",
                "#define MAE\r\n",
                "def MAE(l1,l2):\r\n",
                "    n = len(l1)\r\n",
                "    l1 = np.array(l1)\r\n",
                "    l2 = np.array(l2)\r\n",
                "    mae = sum(np.abs(l1-l2))/n\r\n",
                "    return mae\r\n",
                "#def MAPE\r\n",
                "def MAPE(l1,l2):\r\n",
                "    n = len(l1)\r\n",
                "    l1 = np.array(l1)\r\n",
                "    l2 = np.array(l2)\r\n",
                "    for i in range(len(l1)):\r\n",
                "        if l1[i] == 0:\r\n",
                "            l1[i] = 0.01\r\n",
                "    mape = sum(np.abs((l1-l2)/l1))/n\r\n",
                "    return mape"
            ],
            "outputs": [],
            "metadata": {}
        },
        {
            "cell_type": "code",
            "execution_count": 51,
            "source": [
                "rmselist = []\r\n",
                "maelist = []\r\n",
                "mapelist = []\r\n",
                "size = int(len(values)*(2/3))\r\n",
                "agg1\r\n",
                "df_integrated=agg1\r\n",
                "for num_of_feature in range(2,len(df_integrated.columns)): # exclude t-0\r\n",
                "    rfe = RFE(DecisionTreeRegressor(), num_of_feature)           \r\n",
                "    fit = rfe.fit(ta_X, ta_y)\r\n",
                "    feature_choose_list = fit.support_\r\n",
                "    ixList = []\r\n",
                "    choisen_train_x = []\r\n",
                "    choisen_test_x = []\r\n",
                "    for i in range(len(feature_choose_list)):\r\n",
                "        #print(feature_choose_list[i])\r\n",
                "        if feature_choose_list[i] == True: # numpy._bool\r\n",
                "            print(f\"{i} is choisen\")\r\n",
                "            ixList.append(i)\r\n",
                "            choisen_train_x.append(ta_X[:,i])\r\n",
                "            choisen_test_x.append(te_X[:,i])\r\n",
                "\r\n",
                "    choisen_train_x = np.array(choisen_train_x).T\r\n",
                "    choisen_test_x = np.array(choisen_test_x).T\r\n",
                "\r\n",
                "    y_pred = []\r\n",
                "    \r\n",
                "\r\n",
                "    ada.fit(choisen_train_x, ta_y)\r\n",
                "    y_pred=ada.predict(choisen_test_x)\r\n",
                "    rmse = RMSE(list(real_y),y_pred)\r\n",
                "    rmselist.append(rmse)\r\n",
                "    mae = MAE(list(real_y),y_pred)\r\n",
                "    maelist.append(mae)\r\n",
                "    mape = MAPE(list(real_y),y_pred)\r\n",
                "    mapelist.append(mape)\r\n",
                "    print('num of feature is {},rmse={},mae={},mape={}'.format(num_of_feature,rmse,mae,mape))"
            ],
            "outputs": [
                {
                    "output_type": "stream",
                    "name": "stderr",
                    "text": [
                        "D:\\Program Files\\Anaconda3\\envs\\ds-env\\lib\\site-packages\\sklearn\\utils\\validation.py:72: FutureWarning: Pass n_features_to_select=2 as keyword args. From version 1.0 (renaming of 0.25) passing these as positional arguments will result in an error\n",
                        "  \"will result in an error\", FutureWarning)\n",
                        "D:\\Program Files\\Anaconda3\\envs\\ds-env\\lib\\site-packages\\sklearn\\utils\\validation.py:72: FutureWarning: Pass n_features_to_select=3 as keyword args. From version 1.0 (renaming of 0.25) passing these as positional arguments will result in an error\n",
                        "  \"will result in an error\", FutureWarning)\n"
                    ]
                },
                {
                    "output_type": "stream",
                    "name": "stdout",
                    "text": [
                        "4 is choisen\n",
                        "5 is choisen\n",
                        "num of feature is 2,rmse=0.10934043699550035,mae=0.08882342939498664,mape=0.2328184195910339\n",
                        "3 is choisen\n",
                        "4 is choisen\n",
                        "5 is choisen\n",
                        "num of feature is 3,rmse=0.11632886925229148,mae=0.08785280962431809,mape=0.22901308253874642\n",
                        "0 is choisen\n",
                        "3 is choisen\n",
                        "4 is choisen\n",
                        "5 is choisen\n",
                        "num of feature is 4,rmse=0.07127916510789913,mae=0.055769382686428885,mape=0.16263555923983944\n",
                        "0 is choisen\n",
                        "2 is choisen\n",
                        "3 is choisen\n",
                        "4 is choisen\n",
                        "5 is choisen\n",
                        "num of feature is 5,rmse=0.10671044833105937,mae=0.08546499737473016,mape=0.22525422261512246\n",
                        "0 is choisen\n",
                        "1 is choisen\n",
                        "2 is choisen\n",
                        "3 is choisen\n",
                        "4 is choisen\n",
                        "5 is choisen\n"
                    ]
                },
                {
                    "output_type": "stream",
                    "name": "stderr",
                    "text": [
                        "D:\\Program Files\\Anaconda3\\envs\\ds-env\\lib\\site-packages\\sklearn\\utils\\validation.py:72: FutureWarning: Pass n_features_to_select=4 as keyword args. From version 1.0 (renaming of 0.25) passing these as positional arguments will result in an error\n",
                        "  \"will result in an error\", FutureWarning)\n",
                        "D:\\Program Files\\Anaconda3\\envs\\ds-env\\lib\\site-packages\\sklearn\\utils\\validation.py:72: FutureWarning: Pass n_features_to_select=5 as keyword args. From version 1.0 (renaming of 0.25) passing these as positional arguments will result in an error\n",
                        "  \"will result in an error\", FutureWarning)\n",
                        "D:\\Program Files\\Anaconda3\\envs\\ds-env\\lib\\site-packages\\sklearn\\utils\\validation.py:72: FutureWarning: Pass n_features_to_select=6 as keyword args. From version 1.0 (renaming of 0.25) passing these as positional arguments will result in an error\n",
                        "  \"will result in an error\", FutureWarning)\n"
                    ]
                },
                {
                    "output_type": "stream",
                    "name": "stdout",
                    "text": [
                        "num of feature is 6,rmse=0.09888095379367275,mae=0.07823205209637299,mape=0.20261370439355889\n"
                    ]
                }
            ],
            "metadata": {}
        },
        {
            "cell_type": "code",
            "execution_count": 52,
            "source": [
                "#plot    \r\n",
                "plt.figure(figsize=(9, 4))\r\n",
                "plt.grid(c='r',ls='--')\r\n",
                "plt.plot(range(2,len(rmselist)+2),rmselist,'b',label='rmse')\r\n",
                "plt.plot(range(2,len(maelist)+2),maelist,'r',label='mae')\r\n",
                "plt.plot(range(2,len(mapelist)+2),mapelist,'g',label='mape')\r\n",
                "plt.title('Evaluating index varying with the number of features')\r\n",
                "plt.xlabel('Num of Features')\r\n",
                "plt.show() "
            ],
            "outputs": [
                {
                    "output_type": "display_data",
                    "data": {
                        "text/plain": [
                            "<Figure size 648x288 with 1 Axes>"
                        ],
                        "image/svg+xml": "<?xml version=\"1.0\" encoding=\"utf-8\" standalone=\"no\"?>\r\n<!DOCTYPE svg PUBLIC \"-//W3C//DTD SVG 1.1//EN\"\r\n  \"http://www.w3.org/Graphics/SVG/1.1/DTD/svg11.dtd\">\r\n<svg height=\"277.314375pt\" version=\"1.1\" viewBox=\"0 0 552.228125 277.314375\" width=\"552.228125pt\" xmlns=\"http://www.w3.org/2000/svg\" xmlns:xlink=\"http://www.w3.org/1999/xlink\">\r\n <metadata>\r\n  <rdf:RDF xmlns:cc=\"http://creativecommons.org/ns#\" xmlns:dc=\"http://purl.org/dc/elements/1.1/\" xmlns:rdf=\"http://www.w3.org/1999/02/22-rdf-syntax-ns#\">\r\n   <cc:Work>\r\n    <dc:type rdf:resource=\"http://purl.org/dc/dcmitype/StillImage\"/>\r\n    <dc:date>2021-08-25T18:14:34.826323</dc:date>\r\n    <dc:format>image/svg+xml</dc:format>\r\n    <dc:creator>\r\n     <cc:Agent>\r\n      <dc:title>Matplotlib v3.4.2, https://matplotlib.org/</dc:title>\r\n     </cc:Agent>\r\n    </dc:creator>\r\n   </cc:Work>\r\n  </rdf:RDF>\r\n </metadata>\r\n <defs>\r\n  <style type=\"text/css\">*{stroke-linecap:butt;stroke-linejoin:round;}</style>\r\n </defs>\r\n <g id=\"figure_1\">\r\n  <g id=\"patch_1\">\r\n   <path d=\"M 0 277.314375 \r\nL 552.228125 277.314375 \r\nL 552.228125 0 \r\nL 0 0 \r\nz\r\n\" style=\"fill:none;\"/>\r\n  </g>\r\n  <g id=\"axes_1\">\r\n   <g id=\"patch_2\">\r\n    <path d=\"M 42.828125 239.758125 \r\nL 545.028125 239.758125 \r\nL 545.028125 22.318125 \r\nL 42.828125 22.318125 \r\nz\r\n\" style=\"fill:#ffffff;\"/>\r\n   </g>\r\n   <g id=\"matplotlib.axis_1\">\r\n    <g id=\"xtick_1\">\r\n     <g id=\"line2d_1\">\r\n      <path clip-path=\"url(#p44282d5443)\" d=\"M 65.655398 239.758125 \r\nL 65.655398 22.318125 \r\n\" style=\"fill:none;stroke:#ff0000;stroke-dasharray:2.96,1.28;stroke-dashoffset:0;stroke-width:0.8;\"/>\r\n     </g>\r\n     <g id=\"line2d_2\">\r\n      <defs>\r\n       <path d=\"M 0 0 \r\nL 0 3.5 \r\n\" id=\"m16215a3f15\" style=\"stroke:#000000;stroke-width:0.8;\"/>\r\n      </defs>\r\n      <g>\r\n       <use style=\"stroke:#000000;stroke-width:0.8;\" x=\"65.655398\" xlink:href=\"#m16215a3f15\" y=\"239.758125\"/>\r\n      </g>\r\n     </g>\r\n     <g id=\"text_1\">\r\n      <!-- 2.0 -->\r\n      <g transform=\"translate(57.703835 254.356562)scale(0.1 -0.1)\">\r\n       <defs>\r\n        <path d=\"M 1228 531 \r\nL 3431 531 \r\nL 3431 0 \r\nL 469 0 \r\nL 469 531 \r\nQ 828 903 1448 1529 \r\nQ 2069 2156 2228 2338 \r\nQ 2531 2678 2651 2914 \r\nQ 2772 3150 2772 3378 \r\nQ 2772 3750 2511 3984 \r\nQ 2250 4219 1831 4219 \r\nQ 1534 4219 1204 4116 \r\nQ 875 4013 500 3803 \r\nL 500 4441 \r\nQ 881 4594 1212 4672 \r\nQ 1544 4750 1819 4750 \r\nQ 2544 4750 2975 4387 \r\nQ 3406 4025 3406 3419 \r\nQ 3406 3131 3298 2873 \r\nQ 3191 2616 2906 2266 \r\nQ 2828 2175 2409 1742 \r\nQ 1991 1309 1228 531 \r\nz\r\n\" id=\"DejaVuSans-32\" transform=\"scale(0.015625)\"/>\r\n        <path d=\"M 684 794 \r\nL 1344 794 \r\nL 1344 0 \r\nL 684 0 \r\nL 684 794 \r\nz\r\n\" id=\"DejaVuSans-2e\" transform=\"scale(0.015625)\"/>\r\n        <path d=\"M 2034 4250 \r\nQ 1547 4250 1301 3770 \r\nQ 1056 3291 1056 2328 \r\nQ 1056 1369 1301 889 \r\nQ 1547 409 2034 409 \r\nQ 2525 409 2770 889 \r\nQ 3016 1369 3016 2328 \r\nQ 3016 3291 2770 3770 \r\nQ 2525 4250 2034 4250 \r\nz\r\nM 2034 4750 \r\nQ 2819 4750 3233 4129 \r\nQ 3647 3509 3647 2328 \r\nQ 3647 1150 3233 529 \r\nQ 2819 -91 2034 -91 \r\nQ 1250 -91 836 529 \r\nQ 422 1150 422 2328 \r\nQ 422 3509 836 4129 \r\nQ 1250 4750 2034 4750 \r\nz\r\n\" id=\"DejaVuSans-30\" transform=\"scale(0.015625)\"/>\r\n       </defs>\r\n       <use xlink:href=\"#DejaVuSans-32\"/>\r\n       <use x=\"63.623047\" xlink:href=\"#DejaVuSans-2e\"/>\r\n       <use x=\"95.410156\" xlink:href=\"#DejaVuSans-30\"/>\r\n      </g>\r\n     </g>\r\n    </g>\r\n    <g id=\"xtick_2\">\r\n     <g id=\"line2d_3\">\r\n      <path clip-path=\"url(#p44282d5443)\" d=\"M 122.72358 239.758125 \r\nL 122.72358 22.318125 \r\n\" style=\"fill:none;stroke:#ff0000;stroke-dasharray:2.96,1.28;stroke-dashoffset:0;stroke-width:0.8;\"/>\r\n     </g>\r\n     <g id=\"line2d_4\">\r\n      <g>\r\n       <use style=\"stroke:#000000;stroke-width:0.8;\" x=\"122.72358\" xlink:href=\"#m16215a3f15\" y=\"239.758125\"/>\r\n      </g>\r\n     </g>\r\n     <g id=\"text_2\">\r\n      <!-- 2.5 -->\r\n      <g transform=\"translate(114.772017 254.356562)scale(0.1 -0.1)\">\r\n       <defs>\r\n        <path d=\"M 691 4666 \r\nL 3169 4666 \r\nL 3169 4134 \r\nL 1269 4134 \r\nL 1269 2991 \r\nQ 1406 3038 1543 3061 \r\nQ 1681 3084 1819 3084 \r\nQ 2600 3084 3056 2656 \r\nQ 3513 2228 3513 1497 \r\nQ 3513 744 3044 326 \r\nQ 2575 -91 1722 -91 \r\nQ 1428 -91 1123 -41 \r\nQ 819 9 494 109 \r\nL 494 744 \r\nQ 775 591 1075 516 \r\nQ 1375 441 1709 441 \r\nQ 2250 441 2565 725 \r\nQ 2881 1009 2881 1497 \r\nQ 2881 1984 2565 2268 \r\nQ 2250 2553 1709 2553 \r\nQ 1456 2553 1204 2497 \r\nQ 953 2441 691 2322 \r\nL 691 4666 \r\nz\r\n\" id=\"DejaVuSans-35\" transform=\"scale(0.015625)\"/>\r\n       </defs>\r\n       <use xlink:href=\"#DejaVuSans-32\"/>\r\n       <use x=\"63.623047\" xlink:href=\"#DejaVuSans-2e\"/>\r\n       <use x=\"95.410156\" xlink:href=\"#DejaVuSans-35\"/>\r\n      </g>\r\n     </g>\r\n    </g>\r\n    <g id=\"xtick_3\">\r\n     <g id=\"line2d_5\">\r\n      <path clip-path=\"url(#p44282d5443)\" d=\"M 179.791761 239.758125 \r\nL 179.791761 22.318125 \r\n\" style=\"fill:none;stroke:#ff0000;stroke-dasharray:2.96,1.28;stroke-dashoffset:0;stroke-width:0.8;\"/>\r\n     </g>\r\n     <g id=\"line2d_6\">\r\n      <g>\r\n       <use style=\"stroke:#000000;stroke-width:0.8;\" x=\"179.791761\" xlink:href=\"#m16215a3f15\" y=\"239.758125\"/>\r\n      </g>\r\n     </g>\r\n     <g id=\"text_3\">\r\n      <!-- 3.0 -->\r\n      <g transform=\"translate(171.840199 254.356562)scale(0.1 -0.1)\">\r\n       <defs>\r\n        <path d=\"M 2597 2516 \r\nQ 3050 2419 3304 2112 \r\nQ 3559 1806 3559 1356 \r\nQ 3559 666 3084 287 \r\nQ 2609 -91 1734 -91 \r\nQ 1441 -91 1130 -33 \r\nQ 819 25 488 141 \r\nL 488 750 \r\nQ 750 597 1062 519 \r\nQ 1375 441 1716 441 \r\nQ 2309 441 2620 675 \r\nQ 2931 909 2931 1356 \r\nQ 2931 1769 2642 2001 \r\nQ 2353 2234 1838 2234 \r\nL 1294 2234 \r\nL 1294 2753 \r\nL 1863 2753 \r\nQ 2328 2753 2575 2939 \r\nQ 2822 3125 2822 3475 \r\nQ 2822 3834 2567 4026 \r\nQ 2313 4219 1838 4219 \r\nQ 1578 4219 1281 4162 \r\nQ 984 4106 628 3988 \r\nL 628 4550 \r\nQ 988 4650 1302 4700 \r\nQ 1616 4750 1894 4750 \r\nQ 2613 4750 3031 4423 \r\nQ 3450 4097 3450 3541 \r\nQ 3450 3153 3228 2886 \r\nQ 3006 2619 2597 2516 \r\nz\r\n\" id=\"DejaVuSans-33\" transform=\"scale(0.015625)\"/>\r\n       </defs>\r\n       <use xlink:href=\"#DejaVuSans-33\"/>\r\n       <use x=\"63.623047\" xlink:href=\"#DejaVuSans-2e\"/>\r\n       <use x=\"95.410156\" xlink:href=\"#DejaVuSans-30\"/>\r\n      </g>\r\n     </g>\r\n    </g>\r\n    <g id=\"xtick_4\">\r\n     <g id=\"line2d_7\">\r\n      <path clip-path=\"url(#p44282d5443)\" d=\"M 236.859943 239.758125 \r\nL 236.859943 22.318125 \r\n\" style=\"fill:none;stroke:#ff0000;stroke-dasharray:2.96,1.28;stroke-dashoffset:0;stroke-width:0.8;\"/>\r\n     </g>\r\n     <g id=\"line2d_8\">\r\n      <g>\r\n       <use style=\"stroke:#000000;stroke-width:0.8;\" x=\"236.859943\" xlink:href=\"#m16215a3f15\" y=\"239.758125\"/>\r\n      </g>\r\n     </g>\r\n     <g id=\"text_4\">\r\n      <!-- 3.5 -->\r\n      <g transform=\"translate(228.908381 254.356562)scale(0.1 -0.1)\">\r\n       <use xlink:href=\"#DejaVuSans-33\"/>\r\n       <use x=\"63.623047\" xlink:href=\"#DejaVuSans-2e\"/>\r\n       <use x=\"95.410156\" xlink:href=\"#DejaVuSans-35\"/>\r\n      </g>\r\n     </g>\r\n    </g>\r\n    <g id=\"xtick_5\">\r\n     <g id=\"line2d_9\">\r\n      <path clip-path=\"url(#p44282d5443)\" d=\"M 293.928125 239.758125 \r\nL 293.928125 22.318125 \r\n\" style=\"fill:none;stroke:#ff0000;stroke-dasharray:2.96,1.28;stroke-dashoffset:0;stroke-width:0.8;\"/>\r\n     </g>\r\n     <g id=\"line2d_10\">\r\n      <g>\r\n       <use style=\"stroke:#000000;stroke-width:0.8;\" x=\"293.928125\" xlink:href=\"#m16215a3f15\" y=\"239.758125\"/>\r\n      </g>\r\n     </g>\r\n     <g id=\"text_5\">\r\n      <!-- 4.0 -->\r\n      <g transform=\"translate(285.976562 254.356562)scale(0.1 -0.1)\">\r\n       <defs>\r\n        <path d=\"M 2419 4116 \r\nL 825 1625 \r\nL 2419 1625 \r\nL 2419 4116 \r\nz\r\nM 2253 4666 \r\nL 3047 4666 \r\nL 3047 1625 \r\nL 3713 1625 \r\nL 3713 1100 \r\nL 3047 1100 \r\nL 3047 0 \r\nL 2419 0 \r\nL 2419 1100 \r\nL 313 1100 \r\nL 313 1709 \r\nL 2253 4666 \r\nz\r\n\" id=\"DejaVuSans-34\" transform=\"scale(0.015625)\"/>\r\n       </defs>\r\n       <use xlink:href=\"#DejaVuSans-34\"/>\r\n       <use x=\"63.623047\" xlink:href=\"#DejaVuSans-2e\"/>\r\n       <use x=\"95.410156\" xlink:href=\"#DejaVuSans-30\"/>\r\n      </g>\r\n     </g>\r\n    </g>\r\n    <g id=\"xtick_6\">\r\n     <g id=\"line2d_11\">\r\n      <path clip-path=\"url(#p44282d5443)\" d=\"M 350.996307 239.758125 \r\nL 350.996307 22.318125 \r\n\" style=\"fill:none;stroke:#ff0000;stroke-dasharray:2.96,1.28;stroke-dashoffset:0;stroke-width:0.8;\"/>\r\n     </g>\r\n     <g id=\"line2d_12\">\r\n      <g>\r\n       <use style=\"stroke:#000000;stroke-width:0.8;\" x=\"350.996307\" xlink:href=\"#m16215a3f15\" y=\"239.758125\"/>\r\n      </g>\r\n     </g>\r\n     <g id=\"text_6\">\r\n      <!-- 4.5 -->\r\n      <g transform=\"translate(343.044744 254.356562)scale(0.1 -0.1)\">\r\n       <use xlink:href=\"#DejaVuSans-34\"/>\r\n       <use x=\"63.623047\" xlink:href=\"#DejaVuSans-2e\"/>\r\n       <use x=\"95.410156\" xlink:href=\"#DejaVuSans-35\"/>\r\n      </g>\r\n     </g>\r\n    </g>\r\n    <g id=\"xtick_7\">\r\n     <g id=\"line2d_13\">\r\n      <path clip-path=\"url(#p44282d5443)\" d=\"M 408.064489 239.758125 \r\nL 408.064489 22.318125 \r\n\" style=\"fill:none;stroke:#ff0000;stroke-dasharray:2.96,1.28;stroke-dashoffset:0;stroke-width:0.8;\"/>\r\n     </g>\r\n     <g id=\"line2d_14\">\r\n      <g>\r\n       <use style=\"stroke:#000000;stroke-width:0.8;\" x=\"408.064489\" xlink:href=\"#m16215a3f15\" y=\"239.758125\"/>\r\n      </g>\r\n     </g>\r\n     <g id=\"text_7\">\r\n      <!-- 5.0 -->\r\n      <g transform=\"translate(400.112926 254.356562)scale(0.1 -0.1)\">\r\n       <use xlink:href=\"#DejaVuSans-35\"/>\r\n       <use x=\"63.623047\" xlink:href=\"#DejaVuSans-2e\"/>\r\n       <use x=\"95.410156\" xlink:href=\"#DejaVuSans-30\"/>\r\n      </g>\r\n     </g>\r\n    </g>\r\n    <g id=\"xtick_8\">\r\n     <g id=\"line2d_15\">\r\n      <path clip-path=\"url(#p44282d5443)\" d=\"M 465.13267 239.758125 \r\nL 465.13267 22.318125 \r\n\" style=\"fill:none;stroke:#ff0000;stroke-dasharray:2.96,1.28;stroke-dashoffset:0;stroke-width:0.8;\"/>\r\n     </g>\r\n     <g id=\"line2d_16\">\r\n      <g>\r\n       <use style=\"stroke:#000000;stroke-width:0.8;\" x=\"465.13267\" xlink:href=\"#m16215a3f15\" y=\"239.758125\"/>\r\n      </g>\r\n     </g>\r\n     <g id=\"text_8\">\r\n      <!-- 5.5 -->\r\n      <g transform=\"translate(457.181108 254.356562)scale(0.1 -0.1)\">\r\n       <use xlink:href=\"#DejaVuSans-35\"/>\r\n       <use x=\"63.623047\" xlink:href=\"#DejaVuSans-2e\"/>\r\n       <use x=\"95.410156\" xlink:href=\"#DejaVuSans-35\"/>\r\n      </g>\r\n     </g>\r\n    </g>\r\n    <g id=\"xtick_9\">\r\n     <g id=\"line2d_17\">\r\n      <path clip-path=\"url(#p44282d5443)\" d=\"M 522.200852 239.758125 \r\nL 522.200852 22.318125 \r\n\" style=\"fill:none;stroke:#ff0000;stroke-dasharray:2.96,1.28;stroke-dashoffset:0;stroke-width:0.8;\"/>\r\n     </g>\r\n     <g id=\"line2d_18\">\r\n      <g>\r\n       <use style=\"stroke:#000000;stroke-width:0.8;\" x=\"522.200852\" xlink:href=\"#m16215a3f15\" y=\"239.758125\"/>\r\n      </g>\r\n     </g>\r\n     <g id=\"text_9\">\r\n      <!-- 6.0 -->\r\n      <g transform=\"translate(514.24929 254.356562)scale(0.1 -0.1)\">\r\n       <defs>\r\n        <path d=\"M 2113 2584 \r\nQ 1688 2584 1439 2293 \r\nQ 1191 2003 1191 1497 \r\nQ 1191 994 1439 701 \r\nQ 1688 409 2113 409 \r\nQ 2538 409 2786 701 \r\nQ 3034 994 3034 1497 \r\nQ 3034 2003 2786 2293 \r\nQ 2538 2584 2113 2584 \r\nz\r\nM 3366 4563 \r\nL 3366 3988 \r\nQ 3128 4100 2886 4159 \r\nQ 2644 4219 2406 4219 \r\nQ 1781 4219 1451 3797 \r\nQ 1122 3375 1075 2522 \r\nQ 1259 2794 1537 2939 \r\nQ 1816 3084 2150 3084 \r\nQ 2853 3084 3261 2657 \r\nQ 3669 2231 3669 1497 \r\nQ 3669 778 3244 343 \r\nQ 2819 -91 2113 -91 \r\nQ 1303 -91 875 529 \r\nQ 447 1150 447 2328 \r\nQ 447 3434 972 4092 \r\nQ 1497 4750 2381 4750 \r\nQ 2619 4750 2861 4703 \r\nQ 3103 4656 3366 4563 \r\nz\r\n\" id=\"DejaVuSans-36\" transform=\"scale(0.015625)\"/>\r\n       </defs>\r\n       <use xlink:href=\"#DejaVuSans-36\"/>\r\n       <use x=\"63.623047\" xlink:href=\"#DejaVuSans-2e\"/>\r\n       <use x=\"95.410156\" xlink:href=\"#DejaVuSans-30\"/>\r\n      </g>\r\n     </g>\r\n    </g>\r\n    <g id=\"text_10\">\r\n     <!-- Num of Features -->\r\n     <g transform=\"translate(252.65625 268.034687)scale(0.1 -0.1)\">\r\n      <defs>\r\n       <path d=\"M 628 4666 \r\nL 1478 4666 \r\nL 3547 763 \r\nL 3547 4666 \r\nL 4159 4666 \r\nL 4159 0 \r\nL 3309 0 \r\nL 1241 3903 \r\nL 1241 0 \r\nL 628 0 \r\nL 628 4666 \r\nz\r\n\" id=\"DejaVuSans-4e\" transform=\"scale(0.015625)\"/>\r\n       <path d=\"M 544 1381 \r\nL 544 3500 \r\nL 1119 3500 \r\nL 1119 1403 \r\nQ 1119 906 1312 657 \r\nQ 1506 409 1894 409 \r\nQ 2359 409 2629 706 \r\nQ 2900 1003 2900 1516 \r\nL 2900 3500 \r\nL 3475 3500 \r\nL 3475 0 \r\nL 2900 0 \r\nL 2900 538 \r\nQ 2691 219 2414 64 \r\nQ 2138 -91 1772 -91 \r\nQ 1169 -91 856 284 \r\nQ 544 659 544 1381 \r\nz\r\nM 1991 3584 \r\nL 1991 3584 \r\nz\r\n\" id=\"DejaVuSans-75\" transform=\"scale(0.015625)\"/>\r\n       <path d=\"M 3328 2828 \r\nQ 3544 3216 3844 3400 \r\nQ 4144 3584 4550 3584 \r\nQ 5097 3584 5394 3201 \r\nQ 5691 2819 5691 2113 \r\nL 5691 0 \r\nL 5113 0 \r\nL 5113 2094 \r\nQ 5113 2597 4934 2840 \r\nQ 4756 3084 4391 3084 \r\nQ 3944 3084 3684 2787 \r\nQ 3425 2491 3425 1978 \r\nL 3425 0 \r\nL 2847 0 \r\nL 2847 2094 \r\nQ 2847 2600 2669 2842 \r\nQ 2491 3084 2119 3084 \r\nQ 1678 3084 1418 2786 \r\nQ 1159 2488 1159 1978 \r\nL 1159 0 \r\nL 581 0 \r\nL 581 3500 \r\nL 1159 3500 \r\nL 1159 2956 \r\nQ 1356 3278 1631 3431 \r\nQ 1906 3584 2284 3584 \r\nQ 2666 3584 2933 3390 \r\nQ 3200 3197 3328 2828 \r\nz\r\n\" id=\"DejaVuSans-6d\" transform=\"scale(0.015625)\"/>\r\n       <path id=\"DejaVuSans-20\" transform=\"scale(0.015625)\"/>\r\n       <path d=\"M 1959 3097 \r\nQ 1497 3097 1228 2736 \r\nQ 959 2375 959 1747 \r\nQ 959 1119 1226 758 \r\nQ 1494 397 1959 397 \r\nQ 2419 397 2687 759 \r\nQ 2956 1122 2956 1747 \r\nQ 2956 2369 2687 2733 \r\nQ 2419 3097 1959 3097 \r\nz\r\nM 1959 3584 \r\nQ 2709 3584 3137 3096 \r\nQ 3566 2609 3566 1747 \r\nQ 3566 888 3137 398 \r\nQ 2709 -91 1959 -91 \r\nQ 1206 -91 779 398 \r\nQ 353 888 353 1747 \r\nQ 353 2609 779 3096 \r\nQ 1206 3584 1959 3584 \r\nz\r\n\" id=\"DejaVuSans-6f\" transform=\"scale(0.015625)\"/>\r\n       <path d=\"M 2375 4863 \r\nL 2375 4384 \r\nL 1825 4384 \r\nQ 1516 4384 1395 4259 \r\nQ 1275 4134 1275 3809 \r\nL 1275 3500 \r\nL 2222 3500 \r\nL 2222 3053 \r\nL 1275 3053 \r\nL 1275 0 \r\nL 697 0 \r\nL 697 3053 \r\nL 147 3053 \r\nL 147 3500 \r\nL 697 3500 \r\nL 697 3744 \r\nQ 697 4328 969 4595 \r\nQ 1241 4863 1831 4863 \r\nL 2375 4863 \r\nz\r\n\" id=\"DejaVuSans-66\" transform=\"scale(0.015625)\"/>\r\n       <path d=\"M 628 4666 \r\nL 3309 4666 \r\nL 3309 4134 \r\nL 1259 4134 \r\nL 1259 2759 \r\nL 3109 2759 \r\nL 3109 2228 \r\nL 1259 2228 \r\nL 1259 0 \r\nL 628 0 \r\nL 628 4666 \r\nz\r\n\" id=\"DejaVuSans-46\" transform=\"scale(0.015625)\"/>\r\n       <path d=\"M 3597 1894 \r\nL 3597 1613 \r\nL 953 1613 \r\nQ 991 1019 1311 708 \r\nQ 1631 397 2203 397 \r\nQ 2534 397 2845 478 \r\nQ 3156 559 3463 722 \r\nL 3463 178 \r\nQ 3153 47 2828 -22 \r\nQ 2503 -91 2169 -91 \r\nQ 1331 -91 842 396 \r\nQ 353 884 353 1716 \r\nQ 353 2575 817 3079 \r\nQ 1281 3584 2069 3584 \r\nQ 2775 3584 3186 3129 \r\nQ 3597 2675 3597 1894 \r\nz\r\nM 3022 2063 \r\nQ 3016 2534 2758 2815 \r\nQ 2500 3097 2075 3097 \r\nQ 1594 3097 1305 2825 \r\nQ 1016 2553 972 2059 \r\nL 3022 2063 \r\nz\r\n\" id=\"DejaVuSans-65\" transform=\"scale(0.015625)\"/>\r\n       <path d=\"M 2194 1759 \r\nQ 1497 1759 1228 1600 \r\nQ 959 1441 959 1056 \r\nQ 959 750 1161 570 \r\nQ 1363 391 1709 391 \r\nQ 2188 391 2477 730 \r\nQ 2766 1069 2766 1631 \r\nL 2766 1759 \r\nL 2194 1759 \r\nz\r\nM 3341 1997 \r\nL 3341 0 \r\nL 2766 0 \r\nL 2766 531 \r\nQ 2569 213 2275 61 \r\nQ 1981 -91 1556 -91 \r\nQ 1019 -91 701 211 \r\nQ 384 513 384 1019 \r\nQ 384 1609 779 1909 \r\nQ 1175 2209 1959 2209 \r\nL 2766 2209 \r\nL 2766 2266 \r\nQ 2766 2663 2505 2880 \r\nQ 2244 3097 1772 3097 \r\nQ 1472 3097 1187 3025 \r\nQ 903 2953 641 2809 \r\nL 641 3341 \r\nQ 956 3463 1253 3523 \r\nQ 1550 3584 1831 3584 \r\nQ 2591 3584 2966 3190 \r\nQ 3341 2797 3341 1997 \r\nz\r\n\" id=\"DejaVuSans-61\" transform=\"scale(0.015625)\"/>\r\n       <path d=\"M 1172 4494 \r\nL 1172 3500 \r\nL 2356 3500 \r\nL 2356 3053 \r\nL 1172 3053 \r\nL 1172 1153 \r\nQ 1172 725 1289 603 \r\nQ 1406 481 1766 481 \r\nL 2356 481 \r\nL 2356 0 \r\nL 1766 0 \r\nQ 1100 0 847 248 \r\nQ 594 497 594 1153 \r\nL 594 3053 \r\nL 172 3053 \r\nL 172 3500 \r\nL 594 3500 \r\nL 594 4494 \r\nL 1172 4494 \r\nz\r\n\" id=\"DejaVuSans-74\" transform=\"scale(0.015625)\"/>\r\n       <path d=\"M 2631 2963 \r\nQ 2534 3019 2420 3045 \r\nQ 2306 3072 2169 3072 \r\nQ 1681 3072 1420 2755 \r\nQ 1159 2438 1159 1844 \r\nL 1159 0 \r\nL 581 0 \r\nL 581 3500 \r\nL 1159 3500 \r\nL 1159 2956 \r\nQ 1341 3275 1631 3429 \r\nQ 1922 3584 2338 3584 \r\nQ 2397 3584 2469 3576 \r\nQ 2541 3569 2628 3553 \r\nL 2631 2963 \r\nz\r\n\" id=\"DejaVuSans-72\" transform=\"scale(0.015625)\"/>\r\n       <path d=\"M 2834 3397 \r\nL 2834 2853 \r\nQ 2591 2978 2328 3040 \r\nQ 2066 3103 1784 3103 \r\nQ 1356 3103 1142 2972 \r\nQ 928 2841 928 2578 \r\nQ 928 2378 1081 2264 \r\nQ 1234 2150 1697 2047 \r\nL 1894 2003 \r\nQ 2506 1872 2764 1633 \r\nQ 3022 1394 3022 966 \r\nQ 3022 478 2636 193 \r\nQ 2250 -91 1575 -91 \r\nQ 1294 -91 989 -36 \r\nQ 684 19 347 128 \r\nL 347 722 \r\nQ 666 556 975 473 \r\nQ 1284 391 1588 391 \r\nQ 1994 391 2212 530 \r\nQ 2431 669 2431 922 \r\nQ 2431 1156 2273 1281 \r\nQ 2116 1406 1581 1522 \r\nL 1381 1569 \r\nQ 847 1681 609 1914 \r\nQ 372 2147 372 2553 \r\nQ 372 3047 722 3315 \r\nQ 1072 3584 1716 3584 \r\nQ 2034 3584 2315 3537 \r\nQ 2597 3491 2834 3397 \r\nz\r\n\" id=\"DejaVuSans-73\" transform=\"scale(0.015625)\"/>\r\n      </defs>\r\n      <use xlink:href=\"#DejaVuSans-4e\"/>\r\n      <use x=\"74.804688\" xlink:href=\"#DejaVuSans-75\"/>\r\n      <use x=\"138.183594\" xlink:href=\"#DejaVuSans-6d\"/>\r\n      <use x=\"235.595703\" xlink:href=\"#DejaVuSans-20\"/>\r\n      <use x=\"267.382812\" xlink:href=\"#DejaVuSans-6f\"/>\r\n      <use x=\"328.564453\" xlink:href=\"#DejaVuSans-66\"/>\r\n      <use x=\"363.769531\" xlink:href=\"#DejaVuSans-20\"/>\r\n      <use x=\"395.556641\" xlink:href=\"#DejaVuSans-46\"/>\r\n      <use x=\"447.576172\" xlink:href=\"#DejaVuSans-65\"/>\r\n      <use x=\"509.099609\" xlink:href=\"#DejaVuSans-61\"/>\r\n      <use x=\"570.378906\" xlink:href=\"#DejaVuSans-74\"/>\r\n      <use x=\"609.587891\" xlink:href=\"#DejaVuSans-75\"/>\r\n      <use x=\"672.966797\" xlink:href=\"#DejaVuSans-72\"/>\r\n      <use x=\"711.830078\" xlink:href=\"#DejaVuSans-65\"/>\r\n      <use x=\"773.353516\" xlink:href=\"#DejaVuSans-73\"/>\r\n     </g>\r\n    </g>\r\n   </g>\r\n   <g id=\"matplotlib.axis_2\">\r\n    <g id=\"ytick_1\">\r\n     <g id=\"line2d_19\">\r\n      <path clip-path=\"url(#p44282d5443)\" d=\"M 42.828125 236.315922 \r\nL 545.028125 236.315922 \r\n\" style=\"fill:none;stroke:#ff0000;stroke-dasharray:2.96,1.28;stroke-dashoffset:0;stroke-width:0.8;\"/>\r\n     </g>\r\n     <g id=\"line2d_20\">\r\n      <defs>\r\n       <path d=\"M 0 0 \r\nL -3.5 0 \r\n\" id=\"m3e662b9f49\" style=\"stroke:#000000;stroke-width:0.8;\"/>\r\n      </defs>\r\n      <g>\r\n       <use style=\"stroke:#000000;stroke-width:0.8;\" x=\"42.828125\" xlink:href=\"#m3e662b9f49\" y=\"236.315922\"/>\r\n      </g>\r\n     </g>\r\n     <g id=\"text_11\">\r\n      <!-- 0.050 -->\r\n      <g transform=\"translate(7.2 240.115141)scale(0.1 -0.1)\">\r\n       <use xlink:href=\"#DejaVuSans-30\"/>\r\n       <use x=\"63.623047\" xlink:href=\"#DejaVuSans-2e\"/>\r\n       <use x=\"95.410156\" xlink:href=\"#DejaVuSans-30\"/>\r\n       <use x=\"159.033203\" xlink:href=\"#DejaVuSans-35\"/>\r\n       <use x=\"222.65625\" xlink:href=\"#DejaVuSans-30\"/>\r\n      </g>\r\n     </g>\r\n    </g>\r\n    <g id=\"ytick_2\">\r\n     <g id=\"line2d_21\">\r\n      <path clip-path=\"url(#p44282d5443)\" d=\"M 42.828125 208.403778 \r\nL 545.028125 208.403778 \r\n\" style=\"fill:none;stroke:#ff0000;stroke-dasharray:2.96,1.28;stroke-dashoffset:0;stroke-width:0.8;\"/>\r\n     </g>\r\n     <g id=\"line2d_22\">\r\n      <g>\r\n       <use style=\"stroke:#000000;stroke-width:0.8;\" x=\"42.828125\" xlink:href=\"#m3e662b9f49\" y=\"208.403778\"/>\r\n      </g>\r\n     </g>\r\n     <g id=\"text_12\">\r\n      <!-- 0.075 -->\r\n      <g transform=\"translate(7.2 212.202997)scale(0.1 -0.1)\">\r\n       <defs>\r\n        <path d=\"M 525 4666 \r\nL 3525 4666 \r\nL 3525 4397 \r\nL 1831 0 \r\nL 1172 0 \r\nL 2766 4134 \r\nL 525 4134 \r\nL 525 4666 \r\nz\r\n\" id=\"DejaVuSans-37\" transform=\"scale(0.015625)\"/>\r\n       </defs>\r\n       <use xlink:href=\"#DejaVuSans-30\"/>\r\n       <use x=\"63.623047\" xlink:href=\"#DejaVuSans-2e\"/>\r\n       <use x=\"95.410156\" xlink:href=\"#DejaVuSans-30\"/>\r\n       <use x=\"159.033203\" xlink:href=\"#DejaVuSans-37\"/>\r\n       <use x=\"222.65625\" xlink:href=\"#DejaVuSans-35\"/>\r\n      </g>\r\n     </g>\r\n    </g>\r\n    <g id=\"ytick_3\">\r\n     <g id=\"line2d_23\">\r\n      <path clip-path=\"url(#p44282d5443)\" d=\"M 42.828125 180.491635 \r\nL 545.028125 180.491635 \r\n\" style=\"fill:none;stroke:#ff0000;stroke-dasharray:2.96,1.28;stroke-dashoffset:0;stroke-width:0.8;\"/>\r\n     </g>\r\n     <g id=\"line2d_24\">\r\n      <g>\r\n       <use style=\"stroke:#000000;stroke-width:0.8;\" x=\"42.828125\" xlink:href=\"#m3e662b9f49\" y=\"180.491635\"/>\r\n      </g>\r\n     </g>\r\n     <g id=\"text_13\">\r\n      <!-- 0.100 -->\r\n      <g transform=\"translate(7.2 184.290853)scale(0.1 -0.1)\">\r\n       <defs>\r\n        <path d=\"M 794 531 \r\nL 1825 531 \r\nL 1825 4091 \r\nL 703 3866 \r\nL 703 4441 \r\nL 1819 4666 \r\nL 2450 4666 \r\nL 2450 531 \r\nL 3481 531 \r\nL 3481 0 \r\nL 794 0 \r\nL 794 531 \r\nz\r\n\" id=\"DejaVuSans-31\" transform=\"scale(0.015625)\"/>\r\n       </defs>\r\n       <use xlink:href=\"#DejaVuSans-30\"/>\r\n       <use x=\"63.623047\" xlink:href=\"#DejaVuSans-2e\"/>\r\n       <use x=\"95.410156\" xlink:href=\"#DejaVuSans-31\"/>\r\n       <use x=\"159.033203\" xlink:href=\"#DejaVuSans-30\"/>\r\n       <use x=\"222.65625\" xlink:href=\"#DejaVuSans-30\"/>\r\n      </g>\r\n     </g>\r\n    </g>\r\n    <g id=\"ytick_4\">\r\n     <g id=\"line2d_25\">\r\n      <path clip-path=\"url(#p44282d5443)\" d=\"M 42.828125 152.579491 \r\nL 545.028125 152.579491 \r\n\" style=\"fill:none;stroke:#ff0000;stroke-dasharray:2.96,1.28;stroke-dashoffset:0;stroke-width:0.8;\"/>\r\n     </g>\r\n     <g id=\"line2d_26\">\r\n      <g>\r\n       <use style=\"stroke:#000000;stroke-width:0.8;\" x=\"42.828125\" xlink:href=\"#m3e662b9f49\" y=\"152.579491\"/>\r\n      </g>\r\n     </g>\r\n     <g id=\"text_14\">\r\n      <!-- 0.125 -->\r\n      <g transform=\"translate(7.2 156.378709)scale(0.1 -0.1)\">\r\n       <use xlink:href=\"#DejaVuSans-30\"/>\r\n       <use x=\"63.623047\" xlink:href=\"#DejaVuSans-2e\"/>\r\n       <use x=\"95.410156\" xlink:href=\"#DejaVuSans-31\"/>\r\n       <use x=\"159.033203\" xlink:href=\"#DejaVuSans-32\"/>\r\n       <use x=\"222.65625\" xlink:href=\"#DejaVuSans-35\"/>\r\n      </g>\r\n     </g>\r\n    </g>\r\n    <g id=\"ytick_5\">\r\n     <g id=\"line2d_27\">\r\n      <path clip-path=\"url(#p44282d5443)\" d=\"M 42.828125 124.667347 \r\nL 545.028125 124.667347 \r\n\" style=\"fill:none;stroke:#ff0000;stroke-dasharray:2.96,1.28;stroke-dashoffset:0;stroke-width:0.8;\"/>\r\n     </g>\r\n     <g id=\"line2d_28\">\r\n      <g>\r\n       <use style=\"stroke:#000000;stroke-width:0.8;\" x=\"42.828125\" xlink:href=\"#m3e662b9f49\" y=\"124.667347\"/>\r\n      </g>\r\n     </g>\r\n     <g id=\"text_15\">\r\n      <!-- 0.150 -->\r\n      <g transform=\"translate(7.2 128.466566)scale(0.1 -0.1)\">\r\n       <use xlink:href=\"#DejaVuSans-30\"/>\r\n       <use x=\"63.623047\" xlink:href=\"#DejaVuSans-2e\"/>\r\n       <use x=\"95.410156\" xlink:href=\"#DejaVuSans-31\"/>\r\n       <use x=\"159.033203\" xlink:href=\"#DejaVuSans-35\"/>\r\n       <use x=\"222.65625\" xlink:href=\"#DejaVuSans-30\"/>\r\n      </g>\r\n     </g>\r\n    </g>\r\n    <g id=\"ytick_6\">\r\n     <g id=\"line2d_29\">\r\n      <path clip-path=\"url(#p44282d5443)\" d=\"M 42.828125 96.755203 \r\nL 545.028125 96.755203 \r\n\" style=\"fill:none;stroke:#ff0000;stroke-dasharray:2.96,1.28;stroke-dashoffset:0;stroke-width:0.8;\"/>\r\n     </g>\r\n     <g id=\"line2d_30\">\r\n      <g>\r\n       <use style=\"stroke:#000000;stroke-width:0.8;\" x=\"42.828125\" xlink:href=\"#m3e662b9f49\" y=\"96.755203\"/>\r\n      </g>\r\n     </g>\r\n     <g id=\"text_16\">\r\n      <!-- 0.175 -->\r\n      <g transform=\"translate(7.2 100.554422)scale(0.1 -0.1)\">\r\n       <use xlink:href=\"#DejaVuSans-30\"/>\r\n       <use x=\"63.623047\" xlink:href=\"#DejaVuSans-2e\"/>\r\n       <use x=\"95.410156\" xlink:href=\"#DejaVuSans-31\"/>\r\n       <use x=\"159.033203\" xlink:href=\"#DejaVuSans-37\"/>\r\n       <use x=\"222.65625\" xlink:href=\"#DejaVuSans-35\"/>\r\n      </g>\r\n     </g>\r\n    </g>\r\n    <g id=\"ytick_7\">\r\n     <g id=\"line2d_31\">\r\n      <path clip-path=\"url(#p44282d5443)\" d=\"M 42.828125 68.843059 \r\nL 545.028125 68.843059 \r\n\" style=\"fill:none;stroke:#ff0000;stroke-dasharray:2.96,1.28;stroke-dashoffset:0;stroke-width:0.8;\"/>\r\n     </g>\r\n     <g id=\"line2d_32\">\r\n      <g>\r\n       <use style=\"stroke:#000000;stroke-width:0.8;\" x=\"42.828125\" xlink:href=\"#m3e662b9f49\" y=\"68.843059\"/>\r\n      </g>\r\n     </g>\r\n     <g id=\"text_17\">\r\n      <!-- 0.200 -->\r\n      <g transform=\"translate(7.2 72.642278)scale(0.1 -0.1)\">\r\n       <use xlink:href=\"#DejaVuSans-30\"/>\r\n       <use x=\"63.623047\" xlink:href=\"#DejaVuSans-2e\"/>\r\n       <use x=\"95.410156\" xlink:href=\"#DejaVuSans-32\"/>\r\n       <use x=\"159.033203\" xlink:href=\"#DejaVuSans-30\"/>\r\n       <use x=\"222.65625\" xlink:href=\"#DejaVuSans-30\"/>\r\n      </g>\r\n     </g>\r\n    </g>\r\n    <g id=\"ytick_8\">\r\n     <g id=\"line2d_33\">\r\n      <path clip-path=\"url(#p44282d5443)\" d=\"M 42.828125 40.930915 \r\nL 545.028125 40.930915 \r\n\" style=\"fill:none;stroke:#ff0000;stroke-dasharray:2.96,1.28;stroke-dashoffset:0;stroke-width:0.8;\"/>\r\n     </g>\r\n     <g id=\"line2d_34\">\r\n      <g>\r\n       <use style=\"stroke:#000000;stroke-width:0.8;\" x=\"42.828125\" xlink:href=\"#m3e662b9f49\" y=\"40.930915\"/>\r\n      </g>\r\n     </g>\r\n     <g id=\"text_18\">\r\n      <!-- 0.225 -->\r\n      <g transform=\"translate(7.2 44.730134)scale(0.1 -0.1)\">\r\n       <use xlink:href=\"#DejaVuSans-30\"/>\r\n       <use x=\"63.623047\" xlink:href=\"#DejaVuSans-2e\"/>\r\n       <use x=\"95.410156\" xlink:href=\"#DejaVuSans-32\"/>\r\n       <use x=\"159.033203\" xlink:href=\"#DejaVuSans-32\"/>\r\n       <use x=\"222.65625\" xlink:href=\"#DejaVuSans-35\"/>\r\n      </g>\r\n     </g>\r\n    </g>\r\n   </g>\r\n   <g id=\"line2d_35\">\r\n    <path clip-path=\"url(#p44282d5443)\" d=\"M 65.655398 170.06317 \r\nL 179.791761 162.260685 \r\nL 293.928125 212.558038 \r\nL 408.064489 172.999515 \r\nL 522.200852 181.741034 \r\n\" style=\"fill:none;stroke:#0000ff;stroke-linecap:square;stroke-width:1.5;\"/>\r\n   </g>\r\n   <g id=\"line2d_36\">\r\n    <path clip-path=\"url(#p44282d5443)\" d=\"M 65.655398 192.970116 \r\nL 179.791761 194.0538 \r\nL 293.928125 229.874489 \r\nL 408.064489 196.719758 \r\nL 522.200852 204.795238 \r\n\" style=\"fill:none;stroke:#ff0000;stroke-linecap:square;stroke-width:1.5;\"/>\r\n   </g>\r\n   <g id=\"line2d_37\">\r\n    <path clip-path=\"url(#p44282d5443)\" d=\"M 65.655398 32.201761 \r\nL 179.791761 36.450366 \r\nL 293.928125 110.559925 \r\nL 408.064489 40.64708 \r\nL 522.200852 65.924896 \r\n\" style=\"fill:none;stroke:#008000;stroke-linecap:square;stroke-width:1.5;\"/>\r\n   </g>\r\n   <g id=\"patch_3\">\r\n    <path d=\"M 42.828125 239.758125 \r\nL 42.828125 22.318125 \r\n\" style=\"fill:none;stroke:#000000;stroke-linecap:square;stroke-linejoin:miter;stroke-width:0.8;\"/>\r\n   </g>\r\n   <g id=\"patch_4\">\r\n    <path d=\"M 545.028125 239.758125 \r\nL 545.028125 22.318125 \r\n\" style=\"fill:none;stroke:#000000;stroke-linecap:square;stroke-linejoin:miter;stroke-width:0.8;\"/>\r\n   </g>\r\n   <g id=\"patch_5\">\r\n    <path d=\"M 42.828125 239.758125 \r\nL 545.028125 239.758125 \r\n\" style=\"fill:none;stroke:#000000;stroke-linecap:square;stroke-linejoin:miter;stroke-width:0.8;\"/>\r\n   </g>\r\n   <g id=\"patch_6\">\r\n    <path d=\"M 42.828125 22.318125 \r\nL 545.028125 22.318125 \r\n\" style=\"fill:none;stroke:#000000;stroke-linecap:square;stroke-linejoin:miter;stroke-width:0.8;\"/>\r\n   </g>\r\n   <g id=\"text_19\">\r\n    <!-- Evaluating index varying with the number of features -->\r\n    <g transform=\"translate(133.282813 16.318125)scale(0.12 -0.12)\">\r\n     <defs>\r\n      <path d=\"M 628 4666 \r\nL 3578 4666 \r\nL 3578 4134 \r\nL 1259 4134 \r\nL 1259 2753 \r\nL 3481 2753 \r\nL 3481 2222 \r\nL 1259 2222 \r\nL 1259 531 \r\nL 3634 531 \r\nL 3634 0 \r\nL 628 0 \r\nL 628 4666 \r\nz\r\n\" id=\"DejaVuSans-45\" transform=\"scale(0.015625)\"/>\r\n      <path d=\"M 191 3500 \r\nL 800 3500 \r\nL 1894 563 \r\nL 2988 3500 \r\nL 3597 3500 \r\nL 2284 0 \r\nL 1503 0 \r\nL 191 3500 \r\nz\r\n\" id=\"DejaVuSans-76\" transform=\"scale(0.015625)\"/>\r\n      <path d=\"M 603 4863 \r\nL 1178 4863 \r\nL 1178 0 \r\nL 603 0 \r\nL 603 4863 \r\nz\r\n\" id=\"DejaVuSans-6c\" transform=\"scale(0.015625)\"/>\r\n      <path d=\"M 603 3500 \r\nL 1178 3500 \r\nL 1178 0 \r\nL 603 0 \r\nL 603 3500 \r\nz\r\nM 603 4863 \r\nL 1178 4863 \r\nL 1178 4134 \r\nL 603 4134 \r\nL 603 4863 \r\nz\r\n\" id=\"DejaVuSans-69\" transform=\"scale(0.015625)\"/>\r\n      <path d=\"M 3513 2113 \r\nL 3513 0 \r\nL 2938 0 \r\nL 2938 2094 \r\nQ 2938 2591 2744 2837 \r\nQ 2550 3084 2163 3084 \r\nQ 1697 3084 1428 2787 \r\nQ 1159 2491 1159 1978 \r\nL 1159 0 \r\nL 581 0 \r\nL 581 3500 \r\nL 1159 3500 \r\nL 1159 2956 \r\nQ 1366 3272 1645 3428 \r\nQ 1925 3584 2291 3584 \r\nQ 2894 3584 3203 3211 \r\nQ 3513 2838 3513 2113 \r\nz\r\n\" id=\"DejaVuSans-6e\" transform=\"scale(0.015625)\"/>\r\n      <path d=\"M 2906 1791 \r\nQ 2906 2416 2648 2759 \r\nQ 2391 3103 1925 3103 \r\nQ 1463 3103 1205 2759 \r\nQ 947 2416 947 1791 \r\nQ 947 1169 1205 825 \r\nQ 1463 481 1925 481 \r\nQ 2391 481 2648 825 \r\nQ 2906 1169 2906 1791 \r\nz\r\nM 3481 434 \r\nQ 3481 -459 3084 -895 \r\nQ 2688 -1331 1869 -1331 \r\nQ 1566 -1331 1297 -1286 \r\nQ 1028 -1241 775 -1147 \r\nL 775 -588 \r\nQ 1028 -725 1275 -790 \r\nQ 1522 -856 1778 -856 \r\nQ 2344 -856 2625 -561 \r\nQ 2906 -266 2906 331 \r\nL 2906 616 \r\nQ 2728 306 2450 153 \r\nQ 2172 0 1784 0 \r\nQ 1141 0 747 490 \r\nQ 353 981 353 1791 \r\nQ 353 2603 747 3093 \r\nQ 1141 3584 1784 3584 \r\nQ 2172 3584 2450 3431 \r\nQ 2728 3278 2906 2969 \r\nL 2906 3500 \r\nL 3481 3500 \r\nL 3481 434 \r\nz\r\n\" id=\"DejaVuSans-67\" transform=\"scale(0.015625)\"/>\r\n      <path d=\"M 2906 2969 \r\nL 2906 4863 \r\nL 3481 4863 \r\nL 3481 0 \r\nL 2906 0 \r\nL 2906 525 \r\nQ 2725 213 2448 61 \r\nQ 2172 -91 1784 -91 \r\nQ 1150 -91 751 415 \r\nQ 353 922 353 1747 \r\nQ 353 2572 751 3078 \r\nQ 1150 3584 1784 3584 \r\nQ 2172 3584 2448 3432 \r\nQ 2725 3281 2906 2969 \r\nz\r\nM 947 1747 \r\nQ 947 1113 1208 752 \r\nQ 1469 391 1925 391 \r\nQ 2381 391 2643 752 \r\nQ 2906 1113 2906 1747 \r\nQ 2906 2381 2643 2742 \r\nQ 2381 3103 1925 3103 \r\nQ 1469 3103 1208 2742 \r\nQ 947 2381 947 1747 \r\nz\r\n\" id=\"DejaVuSans-64\" transform=\"scale(0.015625)\"/>\r\n      <path d=\"M 3513 3500 \r\nL 2247 1797 \r\nL 3578 0 \r\nL 2900 0 \r\nL 1881 1375 \r\nL 863 0 \r\nL 184 0 \r\nL 1544 1831 \r\nL 300 3500 \r\nL 978 3500 \r\nL 1906 2253 \r\nL 2834 3500 \r\nL 3513 3500 \r\nz\r\n\" id=\"DejaVuSans-78\" transform=\"scale(0.015625)\"/>\r\n      <path d=\"M 2059 -325 \r\nQ 1816 -950 1584 -1140 \r\nQ 1353 -1331 966 -1331 \r\nL 506 -1331 \r\nL 506 -850 \r\nL 844 -850 \r\nQ 1081 -850 1212 -737 \r\nQ 1344 -625 1503 -206 \r\nL 1606 56 \r\nL 191 3500 \r\nL 800 3500 \r\nL 1894 763 \r\nL 2988 3500 \r\nL 3597 3500 \r\nL 2059 -325 \r\nz\r\n\" id=\"DejaVuSans-79\" transform=\"scale(0.015625)\"/>\r\n      <path d=\"M 269 3500 \r\nL 844 3500 \r\nL 1563 769 \r\nL 2278 3500 \r\nL 2956 3500 \r\nL 3675 769 \r\nL 4391 3500 \r\nL 4966 3500 \r\nL 4050 0 \r\nL 3372 0 \r\nL 2619 2869 \r\nL 1863 0 \r\nL 1184 0 \r\nL 269 3500 \r\nz\r\n\" id=\"DejaVuSans-77\" transform=\"scale(0.015625)\"/>\r\n      <path d=\"M 3513 2113 \r\nL 3513 0 \r\nL 2938 0 \r\nL 2938 2094 \r\nQ 2938 2591 2744 2837 \r\nQ 2550 3084 2163 3084 \r\nQ 1697 3084 1428 2787 \r\nQ 1159 2491 1159 1978 \r\nL 1159 0 \r\nL 581 0 \r\nL 581 4863 \r\nL 1159 4863 \r\nL 1159 2956 \r\nQ 1366 3272 1645 3428 \r\nQ 1925 3584 2291 3584 \r\nQ 2894 3584 3203 3211 \r\nQ 3513 2838 3513 2113 \r\nz\r\n\" id=\"DejaVuSans-68\" transform=\"scale(0.015625)\"/>\r\n      <path d=\"M 3116 1747 \r\nQ 3116 2381 2855 2742 \r\nQ 2594 3103 2138 3103 \r\nQ 1681 3103 1420 2742 \r\nQ 1159 2381 1159 1747 \r\nQ 1159 1113 1420 752 \r\nQ 1681 391 2138 391 \r\nQ 2594 391 2855 752 \r\nQ 3116 1113 3116 1747 \r\nz\r\nM 1159 2969 \r\nQ 1341 3281 1617 3432 \r\nQ 1894 3584 2278 3584 \r\nQ 2916 3584 3314 3078 \r\nQ 3713 2572 3713 1747 \r\nQ 3713 922 3314 415 \r\nQ 2916 -91 2278 -91 \r\nQ 1894 -91 1617 61 \r\nQ 1341 213 1159 525 \r\nL 1159 0 \r\nL 581 0 \r\nL 581 4863 \r\nL 1159 4863 \r\nL 1159 2969 \r\nz\r\n\" id=\"DejaVuSans-62\" transform=\"scale(0.015625)\"/>\r\n     </defs>\r\n     <use xlink:href=\"#DejaVuSans-45\"/>\r\n     <use x=\"63.183594\" xlink:href=\"#DejaVuSans-76\"/>\r\n     <use x=\"122.363281\" xlink:href=\"#DejaVuSans-61\"/>\r\n     <use x=\"183.642578\" xlink:href=\"#DejaVuSans-6c\"/>\r\n     <use x=\"211.425781\" xlink:href=\"#DejaVuSans-75\"/>\r\n     <use x=\"274.804688\" xlink:href=\"#DejaVuSans-61\"/>\r\n     <use x=\"336.083984\" xlink:href=\"#DejaVuSans-74\"/>\r\n     <use x=\"375.292969\" xlink:href=\"#DejaVuSans-69\"/>\r\n     <use x=\"403.076172\" xlink:href=\"#DejaVuSans-6e\"/>\r\n     <use x=\"466.455078\" xlink:href=\"#DejaVuSans-67\"/>\r\n     <use x=\"529.931641\" xlink:href=\"#DejaVuSans-20\"/>\r\n     <use x=\"561.71875\" xlink:href=\"#DejaVuSans-69\"/>\r\n     <use x=\"589.501953\" xlink:href=\"#DejaVuSans-6e\"/>\r\n     <use x=\"652.880859\" xlink:href=\"#DejaVuSans-64\"/>\r\n     <use x=\"716.357422\" xlink:href=\"#DejaVuSans-65\"/>\r\n     <use x=\"776.130859\" xlink:href=\"#DejaVuSans-78\"/>\r\n     <use x=\"835.310547\" xlink:href=\"#DejaVuSans-20\"/>\r\n     <use x=\"867.097656\" xlink:href=\"#DejaVuSans-76\"/>\r\n     <use x=\"926.277344\" xlink:href=\"#DejaVuSans-61\"/>\r\n     <use x=\"987.556641\" xlink:href=\"#DejaVuSans-72\"/>\r\n     <use x=\"1028.669922\" xlink:href=\"#DejaVuSans-79\"/>\r\n     <use x=\"1087.849609\" xlink:href=\"#DejaVuSans-69\"/>\r\n     <use x=\"1115.632812\" xlink:href=\"#DejaVuSans-6e\"/>\r\n     <use x=\"1179.011719\" xlink:href=\"#DejaVuSans-67\"/>\r\n     <use x=\"1242.488281\" xlink:href=\"#DejaVuSans-20\"/>\r\n     <use x=\"1274.275391\" xlink:href=\"#DejaVuSans-77\"/>\r\n     <use x=\"1356.0625\" xlink:href=\"#DejaVuSans-69\"/>\r\n     <use x=\"1383.845703\" xlink:href=\"#DejaVuSans-74\"/>\r\n     <use x=\"1423.054688\" xlink:href=\"#DejaVuSans-68\"/>\r\n     <use x=\"1486.433594\" xlink:href=\"#DejaVuSans-20\"/>\r\n     <use x=\"1518.220703\" xlink:href=\"#DejaVuSans-74\"/>\r\n     <use x=\"1557.429688\" xlink:href=\"#DejaVuSans-68\"/>\r\n     <use x=\"1620.808594\" xlink:href=\"#DejaVuSans-65\"/>\r\n     <use x=\"1682.332031\" xlink:href=\"#DejaVuSans-20\"/>\r\n     <use x=\"1714.119141\" xlink:href=\"#DejaVuSans-6e\"/>\r\n     <use x=\"1777.498047\" xlink:href=\"#DejaVuSans-75\"/>\r\n     <use x=\"1840.876953\" xlink:href=\"#DejaVuSans-6d\"/>\r\n     <use x=\"1938.289062\" xlink:href=\"#DejaVuSans-62\"/>\r\n     <use x=\"2001.765625\" xlink:href=\"#DejaVuSans-65\"/>\r\n     <use x=\"2063.289062\" xlink:href=\"#DejaVuSans-72\"/>\r\n     <use x=\"2104.402344\" xlink:href=\"#DejaVuSans-20\"/>\r\n     <use x=\"2136.189453\" xlink:href=\"#DejaVuSans-6f\"/>\r\n     <use x=\"2197.371094\" xlink:href=\"#DejaVuSans-66\"/>\r\n     <use x=\"2232.576172\" xlink:href=\"#DejaVuSans-20\"/>\r\n     <use x=\"2264.363281\" xlink:href=\"#DejaVuSans-66\"/>\r\n     <use x=\"2299.568359\" xlink:href=\"#DejaVuSans-65\"/>\r\n     <use x=\"2361.091797\" xlink:href=\"#DejaVuSans-61\"/>\r\n     <use x=\"2422.371094\" xlink:href=\"#DejaVuSans-74\"/>\r\n     <use x=\"2461.580078\" xlink:href=\"#DejaVuSans-75\"/>\r\n     <use x=\"2524.958984\" xlink:href=\"#DejaVuSans-72\"/>\r\n     <use x=\"2563.822266\" xlink:href=\"#DejaVuSans-65\"/>\r\n     <use x=\"2625.345703\" xlink:href=\"#DejaVuSans-73\"/>\r\n    </g>\r\n   </g>\r\n  </g>\r\n </g>\r\n <defs>\r\n  <clipPath id=\"p44282d5443\">\r\n   <rect height=\"217.44\" width=\"502.2\" x=\"42.828125\" y=\"22.318125\"/>\r\n  </clipPath>\r\n </defs>\r\n</svg>\r\n",
                        "image/png": "[encoded data removed]"
                    },
                    "metadata": {
                        "needs_background": "light"
                    }
                }
            ],
            "metadata": {}
        },
        {
            "cell_type": "code",
            "execution_count": 53,
            "source": [
                "rmselist = np.array(rmselist)\r\n",
                "maelist = np.array(maelist)\r\n",
                "mapelist = np.array(mapelist)\r\n",
                "newlist = (rmselist+maelist+mapelist)/3\r\n",
                "newlist = list(newlist)\r\n",
                "index = newlist.index(min(newlist))\r\n",
                "num = index+2 # statring from 2 above, +2 back to count"
            ],
            "outputs": [],
            "metadata": {}
        },
        {
            "cell_type": "code",
            "execution_count": 54,
            "source": [
                "print('step = 0, the rmse, mae and mape are %.2f, %.2f, %.2f respectively:'% (rmselist[index],maelist[index],mapelist[index]))"
            ],
            "outputs": [
                {
                    "output_type": "stream",
                    "name": "stdout",
                    "text": [
                        "step = 0, the rmse, mae and mape are 0.07, 0.06, 0.16 respectively:\n"
                    ]
                }
            ],
            "metadata": {}
        },
        {
            "cell_type": "markdown",
            "source": [
                "# found optimal number of features to use, now go for real run"
            ],
            "metadata": {}
        },
        {
            "cell_type": "code",
            "execution_count": 55,
            "source": [
                "num_of_feature=num\r\n",
                "rfe = RFE(DecisionTreeRegressor(), num_of_feature)           \r\n",
                "fit = rfe.fit(ta_X, ta_y)\r\n",
                "feature_choose_list = fit.support_\r\n",
                "\r\n",
                "\r\n",
                "choisen_train_x = []\r\n",
                "choisen_test_x = []\r\n",
                "choisen_values = []\r\n",
                "for i in range(len(feature_choose_list)):\r\n",
                "    #print(feature_choose_list[i])\r\n",
                "    if feature_choose_list[i] == True: # numpy._bool\r\n",
                "        print(f\"{i} is choisen\")\r\n",
                "        ixList.append(i)\r\n",
                "        choisen_train_x.append(ta_X[:,i])\r\n",
                "        choisen_test_x.append(te_X[:,i])\r\n",
                "        choisen_values.append(values[:,i])\r\n",
                "choisen_train_x = np.array(choisen_train_x).T\r\n",
                "choisen_test_x = np.array(choisen_test_x).T\r\n",
                "choisen_values = np.array(choisen_values).T\r\n",
                "\r\n",
                "from tqdm import tqdm\r\n",
                "y_pred_h1=[]\r\n",
                "step = 1\r\n",
                "for j in tqdm(range(size, len(values))): \r\n",
                "    y_pred_h1.append(Model.predict(choisen_values[:,:-1][j-step, :].reshape((1, -1)))[0])\r\n",
                "\r\n",
                "rmse_h1 = RMSE(list(real_y),y_pred_h1)\r\n",
                "mae_h1 = MAE(list(real_y),y_pred_h1)\r\n",
                "mape_h1 = MAPE(list(real_y),y_pred_h1)\r\n",
                "\r\n",
                "y_pred_h2=[]\r\n",
                "step = 2\r\n",
                "for j in tqdm(range(size, len(values))): \r\n",
                "    y_pred_h2.append(Model.predict(choisen_values[:,:-1][j-step, :].reshape((1, -1)))[0])\r\n",
                "\r\n",
                "rmse_h2 = RMSE(list(real_y),y_pred_h2)\r\n",
                "mae_h2 = MAE(list(real_y),y_pred_h2)\r\n",
                "mape_h2 = MAPE(list(real_y),y_pred_h2)\r\n",
                "y_pred_h3=[]\r\n",
                "step = 3\r\n",
                "for j in tqdm(range(size, len(values))): \r\n",
                "    y_pred_h3.append(Model.predict(choisen_values[:,:-1][j-step, :].reshape((1, -1)))[0])\r\n",
                "rmse_h3 = RMSE(list(real_y),y_pred_h3)\r\n",
                "mae_h3 = MAE(list(real_y ),y_pred_h3)\r\n",
                "mape_h3 = MAPE(list(real_y ),y_pred_h3)"
            ],
            "outputs": [
                {
                    "output_type": "stream",
                    "name": "stdout",
                    "text": [
                        "0 is choisen\n",
                        "3 is choisen\n",
                        "4 is choisen\n",
                        "5 is choisen\n"
                    ]
                },
                {
                    "output_type": "stream",
                    "name": "stderr",
                    "text": [
                        "D:\\Program Files\\Anaconda3\\envs\\ds-env\\lib\\site-packages\\sklearn\\utils\\validation.py:72: FutureWarning: Pass n_features_to_select=4 as keyword args. From version 1.0 (renaming of 0.25) passing these as positional arguments will result in an error\n",
                        "  \"will result in an error\", FutureWarning)\n"
                    ]
                }
            ],
            "metadata": {}
        },
        {
            "cell_type": "code",
            "execution_count": 92,
            "source": [
                "print(f\"rmse_h1={rmse_h1}\\n mae_h1 ={mae_h1}\\n mape_h1 ={mape_h1}\\n\")\r\n",
                "print(f\"rmse_h2={rmse_h2}\\n mae_h2 ={mae_h2}\\n mape_h2 ={mape_h2}\\n\")\r\n",
                "print(f\"rmse_h3={rmse_h3}\\n mae_h3 ={mae_h3}\\n mape_h3 ={mape_h3}\\n\")"
            ],
            "outputs": [
                {
                    "output_type": "stream",
                    "name": "stdout",
                    "text": [
                        "rmse_h1=0.08225587921793555\n",
                        " mae_h1 =0.06849137853940733\n",
                        " mape_h1 =0.187346841255404\n",
                        "\n",
                        "rmse_h2=0.08339155661338409\n",
                        " mae_h2 =0.06909682675349257\n",
                        " mape_h2 =0.1884582894005379\n",
                        "\n",
                        "rmse_h3=0.08437654876624838\n",
                        " mae_h3 =0.06953533922440043\n",
                        " mape_h3 =0.18937126889421713\n",
                        "\n"
                    ]
                }
            ],
            "metadata": {}
        },
        {
            "cell_type": "code",
            "execution_count": null,
            "source": [],
            "outputs": [],
            "metadata": {}
        }
    ],
    "metadata": {
        "orig_nbformat": 4,
        "language_info": {
            "name": "python",
            "version": "3.7.11",
            "mimetype": "text/x-python",
            "codemirror_mode": {
                "name": "ipython",
                "version": 3
            },
            "pygments_lexer": "ipython3",
            "nbconvert_exporter": "python",
            "file_extension": ".py"
        },
        "kernelspec": {
            "name": "python3",
            "display_name": "Python 3.7.11 64-bit ('ds-env': conda)"
        },
        "interpreter": {
            "hash": "6ea1ff613e4d4108378a98b641e44fcddf5add35145041c20507c4a55380beef"
        }
    },
    "nbformat": 4,
    "nbformat_minor": 2
}