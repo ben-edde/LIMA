{
 "cells": [
  {
   "cell_type": "code",
   "execution_count": null,
   "metadata": {},
   "outputs": [],
   "source": [
    "import datetime\n",
    "import logging\n",
    "import os\n",
    "import numpy as np\n",
    "import pandas as pd\n",
    "from matplotlib import pyplot\n",
    "from sklearn.preprocessing import MinMaxScaler\n",
    "from sklearn.model_selection import cross_validate, TimeSeriesSplit\n",
    "from sklearn.metrics import mean_absolute_error, mean_absolute_percentage_error, mean_squared_error\n",
    "from sklearn.metrics import r2_score\n",
    "import joblib\n",
    "import tensorflow as tf\n",
    "from tensorflow import keras\n",
    "from keras.layers import Reshape, MaxPool3D, Bidirectional, ConvLSTM2D\n",
    "from keras.models import Sequential\n",
    "from keras.layers import Dense\n",
    "from keras.layers import LSTM\n",
    "from keras.layers import GRU\n",
    "from keras.layers import SimpleRNN\n",
    "from keras.layers import Conv2D\n",
    "from keras.layers import Dropout\n",
    "from sklearn.feature_selection import RFE\n",
    "from sklearn.linear_model import Ridge, Lasso\n",
    "import pymongo\n",
    "import random\n",
    "import string\n",
    "import fasttext\n",
    "from nltk.tokenize import word_tokenize\n",
    "from nltk.corpus import stopwords\n",
    "from nltk.stem.porter import PorterStemmer\n",
    "from nltk.tag import pos_tag\n",
    "from sklearn.decomposition import LatentDirichletAllocation\n",
    "from sklearn.preprocessing import MinMaxScaler\n",
    "from textblob import TextBlob\n",
    "physical_devices = tf.config.list_physical_devices('GPU')\n",
    "tf.config.experimental.set_memory_growth(physical_devices[0], True)\n",
    "\n",
    "HOME = os.environ['LIMA_HOME']\n"
   ]
  },
  {
   "cell_type": "code",
   "execution_count": null,
   "metadata": {},
   "outputs": [],
   "source": [
    "def clean(text: str) -> list:\n",
    "    \"\"\"\n",
    "    clean text with tokenization; stemming; removing stop word, punctuation, number, and empty string.\n",
    "\n",
    "    Args:\n",
    "        text (str): text\n",
    "\n",
    "    Returns:\n",
    "        list: cleaned text as list of tokenized str\n",
    "    \"\"\"\n",
    "\n",
    "    # to list of token\n",
    "    text = word_tokenize(text)\n",
    "\n",
    "    # stemming and convert to lower case if not proper noun: punctuation and stop word seem to help POS tagging, remove them after stemming\n",
    "    word_tag = pos_tag(text)\n",
    "    porter = PorterStemmer()\n",
    "    text = [\n",
    "        porter.stem(each[0])\n",
    "        if each[1] != \"NNP\" and each[1] != \"NNPS\" else each[0]\n",
    "        for each in word_tag\n",
    "    ]\n",
    "\n",
    "    # remove stop word: it seems stemming skip stop word; OK to remove stop word after stemming;\n",
    "    stop_word = set(stopwords.words('english'))\n",
    "    text = [each for each in text if not each in stop_word]\n",
    "\n",
    "    # remove punctuation\n",
    "    text = [\n",
    "        each.translate(str.maketrans('', '', string.punctuation))\n",
    "        for each in text\n",
    "    ]\n",
    "    # text = re.sub(r\"(@\\[A-Za-z0-9]+)|([^0-9A-Za-z \\t])|(\\w+:\\/\\/\\S+)|^rt|http.+?\", \" \", text) # if using re\n",
    "\n",
    "    # convert number to <NUM>\n",
    "    text = [\"<NUM>\" if each.isdigit() else each for each in text]\n",
    "\n",
    "    # remove empty string\n",
    "    text = [each for each in text if each != \"\"]\n",
    "\n",
    "    return text\n",
    "\n",
    "# convert series to supervised learning\n",
    "def series_to_supervised(data, n_in=1, n_out=1, dropnan=True):\n",
    "\tn_vars = 1 if type(data) is list else data.shape[1]\n",
    "\tdf = data.copy()\n",
    "\tcols, names = list(), list()\n",
    "\t# input sequence (t-n, ... t-1)\n",
    "\tfor i in range(n_in, 0, -1):\n",
    "\t\tcols.append(df.shift(i))\n",
    "        \n",
    "\t\tnames += [f'{data.columns[j]}(t-{i})' for j in range(n_vars)]\n",
    "\t# forecast sequence (t, t+1, ... t+n)\n",
    "\tfor i in range(0, n_out):\n",
    "\t\tcols.append(df.shift(-i))\n",
    "\t\tif i == 0:\n",
    "\t\t\tnames += [f'{data.columns[j]}(t)' for j in range(n_vars)]\n",
    "\t\telse:\n",
    "\t\t\tnames += [f'{data.columns[j]}(t+{i})' for j in range(n_vars)]\n",
    "\t# put it all together\n",
    "\tagg = pd.concat(cols, axis=1)\n",
    "\tagg.columns = names\n",
    "\t# drop rows with NaN values\n",
    "\tif dropnan:\n",
    "\t\tagg.dropna(inplace=True)\n",
    "\treturn agg\n",
    "\n",
    "def get_TS_cv(k=5, test_size=None):\n",
    "    \"\"\"\n",
    "    ML models do not need to care about forecast horizon when splitting training and test set. Forecast horizon should be handled by feature preparation ([X_t-1,X_t-2...]). Actually repeated K-fold can also be used, but stick to TS split to align with TS_evaluate().\n",
    "    \"\"\"\n",
    "    return TimeSeriesSplit(\n",
    "        n_splits=k,\n",
    "        gap=0,\n",
    "        test_size=test_size,\n",
    "    )\n",
    "\n",
    "def evaluate_series(y_true, y_pred, horizon):\n",
    "    \"\"\"\n",
    "    Some models (like ARIMA) may not support cross_validate(), compare the forecasting result directly\n",
    "    Args:\n",
    "        y_true: y of test set\n",
    "        y_pred: y of prediction\n",
    "        horizon: forecast horizon\n",
    "\n",
    "    Returns:\n",
    "        DataFrame: single row DF with 3 metrics wrt horizon\n",
    "    \"\"\"\n",
    "    # RMSE\n",
    "    rmse = mean_squared_error(y_true, y_pred, squared=False)\n",
    "    # MAE\n",
    "    mae = mean_absolute_error(y_true, y_pred)\n",
    "    # MAPE\n",
    "    mape = mean_absolute_percentage_error(y_true, y_pred)\n",
    "    r2=r2_score(y_true, y_pred)\n",
    "    forecast_error = {\n",
    "        'h': horizon,\n",
    "        'mae': [mae],\n",
    "        'rmse': [rmse],\n",
    "        'mape': [mape],\n",
    "        'r2':[r2],\n",
    "        'descriptions': \"\"\n",
    "    }\n",
    "    return forecast_error\n"
   ]
  },
  {
   "cell_type": "code",
   "execution_count": null,
   "metadata": {},
   "outputs": [],
   "source": [
    "# set random seed\n",
    "seed_value = 42\n",
    "os.environ['PYTHONHASHSEED'] = str(seed_value)\n",
    "\n",
    "random.seed(seed_value)\n",
    "np.random.seed(seed_value)\n",
    "tf.random.set_seed(seed_value)\n",
    "h = 1\n",
    "past = 5"
   ]
  },
  {
   "cell_type": "markdown",
   "metadata": {},
   "source": [
    "# load metrics"
   ]
  },
  {
   "cell_type": "code",
   "execution_count": null,
   "metadata": {},
   "outputs": [],
   "source": [
    "from influxdb_client import InfluxDBClient\n",
    "client= InfluxDBClient.from_config_file(f\"{HOME}/dev/DB/influxdb_config.ini\")\n",
    "query_api = client.query_api()\n",
    "df_WTI = query_api.query_data_frame(\"\"\"\n",
    "from(bucket: \"dummy\")\n",
    "  |> range(start: 2011-04-01, stop: 2019-04-01)\n",
    "  |> filter(fn: (r) => r[\"_measurement\"] == \"WTI\") \n",
    "  |> filter(fn: (r) => r[\"type\"] == \"closing_price\") \n",
    "  |> pivot(rowKey:[\"_time\"], columnKey: [\"_field\"], valueColumn: \"_value\")\n",
    "  |> drop(columns: [\"_start\", \"_stop\"])\n",
    "\"\"\")\n",
    "df_WTI=df_WTI[[\"_time\",\"CLC4\",\"CLC3\",\"CLC2\",\"CLC1\"]]\n",
    "df_WTI.columns=[\"Date\",\"CLC4\",\"CLC3\",\"CLC2\",\"CLC1\"]\n",
    "df_WTI.set_index(\"Date\",inplace=True)\n",
    "df_WTI.index=df_WTI.index.map(lambda each: each.date())\n",
    "df_WTI.index=pd.to_datetime(df_WTI.index)\n",
    "client.close()"
   ]
  },
  {
   "cell_type": "code",
   "execution_count": null,
   "metadata": {},
   "outputs": [],
   "source": [
    "month=[each.month for each in df_WTI.index]\n",
    "day=[each.day for each in df_WTI.index]\n",
    "day_in_week=[each.weekday() for each in df_WTI.index]\n",
    "df_dt=pd.DataFrame()\n",
    "df_dt[\"month\"]=month\n",
    "df_dt[\"day\"]=day\n",
    "df_dt[\"day_in_week\"]=day_in_week\n",
    "df_dt.index=df_WTI.index"
   ]
  },
  {
   "cell_type": "code",
   "execution_count": null,
   "metadata": {},
   "outputs": [],
   "source": [
    "df_WTI"
   ]
  },
  {
   "cell_type": "markdown",
   "metadata": {},
   "source": [
    "# Text Features"
   ]
  },
  {
   "cell_type": "code",
   "execution_count": null,
   "metadata": {},
   "outputs": [],
   "source": [
    "fasttext_model = fasttext.load_model(f\"{HOME}/data/big/cc.en.300.bin\")"
   ]
  },
  {
   "cell_type": "code",
   "execution_count": null,
   "metadata": {},
   "outputs": [],
   "source": [
    "df_sentiment=pd.read_pickle(\"df_sentiment_2type.pkl\")\n",
    "df_sentiment.shape"
   ]
  },
  {
   "cell_type": "code",
   "execution_count": null,
   "metadata": {},
   "outputs": [],
   "source": [
    "df_topic=pd.read_pickle(\"df_topic_2type.pkl\")\n",
    "df_topic.shape"
   ]
  },
  {
   "cell_type": "code",
   "execution_count": null,
   "metadata": {},
   "outputs": [],
   "source": [
    "df_geoidx=pd.read_pickle(\"df_geoidx_2type.pkl\")\n",
    "df_geoidx.shape"
   ]
  },
  {
   "cell_type": "code",
   "execution_count": null,
   "metadata": {},
   "outputs": [],
   "source": [
    "df_Xy = pd.concat([df_sentiment,df_topic, df_geoidx,df_WTI], axis=1, join=\"inner\")\n",
    "print(df_Xy.shape)\n",
    "df_Xy.head(1)"
   ]
  },
  {
   "cell_type": "code",
   "execution_count": null,
   "metadata": {},
   "outputs": [],
   "source": [
    "df_shifted = series_to_supervised(df_Xy.dropna(), past, h)\n",
    "# remove current day features for forecast\n",
    "for each in df_shifted.columns[:-1]:\n",
    "    if \"(t)\" in each:\n",
    "        df_shifted.drop(each, axis=1, inplace=True)\n",
    "# add time feature without shift \n",
    "df_shifted=pd.concat([df_dt,df_shifted],axis=1).dropna()\n",
    "raw_X = df_shifted.to_numpy()[:, :-1]\n",
    "y =  df_shifted.to_numpy()[:, -1].reshape(-1, 1) \n",
    "# y = df_Xy[df_Xy.index.isin(df_selected.index)].to_numpy()[:, -1].reshape(-1, 1)\n",
    "# y=df_WTI[df_WTI.index.isin(df_selected.index)][\"CLC1\"].to_numpy().reshape(-1, 1)\n",
    "f\"{raw_X.shape}   |{y.shape} | \""
   ]
  },
  {
   "cell_type": "markdown",
   "metadata": {},
   "source": [
    "# Feature Selection"
   ]
  },
  {
   "cell_type": "code",
   "execution_count": null,
   "metadata": {},
   "outputs": [],
   "source": [
    "from sklearn.feature_selection import mutual_info_regression,RFE,RFECV,SelectFromModel,SequentialFeatureSelector,chi2,SelectKBest,f_regression,VarianceThreshold,r_regression\n",
    "from sklearn.linear_model import Ridge,Lasso,LinearRegression\n",
    "from sklearn.tree import DecisionTreeRegressor,ExtraTreeRegressor\n",
    "from sklearn.svm import LinearSVR,SVR"
   ]
  },
  {
   "cell_type": "code",
   "execution_count": null,
   "metadata": {},
   "outputs": [],
   "source": [
    "# estimator = Lasso(random_state=42)\n",
    "# estimator = Ridge(random_state=42)\n",
    "estimator = LinearRegression( )\n",
    "# selector = RFECV(estimator,cv=get_TS_cv(),step=1)\n",
    "# selector = RFE(estimator,n_features_to_select=20,step=1)\n",
    "selector = SequentialFeatureSelector(estimator,n_features_to_select=20,cv=get_TS_cv())\n",
    "# selector=SelectFromModel(estimator,max_features=20)\n",
    "scaled_raw_X=MinMaxScaler().fit_transform(raw_X)\n",
    "selector = selector.fit(raw_X, y.ravel())"
   ]
  },
  {
   "cell_type": "code",
   "execution_count": null,
   "metadata": {},
   "outputs": [],
   "source": [
    "X = raw_X[:, selector.get_support()]\n",
    "print(f\"{X.shape} | {y.shape}\")\n",
    "df_shifted.columns[:-1][selector.get_support()]"
   ]
  },
  {
   "cell_type": "code",
   "execution_count": null,
   "metadata": {},
   "outputs": [],
   "source": []
  },
  {
   "cell_type": "markdown",
   "metadata": {},
   "source": [
    "# Model"
   ]
  },
  {
   "cell_type": "code",
   "execution_count": null,
   "metadata": {},
   "outputs": [],
   "source": [
    "from sklearn.svm import SVR, LinearSVR\n",
    "from sklearn.tree import DecisionTreeRegressor\n",
    "from sklearn.kernel_ridge import KernelRidge\n",
    "from sklearn.linear_model import LinearRegression, ARDRegression, SGDRegressor, ElasticNet, Lars, Lasso, GammaRegressor, TweedieRegressor, PoissonRegressor, Ridge, BayesianRidge\n",
    "from sklearn.ensemble import AdaBoostRegressor,RandomForestRegressor\n",
    "from keras.layers import Reshape,MaxPooling2D,Bidirectional,ConvLSTM2D\n",
    "import tensorflow as tf\n",
    "from tensorflow import keras\n",
    "from keras.models import Sequential\n",
    "from keras.layers import Dense\n",
    "from keras.layers import LSTM\n",
    "from keras.layers import GRU\n",
    "from keras.layers import SimpleRNN \n",
    "from keras.layers import Conv2D,Conv3D,Conv1D\n",
    "from keras.layers import Dropout\n",
    "from keras.layers import Input\n",
    "from keras.layers import Flatten\n",
    "from keras.models import Model\n",
    "from keras.layers.merge import concatenate\n",
    "from tensorflow.keras.optimizers import Adam\n",
    "tf.keras.backend.clear_session()\n",
    "physical_devices = tf.config.list_physical_devices('GPU') \n",
    "tf.config.experimental.set_memory_growth(physical_devices[0], True)\n",
    "tf.random.set_seed(seed_value)"
   ]
  },
  {
   "cell_type": "code",
   "execution_count": null,
   "metadata": {},
   "outputs": [],
   "source": [
    "length=X.shape[0]\n",
    "train_size=int(length*0.7)\n",
    "step_size=1\n",
    "\n",
    "train_X=X[:train_size]\n",
    "train_y=y[:train_size,:]\n",
    "\n",
    "test_X=X[train_size:]\n",
    "test_y=y[train_size:,:]\n",
    "\n",
    "# X_scaler = MinMaxScaler()\n",
    "# X_scaler.fit(train_X)\n",
    "# train_X=X_scaler.transform(train_X)\n",
    "# test_X=X_scaler.transform(test_X)\n",
    "\n",
    "# train_X=train_X.reshape(train_X.shape[0],step_size,train_X.shape[-1])\n",
    "# test_X=test_X.reshape(test_X.shape[0],step_size,test_X.shape[-1])\n",
    "print(f\"train_X: {train_X.shape}\\t   \\t test_X:{test_X.shape}\")\n",
    "print(f\"train_y: {train_y.shape}\\t   test_y:{test_y.shape}\")"
   ]
  },
  {
   "cell_type": "code",
   "execution_count": null,
   "metadata": {},
   "outputs": [],
   "source": [
    "all_X=np.concatenate([train_X,test_X])\n",
    "# lin_model=Lasso(random_state=42)\n",
    "# lin_model=Ridge(random_state=42)\n",
    "# lin_model=LinearSVR(random_state=42)\n",
    "# lin_model= SVR( )\n",
    "lin_model=LinearRegression()\n",
    "lin_model.fit(train_X,train_y.ravel())\n",
    "linear_y=lin_model.predict(all_X)"
   ]
  },
  {
   "cell_type": "code",
   "execution_count": null,
   "metadata": {},
   "outputs": [],
   "source": [
    "evaluate_series(y,linear_y,1)"
   ]
  },
  {
   "cell_type": "code",
   "execution_count": null,
   "metadata": {},
   "outputs": [],
   "source": [
    "non_linear_y=y-linear_y.reshape(y.shape)\n",
    "non_linear_y.shape"
   ]
  },
  {
   "cell_type": "code",
   "execution_count": null,
   "metadata": {},
   "outputs": [],
   "source": [
    "import nolds\n",
    "import warnings\n",
    "warnings.filterwarnings('ignore')\n",
    "rwalk = np.cumsum(np.random.random(y.shape[0]))\n",
    "nolds.lyap_r(rwalk)"
   ]
  },
  {
   "cell_type": "code",
   "execution_count": null,
   "metadata": {},
   "outputs": [],
   "source": [
    "nolds.lyap_r(non_linear_y.ravel())"
   ]
  },
  {
   "cell_type": "code",
   "execution_count": null,
   "metadata": {},
   "outputs": [],
   "source": [
    "nolds.hurst_rs(non_linear_y.ravel())"
   ]
  },
  {
   "cell_type": "code",
   "execution_count": null,
   "metadata": {},
   "outputs": [],
   "source": [
    "from matplotlib import pyplot as plt \n",
    "plt.plot(non_linear_y[250:300],'ob') \n",
    "plt.show()"
   ]
  },
  {
   "cell_type": "code",
   "execution_count": null,
   "metadata": {},
   "outputs": [],
   "source": [
    "from statsmodels.tsa.seasonal import STL\n",
    "\n",
    "stl = STL(non_linear_y, 21)\n",
    "res = stl.fit()\n",
    "decomposed_y=np.array([res.trend,res.seasonal,res.resid]).transpose()\n",
    "non_linear_y=decomposed_y\n",
    "fig = res.plot()"
   ]
  },
  {
   "cell_type": "code",
   "execution_count": null,
   "metadata": {},
   "outputs": [],
   "source": [
    "X_scaler = MinMaxScaler((1,100))\n",
    "X_scaler.fit(train_X)\n",
    "train_X=X_scaler.transform(train_X)\n",
    "test_X=X_scaler.transform(test_X)"
   ]
  },
  {
   "cell_type": "code",
   "execution_count": null,
   "metadata": {},
   "outputs": [],
   "source": [
    "train_non_linear_y=non_linear_y[:train_size,:]\n",
    "test_non_linear_y=non_linear_y[train_size:,:]\n",
    "f\"{non_linear_y.shape}|{train_non_linear_y.shape}|{test_non_linear_y.shape}\""
   ]
  },
  {
   "cell_type": "code",
   "execution_count": null,
   "metadata": {},
   "outputs": [],
   "source": [
    "non_linear_y_scaler = MinMaxScaler(feature_range=(1, 100))\n",
    "non_linear_y_scaler.fit(train_non_linear_y)\n",
    "train_non_linear_y=non_linear_y_scaler.transform(train_non_linear_y)\n",
    "test_non_linear_y=non_linear_y_scaler.transform(test_non_linear_y)\n",
    "f\"{train_non_linear_y.shape}|{test_non_linear_y.shape}\""
   ]
  },
  {
   "cell_type": "code",
   "execution_count": 40,
   "metadata": {},
   "outputs": [],
   "source": [
    "num_out=train_non_linear_y.shape[-1]\n",
    "tf.keras.backend.clear_session()\n",
    "tf.random.set_seed(seed_value)\n",
    "random.seed(seed_value)\n",
    "np.random.seed(seed_value)\n",
    "tf.random.set_seed(seed_value)"
   ]
  },
  {
   "cell_type": "code",
   "execution_count": 56,
   "metadata": {},
   "outputs": [
    {
     "name": "stdout",
     "output_type": "stream",
     "text": [
      "Model: \"model_7\"\n",
      "_________________________________________________________________\n",
      " Layer (type)                Output Shape              Param #   \n",
      "=================================================================\n",
      " input_5 (InputLayer)        [(None, 20)]              0         \n",
      "                                                                 \n",
      " reshape_10 (Reshape)        (None, 1, 1, 20, 1)       0         \n",
      "                                                                 \n",
      " dense_10 (Dense)            (None, 1, 1, 20, 3)       6         \n",
      "                                                                 \n",
      " reshape_11 (Reshape)        (None, 3, 20)             0         \n",
      "                                                                 \n",
      " bidirectional_3 (Bidirectio  (None, 100)              28400     \n",
      " nal)                                                            \n",
      "                                                                 \n",
      " dropout_9 (Dropout)         (None, 100)               0         \n",
      "                                                                 \n",
      " flatten_6 (Flatten)         (None, 100)               0         \n",
      "                                                                 \n",
      " dense_11 (Dense)            (None, 3)                 303       \n",
      "                                                                 \n",
      "=================================================================\n",
      "Total params: 28,709\n",
      "Trainable params: 28,709\n",
      "Non-trainable params: 0\n",
      "_________________________________________________________________\n"
     ]
    }
   ],
   "source": [
    "ts_inputs = Input(shape=(train_X.shape[-1],))\n",
    "ts_model=Reshape((1,1,20,1))(ts_inputs)\n",
    "# ts_model=Reshape((step_size,train_X.shape[-1]))(ts_inputs)\n",
    "# ts_model=Reshape((1,1,1,20))(ts_model)\n",
    "# ts_model=ConvLSTM2D(1,(1,1),return_sequences=False)(ts_model)\n",
    "# ts_model= Dropout(0.2)(ts_model)\n",
    "# ts_model=ConvLSTM2D(50,(1,3),return_sequences=False)(ts_model)\n",
    "\n",
    "# ts_model= Dropout(0.4)(ts_model)\n",
    "# ts_model=Conv2D(1,(1,3) )(ts_model)\n",
    "# ts_model= Dropout(0.4)(ts_model)\n",
    "# ts_model=Conv2D(1,(1,3) )(ts_model)\n",
    "# ts_model= Dropout(0.4)(ts_model)\n",
    "ts_model=Dense(num_out)(ts_model)\n",
    "ts_model=Reshape((num_out,20))(ts_model)\n",
    "# ts_model=Bidirectional(GRU(50,dropout=0.2 ,return_sequences=True))(ts_model)\n",
    "# ts_model= Dropout(0.4)(ts_model)\n",
    "# ts_model=Bidirectional(LSTM(50,dropout=0.2 ,return_sequences=True))(ts_model)\n",
    "# ts_model= Dropout(0.4)(ts_model)\n",
    "ts_model=Bidirectional(LSTM(50,dropout=0.2 ,return_sequences=False))(ts_model)\n",
    "ts_model= Dropout(0.4)(ts_model)\n",
    "# ts_model= Dropout(0.4)(ts_model)\n",
    "# ts_model=Bidirectional(LSTM(500,dropout=0.1  ,return_sequences=True))(ts_model)\n",
    "# ts_model= Dropout(0.4)(ts_model)\n",
    "# ts_model=Bidirectional(LSTM(300,dropout=0.1  ,return_sequences=True))(ts_model)\n",
    "# ts_model= Dropout(0.4)(ts_model)\n",
    "# # ts_model=Bidirectional(GRU(300,dropout=0.2 ,return_sequences=True))(ts_model)\n",
    "# ts_model=Bidirectional(LSTM(100,dropout=0.1  ,return_sequences=False))(ts_model)\n",
    "\n",
    "# ts_model =Dense(50)(ts_model)\n",
    "# ts_model= Dropout(0.4)(ts_model)\n",
    "# ts_model =Dense(50)(ts_model)\n",
    "# ts_model= Dropout(0.4)(ts_model)\n",
    "\n",
    "\n",
    "ts_model= Flatten()(ts_model)\n",
    "ts_model =Dense(num_out)(ts_model)\n",
    "ts_model = Model(inputs=ts_inputs, outputs=ts_model)\n",
    "# ts_model.compile(loss='mae', optimizer=Adam())\n",
    "# ts_model.compile(loss='log_cosh', optimizer=Adam(0.0002))\n",
    "ts_model.summary()"
   ]
  },
  {
   "cell_type": "code",
   "execution_count": 57,
   "metadata": {},
   "outputs": [
    {
     "name": "stdout",
     "output_type": "stream",
     "text": [
      "Model: \"model_8\"\n",
      "_________________________________________________________________\n",
      " Layer (type)                Output Shape              Param #   \n",
      "=================================================================\n",
      " input_5 (InputLayer)        [(None, 20)]              0         \n",
      "                                                                 \n",
      " reshape_12 (Reshape)        (None, 2, 10, 1)          0         \n",
      "                                                                 \n",
      " conv2d_6 (Conv2D)           (None, 2, 9, 20)          60        \n",
      "                                                                 \n",
      " dropout_10 (Dropout)        (None, 2, 9, 20)          0         \n",
      "                                                                 \n",
      " conv2d_7 (Conv2D)           (None, 1, 7, 1)           121       \n",
      "                                                                 \n",
      " dropout_11 (Dropout)        (None, 1, 7, 1)           0         \n",
      "                                                                 \n",
      " flatten_7 (Flatten)         (None, 7)                 0         \n",
      "                                                                 \n",
      " dense_12 (Dense)            (None, 3)                 24        \n",
      "                                                                 \n",
      "=================================================================\n",
      "Total params: 205\n",
      "Trainable params: 205\n",
      "Non-trainable params: 0\n",
      "_________________________________________________________________\n"
     ]
    }
   ],
   "source": [
    "# L_model=Dense(50,activation='linear')(ts_inputs)\n",
    "# L_model= Dropout(0.4)(L_model)\n",
    "# L_model=Dense(50,activation='linear')(L_model)\n",
    "# L_model= Dropout(0.4)(L_model)\n",
    "L_model=Reshape((2,10,1))(ts_inputs)\n",
    "L_model=Conv2D(20,(1,2))(L_model)\n",
    "L_model= Dropout(0.4)(L_model)\n",
    "# L_model=Conv2D(10,(1,3))(L_model)\n",
    "# L_model= Dropout(0.4)(L_model)\n",
    "# L_model=Conv2D(5,(1,3))(L_model)\n",
    "# L_model= Dropout(0.4)(L_model)\n",
    "# L_model=Conv2D(5,(1,3))(L_model)\n",
    "# L_model= Dropout(0.4)(L_model)\n",
    "L_model=Conv2D(1,(2,3))(L_model)\n",
    "L_model= Dropout(0.4)(L_model)\n",
    "# L_model=LSTM(20,dropout=0.2 ,activation='linear',return_sequences=True)(L_model)\n",
    "# L_model= Dropout(0.4)(L_model)\n",
    "# L_model=LSTM(20,dropout=0.2,activation='linear' ,return_sequences=True)(L_model)\n",
    "# L_model= Dropout(0.4)(L_model)\n",
    "# L_model=LSTM(20,dropout=0.2,activation='linear' ,return_sequences=False)(L_model)\n",
    "L_model= Flatten()(L_model)\n",
    "L_model=Dense(num_out)(L_model)\n",
    "L_model=Model(inputs=ts_inputs, outputs=L_model)\n",
    "L_model.summary()"
   ]
  },
  {
   "cell_type": "code",
   "execution_count": 58,
   "metadata": {},
   "outputs": [
    {
     "data": {
      "text/plain": [
       "(None, 3)"
      ]
     },
     "execution_count": 58,
     "metadata": {},
     "output_type": "execute_result"
    }
   ],
   "source": [
    "model= concatenate([L_model.output,ts_model.output])\n",
    "model = Dense(num_out)(model)\n",
    "model = Model(inputs=[ ts_model.input ], outputs=model)\n",
    "model.compile(loss='log_cosh', optimizer=Adam(0.0002))\n",
    "model.output_shape"
   ]
  },
  {
   "cell_type": "code",
   "execution_count": 59,
   "metadata": {},
   "outputs": [
    {
     "name": "stdout",
     "output_type": "stream",
     "text": [
      "Epoch 1/100\n",
      "36/36 [==============================] - 2s 17ms/step - loss: 41.9318 - val_loss: 19.4020\n",
      "Epoch 2/100\n",
      "36/36 [==============================] - 0s 4ms/step - loss: 38.2523 - val_loss: 16.7446\n",
      "Epoch 3/100\n",
      "36/36 [==============================] - 0s 4ms/step - loss: 37.0105 - val_loss: 17.1368\n",
      "Epoch 4/100\n",
      "36/36 [==============================] - 0s 4ms/step - loss: 35.7991 - val_loss: 15.3007\n",
      "Epoch 5/100\n",
      "36/36 [==============================] - 0s 4ms/step - loss: 34.8765 - val_loss: 15.2491\n",
      "Epoch 6/100\n",
      "36/36 [==============================] - 0s 4ms/step - loss: 35.1581 - val_loss: 13.4991\n",
      "Epoch 7/100\n",
      "36/36 [==============================] - 0s 4ms/step - loss: 32.6025 - val_loss: 14.2937\n",
      "Epoch 8/100\n",
      "36/36 [==============================] - 0s 4ms/step - loss: 31.4232 - val_loss: 15.0937\n",
      "Epoch 9/100\n",
      "36/36 [==============================] - 0s 4ms/step - loss: 30.7797 - val_loss: 12.9103\n",
      "Epoch 10/100\n",
      "36/36 [==============================] - 0s 4ms/step - loss: 29.9792 - val_loss: 13.1936\n",
      "Epoch 11/100\n",
      "36/36 [==============================] - 0s 4ms/step - loss: 29.6191 - val_loss: 13.6434\n",
      "Epoch 12/100\n",
      "36/36 [==============================] - 0s 4ms/step - loss: 28.8637 - val_loss: 11.5975\n",
      "Epoch 13/100\n",
      "36/36 [==============================] - 0s 4ms/step - loss: 27.9193 - val_loss: 13.8736\n",
      "Epoch 14/100\n",
      "36/36 [==============================] - 0s 4ms/step - loss: 27.6745 - val_loss: 11.6715\n",
      "Epoch 15/100\n",
      "36/36 [==============================] - 0s 4ms/step - loss: 26.5174 - val_loss: 11.5158\n",
      "Epoch 16/100\n",
      "36/36 [==============================] - 0s 4ms/step - loss: 26.3130 - val_loss: 11.2543\n",
      "Epoch 17/100\n",
      "36/36 [==============================] - 0s 4ms/step - loss: 26.0499 - val_loss: 12.8321\n",
      "Epoch 18/100\n",
      "36/36 [==============================] - 0s 4ms/step - loss: 25.1083 - val_loss: 11.9226\n",
      "Epoch 19/100\n",
      "36/36 [==============================] - 0s 4ms/step - loss: 24.3499 - val_loss: 10.7039\n",
      "Epoch 20/100\n",
      "36/36 [==============================] - 0s 4ms/step - loss: 23.7439 - val_loss: 10.6330\n",
      "Epoch 21/100\n",
      "36/36 [==============================] - 0s 4ms/step - loss: 23.4496 - val_loss: 11.2805\n",
      "Epoch 22/100\n",
      "36/36 [==============================] - 0s 4ms/step - loss: 22.7753 - val_loss: 11.2277\n",
      "Epoch 23/100\n",
      "36/36 [==============================] - 0s 4ms/step - loss: 22.3764 - val_loss: 10.0834\n",
      "Epoch 24/100\n",
      "36/36 [==============================] - 0s 4ms/step - loss: 21.9029 - val_loss: 10.8592\n",
      "Epoch 25/100\n",
      "36/36 [==============================] - 0s 4ms/step - loss: 21.6832 - val_loss: 11.1047\n",
      "Epoch 26/100\n",
      "36/36 [==============================] - 0s 4ms/step - loss: 21.6116 - val_loss: 9.6293\n",
      "Epoch 27/100\n",
      "36/36 [==============================] - 0s 4ms/step - loss: 20.6171 - val_loss: 10.2587\n",
      "Epoch 28/100\n",
      "36/36 [==============================] - 0s 3ms/step - loss: 20.3168 - val_loss: 10.1162\n",
      "Epoch 29/100\n",
      "36/36 [==============================] - 0s 4ms/step - loss: 20.3480 - val_loss: 9.9518\n",
      "Epoch 30/100\n",
      "36/36 [==============================] - 0s 4ms/step - loss: 20.3167 - val_loss: 9.8662\n",
      "Epoch 31/100\n",
      "36/36 [==============================] - 0s 4ms/step - loss: 19.5928 - val_loss: 10.6170\n",
      "Epoch 32/100\n",
      "36/36 [==============================] - 0s 4ms/step - loss: 19.0955 - val_loss: 9.5643\n",
      "Epoch 33/100\n",
      "36/36 [==============================] - 0s 4ms/step - loss: 19.0523 - val_loss: 9.5629\n",
      "Epoch 34/100\n",
      "36/36 [==============================] - 0s 4ms/step - loss: 18.5388 - val_loss: 9.3030\n",
      "Epoch 35/100\n",
      "36/36 [==============================] - 0s 5ms/step - loss: 18.1197 - val_loss: 9.9093\n",
      "Epoch 36/100\n",
      "36/36 [==============================] - 0s 4ms/step - loss: 18.0174 - val_loss: 9.7380\n",
      "Epoch 37/100\n",
      "36/36 [==============================] - 0s 4ms/step - loss: 17.2770 - val_loss: 9.3822\n",
      "Epoch 38/100\n",
      "36/36 [==============================] - 0s 4ms/step - loss: 17.3680 - val_loss: 9.0559\n",
      "Epoch 39/100\n",
      "36/36 [==============================] - 0s 4ms/step - loss: 17.1760 - val_loss: 8.9172\n",
      "Epoch 40/100\n",
      "36/36 [==============================] - 0s 4ms/step - loss: 16.6241 - val_loss: 8.9023\n",
      "Epoch 41/100\n",
      "36/36 [==============================] - 0s 4ms/step - loss: 16.7462 - val_loss: 8.5887\n",
      "Epoch 42/100\n",
      "36/36 [==============================] - 0s 4ms/step - loss: 15.8470 - val_loss: 9.3149\n",
      "Epoch 43/100\n",
      "36/36 [==============================] - 0s 4ms/step - loss: 16.0043 - val_loss: 8.5373\n",
      "Epoch 44/100\n",
      "36/36 [==============================] - 0s 4ms/step - loss: 15.9157 - val_loss: 8.8377\n",
      "Epoch 45/100\n",
      "36/36 [==============================] - 0s 4ms/step - loss: 15.5222 - val_loss: 8.9087\n",
      "Epoch 46/100\n",
      "36/36 [==============================] - 0s 4ms/step - loss: 15.1408 - val_loss: 8.2400\n",
      "Epoch 47/100\n",
      "36/36 [==============================] - 0s 4ms/step - loss: 15.3398 - val_loss: 8.7778\n",
      "Epoch 48/100\n",
      "36/36 [==============================] - 0s 4ms/step - loss: 15.3097 - val_loss: 8.3360\n",
      "Epoch 49/100\n",
      "36/36 [==============================] - 0s 4ms/step - loss: 14.9248 - val_loss: 8.5004\n",
      "Epoch 50/100\n",
      "36/36 [==============================] - 0s 4ms/step - loss: 14.6827 - val_loss: 8.8439\n",
      "Epoch 51/100\n",
      "36/36 [==============================] - 0s 4ms/step - loss: 14.4516 - val_loss: 8.0534\n",
      "Epoch 52/100\n",
      "36/36 [==============================] - 0s 4ms/step - loss: 14.0705 - val_loss: 8.6197\n",
      "Epoch 53/100\n",
      "36/36 [==============================] - 0s 4ms/step - loss: 13.9266 - val_loss: 8.0899\n",
      "Epoch 54/100\n",
      "36/36 [==============================] - 0s 4ms/step - loss: 13.9992 - val_loss: 8.1956\n",
      "Epoch 55/100\n",
      "36/36 [==============================] - 0s 4ms/step - loss: 13.8342 - val_loss: 8.0069\n",
      "Epoch 56/100\n",
      "36/36 [==============================] - 0s 4ms/step - loss: 13.5554 - val_loss: 8.1758\n",
      "Epoch 57/100\n",
      "36/36 [==============================] - 0s 4ms/step - loss: 13.3683 - val_loss: 7.8832\n",
      "Epoch 58/100\n",
      "36/36 [==============================] - 0s 4ms/step - loss: 13.0254 - val_loss: 7.9161\n",
      "Epoch 59/100\n",
      "36/36 [==============================] - 0s 4ms/step - loss: 13.0595 - val_loss: 8.0185\n",
      "Epoch 60/100\n",
      "36/36 [==============================] - 0s 4ms/step - loss: 13.0548 - val_loss: 7.8404\n",
      "Epoch 61/100\n",
      "36/36 [==============================] - 0s 4ms/step - loss: 12.8656 - val_loss: 7.6673\n",
      "Epoch 62/100\n",
      "36/36 [==============================] - 0s 4ms/step - loss: 12.8900 - val_loss: 7.6852\n",
      "Epoch 63/100\n",
      "36/36 [==============================] - 0s 4ms/step - loss: 12.7210 - val_loss: 7.6393\n",
      "Epoch 64/100\n",
      "36/36 [==============================] - 0s 4ms/step - loss: 12.4344 - val_loss: 7.7190\n",
      "Epoch 65/100\n",
      "36/36 [==============================] - 0s 4ms/step - loss: 12.3383 - val_loss: 7.5615\n",
      "Epoch 66/100\n",
      "36/36 [==============================] - 0s 4ms/step - loss: 12.3379 - val_loss: 7.4795\n",
      "Epoch 67/100\n",
      "36/36 [==============================] - 0s 4ms/step - loss: 12.1723 - val_loss: 7.7132\n",
      "Epoch 68/100\n",
      "36/36 [==============================] - 0s 3ms/step - loss: 12.0198 - val_loss: 7.5215\n",
      "Epoch 69/100\n",
      "36/36 [==============================] - 0s 4ms/step - loss: 12.1173 - val_loss: 7.4720\n",
      "Epoch 70/100\n",
      "36/36 [==============================] - 0s 4ms/step - loss: 11.9630 - val_loss: 7.5829\n",
      "Epoch 71/100\n",
      "36/36 [==============================] - 0s 4ms/step - loss: 11.7887 - val_loss: 7.5725\n",
      "Epoch 72/100\n",
      "36/36 [==============================] - 0s 4ms/step - loss: 11.7112 - val_loss: 7.5097\n",
      "Epoch 73/100\n",
      "36/36 [==============================] - 0s 4ms/step - loss: 11.6831 - val_loss: 7.4797\n",
      "Epoch 74/100\n",
      "36/36 [==============================] - 0s 4ms/step - loss: 11.3912 - val_loss: 7.5244\n",
      "Epoch 75/100\n",
      "36/36 [==============================] - 0s 4ms/step - loss: 11.2815 - val_loss: 7.3874\n",
      "Epoch 76/100\n",
      "36/36 [==============================] - 0s 4ms/step - loss: 11.4815 - val_loss: 7.4655\n",
      "Epoch 77/100\n",
      "36/36 [==============================] - 0s 4ms/step - loss: 11.5055 - val_loss: 7.4218\n",
      "Epoch 78/100\n",
      "36/36 [==============================] - 0s 4ms/step - loss: 11.3687 - val_loss: 7.4197\n",
      "Epoch 79/100\n",
      "36/36 [==============================] - 0s 4ms/step - loss: 11.2576 - val_loss: 7.4182\n",
      "Epoch 80/100\n",
      "36/36 [==============================] - 0s 4ms/step - loss: 11.1108 - val_loss: 7.3544\n",
      "Epoch 81/100\n",
      "36/36 [==============================] - 0s 4ms/step - loss: 11.1467 - val_loss: 7.2525\n",
      "Epoch 82/100\n",
      "36/36 [==============================] - 0s 5ms/step - loss: 10.9654 - val_loss: 7.3887\n",
      "Epoch 83/100\n",
      "36/36 [==============================] - 0s 4ms/step - loss: 10.9166 - val_loss: 7.3171\n",
      "Epoch 84/100\n",
      "36/36 [==============================] - 0s 4ms/step - loss: 11.0147 - val_loss: 7.2908\n",
      "Epoch 85/100\n",
      "36/36 [==============================] - 0s 4ms/step - loss: 10.8897 - val_loss: 7.3011\n",
      "Epoch 86/100\n",
      "36/36 [==============================] - 0s 4ms/step - loss: 10.9034 - val_loss: 7.2736\n",
      "Epoch 87/100\n",
      "36/36 [==============================] - 0s 4ms/step - loss: 10.9333 - val_loss: 7.3283\n",
      "Epoch 88/100\n",
      "36/36 [==============================] - 0s 4ms/step - loss: 10.6975 - val_loss: 7.2961\n",
      "Epoch 89/100\n",
      "36/36 [==============================] - 0s 4ms/step - loss: 10.6989 - val_loss: 7.3336\n",
      "Epoch 90/100\n",
      "36/36 [==============================] - 0s 4ms/step - loss: 10.8275 - val_loss: 7.2270\n",
      "Epoch 91/100\n",
      "36/36 [==============================] - 0s 4ms/step - loss: 10.6772 - val_loss: 7.2985\n",
      "Epoch 92/100\n",
      "36/36 [==============================] - 0s 4ms/step - loss: 10.5693 - val_loss: 7.3001\n",
      "Epoch 93/100\n",
      "36/36 [==============================] - 0s 4ms/step - loss: 10.6722 - val_loss: 7.2989\n",
      "Epoch 94/100\n",
      "36/36 [==============================] - 0s 4ms/step - loss: 10.6119 - val_loss: 7.2728\n",
      "Epoch 95/100\n",
      "36/36 [==============================] - 0s 4ms/step - loss: 10.5643 - val_loss: 7.2405\n",
      "Epoch 96/100\n",
      "36/36 [==============================] - 0s 4ms/step - loss: 10.5216 - val_loss: 7.2647\n",
      "Epoch 97/100\n",
      "36/36 [==============================] - 0s 4ms/step - loss: 10.5754 - val_loss: 7.2373\n",
      "Epoch 98/100\n",
      "36/36 [==============================] - 0s 4ms/step - loss: 10.3740 - val_loss: 7.2578\n",
      "Epoch 99/100\n",
      "36/36 [==============================] - 0s 4ms/step - loss: 10.6826 - val_loss: 7.2815\n",
      "Epoch 100/100\n",
      "36/36 [==============================] - 0s 4ms/step - loss: 10.7042 - val_loss: 7.2309\n"
     ]
    },
    {
     "data": {
      "image/png": "[encoded data removed]",
      "text/plain": [
       "<Figure size 432x288 with 1 Axes>"
      ]
     },
     "metadata": {
      "needs_background": "light"
     },
     "output_type": "display_data"
    }
   ],
   "source": [
    "df_forecast_error = pd.DataFrame(\n",
    "        columns=['h', 'mae', 'rmse', 'mape', 'descriptions'])\n",
    "history = model.fit(train_X, train_non_linear_y, epochs=100, batch_size=40, validation_data=(test_X, test_non_linear_y), verbose=1, shuffle=False)\n",
    "pyplot.plot(history.history['loss'], label='train')\n",
    "pyplot.plot(history.history['val_loss'], label='test')\n",
    "pyplot.legend()\n",
    "pyplot.show()"
   ]
  },
  {
   "cell_type": "code",
   "execution_count": 60,
   "metadata": {},
   "outputs": [
    {
     "data": {
      "text/plain": [
       "(603, 3)"
      ]
     },
     "execution_count": 60,
     "metadata": {},
     "output_type": "execute_result"
    }
   ],
   "source": [
    "pred_non_linear_y = model.predict(test_X)\n",
    "pred_non_linear_y.shape"
   ]
  },
  {
   "cell_type": "code",
   "execution_count": 61,
   "metadata": {},
   "outputs": [],
   "source": [
    "inverted_pred_non_linear_y = non_linear_y_scaler.inverse_transform(pred_non_linear_y.reshape(test_non_linear_y.shape))\n",
    "inverted_test_non_linear_y = non_linear_y_scaler.inverse_transform(test_non_linear_y)"
   ]
  },
  {
   "cell_type": "code",
   "execution_count": 62,
   "metadata": {},
   "outputs": [],
   "source": [
    "inverted_pred_non_linear_y=pd.DataFrame(inverted_pred_non_linear_y).apply(lambda x:x.sum(),axis=1).to_numpy().reshape(-1,1)\n",
    "inverted_test_non_linear_y=pd.DataFrame(inverted_test_non_linear_y).apply(lambda x:x.sum(),axis=1).to_numpy().reshape(-1,1)"
   ]
  },
  {
   "cell_type": "code",
   "execution_count": 63,
   "metadata": {},
   "outputs": [
    {
     "data": {
      "text/plain": [
       "{'h': 1,\n",
       " 'mae': [0.7479202155749654],\n",
       " 'rmse': [0.995684177089333],\n",
       " 'mape': [0.013280179595296223],\n",
       " 'r2': [0.9863231562843955],\n",
       " 'descriptions': ''}"
      ]
     },
     "execution_count": 63,
     "metadata": {},
     "output_type": "execute_result"
    }
   ],
   "source": [
    "test_linear_y=linear_y[train_size:].reshape(-1,1)\n",
    "inverted_pred_non_linear_y=inverted_pred_non_linear_y+test_linear_y\n",
    "inverted_test_non_linear_y=inverted_test_non_linear_y+test_linear_y\n",
    "evaluate_series(test_y, inverted_pred_non_linear_y, h)"
   ]
  },
  {
   "cell_type": "code",
   "execution_count": 64,
   "metadata": {},
   "outputs": [
    {
     "data": {
      "text/plain": [
       "{'h': 1,\n",
       " 'mae': [0.0],\n",
       " 'rmse': [0.0],\n",
       " 'mape': [0.0],\n",
       " 'r2': [1.0],\n",
       " 'descriptions': ''}"
      ]
     },
     "execution_count": 64,
     "metadata": {},
     "output_type": "execute_result"
    }
   ],
   "source": [
    "evaluate_series(test_y, inverted_test_non_linear_y, h)"
   ]
  },
  {
   "cell_type": "code",
   "execution_count": 68,
   "metadata": {},
   "outputs": [
    {
     "data": {
      "text/plain": [
       "{'h': 1,\n",
       " 'mae': [0.008526222247776626],\n",
       " 'rmse': [0.011350708813147892],\n",
       " 'mape': [0.025804959111471175],\n",
       " 'r2': [0.9863231562843955],\n",
       " 'descriptions': ''}"
      ]
     },
     "execution_count": 68,
     "metadata": {},
     "output_type": "execute_result"
    }
   ],
   "source": [
    "normalize_scaler=MinMaxScaler().fit(train_y)\n",
    "normalized_pred_y=normalize_scaler.transform(inverted_pred_non_linear_y)\n",
    "normalized_inverted_test_y=normalize_scaler.transform(inverted_test_non_linear_y)\n",
    "normalized_test_y=normalize_scaler.transform(test_y)\n",
    "evaluate_series(normalized_test_y, normalized_pred_y, h)"
   ]
  },
  {
   "cell_type": "code",
   "execution_count": 69,
   "metadata": {},
   "outputs": [
    {
     "data": {
      "text/plain": [
       "{'h': 1,\n",
       " 'mae': [0.0],\n",
       " 'rmse': [0.0],\n",
       " 'mape': [0.0],\n",
       " 'r2': [1.0],\n",
       " 'descriptions': ''}"
      ]
     },
     "execution_count": 69,
     "metadata": {},
     "output_type": "execute_result"
    }
   ],
   "source": [
    "evaluate_series(normalized_test_y, normalized_inverted_test_y, h)"
   ]
  }
 ],
 "metadata": {
  "interpreter": {
   "hash": "8f3e05a59671f1eb5b3f5f0e003aaa5a39f5d3316373e39c3606e56079185283"
  },
  "kernelspec": {
   "display_name": "Python 3.8.12 64-bit ('OPP-env': conda)",
   "language": "python",
   "name": "python3"
  },
  "language_info": {
   "codemirror_mode": {
    "name": "ipython",
    "version": 3
   },
   "file_extension": ".py",
   "mimetype": "text/x-python",
   "name": "python",
   "nbconvert_exporter": "python",
   "pygments_lexer": "ipython3",
   "version": "3.8.12"
  },
  "orig_nbformat": 4
 },
 "nbformat": 4,
 "nbformat_minor": 2
}
