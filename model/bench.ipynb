{
 "cells": [
  {
   "cell_type": "code",
   "execution_count": 1,
   "metadata": {},
   "outputs": [
    {
     "name": "stderr",
     "output_type": "stream",
     "text": [
      "2022-01-25 12:28:15.489124: I tensorflow/stream_executor/cuda/cuda_gpu_executor.cc:939] successful NUMA node read from SysFS had negative value (-1), but there must be at least one NUMA node, so returning NUMA node zero\n",
      "2022-01-25 12:28:15.511221: I tensorflow/stream_executor/cuda/cuda_gpu_executor.cc:939] successful NUMA node read from SysFS had negative value (-1), but there must be at least one NUMA node, so returning NUMA node zero\n",
      "2022-01-25 12:28:15.511374: I tensorflow/stream_executor/cuda/cuda_gpu_executor.cc:939] successful NUMA node read from SysFS had negative value (-1), but there must be at least one NUMA node, so returning NUMA node zero\n"
     ]
    }
   ],
   "source": [
    "import datetime\n",
    "import logging\n",
    "import os\n",
    "import numpy as np\n",
    "import pandas as pd\n",
    "from matplotlib import pyplot\n",
    "from sklearn.preprocessing import MinMaxScaler\n",
    "from sklearn.model_selection import cross_validate, TimeSeriesSplit\n",
    "from sklearn.metrics import mean_absolute_error, mean_absolute_percentage_error, mean_squared_error\n",
    "from sklearn.metrics import r2_score\n",
    "import joblib\n",
    "import tensorflow as tf\n",
    "from tensorflow import keras\n",
    "from keras.layers import Reshape, MaxPool3D, Bidirectional, ConvLSTM2D\n",
    "from keras.models import Sequential\n",
    "from keras.layers import Dense\n",
    "from keras.layers import LSTM\n",
    "from keras.layers import GRU\n",
    "from keras.layers import SimpleRNN\n",
    "from keras.layers import Conv2D\n",
    "from keras.layers import Dropout\n",
    "from sklearn.feature_selection import RFE\n",
    "from sklearn.linear_model import Ridge, Lasso\n",
    "import pymongo\n",
    "import random\n",
    "import string\n",
    "import fasttext\n",
    "from nltk.tokenize import word_tokenize\n",
    "from nltk.corpus import stopwords\n",
    "from nltk.stem.porter import PorterStemmer\n",
    "from nltk.tag import pos_tag\n",
    "from sklearn.decomposition import LatentDirichletAllocation\n",
    "from sklearn.preprocessing import MinMaxScaler\n",
    "from textblob import TextBlob\n",
    "physical_devices = tf.config.list_physical_devices('GPU')\n",
    "tf.config.experimental.set_memory_growth(physical_devices[0], True)\n",
    "\n",
    "HOME = os.environ['LIMA_HOME']\n"
   ]
  },
  {
   "cell_type": "code",
   "execution_count": 2,
   "metadata": {},
   "outputs": [],
   "source": [
    "def clean(text: str) -> list:\n",
    "    \"\"\"\n",
    "    clean text with tokenization; stemming; removing stop word, punctuation, number, and empty string.\n",
    "\n",
    "    Args:\n",
    "        text (str): text\n",
    "\n",
    "    Returns:\n",
    "        list: cleaned text as list of tokenized str\n",
    "    \"\"\"\n",
    "\n",
    "    # to list of token\n",
    "    text = word_tokenize(text)\n",
    "\n",
    "    # stemming and convert to lower case if not proper noun: punctuation and stop word seem to help POS tagging, remove them after stemming\n",
    "    word_tag = pos_tag(text)\n",
    "    porter = PorterStemmer()\n",
    "    text = [\n",
    "        porter.stem(each[0])\n",
    "        if each[1] != \"NNP\" and each[1] != \"NNPS\" else each[0]\n",
    "        for each in word_tag\n",
    "    ]\n",
    "\n",
    "    # remove stop word: it seems stemming skip stop word; OK to remove stop word after stemming;\n",
    "    stop_word = set(stopwords.words('english'))\n",
    "    text = [each for each in text if not each in stop_word]\n",
    "\n",
    "    # remove punctuation\n",
    "    text = [\n",
    "        each.translate(str.maketrans('', '', string.punctuation))\n",
    "        for each in text\n",
    "    ]\n",
    "    # text = re.sub(r\"(@\\[A-Za-z0-9]+)|([^0-9A-Za-z \\t])|(\\w+:\\/\\/\\S+)|^rt|http.+?\", \" \", text) # if using re\n",
    "\n",
    "    # convert number to <NUM>\n",
    "    text = [\"<NUM>\" if each.isdigit() else each for each in text]\n",
    "\n",
    "    # remove empty string\n",
    "    text = [each for each in text if each != \"\"]\n",
    "\n",
    "    return text\n",
    "\n",
    "# convert series to supervised learning\n",
    "def series_to_supervised(data, n_in=1, n_out=1, dropnan=True):\n",
    "\tn_vars = 1 if type(data) is list else data.shape[1]\n",
    "\tdf = data.copy()\n",
    "\tcols, names = list(), list()\n",
    "\t# input sequence (t-n, ... t-1)\n",
    "\tfor i in range(n_in, 0, -1):\n",
    "\t\tcols.append(df.shift(i))\n",
    "        \n",
    "\t\tnames += [f'{data.columns[j]}(t-{i})' for j in range(n_vars)]\n",
    "\t# forecast sequence (t, t+1, ... t+n)\n",
    "\tfor i in range(0, n_out):\n",
    "\t\tcols.append(df.shift(-i))\n",
    "\t\tif i == 0:\n",
    "\t\t\tnames += [f'{data.columns[j]}(t)' for j in range(n_vars)]\n",
    "\t\telse:\n",
    "\t\t\tnames += [f'{data.columns[j]}(t+{i})' for j in range(n_vars)]\n",
    "\t# put it all together\n",
    "\tagg = pd.concat(cols, axis=1)\n",
    "\tagg.columns = names\n",
    "\t# drop rows with NaN values\n",
    "\tif dropnan:\n",
    "\t\tagg.dropna(inplace=True)\n",
    "\treturn agg\n",
    "\n",
    "def get_TS_cv(k=5, test_size=None):\n",
    "    \"\"\"\n",
    "    ML models do not need to care about forecast horizon when splitting training and test set. Forecast horizon should be handled by feature preparation ([X_t-1,X_t-2...]). Actually repeated K-fold can also be used, but stick to TS split to align with TS_evaluate().\n",
    "    \"\"\"\n",
    "    return TimeSeriesSplit(\n",
    "        n_splits=k,\n",
    "        gap=0,\n",
    "        test_size=test_size,\n",
    "    )\n",
    "\n",
    "def evaluate_series(y_true, y_pred, horizon):\n",
    "    \"\"\"\n",
    "    Some models (like ARIMA) may not support cross_validate(), compare the forecasting result directly\n",
    "    Args:\n",
    "        y_true: y of test set\n",
    "        y_pred: y of prediction\n",
    "        horizon: forecast horizon\n",
    "\n",
    "    Returns:\n",
    "        DataFrame: single row DF with 3 metrics wrt horizon\n",
    "    \"\"\"\n",
    "    # RMSE\n",
    "    rmse = mean_squared_error(y_true, y_pred, squared=False)\n",
    "    # MAE\n",
    "    mae = mean_absolute_error(y_true, y_pred)\n",
    "    # MAPE\n",
    "    mape = mean_absolute_percentage_error(y_true, y_pred)\n",
    "    r2=r2_score(y_true, y_pred)\n",
    "    forecast_error = {\n",
    "        'h': horizon,\n",
    "        'mae': [mae],\n",
    "        'rmse': [rmse],\n",
    "        'mape': [mape],\n",
    "        'r2':[r2],\n",
    "        'descriptions': \"\"\n",
    "    }\n",
    "    return forecast_error\n"
   ]
  },
  {
   "cell_type": "code",
   "execution_count": 3,
   "metadata": {},
   "outputs": [],
   "source": [
    "# set random seed\n",
    "seed_value = 42\n",
    "os.environ['PYTHONHASHSEED'] = str(seed_value)\n",
    "\n",
    "random.seed(seed_value)\n",
    "np.random.seed(seed_value)\n",
    "tf.random.set_seed(seed_value)\n",
    "h = 1\n",
    "past = 10"
   ]
  },
  {
   "cell_type": "markdown",
   "metadata": {},
   "source": [
    "## Metrics features"
   ]
  },
  {
   "cell_type": "code",
   "execution_count": 4,
   "metadata": {},
   "outputs": [],
   "source": [
    "from influxdb_client import InfluxDBClient\n",
    "client= InfluxDBClient.from_config_file(f\"{HOME}/dev/DB/influxdb_config.ini\")\n",
    "query_api = client.query_api()\n",
    "df_WTI = query_api.query_data_frame(\"\"\"\n",
    "from(bucket: \"dummy\")\n",
    "  |> range(start: 2011-04-01, stop: 2019-04-01)\n",
    "  |> filter(fn: (r) => r[\"_measurement\"] == \"WTI\") \n",
    "  |> filter(fn: (r) => r[\"type\"] == \"closing_price\") \n",
    "  |> pivot(rowKey:[\"_time\"], columnKey: [\"_field\"], valueColumn: \"_value\")\n",
    "  |> drop(columns: [\"_start\", \"_stop\"])\n",
    "\"\"\")\n",
    "df_WTI=df_WTI[[\"_time\",\"CLC4\",\"CLC3\",\"CLC2\",\"CLC1\"]]\n",
    "df_WTI.columns=[\"Date\",\"CLC4\",\"CLC3\",\"CLC2\",\"CLC1\"]\n",
    "df_WTI.set_index(\"Date\",inplace=True)\n",
    "df_WTI.index=df_WTI.index.map(lambda each: each.date())\n",
    "df_WTI.index=pd.to_datetime(df_WTI.index)\n",
    "client.close()"
   ]
  },
  {
   "cell_type": "code",
   "execution_count": 5,
   "metadata": {},
   "outputs": [],
   "source": [
    "month=[each.month for each in df_WTI.index]\n",
    "day=[each.day for each in df_WTI.index]\n",
    "day_in_week=[each.weekday() for each in df_WTI.index]"
   ]
  },
  {
   "cell_type": "code",
   "execution_count": 6,
   "metadata": {},
   "outputs": [],
   "source": [
    "df_dt=pd.DataFrame()\n",
    "df_dt[\"month\"]=month\n",
    "df_dt[\"day\"]=day\n",
    "df_dt[\"day_in_week\"]=day_in_week\n",
    "df_dt.index=df_WTI.index"
   ]
  },
  {
   "cell_type": "code",
   "execution_count": 7,
   "metadata": {},
   "outputs": [
    {
     "data": {
      "text/html": [
       "<div>\n",
       "<style scoped>\n",
       "    .dataframe tbody tr th:only-of-type {\n",
       "        vertical-align: middle;\n",
       "    }\n",
       "\n",
       "    .dataframe tbody tr th {\n",
       "        vertical-align: top;\n",
       "    }\n",
       "\n",
       "    .dataframe thead th {\n",
       "        text-align: right;\n",
       "    }\n",
       "</style>\n",
       "<table border=\"1\" class=\"dataframe\">\n",
       "  <thead>\n",
       "    <tr style=\"text-align: right;\">\n",
       "      <th></th>\n",
       "      <th>CLC4</th>\n",
       "      <th>CLC3</th>\n",
       "      <th>CLC2</th>\n",
       "      <th>CLC1</th>\n",
       "    </tr>\n",
       "    <tr>\n",
       "      <th>Date</th>\n",
       "      <th></th>\n",
       "      <th></th>\n",
       "      <th></th>\n",
       "      <th></th>\n",
       "    </tr>\n",
       "  </thead>\n",
       "  <tbody>\n",
       "    <tr>\n",
       "      <th>2011-04-01</th>\n",
       "      <td>109.17</td>\n",
       "      <td>108.94</td>\n",
       "      <td>108.50</td>\n",
       "      <td>107.94</td>\n",
       "    </tr>\n",
       "    <tr>\n",
       "      <th>2011-04-04</th>\n",
       "      <td>109.83</td>\n",
       "      <td>109.53</td>\n",
       "      <td>109.05</td>\n",
       "      <td>108.47</td>\n",
       "    </tr>\n",
       "    <tr>\n",
       "      <th>2011-04-05</th>\n",
       "      <td>109.91</td>\n",
       "      <td>109.56</td>\n",
       "      <td>108.99</td>\n",
       "      <td>108.34</td>\n",
       "    </tr>\n",
       "    <tr>\n",
       "      <th>2011-04-06</th>\n",
       "      <td>110.39</td>\n",
       "      <td>110.05</td>\n",
       "      <td>109.48</td>\n",
       "      <td>108.83</td>\n",
       "    </tr>\n",
       "    <tr>\n",
       "      <th>2011-04-07</th>\n",
       "      <td>111.66</td>\n",
       "      <td>111.37</td>\n",
       "      <td>110.88</td>\n",
       "      <td>110.30</td>\n",
       "    </tr>\n",
       "    <tr>\n",
       "      <th>...</th>\n",
       "      <td>...</td>\n",
       "      <td>...</td>\n",
       "      <td>...</td>\n",
       "      <td>...</td>\n",
       "    </tr>\n",
       "    <tr>\n",
       "      <th>2019-03-25</th>\n",
       "      <td>59.55</td>\n",
       "      <td>59.33</td>\n",
       "      <td>59.08</td>\n",
       "      <td>58.82</td>\n",
       "    </tr>\n",
       "    <tr>\n",
       "      <th>2019-03-26</th>\n",
       "      <td>60.34</td>\n",
       "      <td>60.23</td>\n",
       "      <td>60.10</td>\n",
       "      <td>59.94</td>\n",
       "    </tr>\n",
       "    <tr>\n",
       "      <th>2019-03-27</th>\n",
       "      <td>59.91</td>\n",
       "      <td>59.77</td>\n",
       "      <td>59.61</td>\n",
       "      <td>59.41</td>\n",
       "    </tr>\n",
       "    <tr>\n",
       "      <th>2019-03-28</th>\n",
       "      <td>59.76</td>\n",
       "      <td>59.63</td>\n",
       "      <td>59.48</td>\n",
       "      <td>59.30</td>\n",
       "    </tr>\n",
       "    <tr>\n",
       "      <th>2019-03-29</th>\n",
       "      <td>60.49</td>\n",
       "      <td>60.40</td>\n",
       "      <td>60.28</td>\n",
       "      <td>60.14</td>\n",
       "    </tr>\n",
       "  </tbody>\n",
       "</table>\n",
       "<p>2018 rows × 4 columns</p>\n",
       "</div>"
      ],
      "text/plain": [
       "              CLC4    CLC3    CLC2    CLC1\n",
       "Date                                      \n",
       "2011-04-01  109.17  108.94  108.50  107.94\n",
       "2011-04-04  109.83  109.53  109.05  108.47\n",
       "2011-04-05  109.91  109.56  108.99  108.34\n",
       "2011-04-06  110.39  110.05  109.48  108.83\n",
       "2011-04-07  111.66  111.37  110.88  110.30\n",
       "...            ...     ...     ...     ...\n",
       "2019-03-25   59.55   59.33   59.08   58.82\n",
       "2019-03-26   60.34   60.23   60.10   59.94\n",
       "2019-03-27   59.91   59.77   59.61   59.41\n",
       "2019-03-28   59.76   59.63   59.48   59.30\n",
       "2019-03-29   60.49   60.40   60.28   60.14\n",
       "\n",
       "[2018 rows x 4 columns]"
      ]
     },
     "execution_count": 7,
     "metadata": {},
     "output_type": "execute_result"
    }
   ],
   "source": [
    "df_WTI"
   ]
  },
  {
   "cell_type": "code",
   "execution_count": 236,
   "metadata": {},
   "outputs": [
    {
     "data": {
      "text/plain": [
       "Date\n",
       "2011-04-01    107.94\n",
       "2011-04-04    108.47\n",
       "2011-04-05    108.34\n",
       "2011-04-06    108.83\n",
       "2011-04-07    110.30\n",
       "Name: CLC1, dtype: float64"
      ]
     },
     "execution_count": 236,
     "metadata": {},
     "output_type": "execute_result"
    }
   ],
   "source": [
    "sample=df_WTI[\"CLC1\"][0:5]\n",
    "sample"
   ]
  },
  {
   "cell_type": "code",
   "execution_count": 281,
   "metadata": {},
   "outputs": [],
   "source": [
    "from statsmodels.tsa.arima.model import ARIMA\n",
    "import warnings\n",
    "warnings.filterwarnings('ignore')\n",
    "ARMA_pred=[]\n",
    "for i in range(5,len(df_WTI)):\n",
    "    train_data=df_WTI.iloc[i-5:i][\"CLC1\"].to_numpy()\n",
    "    model = ARIMA(train_data,order=(1, 0,1)).fit()\n",
    "    forecasts = model.forecast(1)\n",
    "    ARMA_pred.append(forecasts)"
   ]
  },
  {
   "cell_type": "code",
   "execution_count": 288,
   "metadata": {},
   "outputs": [],
   "source": [
    "# ARMA_CLC1=pd.concat(ARMA_pred)\n",
    "# ARMA_CLC1=ARMA_CLC1[:-1]\n",
    "df_ARMA=pd.DataFrame(ARMA_pred)\n",
    "df_ARMA.columns=[\"ARMA_CLC1\"]\n",
    "df_ARMA.index=df_WTI.index[5:]"
   ]
  },
  {
   "cell_type": "code",
   "execution_count": 289,
   "metadata": {},
   "outputs": [
    {
     "data": {
      "text/html": [
       "<div>\n",
       "<style scoped>\n",
       "    .dataframe tbody tr th:only-of-type {\n",
       "        vertical-align: middle;\n",
       "    }\n",
       "\n",
       "    .dataframe tbody tr th {\n",
       "        vertical-align: top;\n",
       "    }\n",
       "\n",
       "    .dataframe thead th {\n",
       "        text-align: right;\n",
       "    }\n",
       "</style>\n",
       "<table border=\"1\" class=\"dataframe\">\n",
       "  <thead>\n",
       "    <tr style=\"text-align: right;\">\n",
       "      <th></th>\n",
       "      <th>ARMA_CLC1</th>\n",
       "    </tr>\n",
       "    <tr>\n",
       "      <th>Date</th>\n",
       "      <th></th>\n",
       "    </tr>\n",
       "  </thead>\n",
       "  <tbody>\n",
       "    <tr>\n",
       "      <th>2011-04-08</th>\n",
       "      <td>110.143977</td>\n",
       "    </tr>\n",
       "    <tr>\n",
       "      <th>2011-04-11</th>\n",
       "      <td>113.420179</td>\n",
       "    </tr>\n",
       "    <tr>\n",
       "      <th>2011-04-12</th>\n",
       "      <td>109.523829</td>\n",
       "    </tr>\n",
       "    <tr>\n",
       "      <th>2011-04-13</th>\n",
       "      <td>107.709630</td>\n",
       "    </tr>\n",
       "    <tr>\n",
       "      <th>2011-04-14</th>\n",
       "      <td>108.688351</td>\n",
       "    </tr>\n",
       "    <tr>\n",
       "      <th>...</th>\n",
       "      <td>...</td>\n",
       "    </tr>\n",
       "    <tr>\n",
       "      <th>2019-03-25</th>\n",
       "      <td>59.085646</td>\n",
       "    </tr>\n",
       "    <tr>\n",
       "      <th>2019-03-26</th>\n",
       "      <td>59.190659</td>\n",
       "    </tr>\n",
       "    <tr>\n",
       "      <th>2019-03-27</th>\n",
       "      <td>59.853376</td>\n",
       "    </tr>\n",
       "    <tr>\n",
       "      <th>2019-03-28</th>\n",
       "      <td>59.225451</td>\n",
       "    </tr>\n",
       "    <tr>\n",
       "      <th>2019-03-29</th>\n",
       "      <td>59.262319</td>\n",
       "    </tr>\n",
       "  </tbody>\n",
       "</table>\n",
       "<p>2013 rows × 1 columns</p>\n",
       "</div>"
      ],
      "text/plain": [
       "             ARMA_CLC1\n",
       "Date                  \n",
       "2011-04-08  110.143977\n",
       "2011-04-11  113.420179\n",
       "2011-04-12  109.523829\n",
       "2011-04-13  107.709630\n",
       "2011-04-14  108.688351\n",
       "...                ...\n",
       "2019-03-25   59.085646\n",
       "2019-03-26   59.190659\n",
       "2019-03-27   59.853376\n",
       "2019-03-28   59.225451\n",
       "2019-03-29   59.262319\n",
       "\n",
       "[2013 rows x 1 columns]"
      ]
     },
     "execution_count": 289,
     "metadata": {},
     "output_type": "execute_result"
    }
   ],
   "source": [
    "df_ARMA"
   ]
  },
  {
   "cell_type": "markdown",
   "metadata": {},
   "source": [
    "## Text features"
   ]
  },
  {
   "cell_type": "code",
   "execution_count": 8,
   "metadata": {},
   "outputs": [],
   "source": [
    "mongo_client = pymongo.MongoClient(\"mongodb://localhost:27017/\")\n",
    "mongo_db = mongo_client[\"lima\"]\n",
    "mongo_collection = mongo_db[\"investing_news\"]\n",
    "cursor = mongo_collection.find({\"News\":{\"$ne\":\"NEURONswap: First Dex To Implement Governance 2.0\"}})\n",
    "df_news_com =  pd.DataFrame(list(cursor))[[\"Date\",\"News\"]]"
   ]
  },
  {
   "cell_type": "code",
   "execution_count": 9,
   "metadata": {},
   "outputs": [],
   "source": [
    "mongo_collection = mongo_db[\"investing_news_world\"]\n",
    "cursor = mongo_collection.find({\"News\":{\"$ne\":\"NEURONswap: First Dex To Implement Governance 2.0\"}})\n",
    "df_news_world=  pd.DataFrame(list(cursor))[[\"Date\",\"News\"]]\n",
    "\n",
    "# mongo_collection = mongo_db[\"investing_news_econ\"]\n",
    "# cursor = mongo_collection.find({\"News\":{\"$ne\":\"NEURONswap: First Dex To Implement Governance 2.0\"}})\n",
    "# df_news_econ=  pd.DataFrame(list(cursor))[[\"Date\",\"News\"]]"
   ]
  },
  {
   "cell_type": "code",
   "execution_count": 10,
   "metadata": {},
   "outputs": [
    {
     "data": {
      "text/plain": [
       "(150942, 2)"
      ]
     },
     "execution_count": 10,
     "metadata": {},
     "output_type": "execute_result"
    }
   ],
   "source": [
    "df_news=pd.concat([df_news_com,df_news_world])\n",
    "df_news=df_news.sort_values(by='Date',ignore_index=True)\n",
    "df_news.shape"
   ]
  },
  {
   "cell_type": "code",
   "execution_count": 11,
   "metadata": {},
   "outputs": [
    {
     "name": "stderr",
     "output_type": "stream",
     "text": [
      "Warning : `load_model` does not return WordVectorModel or SupervisedModel any more, but a `FastText` object which is very similar.\n"
     ]
    }
   ],
   "source": [
    "fasttext_model = fasttext.load_model(f\"{HOME}/data/big/cc.en.300.bin\")"
   ]
  },
  {
   "cell_type": "code",
   "execution_count": 12,
   "metadata": {},
   "outputs": [],
   "source": [
    "df_news=df_news[df_news.Date.isin(df_WTI.index)]\n",
    "df_news.News = df_news.News.apply(lambda r: \" \".join(clean(r)))"
   ]
  },
  {
   "cell_type": "markdown",
   "metadata": {},
   "source": [
    "### sentiment features"
   ]
  },
  {
   "cell_type": "code",
   "execution_count": null,
   "metadata": {},
   "outputs": [],
   "source": [
    "def get_sentiment_aggregated(df):\n",
    "    df=df.copy()\n",
    "    df[\"Polarity\"] = df.apply(\n",
    "        lambda row: TextBlob(row['News']).sentiment.polarity, axis=1)\n",
    "    df[\"Subjectivity\"] = df.apply(\n",
    "        lambda row: TextBlob(row['News']).sentiment.subjectivity, axis=1)\n",
    "    df_daily_averaged_sentiment_score = df.groupby(['Date']).mean()\n",
    "    return df_daily_averaged_sentiment_score\n",
    "\n",
    "df_sentiment = get_sentiment_aggregated(df_news)\n",
    "df_sentiment[\"Combined_Sentiment\"]=df_sentiment.Polarity*(1+df_sentiment.Subjectivity)\n",
    "def decay_features(df):\n",
    "    window_size=5\n",
    "    feature_list=[]\n",
    "    for each in df.columns:\n",
    "        feature_list.append(df[each].iloc[:window_size].to_list())\n",
    "    feature_num=len(feature_list)\n",
    "    for idx in range(window_size,len(df_sentiment)):\n",
    "        feature_tmp=np.zeros(feature_num)\n",
    "        for t in range(window_size):\n",
    "            for feature_idx in range(feature_num):\n",
    "                feature_tmp[feature_idx]+=df.iloc[idx-t][df.columns[feature_idx]]*((window_size-t)/window_size)\n",
    "        for feature_idx in range(feature_num):\n",
    "            feature_list[feature_idx].append(feature_tmp[feature_idx])\n",
    "    df_result=pd.DataFrame(feature_list).transpose()\n",
    "    df_result.index=df.index\n",
    "    df_result.columns=[f\"Decay_{each}\" for each in df.columns]\n",
    "    return df_result\n",
    "\n",
    "df_res=decay_features(df_sentiment)\n",
    "df_sentiment=pd.concat([df_sentiment,df_res],axis=1)"
   ]
  },
  {
   "cell_type": "code",
   "execution_count": 13,
   "metadata": {},
   "outputs": [
    {
     "data": {
      "text/plain": [
       "(2014, 6)"
      ]
     },
     "execution_count": 13,
     "metadata": {},
     "output_type": "execute_result"
    }
   ],
   "source": [
    "# df_sentiment.to_pickle(\"df_sentiment_2type.pkl\")\n",
    "df_sentiment=pd.read_pickle(\"df_sentiment_2type.pkl\")\n",
    "# df_sentiment=pd.read_pickle(\"df_sentiment.pkl\")\n",
    "df_sentiment.shape"
   ]
  },
  {
   "cell_type": "markdown",
   "metadata": {},
   "source": [
    "### topic modeling features"
   ]
  },
  {
   "cell_type": "code",
   "execution_count": null,
   "metadata": {},
   "outputs": [],
   "source": [
    "def get_topic_aggregated(df):\n",
    "    df=df.copy()\n",
    "    news_emb = df.News.apply(lambda x: fasttext_model.get_sentence_vector(\n",
    "        (x))).to_numpy().tolist()\n",
    "    news_emb = np.array(news_emb)\n",
    "    emb_scaler=MinMaxScaler()\n",
    "    news_emb=emb_scaler.fit_transform(news_emb)\n",
    "    lda_model=LatentDirichletAllocation(n_components=5,n_jobs=-1)\n",
    "    topic= lda_model.fit_transform(news_emb)\n",
    "    for i in range(5):\n",
    "        df[f\"Topic{i+1}\"] = topic[:, i]\n",
    "    df_daily_averaged_topic = df.groupby(['Date']).mean()\n",
    "    return df_daily_averaged_topic, emb_scaler, lda_model\n",
    "\n",
    "df_topic, emb_scaler, lda_model = get_topic_aggregated(df_news)\n",
    "df_topic.head()"
   ]
  },
  {
   "cell_type": "code",
   "execution_count": null,
   "metadata": {},
   "outputs": [],
   "source": [
    "df_res=decay_features(df_topic)\n",
    "df_topic=pd.concat([df_topic,df_res],axis=1)"
   ]
  },
  {
   "cell_type": "code",
   "execution_count": 14,
   "metadata": {},
   "outputs": [
    {
     "data": {
      "text/plain": [
       "(2014, 10)"
      ]
     },
     "execution_count": 14,
     "metadata": {},
     "output_type": "execute_result"
    }
   ],
   "source": [
    "# df_topic.to_pickle(\"df_topic_2type.pkl\")\n",
    "df_topic=pd.read_pickle(\"df_topic_2type.pkl\")\n",
    "# df_topic=pd.read_pickle(\"df_topic.pkl\")\n",
    "df_topic.shape"
   ]
  },
  {
   "cell_type": "markdown",
   "metadata": {},
   "source": [
    "### GeoIdx"
   ]
  },
  {
   "cell_type": "code",
   "execution_count": null,
   "metadata": {},
   "outputs": [],
   "source": [
    "from scipy import spatial\n",
    "geo_pattern={\n",
    "\"Geopolitical_Threats\":\"Geopolitical risk concern tension uncertainty United States tensions military war geopolitical coup guerrilla warfare Latin America Central America South America Europe Africa Middle East Far East Asia\",\n",
    "\"Nuclear_Threats\":\"nuclear war atomic war nuclear conflict atomic conflict nuclear missile fear threat risk peril menace\",\n",
    "\"War_Threats\":\"war risk risk of war fear of war war fear military threat war threat threat of war military action military operation military fce risk threat\",\n",
    "\"Terrorist_Threats\":\"terrorist threat threat of terrorism terrorism menace menace of terrorism terrorist risk terr risk risk of terrorism terr threat\",\n",
    "\"War_Acts\":\"beginning of the war outbreak of the war onset of the war escalation of the war start of the war war military air strike war battle heavy casualties\",\n",
    "\"Terrorist_Acts\":\"terrorist act terrorist acts\"}\n",
    "\n",
    "def get_geoidx_aggregated(df):\n",
    "    df=df.copy()\n",
    "    df[\"news_emb\"] = df.News.apply(lambda x: fasttext_model.get_sentence_vector(\n",
    "        (x))).to_numpy().tolist()\n",
    "    for each in geo_pattern:\n",
    "        pattern_emb=fasttext_model.get_sentence_vector(each)\n",
    "        df[each]=df.news_emb.apply(lambda x:1-spatial.distance.cosine(pattern_emb, x))\n",
    "    df=df.drop([\"News\",\"news_emb\"],axis=1)\n",
    "    df_daily_averaged_geoidx = df.groupby(['Date']).max()\n",
    "    return df_daily_averaged_geoidx\n",
    "\n",
    "df_geoidx = get_geoidx_aggregated(df_news)"
   ]
  },
  {
   "cell_type": "code",
   "execution_count": null,
   "metadata": {},
   "outputs": [],
   "source": [
    "df_res=decay_features(df_geoidx)\n",
    "df_geoidx=pd.concat([df_geoidx,df_res],axis=1)"
   ]
  },
  {
   "cell_type": "code",
   "execution_count": 16,
   "metadata": {},
   "outputs": [
    {
     "data": {
      "text/plain": [
       "(2014, 12)"
      ]
     },
     "execution_count": 16,
     "metadata": {},
     "output_type": "execute_result"
    }
   ],
   "source": [
    "# df_geoidx.to_pickle(\"df_geoidx_2type.pkl\")\n",
    "df_geoidx=pd.read_pickle(\"df_geoidx_2type.pkl\")\n",
    "df_geoidx.shape"
   ]
  },
  {
   "cell_type": "code",
   "execution_count": 17,
   "metadata": {},
   "outputs": [
    {
     "name": "stdout",
     "output_type": "stream",
     "text": [
      "(2014, 29)\n"
     ]
    },
    {
     "data": {
      "text/html": [
       "<div>\n",
       "<style scoped>\n",
       "    .dataframe tbody tr th:only-of-type {\n",
       "        vertical-align: middle;\n",
       "    }\n",
       "\n",
       "    .dataframe tbody tr th {\n",
       "        vertical-align: top;\n",
       "    }\n",
       "\n",
       "    .dataframe thead th {\n",
       "        text-align: right;\n",
       "    }\n",
       "</style>\n",
       "<table border=\"1\" class=\"dataframe\">\n",
       "  <thead>\n",
       "    <tr style=\"text-align: right;\">\n",
       "      <th></th>\n",
       "      <th>Polarity</th>\n",
       "      <th>Subjectivity</th>\n",
       "      <th>Combined_Sentiment</th>\n",
       "      <th>Decay_Polarity</th>\n",
       "      <th>Decay_Subjectivity</th>\n",
       "      <th>Decay_Combined_Sentiment</th>\n",
       "      <th>Topic1</th>\n",
       "      <th>Topic2</th>\n",
       "      <th>Topic3</th>\n",
       "      <th>Topic4</th>\n",
       "      <th>...</th>\n",
       "      <th>Terrorist_Threats</th>\n",
       "      <th>War_Acts</th>\n",
       "      <th>Terrorist_Acts</th>\n",
       "      <th>Decay_Geopolitical_Threats</th>\n",
       "      <th>Decay_Nuclear_Threats</th>\n",
       "      <th>Decay_War_Threats</th>\n",
       "      <th>Decay_Terrorist_Threats</th>\n",
       "      <th>Decay_War_Acts</th>\n",
       "      <th>Decay_Terrorist_Acts</th>\n",
       "      <th>CLC1</th>\n",
       "    </tr>\n",
       "    <tr>\n",
       "      <th>Date</th>\n",
       "      <th></th>\n",
       "      <th></th>\n",
       "      <th></th>\n",
       "      <th></th>\n",
       "      <th></th>\n",
       "      <th></th>\n",
       "      <th></th>\n",
       "      <th></th>\n",
       "      <th></th>\n",
       "      <th></th>\n",
       "      <th></th>\n",
       "      <th></th>\n",
       "      <th></th>\n",
       "      <th></th>\n",
       "      <th></th>\n",
       "      <th></th>\n",
       "      <th></th>\n",
       "      <th></th>\n",
       "      <th></th>\n",
       "      <th></th>\n",
       "      <th></th>\n",
       "    </tr>\n",
       "  </thead>\n",
       "  <tbody>\n",
       "    <tr>\n",
       "      <th>2011-04-01</th>\n",
       "      <td>0.085833</td>\n",
       "      <td>0.3475</td>\n",
       "      <td>0.11566</td>\n",
       "      <td>0.085833</td>\n",
       "      <td>0.3475</td>\n",
       "      <td>0.11566</td>\n",
       "      <td>0.155508</td>\n",
       "      <td>0.119983</td>\n",
       "      <td>0.070445</td>\n",
       "      <td>0.500355</td>\n",
       "      <td>...</td>\n",
       "      <td>0.221318</td>\n",
       "      <td>0.35214</td>\n",
       "      <td>0.359889</td>\n",
       "      <td>0.32632</td>\n",
       "      <td>0.257284</td>\n",
       "      <td>0.242575</td>\n",
       "      <td>0.221318</td>\n",
       "      <td>0.35214</td>\n",
       "      <td>0.359889</td>\n",
       "      <td>107.94</td>\n",
       "    </tr>\n",
       "  </tbody>\n",
       "</table>\n",
       "<p>1 rows × 29 columns</p>\n",
       "</div>"
      ],
      "text/plain": [
       "            Polarity  Subjectivity  Combined_Sentiment  Decay_Polarity  \\\n",
       "Date                                                                     \n",
       "2011-04-01  0.085833        0.3475             0.11566        0.085833   \n",
       "\n",
       "            Decay_Subjectivity  Decay_Combined_Sentiment    Topic1    Topic2  \\\n",
       "Date                                                                           \n",
       "2011-04-01              0.3475                   0.11566  0.155508  0.119983   \n",
       "\n",
       "              Topic3    Topic4  ...  Terrorist_Threats  War_Acts  \\\n",
       "Date                            ...                                \n",
       "2011-04-01  0.070445  0.500355  ...           0.221318   0.35214   \n",
       "\n",
       "            Terrorist_Acts   Decay_Geopolitical_Threats  \\\n",
       "Date                                                      \n",
       "2011-04-01         0.359889                     0.32632   \n",
       "\n",
       "            Decay_Nuclear_Threats  Decay_War_Threats  Decay_Terrorist_Threats  \\\n",
       "Date                                                                            \n",
       "2011-04-01               0.257284           0.242575                 0.221318   \n",
       "\n",
       "            Decay_War_Acts  Decay_Terrorist_Acts     CLC1  \n",
       "Date                                                       \n",
       "2011-04-01         0.35214               0.359889  107.94  \n",
       "\n",
       "[1 rows x 29 columns]"
      ]
     },
     "execution_count": 17,
     "metadata": {},
     "output_type": "execute_result"
    }
   ],
   "source": [
    "df_Xy = pd.concat([df_sentiment,df_topic, df_geoidx,df_WTI[\"CLC1\"]], axis=1, join=\"inner\")\n",
    "print(df_Xy.shape)\n",
    "df_Xy.head(1)"
   ]
  },
  {
   "cell_type": "markdown",
   "metadata": {},
   "source": [
    "### Embedding"
   ]
  },
  {
   "cell_type": "code",
   "execution_count": 117,
   "metadata": {},
   "outputs": [],
   "source": [
    "def aggregate_emb_maxmin(emb):\n",
    "    data=np.array(emb.to_numpy().tolist())\n",
    "    return np.concatenate([data.max(axis=0),data.min(axis=0)])\n",
    "def aggregate_emb_maxmeanmin(emb):\n",
    "    data=np.array(emb.to_numpy().tolist())\n",
    "    return np.concatenate([data.max(axis=0),data.mean(axis=0),data.min(axis=0)])\n",
    "\n",
    "news_emb = df_news.News.apply(lambda x: fasttext_model.get_sentence_vector(\n",
    "        (x)))\n",
    "# news_emb = np.array(news_emb)\n",
    "# emb_scaler=MinMaxScaler()\n",
    "# news_emb=emb_scaler.fit_transform(news_emb)"
   ]
  },
  {
   "cell_type": "code",
   "execution_count": 123,
   "metadata": {},
   "outputs": [
    {
     "data": {
      "text/html": [
       "<div>\n",
       "<style scoped>\n",
       "    .dataframe tbody tr th:only-of-type {\n",
       "        vertical-align: middle;\n",
       "    }\n",
       "\n",
       "    .dataframe tbody tr th {\n",
       "        vertical-align: top;\n",
       "    }\n",
       "\n",
       "    .dataframe thead th {\n",
       "        text-align: right;\n",
       "    }\n",
       "</style>\n",
       "<table border=\"1\" class=\"dataframe\">\n",
       "  <thead>\n",
       "    <tr style=\"text-align: right;\">\n",
       "      <th></th>\n",
       "      <th>Date</th>\n",
       "      <th>News</th>\n",
       "    </tr>\n",
       "  </thead>\n",
       "  <tbody>\n",
       "    <tr>\n",
       "      <th>27</th>\n",
       "      <td>2011-04-01</td>\n",
       "      <td>[0.0017292075, -0.016800363, -0.06541777, 0.05...</td>\n",
       "    </tr>\n",
       "    <tr>\n",
       "      <th>28</th>\n",
       "      <td>2011-04-01</td>\n",
       "      <td>[-0.011652162, -0.060958307, -0.006677742, 0.0...</td>\n",
       "    </tr>\n",
       "    <tr>\n",
       "      <th>29</th>\n",
       "      <td>2011-04-01</td>\n",
       "      <td>[-0.031039862, 0.06567368, -0.051137805, 0.062...</td>\n",
       "    </tr>\n",
       "    <tr>\n",
       "      <th>30</th>\n",
       "      <td>2011-04-01</td>\n",
       "      <td>[-0.024517922, 0.022746153, -0.0155065805, 0.1...</td>\n",
       "    </tr>\n",
       "    <tr>\n",
       "      <th>33</th>\n",
       "      <td>2011-04-04</td>\n",
       "      <td>[-0.007384143, 0.0126145575, -0.025131056, 0.0...</td>\n",
       "    </tr>\n",
       "    <tr>\n",
       "      <th>...</th>\n",
       "      <td>...</td>\n",
       "      <td>...</td>\n",
       "    </tr>\n",
       "    <tr>\n",
       "      <th>100910</th>\n",
       "      <td>2019-03-29</td>\n",
       "      <td>[-0.036843695, -0.033021946, -0.013335158, 0.0...</td>\n",
       "    </tr>\n",
       "    <tr>\n",
       "      <th>100911</th>\n",
       "      <td>2019-03-29</td>\n",
       "      <td>[-0.018075915, 0.025928015, -0.005842683, 0.06...</td>\n",
       "    </tr>\n",
       "    <tr>\n",
       "      <th>100912</th>\n",
       "      <td>2019-03-29</td>\n",
       "      <td>[-0.025590835, 0.006918648, -0.0006607715, 0.0...</td>\n",
       "    </tr>\n",
       "    <tr>\n",
       "      <th>100913</th>\n",
       "      <td>2019-03-29</td>\n",
       "      <td>[-0.029860735, -0.006048307, 0.008053115, 0.04...</td>\n",
       "    </tr>\n",
       "    <tr>\n",
       "      <th>100914</th>\n",
       "      <td>2019-03-29</td>\n",
       "      <td>[-0.0019723088, -0.03597092, 0.03334002, 0.034...</td>\n",
       "    </tr>\n",
       "  </tbody>\n",
       "</table>\n",
       "<p>83679 rows × 2 columns</p>\n",
       "</div>"
      ],
      "text/plain": [
       "             Date                                               News\n",
       "27     2011-04-01  [0.0017292075, -0.016800363, -0.06541777, 0.05...\n",
       "28     2011-04-01  [-0.011652162, -0.060958307, -0.006677742, 0.0...\n",
       "29     2011-04-01  [-0.031039862, 0.06567368, -0.051137805, 0.062...\n",
       "30     2011-04-01  [-0.024517922, 0.022746153, -0.0155065805, 0.1...\n",
       "33     2011-04-04  [-0.007384143, 0.0126145575, -0.025131056, 0.0...\n",
       "...           ...                                                ...\n",
       "100910 2019-03-29  [-0.036843695, -0.033021946, -0.013335158, 0.0...\n",
       "100911 2019-03-29  [-0.018075915, 0.025928015, -0.005842683, 0.06...\n",
       "100912 2019-03-29  [-0.025590835, 0.006918648, -0.0006607715, 0.0...\n",
       "100913 2019-03-29  [-0.029860735, -0.006048307, 0.008053115, 0.04...\n",
       "100914 2019-03-29  [-0.0019723088, -0.03597092, 0.03334002, 0.034...\n",
       "\n",
       "[83679 rows x 2 columns]"
      ]
     },
     "execution_count": 123,
     "metadata": {},
     "output_type": "execute_result"
    }
   ],
   "source": [
    "df_emb=pd.concat([df_news.Date,news_emb],axis=1)\n",
    "df_emb"
   ]
  },
  {
   "cell_type": "code",
   "execution_count": 124,
   "metadata": {},
   "outputs": [
    {
     "data": {
      "text/html": [
       "<div>\n",
       "<style scoped>\n",
       "    .dataframe tbody tr th:only-of-type {\n",
       "        vertical-align: middle;\n",
       "    }\n",
       "\n",
       "    .dataframe tbody tr th {\n",
       "        vertical-align: top;\n",
       "    }\n",
       "\n",
       "    .dataframe thead th {\n",
       "        text-align: right;\n",
       "    }\n",
       "</style>\n",
       "<table border=\"1\" class=\"dataframe\">\n",
       "  <thead>\n",
       "    <tr style=\"text-align: right;\">\n",
       "      <th></th>\n",
       "      <th>News</th>\n",
       "    </tr>\n",
       "    <tr>\n",
       "      <th>Date</th>\n",
       "      <th></th>\n",
       "    </tr>\n",
       "  </thead>\n",
       "  <tbody>\n",
       "    <tr>\n",
       "      <th>2011-04-01</th>\n",
       "      <td>[0.0017292075, 0.06567368, -0.006677742, 0.107...</td>\n",
       "    </tr>\n",
       "    <tr>\n",
       "      <th>2011-04-04</th>\n",
       "      <td>[0.0138555225, 0.053459145, -0.00890594, 0.108...</td>\n",
       "    </tr>\n",
       "    <tr>\n",
       "      <th>2011-04-05</th>\n",
       "      <td>[0.0051899143, 0.02609228, 0.025519576, 0.0793...</td>\n",
       "    </tr>\n",
       "    <tr>\n",
       "      <th>2011-04-06</th>\n",
       "      <td>[0.022594221, 0.036310665, 0.009160338, 0.0732...</td>\n",
       "    </tr>\n",
       "    <tr>\n",
       "      <th>2011-04-07</th>\n",
       "      <td>[0.0060795415, 0.030333435, 0.029685587, 0.085...</td>\n",
       "    </tr>\n",
       "    <tr>\n",
       "      <th>...</th>\n",
       "      <td>...</td>\n",
       "    </tr>\n",
       "    <tr>\n",
       "      <th>2019-03-25</th>\n",
       "      <td>[0.032116223, 0.06232179, 0.05951042, 0.076960...</td>\n",
       "    </tr>\n",
       "    <tr>\n",
       "      <th>2019-03-26</th>\n",
       "      <td>[0.051727477, 0.05674548, 0.044209935, 0.10180...</td>\n",
       "    </tr>\n",
       "    <tr>\n",
       "      <th>2019-03-27</th>\n",
       "      <td>[0.024791364, 0.052316207, 0.050014082, 0.0802...</td>\n",
       "    </tr>\n",
       "    <tr>\n",
       "      <th>2019-03-28</th>\n",
       "      <td>[0.04426671, 0.04475014, 0.05467548, 0.0883632...</td>\n",
       "    </tr>\n",
       "    <tr>\n",
       "      <th>2019-03-29</th>\n",
       "      <td>[0.044197023, 0.05364708, 0.03919743, 0.077247...</td>\n",
       "    </tr>\n",
       "  </tbody>\n",
       "</table>\n",
       "<p>2014 rows × 1 columns</p>\n",
       "</div>"
      ],
      "text/plain": [
       "                                                         News\n",
       "Date                                                         \n",
       "2011-04-01  [0.0017292075, 0.06567368, -0.006677742, 0.107...\n",
       "2011-04-04  [0.0138555225, 0.053459145, -0.00890594, 0.108...\n",
       "2011-04-05  [0.0051899143, 0.02609228, 0.025519576, 0.0793...\n",
       "2011-04-06  [0.022594221, 0.036310665, 0.009160338, 0.0732...\n",
       "2011-04-07  [0.0060795415, 0.030333435, 0.029685587, 0.085...\n",
       "...                                                       ...\n",
       "2019-03-25  [0.032116223, 0.06232179, 0.05951042, 0.076960...\n",
       "2019-03-26  [0.051727477, 0.05674548, 0.044209935, 0.10180...\n",
       "2019-03-27  [0.024791364, 0.052316207, 0.050014082, 0.0802...\n",
       "2019-03-28  [0.04426671, 0.04475014, 0.05467548, 0.0883632...\n",
       "2019-03-29  [0.044197023, 0.05364708, 0.03919743, 0.077247...\n",
       "\n",
       "[2014 rows x 1 columns]"
      ]
     },
     "execution_count": 124,
     "metadata": {},
     "output_type": "execute_result"
    }
   ],
   "source": [
    "# daily mean of mean\n",
    "# df_emb[\"News\"]=df_emb.News.apply(lambda r:np.array(r.tolist()).mean())\n",
    "\n",
    "# daily mean\n",
    "# df_emb=df_emb.groupby(\"Date\").mean()\n",
    "\n",
    "# max + min\n",
    "# df_emb=df_emb.groupby(\"Date\")['News'].agg(aggregate_emb_maxmin)\n",
    "\n",
    "# max + mean + min\n",
    "df_emb=df_emb.groupby(\"Date\")['News'].agg(aggregate_emb_maxmeanmin)\n",
    "\n",
    "df_emb=pd.DataFrame(df_emb)\n",
    "# df_emb.set_index(\"Date\",inplace=True)\n",
    "df_emb.index=pd.to_datetime(df_emb.index)\n",
    "df_emb"
   ]
  },
  {
   "cell_type": "code",
   "execution_count": 125,
   "metadata": {},
   "outputs": [],
   "source": [
    "# filter to align\n",
    "df_emb=df_emb[df_emb.index.isin(df_Xy[\"CLC1\"].index)]\n",
    "# emb=df_emb.to_numpy()\n",
    "# emb =np.array([each.tolist() for each in emb])\n",
    "# emb.shape"
   ]
  },
  {
   "cell_type": "code",
   "execution_count": null,
   "metadata": {},
   "outputs": [],
   "source": [
    "# y=df_WTI[df_WTI.index.isin(df_emb.index)][\"CLC1\"].to_numpy()\n",
    "# y.shape\n",
    "# feature_name=\"EMB_maxmeanmin_single\""
   ]
  },
  {
   "cell_type": "code",
   "execution_count": null,
   "metadata": {},
   "outputs": [],
   "source": []
  },
  {
   "cell_type": "markdown",
   "metadata": {},
   "source": [
    "### Event"
   ]
  },
  {
   "cell_type": "code",
   "execution_count": null,
   "metadata": {},
   "outputs": [],
   "source": [
    "# os.environ[\"CORENLP_HOME\"]=\"~/.stanfordnlp_resources/stanford-corenlp-4.1.0/\"\n",
    "# from openie import StanfordOpenIE\n",
    "# openie_client= StanfordOpenIE()\n",
    "# openie_client.client.ensure_alive()\n",
    "# # df_news.to_pickle(\"df_news_3type.pkl\")"
   ]
  },
  {
   "cell_type": "code",
   "execution_count": null,
   "metadata": {},
   "outputs": [],
   "source": [
    "# event_tuples = []\n",
    "# for idx, row in df_news.iterrows():\n",
    "#     text = row['News']\n",
    "#     for triple in openie_client.annotate(text):\n",
    "#         triple['Date'] = row['Date']\n",
    "#         event_tuples.append(triple)\n",
    "# openie_client.client.stop()"
   ]
  },
  {
   "cell_type": "code",
   "execution_count": 18,
   "metadata": {},
   "outputs": [
    {
     "data": {
      "text/html": [
       "<div>\n",
       "<style scoped>\n",
       "    .dataframe tbody tr th:only-of-type {\n",
       "        vertical-align: middle;\n",
       "    }\n",
       "\n",
       "    .dataframe tbody tr th {\n",
       "        vertical-align: top;\n",
       "    }\n",
       "\n",
       "    .dataframe thead th {\n",
       "        text-align: right;\n",
       "    }\n",
       "</style>\n",
       "<table border=\"1\" class=\"dataframe\">\n",
       "  <thead>\n",
       "    <tr style=\"text-align: right;\">\n",
       "      <th></th>\n",
       "      <th>subject</th>\n",
       "      <th>relation</th>\n",
       "      <th>object</th>\n",
       "      <th>Date</th>\n",
       "    </tr>\n",
       "  </thead>\n",
       "  <tbody>\n",
       "    <tr>\n",
       "      <th>0</th>\n",
       "      <td>[0.02511599, -0.0009051384, -0.07939808, 0.017...</td>\n",
       "      <td>[0.013598435, 0.01405047, 0.022181436, 0.02646...</td>\n",
       "      <td>[0.023649156, 0.04628775, -0.1109705, 0.036796...</td>\n",
       "      <td>2011-04-01</td>\n",
       "    </tr>\n",
       "    <tr>\n",
       "      <th>1</th>\n",
       "      <td>[0.02511599, -0.0009051384, -0.07939808, 0.017...</td>\n",
       "      <td>[0.013598435, 0.01405047, 0.022181436, 0.02646...</td>\n",
       "      <td>[0.012331505, 0.08418993, -0.021913385, 0.0355...</td>\n",
       "      <td>2011-04-01</td>\n",
       "    </tr>\n",
       "  </tbody>\n",
       "</table>\n",
       "</div>"
      ],
      "text/plain": [
       "                                             subject  \\\n",
       "0  [0.02511599, -0.0009051384, -0.07939808, 0.017...   \n",
       "1  [0.02511599, -0.0009051384, -0.07939808, 0.017...   \n",
       "\n",
       "                                            relation  \\\n",
       "0  [0.013598435, 0.01405047, 0.022181436, 0.02646...   \n",
       "1  [0.013598435, 0.01405047, 0.022181436, 0.02646...   \n",
       "\n",
       "                                              object       Date  \n",
       "0  [0.023649156, 0.04628775, -0.1109705, 0.036796... 2011-04-01  \n",
       "1  [0.012331505, 0.08418993, -0.021913385, 0.0355... 2011-04-01  "
      ]
     },
     "execution_count": 18,
     "metadata": {},
     "output_type": "execute_result"
    }
   ],
   "source": [
    "# df_events = pd.DataFrame(event_tuples)\n",
    "# df_events.to_pickle(\"df_events_2type.pkl\")\n",
    "# df_events=pd.read_pickle(\"df_events.pkl\")\n",
    "df_events=pd.read_pickle(\"df_events_2type.pkl\")\n",
    "# df_events=pd.read_pickle(\"df_events_3type.pkl\")\n",
    "df_events.subject = df_events.subject.apply(\n",
    "    lambda x: fasttext_model.get_sentence_vector((x)))\n",
    "df_events.relation = df_events.relation.apply(\n",
    "    lambda x: fasttext_model.get_sentence_vector((x)))\n",
    "df_events.object = df_events.object.apply(lambda x: fasttext_model.get_sentence_vector(\n",
    "    (x)))\n",
    "df_events.dropna(inplace=True)\n",
    "df_events.head(2)"
   ]
  },
  {
   "cell_type": "code",
   "execution_count": 19,
   "metadata": {},
   "outputs": [],
   "source": [
    "def aggregate_emb_maxmeanmin(emb):\n",
    "    data=np.array(emb.to_numpy().tolist())\n",
    "    return np.concatenate([data.max(axis=0),data.mean(axis=0),data.min(axis=0)])\n",
    "\n",
    "# max + mean + min\n",
    "series_subject=df_events.groupby(\"Date\")['subject'].agg(aggregate_emb_maxmeanmin)\n",
    "series_relation=df_events.groupby(\"Date\")['relation'].agg(aggregate_emb_maxmeanmin)\n",
    "series_object=df_events.groupby(\"Date\")['object'].agg(aggregate_emb_maxmeanmin)"
   ]
  },
  {
   "cell_type": "code",
   "execution_count": 20,
   "metadata": {},
   "outputs": [
    {
     "data": {
      "text/plain": [
       "(1979, 3)"
      ]
     },
     "execution_count": 20,
     "metadata": {},
     "output_type": "execute_result"
    }
   ],
   "source": [
    "df_event_emb=pd.concat([series_subject,series_relation,series_object],axis=1)\n",
    "df_event_emb.index=pd.to_datetime(df_event_emb.index)\n",
    "df_event_emb.shape"
   ]
  },
  {
   "cell_type": "code",
   "execution_count": 21,
   "metadata": {},
   "outputs": [],
   "source": [
    "# filter to align\n",
    "# df_event_emb=df_event_emb[df_event_emb.index.isin(df_WTI[\"CLC1\"].index)]\n",
    "# join 3 : (-1,2700)\n",
    "# df_event_emb[\"event\"]=df_event_emb.apply(np.concatenate,axis=1)\n",
    "# join 3 : (-1,3,900)\n",
    "df_event_emb[\"event\"]=df_event_emb.apply(np.array,axis=1)\n",
    "# event_emb=df_event_emb[\"event\"].to_numpy()\n",
    "# event_emb=np.array([each.tolist() for each in event_emb])\n",
    "# X=event_emb\n",
    "# event_emb.shape"
   ]
  },
  {
   "cell_type": "code",
   "execution_count": 22,
   "metadata": {},
   "outputs": [
    {
     "data": {
      "text/plain": [
       "(1979, 4)"
      ]
     },
     "execution_count": 22,
     "metadata": {},
     "output_type": "execute_result"
    }
   ],
   "source": [
    "df_event_emb.shape"
   ]
  },
  {
   "cell_type": "markdown",
   "metadata": {},
   "source": [
    "## Analysis"
   ]
  },
  {
   "cell_type": "code",
   "execution_count": null,
   "metadata": {},
   "outputs": [],
   "source": [
    "df_Xy.head()"
   ]
  },
  {
   "cell_type": "code",
   "execution_count": null,
   "metadata": {},
   "outputs": [],
   "source": [
    "# stationary test before diff\n",
    "from statsmodels.tsa.stattools import adfuller\n",
    "for i in range(df_Xy.shape[1]):\n",
    "    test_result=adfuller(df_Xy[df_Xy.columns[i]].to_numpy())\n",
    "    if test_result[1]>0.05:\n",
    "        print(f\"{df_Xy.columns[i]}: {test_result[1]}\")"
   ]
  },
  {
   "cell_type": "code",
   "execution_count": null,
   "metadata": {},
   "outputs": [],
   "source": [
    "adfuller(df_Xy['CLC1'])"
   ]
  },
  {
   "cell_type": "code",
   "execution_count": null,
   "metadata": {},
   "outputs": [],
   "source": [
    "df_Xy.columns[:]\n",
    "# df_Xy.columns[7:]#\n",
    "df_Xy.columns[:-4]"
   ]
  },
  {
   "cell_type": "code",
   "execution_count": 24,
   "metadata": {},
   "outputs": [
    {
     "name": "stdout",
     "output_type": "stream",
     "text": [
      "{'aic': 25, 'bic': 5, 'hqic': 5, 'fpe': 25}\n",
      "{'aic': 10, 'bic': 5, 'hqic': 5, 'fpe': 10}\n",
      "{'aic': 5, 'bic': 1, 'hqic': 1, 'fpe': 5}\n"
     ]
    }
   ],
   "source": [
    "from statsmodels.tsa.api import VAR\n",
    "# endo=df_Xy[df_Xy.columns[-4:]].to_numpy()\n",
    "# exo=df_Xy[df_Xy.columns[:-4]].to_numpy()\n",
    "endo=df_Xy[[\"Polarity\",\"Subjectivity\",'Combined_Sentiment',\"CLC1\"]].to_numpy()\n",
    "exo=None\n",
    "model = VAR(endog=endo,exog=exo)\n",
    "var_result=model.select_order(50)\n",
    "print(var_result.selected_orders)\n",
    "\n",
    "endo=df_Xy[[\"Topic1\",\"Topic2\",\"Topic3\",\"Topic4\",\"CLC1\"]].to_numpy()\n",
    "model = VAR(endog=endo,exog=exo)\n",
    "var_result=model.select_order(50)\n",
    "print(var_result.selected_orders)\n",
    "\n",
    "endo=df_Xy[[\"Geopolitical_Threats\",\"Nuclear_Threats\",\"War_Threats\",\"Terrorist_Threats\",'War_Acts','Terrorist_Acts ',\"CLC1\"]].to_numpy()\n",
    "model = VAR(endog=endo,exog=exo)\n",
    "var_result=model.select_order(50)\n",
    "print(var_result.selected_orders)\n",
    "\n",
    "# endo=df_Xy[[\"CLC4\",\"CLC3\",\"CLC2\",\"CLC1\"]].to_numpy()\n",
    "# model = VAR(endog=endo,exog=exo)\n",
    "# var_result=model.select_order(50)\n",
    "# print(var_result.selected_orders)\n"
   ]
  },
  {
   "cell_type": "code",
   "execution_count": 25,
   "metadata": {},
   "outputs": [
    {
     "name": "stdout",
     "output_type": "stream",
     "text": [
      "{'aic': 5, 'bic': 1, 'hqic': 2, 'fpe': 5}\n"
     ]
    }
   ],
   "source": [
    "endo=df_Xy[['Polarity', 'Subjectivity', 'Combined_Sentiment',\n",
    "         'Topic1', 'Topic2',\n",
    "       'Topic3', 'Topic4',\n",
    "         'Geopolitical_Threats',\n",
    "       'Nuclear_Threats', 'War_Threats', 'Terrorist_Threats', 'War_Acts',\n",
    "       'Terrorist_Acts ',\"CLC1\"]].to_numpy()\n",
    "model = VAR(endog=endo,exog=exo)\n",
    "var_result=model.select_order(50)\n",
    "print(var_result.selected_orders)"
   ]
  },
  {
   "cell_type": "code",
   "execution_count": 26,
   "metadata": {},
   "outputs": [],
   "source": [
    "past=5"
   ]
  },
  {
   "cell_type": "code",
   "execution_count": 30,
   "metadata": {},
   "outputs": [],
   "source": [
    "# endo=df_Xy[df_Xy.columns[-1:]].to_numpy()\n",
    "# exo=df_Xy[df_Xy.columns[:-1]].to_numpy()\n",
    "# model = VAR(endog=endo,exog=exo)\n",
    "# var_result=model.select_order(30)\n",
    "# var_result.selected_orders"
   ]
  },
  {
   "cell_type": "code",
   "execution_count": null,
   "metadata": {},
   "outputs": [],
   "source": [
    "for each in df_Xy.columns[:-1]:\n",
    "    try:\n",
    "        endo=df_Xy[[\"CLC1\",each]].to_numpy()\n",
    "        model = VAR(endo)\n",
    "        var_result=model.select_order(120)\n",
    "        print(f\"{each}: {var_result.selected_orders}\")\n",
    "    except:\n",
    "        print(f\"ERROR: {each}\")"
   ]
  },
  {
   "cell_type": "code",
   "execution_count": null,
   "metadata": {},
   "outputs": [],
   "source": [
    "import statsmodels.tsa\n",
    "from statsmodels.graphics.tsaplots import plot_acf\n",
    "plot_acf(df_Xy.CLC3,lags=9, alpha=0.05)"
   ]
  },
  {
   "cell_type": "code",
   "execution_count": 33,
   "metadata": {},
   "outputs": [],
   "source": [
    "from statsmodels.tsa.stattools import grangercausalitytests\n",
    "all_results=[]\n",
    "for each in df_Xy.columns:\n",
    "    # if each ==\"CLC1\":\n",
    "    #     continue\n",
    "    rest_results=grangercausalitytests(df_Xy[[\"CLC1\",each]],maxlag=20,verbose=False)\n",
    "    for lag in range(1,20):\n",
    "        all_results.append({\"type\":each,\"lag\":lag, \"p\":rest_results[lag][0]['ssr_ftest'][1]})\n",
    "df_test=pd.DataFrame(all_results)"
   ]
  },
  {
   "cell_type": "code",
   "execution_count": 34,
   "metadata": {},
   "outputs": [
    {
     "data": {
      "text/html": [
       "<div>\n",
       "<style scoped>\n",
       "    .dataframe tbody tr th:only-of-type {\n",
       "        vertical-align: middle;\n",
       "    }\n",
       "\n",
       "    .dataframe tbody tr th {\n",
       "        vertical-align: top;\n",
       "    }\n",
       "\n",
       "    .dataframe thead th {\n",
       "        text-align: right;\n",
       "    }\n",
       "</style>\n",
       "<table border=\"1\" class=\"dataframe\">\n",
       "  <thead>\n",
       "    <tr style=\"text-align: right;\">\n",
       "      <th></th>\n",
       "      <th>type</th>\n",
       "      <th>lag</th>\n",
       "      <th>p</th>\n",
       "    </tr>\n",
       "  </thead>\n",
       "  <tbody>\n",
       "    <tr>\n",
       "      <th>525</th>\n",
       "      <td>Decay_Terrorist_Acts</td>\n",
       "      <td>13</td>\n",
       "      <td>0.000089</td>\n",
       "    </tr>\n",
       "    <tr>\n",
       "      <th>524</th>\n",
       "      <td>Decay_Terrorist_Acts</td>\n",
       "      <td>12</td>\n",
       "      <td>0.000098</td>\n",
       "    </tr>\n",
       "    <tr>\n",
       "      <th>523</th>\n",
       "      <td>Decay_Terrorist_Acts</td>\n",
       "      <td>11</td>\n",
       "      <td>0.000108</td>\n",
       "    </tr>\n",
       "    <tr>\n",
       "      <th>228</th>\n",
       "      <td>Decay_Topic2</td>\n",
       "      <td>1</td>\n",
       "      <td>0.000147</td>\n",
       "    </tr>\n",
       "    <tr>\n",
       "      <th>133</th>\n",
       "      <td>Topic2</td>\n",
       "      <td>1</td>\n",
       "      <td>0.000172</td>\n",
       "    </tr>\n",
       "    <tr>\n",
       "      <th>526</th>\n",
       "      <td>Decay_Terrorist_Acts</td>\n",
       "      <td>14</td>\n",
       "      <td>0.000264</td>\n",
       "    </tr>\n",
       "    <tr>\n",
       "      <th>291</th>\n",
       "      <td>Decay_Topic5</td>\n",
       "      <td>7</td>\n",
       "      <td>0.000268</td>\n",
       "    </tr>\n",
       "    <tr>\n",
       "      <th>410</th>\n",
       "      <td>Terrorist_Acts</td>\n",
       "      <td>12</td>\n",
       "      <td>0.000278</td>\n",
       "    </tr>\n",
       "    <tr>\n",
       "      <th>413</th>\n",
       "      <td>Terrorist_Acts</td>\n",
       "      <td>15</td>\n",
       "      <td>0.000323</td>\n",
       "    </tr>\n",
       "    <tr>\n",
       "      <th>417</th>\n",
       "      <td>Terrorist_Acts</td>\n",
       "      <td>19</td>\n",
       "      <td>0.000358</td>\n",
       "    </tr>\n",
       "    <tr>\n",
       "      <th>204</th>\n",
       "      <td>Topic5</td>\n",
       "      <td>15</td>\n",
       "      <td>0.000364</td>\n",
       "    </tr>\n",
       "    <tr>\n",
       "      <th>527</th>\n",
       "      <td>Decay_Terrorist_Acts</td>\n",
       "      <td>15</td>\n",
       "      <td>0.000383</td>\n",
       "    </tr>\n",
       "    <tr>\n",
       "      <th>207</th>\n",
       "      <td>Topic5</td>\n",
       "      <td>18</td>\n",
       "      <td>0.000426</td>\n",
       "    </tr>\n",
       "    <tr>\n",
       "      <th>412</th>\n",
       "      <td>Terrorist_Acts</td>\n",
       "      <td>14</td>\n",
       "      <td>0.000438</td>\n",
       "    </tr>\n",
       "    <tr>\n",
       "      <th>190</th>\n",
       "      <td>Topic5</td>\n",
       "      <td>1</td>\n",
       "      <td>0.000448</td>\n",
       "    </tr>\n",
       "    <tr>\n",
       "      <th>414</th>\n",
       "      <td>Terrorist_Acts</td>\n",
       "      <td>16</td>\n",
       "      <td>0.000449</td>\n",
       "    </tr>\n",
       "    <tr>\n",
       "      <th>411</th>\n",
       "      <td>Terrorist_Acts</td>\n",
       "      <td>13</td>\n",
       "      <td>0.000456</td>\n",
       "    </tr>\n",
       "    <tr>\n",
       "      <th>300</th>\n",
       "      <td>Decay_Topic5</td>\n",
       "      <td>16</td>\n",
       "      <td>0.000463</td>\n",
       "    </tr>\n",
       "    <tr>\n",
       "      <th>301</th>\n",
       "      <td>Decay_Topic5</td>\n",
       "      <td>17</td>\n",
       "      <td>0.000468</td>\n",
       "    </tr>\n",
       "    <tr>\n",
       "      <th>297</th>\n",
       "      <td>Decay_Topic5</td>\n",
       "      <td>13</td>\n",
       "      <td>0.000504</td>\n",
       "    </tr>\n",
       "  </tbody>\n",
       "</table>\n",
       "</div>"
      ],
      "text/plain": [
       "                      type  lag         p\n",
       "525  Decay_Terrorist_Acts    13  0.000089\n",
       "524  Decay_Terrorist_Acts    12  0.000098\n",
       "523  Decay_Terrorist_Acts    11  0.000108\n",
       "228           Decay_Topic2    1  0.000147\n",
       "133                 Topic2    1  0.000172\n",
       "526  Decay_Terrorist_Acts    14  0.000264\n",
       "291           Decay_Topic5    7  0.000268\n",
       "410        Terrorist_Acts    12  0.000278\n",
       "413        Terrorist_Acts    15  0.000323\n",
       "417        Terrorist_Acts    19  0.000358\n",
       "204                 Topic5   15  0.000364\n",
       "527  Decay_Terrorist_Acts    15  0.000383\n",
       "207                 Topic5   18  0.000426\n",
       "412        Terrorist_Acts    14  0.000438\n",
       "190                 Topic5    1  0.000448\n",
       "414        Terrorist_Acts    16  0.000449\n",
       "411        Terrorist_Acts    13  0.000456\n",
       "300           Decay_Topic5   16  0.000463\n",
       "301           Decay_Topic5   17  0.000468\n",
       "297           Decay_Topic5   13  0.000504"
      ]
     },
     "execution_count": 34,
     "metadata": {},
     "output_type": "execute_result"
    }
   ],
   "source": [
    "df_test.sort_values(\"p\")[:20]"
   ]
  },
  {
   "cell_type": "code",
   "execution_count": null,
   "metadata": {},
   "outputs": [],
   "source": [
    "# feature_name=\"day\"\n",
    "# df_selected=df_Xy #[[feature_name,'CLC1']]"
   ]
  },
  {
   "cell_type": "code",
   "execution_count": 36,
   "metadata": {},
   "outputs": [],
   "source": [
    "# grangercausalitytests(df_Xy[[\"CLC1\",\"CLC1\"]],maxlag=20,verbose=False)"
   ]
  },
  {
   "cell_type": "code",
   "execution_count": null,
   "metadata": {},
   "outputs": [],
   "source": [
    "# feature selection with Granger\n",
    "# df_g_test=df.sort_values(\"p\")\n",
    "# selected_features_series=[]\n",
    "# for idx,each in df_g_test.iterrows():\n",
    "#     series=df_Xy[each[\"type\"]].shift(each[\"lag\"])\n",
    "#     series.name=f\"{each['type']}(t-{each['lag']})\"\n",
    "#     selected_features_series.append(series)\n",
    "# df_selected=pd.concat(selected_features_series,axis=1).dropna()\n",
    "# df_selected.columns[:]"
   ]
  },
  {
   "cell_type": "code",
   "execution_count": null,
   "metadata": {},
   "outputs": [],
   "source": [
    "df_selected[df_selected.columns[:1]].shape"
   ]
  },
  {
   "cell_type": "markdown",
   "metadata": {},
   "source": [
    "## Features processing"
   ]
  },
  {
   "cell_type": "code",
   "execution_count": 163,
   "metadata": {},
   "outputs": [],
   "source": [
    "# preserve original price for inverting prediction\n",
    "df_original_price = df_Xy[[\"CLC1\"]].shift(h).dropna()\n",
    "# 1st order DIFF\n",
    "df_selected = df_Xy.diff().dropna()\n",
    "df_nodiff = df_Xy.dropna()\n",
    "# shift back $past days\n",
    "past=5\n",
    "df_selected = series_to_supervised(df_selected, past, h)\n",
    "df_nodiff = series_to_supervised(df_nodiff, past, h)\n",
    "# df_selected = series_to_supervised(df_emb, past, h)\n",
    "\n",
    "df_original_price = df_original_price[df_original_price.index.isin(df_selected.index)]\n",
    "# remove current day features for forecast\n",
    "for each in df_selected.columns[:-1]:\n",
    "    if \"(t)\" in each:\n",
    "        df_selected.drop(each, axis=1, inplace=True)\n",
    "        df_nodiff.drop(each, axis=1, inplace=True)\n",
    "        \n",
    "\n",
    "# add time feature without shift \n",
    "df_selected=pd.concat([df_dt,df_selected],axis=1).dropna()\n",
    "df_nodiff=pd.concat([df_dt,df_nodiff],axis=1).dropna()\n",
    "df_nodiff=df_nodiff[df_nodiff.index.isin(df_selected.index)]"
   ]
  },
  {
   "cell_type": "code",
   "execution_count": 164,
   "metadata": {},
   "outputs": [],
   "source": [
    "# # stationary test after diff\n",
    "# from statsmodels.tsa.stattools import adfuller\n",
    "# for i in range(df_selected.shape[1]):\n",
    "#     test_result=adfuller(df_selected[df_selected.columns[i]].to_numpy())\n",
    "#     if test_result[1]>0.05:\n",
    "#         print(f\"{df_selected.columns[i]}: {test_result[1]}\")"
   ]
  },
  {
   "cell_type": "code",
   "execution_count": 165,
   "metadata": {},
   "outputs": [
    {
     "data": {
      "text/plain": [
       "Index(['News(t-5)', 'News(t-4)', 'News(t-3)', 'News(t-2)', 'News(t-1)'], dtype='object')"
      ]
     },
     "execution_count": 165,
     "metadata": {},
     "output_type": "execute_result"
    }
   ],
   "source": [
    "# EMB\n",
    "df_selected_emb = series_to_supervised(df_emb, past, h)\n",
    "for each in df_selected_emb.columns:\n",
    "    if \"(t)\" in each:\n",
    "        df_selected_emb.drop(each, axis=1, inplace=True)\n",
    "df_selected_emb = df_selected_emb[df_selected_emb.index.isin(df_selected.index)]\n",
    "df_selected_emb.columns"
   ]
  },
  {
   "cell_type": "code",
   "execution_count": 166,
   "metadata": {},
   "outputs": [],
   "source": [
    "# # event-EMB\n",
    "# df_selected_emb = series_to_supervised(df_event_emb[[\"event\"]], past, h)\n",
    "# for each in df_selected_emb.columns:\n",
    "#     if \"(t)\" in each:\n",
    "#         df_selected_emb.drop(each, axis=1, inplace=True)\n",
    "# df_selected_emb = df_selected_emb[df_selected_emb.index.isin(df_selected.index)]\n",
    "# df_selected_emb.columns"
   ]
  },
  {
   "cell_type": "code",
   "execution_count": 167,
   "metadata": {},
   "outputs": [
    {
     "name": "stdout",
     "output_type": "stream",
     "text": [
      "(2008, 149) | (2008, 1)\n",
      "(2008, 149) | (2008, 149)\n",
      "(2008, 149) | (2008, 5)\n"
     ]
    },
    {
     "data": {
      "text/plain": [
       "True"
      ]
     },
     "execution_count": 167,
     "metadata": {},
     "output_type": "execute_result"
    }
   ],
   "source": [
    "df_selected=df_selected[df_selected.index.isin(df_selected_emb.index)]\n",
    "df_nodiff=df_nodiff[df_nodiff.index.isin(df_selected_emb.index)]\n",
    "df_original_price=df_original_price[df_original_price.index.isin(df_selected_emb.index)]\n",
    "print(f\"{df_selected.shape} | {df_original_price.shape}\")\n",
    "print(f\"{df_selected.shape} | {df_nodiff.shape}\")\n",
    "print(f\"{df_selected.shape} | {df_selected_emb.shape}\")\n",
    "(df_selected_emb.index==df_selected.index).all()\n",
    "# df_selected.head(1)"
   ]
  },
  {
   "cell_type": "code",
   "execution_count": 168,
   "metadata": {},
   "outputs": [
    {
     "name": "stdout",
     "output_type": "stream",
     "text": [
      "(2008, 5, 900) | (2008, 5, 900)\n"
     ]
    }
   ],
   "source": [
    "# emb =np.array([each.tolist() for each in df_emb.to_numpy()])\n",
    "emb= df_selected_emb.to_numpy()\n",
    "emb =np.array([each.tolist() for each in emb])\n",
    "emb =np.array([each.tolist() for each in emb])\n",
    "print(f\"{emb.shape} | {emb.shape}\")"
   ]
  },
  {
   "cell_type": "code",
   "execution_count": 294,
   "metadata": {},
   "outputs": [
    {
     "data": {
      "text/plain": [
       "'(2008, 148) |(2008, 148) |(2008, 1) | (2008, 1)'"
      ]
     },
     "execution_count": 294,
     "metadata": {},
     "output_type": "execute_result"
    }
   ],
   "source": [
    "raw_X = df_selected.to_numpy()[:, :-1]\n",
    "no_diff_raw_X = df_nodiff.to_numpy()[:, :-1]\n",
    "y =  df_selected.to_numpy()[:, -1].reshape(-1, 1) \n",
    "no_diff_y =  df_nodiff.to_numpy()[:, -1].reshape(-1, 1) \n",
    "# y = df_Xy[df_Xy.index.isin(df_selected.index)].to_numpy()[:, -1].reshape(-1, 1)\n",
    "# y=df_WTI[df_WTI.index.isin(df_selected.index)][\"CLC1\"].to_numpy().reshape(-1, 1)\n",
    "f\"{raw_X.shape} |{no_diff_raw_X.shape} |{y.shape} | {no_diff_y.shape}\""
   ]
  },
  {
   "cell_type": "code",
   "execution_count": 170,
   "metadata": {},
   "outputs": [],
   "source": [
    "# for embedding\n",
    "# raw_X=np.array([each.tolist() for each in raw_X])\n",
    "# raw_X=np.array([each.tolist() for each in raw_X])\n",
    "# raw_X.shape\n",
    "# X=raw_X"
   ]
  },
  {
   "cell_type": "code",
   "execution_count": 171,
   "metadata": {},
   "outputs": [],
   "source": [
    "# dump for ARIMA\n",
    "# df_dump=df_Xy[df_Xy.index.isin(df_selected.index)]\n",
    "# df_dump.to_pickle(\"df_dump.pkl\")\n",
    "# df_Xy=pd.read_pickle(\"df_dump.pkl\")"
   ]
  },
  {
   "cell_type": "markdown",
   "metadata": {},
   "source": [
    "## Feature Selection"
   ]
  },
  {
   "cell_type": "code",
   "execution_count": 172,
   "metadata": {},
   "outputs": [],
   "source": [
    "from sklearn.feature_selection import mutual_info_regression,RFE,RFECV,SelectFromModel,SequentialFeatureSelector,chi2,SelectKBest,f_regression,VarianceThreshold,r_regression\n",
    "from sklearn.linear_model import Ridge,Lasso\n",
    "from sklearn.tree import DecisionTreeRegressor,ExtraTreeRegressor\n",
    "from sklearn.svm import LinearSVR,SVR"
   ]
  },
  {
   "cell_type": "code",
   "execution_count": 173,
   "metadata": {},
   "outputs": [
    {
     "name": "stdout",
     "output_type": "stream",
     "text": [
      "(2008, 148) | (2008, 1)\n",
      "(2008, 148) | (2008, 1)\n"
     ]
    }
   ],
   "source": [
    "print(f\"{raw_X.shape} | {y.shape}\")\n",
    "print(f\"{no_diff_raw_X.shape} | {no_diff_y.shape}\")"
   ]
  },
  {
   "cell_type": "code",
   "execution_count": 174,
   "metadata": {},
   "outputs": [],
   "source": [
    "from tsfel.feature_extraction.features import entropy,abs_energy,autocorr,neighbourhood_peaks\n",
    "# tsfel.feature_extraction.features.abs_energy()\n",
    "def tswrapper(a,b):\n",
    "    # a=MinMaxScaler().fit_transform(raw_X)\n",
    "    result=pd.DataFrame(a).apply(autocorr).to_numpy()\n",
    "    return result"
   ]
  },
  {
   "cell_type": "code",
   "execution_count": 175,
   "metadata": {},
   "outputs": [],
   "source": [
    "# selector based\n",
    "# estimator = Lasso(random_state=42)\n",
    "# estimator = DecisionTreeRegressor(random_state=42)\n",
    "estimator = Ridge(random_state=42)\n",
    "# estimator = LinearRegression()\n",
    "# estimator = LinearSVR(tol=0.001,random_state=42)\n",
    "selector = RFE(estimator,n_features_to_select=10,step=1)\n",
    "# selector = RFECV(estimator, min_features_to_select=20, cv=get_TS_cv(),step=1,n_jobs=-1)\n",
    "# selector=SelectFromModel(estimator,max_features=20)\n",
    "# selector=SequentialFeatureSelector(estimator,n_features_to_select=20,direction='forward',n_jobs=-1,cv=get_TS_cv())\n",
    "# selector=SelectKBest(r_regression,k=20)\n",
    "# selector=SelectKBest(tswrapper,k=20)\n",
    "# selector=VarianceThreshold(3.21)\n",
    "scaled_raw_X=MinMaxScaler().fit_transform(no_diff_raw_X)\n",
    "# scaled_y=MinMaxScaler().fit_transform(y)\n",
    "# selector = selector.fit(scaled_raw_X,scaled_y.ravel())\n",
    "selector = selector.fit(scaled_raw_X,no_diff_y.ravel())\n",
    "# selector = selector.fit(no_diff_raw_X,no_diff_y.ravel())"
   ]
  },
  {
   "cell_type": "code",
   "execution_count": 292,
   "metadata": {},
   "outputs": [
    {
     "name": "stdout",
     "output_type": "stream",
     "text": [
      "(2008, 10) | (2013,)\n",
      "(2008, 10) | (2008, 1)\n"
     ]
    },
    {
     "data": {
      "text/plain": [
       "Index(['CLC1(t-5)', 'CLC1(t-4)', 'CLC1(t-3)', 'Combined_Sentiment(t-2)',\n",
       "       'CLC1(t-2)', 'Combined_Sentiment(t-1)', 'Decay_Topic5(t-1)',\n",
       "       'Decay_War_Acts(t-1)', 'Decay_Terrorist_Acts (t-1)', 'CLC1(t-1)'],\n",
       "      dtype='object')"
      ]
     },
     "execution_count": 292,
     "metadata": {},
     "output_type": "execute_result"
    }
   ],
   "source": [
    "X = raw_X[:, selector.get_support()]\n",
    "no_diff_X = no_diff_raw_X[:, selector.get_support()]\n",
    "# X = raw_X\n",
    "feature_name=f\"_{X.shape[-1]}\"\n",
    "print(f\"{X.shape} | {y.shape}\")\n",
    "print(f\"{no_diff_X.shape} | {no_diff_y.shape}\")\n",
    "df_selected.columns[:-1][selector.get_support()]"
   ]
  },
  {
   "cell_type": "code",
   "execution_count": 177,
   "metadata": {},
   "outputs": [],
   "source": [
    "# from sklearn.decomposition import PCA,FastICA,FactorAnalysis,NMF\n",
    "# scaled_raw_X=MinMaxScaler((1,100)).fit_transform(raw_X)\n",
    "# # pca = PCA(n_components=150,svd_solver='full')\n",
    "# pca = NMF(n_components=150,max_iter=1000)\n",
    "# # decomposer = FactorAnalysis(n_components=7)\n",
    "# X=pca.fit_transform(scaled_raw_X)\n",
    "# feature_name=f\"NMF_{X.shape[-1]}\"\n",
    "# X.shape"
   ]
  },
  {
   "cell_type": "code",
   "execution_count": 178,
   "metadata": {},
   "outputs": [],
   "source": [
    "# X=raw_X\n",
    "# X.shape"
   ]
  },
  {
   "cell_type": "markdown",
   "metadata": {},
   "source": [
    "## Linear Model"
   ]
  },
  {
   "cell_type": "code",
   "execution_count": 179,
   "metadata": {},
   "outputs": [],
   "source": [
    "# y=df_Xy['CLC1'].to_numpy().ravel()\n",
    "# # X=df_Xy[['CLC2','CLC3','CLC4']].to_numpy()\n",
    "# X=df_geoidx.to_numpy()\n",
    "# # X=df_Xy[['CLC2','CLC3','CLC4']].to_numpy()\n",
    "# f\"{X.shape} | {y.shape}\""
   ]
  },
  {
   "cell_type": "code",
   "execution_count": 180,
   "metadata": {},
   "outputs": [],
   "source": [
    "# # X=np.random.random((2014, 12))\n",
    "# X=np.zeros((2014, 12))"
   ]
  },
  {
   "cell_type": "code",
   "execution_count": 181,
   "metadata": {},
   "outputs": [
    {
     "name": "stdout",
     "output_type": "stream",
     "text": [
      "\n",
      "Forecast Error (5-fold cross-validated performance):\n",
      "Ridge:\n",
      "MAE = 1.257 +/- 0.358\n",
      "RMSE = 1.623 +/- 0.509\n",
      "MAPE = 0.021 +/- 0.007\n",
      "\n",
      "Ridge,1.256953,1.623090,0.021206\n"
     ]
    }
   ],
   "source": [
    "from sklearn.svm import SVR, LinearSVR\n",
    "from sklearn.tree import DecisionTreeRegressor\n",
    "from sklearn.kernel_ridge import KernelRidge\n",
    "from sklearn.linear_model import LinearRegression, ARDRegression, SGDRegressor, ElasticNet, Lars, Lasso, GammaRegressor, TweedieRegressor, PoissonRegressor, Ridge, BayesianRidge\n",
    "from sklearn.ensemble import AdaBoostRegressor,RandomForestRegressor\n",
    "\n",
    "lin_model=Ridge(random_state =42)    #LinearRegression,Ridge,LinearSVR\n",
    "# lin_model=LinearRegression()  \n",
    "model_name=lin_model.__class__.__name__\n",
    "\n",
    "# msg=f\"{model_name}_{feature_name}\"\n",
    "msg=f\"{model_name}\"\n",
    "\n",
    "X_scaler = MinMaxScaler()\n",
    "# scaled_X=X_scaler.fit_transform(X)\n",
    "scaled_X=X_scaler.fit_transform(no_diff_X)\n",
    "# scaled_X=X\n",
    "\n",
    "cv_results = cross_validate(lin_model,\n",
    "                                scaled_X,\n",
    "                                no_diff_y,\n",
    "                                scoring=[\n",
    "                                    'neg_mean_absolute_error',\n",
    "                                    'neg_root_mean_squared_error',\n",
    "                                    'neg_mean_absolute_percentage_error'\n",
    "                                ],\n",
    "                                cv=get_TS_cv(),\n",
    "                                n_jobs=-1)\n",
    "mae = -cv_results[\"test_neg_mean_absolute_error\"]\n",
    "rmse = -cv_results[\"test_neg_root_mean_squared_error\"]\n",
    "mape = -cv_results[\"test_neg_mean_absolute_percentage_error\"]\n",
    "k = 5\n",
    "print(f\"\"\"\n",
    "Forecast Error ({k}-fold cross-validated performance):\n",
    "{lin_model.__class__.__name__}:\n",
    "MAE = {mae.mean():.3f} +/- {mae.std():.3f}\n",
    "RMSE = {rmse.mean():.3f} +/- {rmse.std():.3f}\n",
    "MAPE = {mape.mean():.3f} +/- {mape.std():.3f}\n",
    "\"\"\")\n",
    "print(f\"{msg},{mae.mean():.6f},{rmse.mean():.6f},{mape.mean():.6f}\")"
   ]
  },
  {
   "cell_type": "markdown",
   "metadata": {},
   "source": [
    "## Model"
   ]
  },
  {
   "cell_type": "code",
   "execution_count": 182,
   "metadata": {},
   "outputs": [],
   "source": [
    "from keras.layers import Reshape,MaxPooling2D,Bidirectional,ConvLSTM2D\n",
    "import tensorflow as tf\n",
    "from tensorflow import keras\n",
    "from keras.models import Sequential\n",
    "from keras.layers import Dense\n",
    "from keras.layers import LSTM\n",
    "from keras.layers import GRU\n",
    "from keras.layers import SimpleRNN \n",
    "from keras.layers import Conv2D,Conv3D\n",
    "from keras.layers import Dropout\n",
    "from keras.layers import Input\n",
    "from keras.layers import Flatten\n",
    "from keras.models import Model\n",
    "from keras.layers.merge import concatenate\n",
    "from tensorflow.keras.optimizers import Adam\n",
    "tf.keras.backend.clear_session()\n",
    "physical_devices = tf.config.list_physical_devices('GPU') \n",
    "tf.config.experimental.set_memory_growth(physical_devices[0], True)\n",
    "tf.random.set_seed(seed_value)"
   ]
  },
  {
   "cell_type": "markdown",
   "metadata": {},
   "source": [
    "### Hold-out"
   ]
  },
  {
   "cell_type": "code",
   "execution_count": 557,
   "metadata": {},
   "outputs": [
    {
     "data": {
      "text/plain": [
       "'(2008, 10) | (2008, 1) |(2008, 1)| (2008, 5, 900)'"
      ]
     },
     "execution_count": 557,
     "metadata": {},
     "output_type": "execute_result"
    }
   ],
   "source": [
    "t_y=df_ARMA[df_ARMA.index.isin(df_selected.index)].to_numpy()\n",
    "t_y=no_diff_y-t_y\n",
    "# y=df_WTI[df_WTI.index.isin(df_ARMA.index)][\"CLC1\"].to_numpy()\n",
    "# X=X.reshape(-1,10,900)\n",
    "# X=X.reshape(-1,10,3,900)\n",
    "# emb=event_emb\n",
    "f\"{X.shape} | {y.shape} |{t_y.shape}| {emb.shape}\""
   ]
  },
  {
   "cell_type": "code",
   "execution_count": 558,
   "metadata": {},
   "outputs": [
    {
     "name": "stdout",
     "output_type": "stream",
     "text": [
      "train_X: (1333, 1, 10)\t val_X: (5, 1, 10)\t test_X:(670, 1, 10)\n",
      "train_emb: (1333, 5, 900)\t val_emb: (5, 5, 900)\t test_emb:(670, 5, 900)\n",
      "train_y: (1333, 1)\t val_y: (5, 1) test_y:(670, 1)\n",
      "train_t_y: (1333, 1)\t val_t_y: (5, 1) test_t_y:(670, 1)\n"
     ]
    }
   ],
   "source": [
    "length=X.shape[0]\n",
    "train_size=int(length*2/3)\n",
    "# val_size=int(train_size*0.1)\n",
    "val_size=5\n",
    "step_size=1\n",
    "\n",
    "# train_X=no_diff_X[:train_size]\n",
    "train_X=X[:train_size]\n",
    "train_emb=emb[:train_size,:,:]\n",
    "train_t_y=t_y[:train_size,:]\n",
    "train_y=y[:train_size,:]\n",
    "\n",
    "# test_X=no_diff_X[train_size:]\n",
    "test_X=X[train_size:]\n",
    "test_emb=emb[train_size:,:,:]\n",
    "test_t_y=t_y[train_size:,:]\n",
    "test_y=y[train_size:,:]\n",
    "\n",
    "val_X=train_X[-val_size:]\n",
    "val_emb=train_emb[-val_size:,:,:]\n",
    "val_t_y=train_y[-val_size:,:]\n",
    "val_y=train_y[-val_size:,:]\n",
    "\n",
    "train_X=train_X[:-val_size]\n",
    "train_emb=train_emb[:-val_size,:,:]\n",
    "train_t_y=train_y[:-val_size,:]\n",
    "train_y=train_y[:-val_size,:]\n",
    "\n",
    "\n",
    "X_scaler = MinMaxScaler()\n",
    "X_scaler.fit(train_X)\n",
    "t_y_scaler = MinMaxScaler()\n",
    "t_y_scaler.fit(train_t_y)\n",
    "y_scaler = MinMaxScaler(feature_range=(1, 100))\n",
    "# y_scaler = MinMaxScaler()\n",
    "y_scaler.fit(train_y)\n",
    "\n",
    "train_X=X_scaler.transform(train_X)\n",
    "test_X=X_scaler.transform(test_X)\n",
    "val_X=X_scaler.transform(val_X)\n",
    "train_y=y_scaler.transform(train_y)\n",
    "test_y=y_scaler.transform(test_y)\n",
    "val_y=y_scaler.transform(val_y)\n",
    "train_t_y=t_y_scaler.transform(train_t_y)\n",
    "test_t_y=t_y_scaler.transform(test_t_y)\n",
    "val_t_y=t_y_scaler.transform(val_t_y)\n",
    "\n",
    "train_X=train_X.reshape(train_X.shape[0],step_size,train_X.shape[-1])\n",
    "test_X=test_X.reshape(test_X.shape[0],step_size,test_X.shape[-1])\n",
    "val_X=val_X.reshape(val_X.shape[0],step_size,val_X.shape[-1])\n",
    "print(f\"train_X: {train_X.shape}\\t val_X: {val_X.shape}\\t test_X:{test_X.shape}\")\n",
    "print(f\"train_emb: {train_emb.shape}\\t val_emb: {val_emb.shape}\\t test_emb:{test_emb.shape}\")\n",
    "print(f\"train_y: {train_y.shape}\\t val_y: {val_y.shape} test_y:{test_y.shape}\")\n",
    "print(f\"train_t_y: {train_t_y.shape}\\t val_t_y: {val_t_y.shape} test_t_y:{test_t_y.shape}\")"
   ]
  },
  {
   "cell_type": "code",
   "execution_count": 559,
   "metadata": {},
   "outputs": [],
   "source": [
    "# from nbeats_keras.model import NBeatsNet\n",
    "# model = NBeatsNet(\n",
    "#     backcast_length=1, forecast_length=1,\n",
    "#     stack_types=(NBeatsNet.GENERIC_BLOCK, NBeatsNet.GENERIC_BLOCK),\n",
    "#     nb_blocks_per_stack=2, thetas_dim=(4, 4), share_weights_in_stack=True,\n",
    "#     hidden_layer_units=128\n",
    "# )\n",
    "# model.compile(loss='mse', optimizer='adam',run_eagerly=True)\n",
    "# past=15"
   ]
  },
  {
   "cell_type": "code",
   "execution_count": 586,
   "metadata": {},
   "outputs": [],
   "source": [
    "emb_size=train_emb.shape[-1]\n",
    "emb_step=1\n",
    "emb_inputs = Input(shape=(past,emb_size))\n",
    "emb_model = Reshape((1,past,emb_step,3,300))(emb_inputs)\n",
    "emb_model = Conv3D(10,(2,1,2), activation=\"relu\",padding='valid')(emb_model)\n",
    "emb_model = Dropout(0.4)(emb_model)\n",
    "# emb_model = Conv3D(50,(3,1,2), activation=\"relu\",padding='valid')(emb_model)\n",
    "# emb_model = Dropout(0.3)(emb_model)\n",
    "# emb_model = Reshape((2,2,-1))(emb_model)\n",
    "# emb_model = Conv2D(10,(2,2), activation=\"relu\",padding='valid')(emb_model)\n",
    "# emb_model = Dropout(0.3)(emb_model)\n",
    "emb_model = Flatten()(emb_model)\n",
    "emb_model = Dense(10)(emb_model)\n",
    "emb_model = Model(inputs=emb_inputs, outputs=emb_model)\n",
    "# opt=Adam(0.0007)\n",
    "# model.compile(loss='mae', optimizer=opt)\n",
    "# emb_model.summary()"
   ]
  },
  {
   "cell_type": "code",
   "execution_count": 593,
   "metadata": {},
   "outputs": [],
   "source": [
    "# tf.keras.backend.clear_session()\n",
    "ts_inputs = Input(shape=(step_size,train_X.shape[-1]))\n",
    "ts_model=Reshape((step_size,train_X.shape[-1]))(ts_inputs)\n",
    "# ts_model=Bidirectional(GRU(300,dropout=0.33,return_sequences=True))(ts_model)\n",
    "# ts_model= Dropout(0.3)(ts_model)\n",
    "ts_model=Bidirectional(GRU(10,dropout=0.33,return_sequences=False))(ts_model)\n",
    "# ts_model= Dropout(0.4)(ts_model)\n",
    "ts_model =Dense(10)(ts_model)\n",
    "# ts_model =Dense(1)(ts_model)\n",
    "ts_model = Model(inputs=ts_inputs, outputs=ts_model)\n",
    "# ts_model.compile(loss='mae', optimizer=Adam(0.0005))\n",
    "# ts_model.compile(loss='mae', optimizer=Adam(0.0005))\n",
    "# ts_model.compile(loss='log_cosh', optimizer=Adam(0.0002))\n",
    "# ts_model = Bidirectional(GRU(500,dropout=0.1,return_sequences=False))(ts_inputs)\n",
    "# ts_model= Dropout(0.2)(ts_model)\n",
    "# model = Model(inputs=ts_inputs, outputs=ts_model)\n",
    "# opt = Adam(learning_rate=0.001)\n",
    "# ts_model.summary()"
   ]
  },
  {
   "cell_type": "code",
   "execution_count": 594,
   "metadata": {},
   "outputs": [],
   "source": [
    "arma_inputs = Input(shape=(train_t_y.shape[-1]))\n",
    "arma_model=Reshape((step_size,train_t_y.shape[-1]))(arma_inputs)\n",
    "# arma_model=Bidirectional(GRU(50,dropout=0.33,return_sequences=True))(arma_model)\n",
    "# arma_model =Dropout(0.3)(arma_model)\n",
    "arma_model=Bidirectional(GRU(10,dropout=0.33,return_sequences=False))(arma_model)\n",
    "# arma_model =Dropout(0.4)(arma_model)\n",
    "arma_model =Dense(20)(arma_model)\n",
    "arma_model = Model(inputs=arma_inputs, outputs=arma_model)\n",
    "# arma_model.compile(loss='mae', optimizer=Adam(0.0007))\n",
    "# arma_model.summary()"
   ]
  },
  {
   "cell_type": "code",
   "execution_count": 595,
   "metadata": {},
   "outputs": [],
   "source": [
    "combined_model = concatenate([arma_model.output,ts_model.output,emb_model.output])\n",
    "# combined_model= Reshape((1,-1),name='alpha')(combined_model)\n",
    "# combined_model= Bidirectional(GRU(100,dropout=0.33,return_sequences=False))(combined_model)\n",
    "# combined_model= Bidirectional(GRU(100,dropout=0.33,return_sequences=False))(combined_model)\n",
    "# combined_model = Dense(100)(combined_model)\n",
    "# combined_model = Dropout(0.3)(combined_model)\n",
    "combined_model = Dense(1)(combined_model)\n",
    "model = Model(inputs=[arma_model.input,ts_model.input,emb_model.input], outputs=combined_model)\n",
    "model.compile(loss='log_cosh', optimizer=Adam(0.0002))\n",
    "# model.compile(loss='msle', optimizer=Adam(0.0002))\n",
    "# model.compile(loss='mae', optimizer=Adam(0.0007))\n",
    "# model.compile(loss='mape', optimizer=Adam(0.0005))\n",
    "# model.summary()"
   ]
  },
  {
   "cell_type": "code",
   "execution_count": 596,
   "metadata": {},
   "outputs": [
    {
     "name": "stdout",
     "output_type": "stream",
     "text": [
      "Epoch 1/100\n",
      "34/34 [==============================] - 4s 26ms/step - loss: 61.6952 - val_loss: 63.4898\n",
      "Epoch 2/100\n",
      "34/34 [==============================] - 0s 4ms/step - loss: 57.6935 - val_loss: 59.4917\n",
      "Epoch 3/100\n",
      "34/34 [==============================] - 0s 4ms/step - loss: 53.7863 - val_loss: 55.3863\n",
      "Epoch 4/100\n",
      "34/34 [==============================] - 0s 4ms/step - loss: 49.5946 - val_loss: 50.7841\n",
      "Epoch 5/100\n",
      "34/34 [==============================] - 0s 4ms/step - loss: 44.8777 - val_loss: 45.3836\n",
      "Epoch 6/100\n",
      "34/34 [==============================] - 0s 4ms/step - loss: 39.2310 - val_loss: 38.8741\n",
      "Epoch 7/100\n",
      "34/34 [==============================] - 0s 4ms/step - loss: 32.7338 - val_loss: 31.0241\n",
      "Epoch 8/100\n",
      "34/34 [==============================] - 0s 4ms/step - loss: 24.6191 - val_loss: 21.6316\n",
      "Epoch 9/100\n",
      "34/34 [==============================] - 0s 4ms/step - loss: 16.1425 - val_loss: 11.3696\n",
      "Epoch 10/100\n",
      "34/34 [==============================] - 0s 4ms/step - loss: 10.1720 - val_loss: 4.1020\n",
      "Epoch 11/100\n",
      "34/34 [==============================] - 0s 4ms/step - loss: 8.5491 - val_loss: 3.3704\n",
      "Epoch 12/100\n",
      "34/34 [==============================] - 0s 4ms/step - loss: 8.2890 - val_loss: 3.2037\n",
      "Epoch 13/100\n",
      "34/34 [==============================] - 0s 4ms/step - loss: 7.9346 - val_loss: 3.2609\n",
      "Epoch 14/100\n",
      "34/34 [==============================] - 0s 4ms/step - loss: 7.8628 - val_loss: 3.3288\n",
      "Epoch 15/100\n",
      "34/34 [==============================] - 0s 4ms/step - loss: 7.7977 - val_loss: 3.2896\n",
      "Epoch 16/100\n",
      "34/34 [==============================] - 0s 4ms/step - loss: 7.9047 - val_loss: 3.4555\n",
      "Epoch 17/100\n",
      "34/34 [==============================] - 0s 4ms/step - loss: 7.6616 - val_loss: 3.5231\n",
      "Epoch 18/100\n",
      "34/34 [==============================] - 0s 4ms/step - loss: 7.8770 - val_loss: 3.5614\n",
      "Epoch 19/100\n",
      "34/34 [==============================] - 0s 4ms/step - loss: 7.5560 - val_loss: 3.5694\n",
      "Epoch 20/100\n",
      "34/34 [==============================] - 0s 4ms/step - loss: 7.7220 - val_loss: 3.6368\n",
      "Epoch 21/100\n",
      "34/34 [==============================] - 0s 4ms/step - loss: 7.4947 - val_loss: 3.7101\n",
      "Epoch 22/100\n",
      "34/34 [==============================] - 0s 4ms/step - loss: 7.6222 - val_loss: 3.6711\n",
      "Epoch 23/100\n",
      "34/34 [==============================] - 0s 3ms/step - loss: 7.7330 - val_loss: 3.6946\n",
      "Epoch 24/100\n",
      "34/34 [==============================] - 0s 3ms/step - loss: 7.5214 - val_loss: 3.7519\n",
      "Epoch 25/100\n",
      "34/34 [==============================] - 0s 3ms/step - loss: 7.3123 - val_loss: 3.8748\n",
      "Epoch 26/100\n",
      "34/34 [==============================] - 0s 3ms/step - loss: 7.6768 - val_loss: 3.8501\n",
      "Epoch 27/100\n",
      "34/34 [==============================] - 0s 3ms/step - loss: 7.6218 - val_loss: 4.0721\n",
      "Epoch 28/100\n",
      "34/34 [==============================] - 0s 3ms/step - loss: 7.3305 - val_loss: 3.9632\n",
      "Epoch 29/100\n",
      "34/34 [==============================] - 0s 3ms/step - loss: 7.4791 - val_loss: 3.9711\n",
      "Epoch 30/100\n",
      "34/34 [==============================] - 0s 3ms/step - loss: 7.4399 - val_loss: 4.1101\n",
      "Epoch 31/100\n",
      "34/34 [==============================] - 0s 3ms/step - loss: 7.4047 - val_loss: 4.1598\n",
      "Epoch 32/100\n",
      "34/34 [==============================] - 0s 3ms/step - loss: 7.2937 - val_loss: 4.1742\n",
      "Epoch 33/100\n",
      "34/34 [==============================] - 0s 3ms/step - loss: 6.8714 - val_loss: 4.3533\n",
      "Epoch 34/100\n",
      "34/34 [==============================] - 0s 3ms/step - loss: 7.2871 - val_loss: 4.1472\n",
      "Epoch 35/100\n",
      "34/34 [==============================] - 0s 3ms/step - loss: 7.1946 - val_loss: 4.3839\n",
      "Epoch 36/100\n",
      "34/34 [==============================] - 0s 3ms/step - loss: 7.2599 - val_loss: 4.2243\n",
      "Epoch 37/100\n",
      "34/34 [==============================] - 0s 3ms/step - loss: 7.2071 - val_loss: 4.5416\n",
      "Epoch 38/100\n",
      "34/34 [==============================] - 0s 3ms/step - loss: 7.2937 - val_loss: 4.4810\n",
      "Epoch 39/100\n",
      "34/34 [==============================] - 0s 3ms/step - loss: 7.0254 - val_loss: 4.2521\n",
      "Epoch 40/100\n",
      "34/34 [==============================] - 0s 3ms/step - loss: 7.0609 - val_loss: 4.1873\n",
      "Epoch 41/100\n",
      "34/34 [==============================] - 0s 3ms/step - loss: 7.0515 - val_loss: 4.4943\n",
      "Epoch 42/100\n",
      "34/34 [==============================] - 0s 3ms/step - loss: 7.0384 - val_loss: 4.2278\n",
      "Epoch 43/100\n",
      "34/34 [==============================] - 0s 3ms/step - loss: 7.2146 - val_loss: 4.6092\n",
      "Epoch 44/100\n",
      "34/34 [==============================] - 0s 3ms/step - loss: 7.1728 - val_loss: 4.4154\n",
      "Epoch 45/100\n",
      "34/34 [==============================] - 0s 3ms/step - loss: 7.0454 - val_loss: 4.3087\n",
      "Epoch 46/100\n",
      "34/34 [==============================] - 0s 3ms/step - loss: 7.0654 - val_loss: 4.5912\n",
      "Epoch 47/100\n",
      "34/34 [==============================] - 0s 3ms/step - loss: 6.8942 - val_loss: 4.5132\n",
      "Epoch 48/100\n",
      "34/34 [==============================] - 0s 3ms/step - loss: 6.7823 - val_loss: 4.7157\n",
      "Epoch 49/100\n",
      "34/34 [==============================] - 0s 3ms/step - loss: 7.0776 - val_loss: 4.4953\n",
      "Epoch 50/100\n",
      "34/34 [==============================] - 0s 3ms/step - loss: 6.9029 - val_loss: 4.0657\n",
      "Epoch 51/100\n",
      "34/34 [==============================] - 0s 3ms/step - loss: 6.8571 - val_loss: 4.1689\n",
      "Epoch 52/100\n",
      "34/34 [==============================] - 0s 3ms/step - loss: 6.7954 - val_loss: 4.2591\n",
      "Epoch 53/100\n",
      "34/34 [==============================] - 0s 3ms/step - loss: 6.7690 - val_loss: 4.1345\n",
      "Epoch 54/100\n",
      "34/34 [==============================] - 0s 3ms/step - loss: 6.6855 - val_loss: 4.0884\n",
      "Epoch 55/100\n",
      "34/34 [==============================] - 0s 3ms/step - loss: 6.7913 - val_loss: 4.4632\n",
      "Epoch 56/100\n",
      "34/34 [==============================] - 0s 3ms/step - loss: 6.8950 - val_loss: 4.2671\n",
      "Epoch 57/100\n",
      "34/34 [==============================] - 0s 3ms/step - loss: 6.6837 - val_loss: 4.4088\n",
      "Epoch 58/100\n",
      "34/34 [==============================] - 0s 3ms/step - loss: 6.6813 - val_loss: 4.3923\n",
      "Epoch 59/100\n",
      "34/34 [==============================] - 0s 3ms/step - loss: 6.7387 - val_loss: 4.4074\n",
      "Epoch 60/100\n",
      "34/34 [==============================] - 0s 3ms/step - loss: 6.7496 - val_loss: 4.5829\n",
      "Epoch 61/100\n",
      "34/34 [==============================] - 0s 3ms/step - loss: 6.9640 - val_loss: 4.2341\n",
      "Epoch 62/100\n",
      "34/34 [==============================] - 0s 3ms/step - loss: 6.8329 - val_loss: 4.1182\n",
      "Epoch 63/100\n",
      "34/34 [==============================] - 0s 3ms/step - loss: 6.5922 - val_loss: 4.7306\n",
      "Epoch 64/100\n",
      "34/34 [==============================] - 0s 3ms/step - loss: 6.5714 - val_loss: 4.4428\n",
      "Epoch 65/100\n",
      "34/34 [==============================] - 0s 3ms/step - loss: 6.7230 - val_loss: 4.0032\n",
      "Epoch 66/100\n",
      "34/34 [==============================] - 0s 3ms/step - loss: 6.6528 - val_loss: 4.0405\n",
      "Epoch 67/100\n",
      "34/34 [==============================] - 0s 3ms/step - loss: 6.7279 - val_loss: 4.1644\n",
      "Epoch 68/100\n",
      "34/34 [==============================] - 0s 3ms/step - loss: 6.6491 - val_loss: 4.2017\n",
      "Epoch 69/100\n",
      "34/34 [==============================] - 0s 3ms/step - loss: 6.5587 - val_loss: 4.1282\n",
      "Epoch 70/100\n",
      "34/34 [==============================] - 0s 3ms/step - loss: 6.6781 - val_loss: 4.5031\n",
      "Epoch 71/100\n",
      "34/34 [==============================] - 0s 3ms/step - loss: 6.5870 - val_loss: 4.2038\n",
      "Epoch 72/100\n",
      "34/34 [==============================] - 0s 3ms/step - loss: 6.5150 - val_loss: 4.0686\n",
      "Epoch 73/100\n",
      "34/34 [==============================] - 0s 3ms/step - loss: 6.6506 - val_loss: 4.4230\n",
      "Epoch 74/100\n",
      "34/34 [==============================] - 0s 3ms/step - loss: 6.4285 - val_loss: 4.3543\n",
      "Epoch 75/100\n",
      "34/34 [==============================] - 0s 3ms/step - loss: 6.2930 - val_loss: 3.9062\n",
      "Epoch 76/100\n",
      "34/34 [==============================] - 0s 3ms/step - loss: 6.4033 - val_loss: 4.3202\n",
      "Epoch 77/100\n",
      "34/34 [==============================] - 0s 3ms/step - loss: 6.5936 - val_loss: 4.1465\n",
      "Epoch 78/100\n",
      "34/34 [==============================] - 0s 3ms/step - loss: 6.5059 - val_loss: 4.4872\n",
      "Epoch 79/100\n",
      "34/34 [==============================] - 0s 3ms/step - loss: 6.3602 - val_loss: 4.7004\n",
      "Epoch 80/100\n",
      "34/34 [==============================] - 0s 3ms/step - loss: 6.4764 - val_loss: 4.2424\n",
      "Epoch 81/100\n",
      "34/34 [==============================] - 0s 3ms/step - loss: 6.5231 - val_loss: 4.0877\n",
      "Epoch 82/100\n",
      "34/34 [==============================] - 0s 3ms/step - loss: 6.4543 - val_loss: 4.4430\n",
      "Epoch 83/100\n",
      "34/34 [==============================] - 0s 3ms/step - loss: 6.5305 - val_loss: 4.3173\n",
      "Epoch 84/100\n",
      "34/34 [==============================] - 0s 3ms/step - loss: 6.1208 - val_loss: 4.0589\n",
      "Epoch 85/100\n",
      "34/34 [==============================] - 0s 3ms/step - loss: 6.3415 - val_loss: 4.2591\n",
      "Epoch 86/100\n",
      "34/34 [==============================] - 0s 3ms/step - loss: 6.4166 - val_loss: 3.9321\n",
      "Epoch 87/100\n",
      "34/34 [==============================] - 0s 3ms/step - loss: 6.2980 - val_loss: 4.3481\n",
      "Epoch 88/100\n",
      "34/34 [==============================] - 0s 3ms/step - loss: 6.5010 - val_loss: 4.0315\n",
      "Epoch 89/100\n",
      "34/34 [==============================] - 0s 3ms/step - loss: 6.2723 - val_loss: 4.1974\n",
      "Epoch 90/100\n",
      "34/34 [==============================] - 0s 3ms/step - loss: 6.5464 - val_loss: 3.9042\n",
      "Epoch 91/100\n",
      "34/34 [==============================] - 0s 3ms/step - loss: 6.2900 - val_loss: 3.9643\n",
      "Epoch 92/100\n",
      "34/34 [==============================] - 0s 3ms/step - loss: 6.3276 - val_loss: 4.1378\n",
      "Epoch 93/100\n",
      "34/34 [==============================] - 0s 4ms/step - loss: 6.3935 - val_loss: 4.5115\n",
      "Epoch 94/100\n",
      "34/34 [==============================] - 0s 3ms/step - loss: 6.2055 - val_loss: 4.1976\n",
      "Epoch 95/100\n",
      "34/34 [==============================] - 0s 3ms/step - loss: 6.3426 - val_loss: 4.3326\n",
      "Epoch 96/100\n",
      "34/34 [==============================] - 0s 3ms/step - loss: 6.4136 - val_loss: 4.2821\n",
      "Epoch 97/100\n",
      "34/34 [==============================] - 0s 3ms/step - loss: 6.3604 - val_loss: 4.3778\n",
      "Epoch 98/100\n",
      "34/34 [==============================] - 0s 3ms/step - loss: 6.4124 - val_loss: 4.1003\n",
      "Epoch 99/100\n",
      "34/34 [==============================] - 0s 3ms/step - loss: 6.2436 - val_loss: 4.4626\n",
      "Epoch 100/100\n",
      "34/34 [==============================] - 0s 3ms/step - loss: 6.1933 - val_loss: 3.9400\n"
     ]
    },
    {
     "data": {
      "image/png": "[encoded data removed]",
      "text/plain": [
       "<Figure size 432x288 with 1 Axes>"
      ]
     },
     "metadata": {
      "needs_background": "light"
     },
     "output_type": "display_data"
    }
   ],
   "source": [
    "df_forecast_error = pd.DataFrame(\n",
    "        columns=['h', 'mae', 'rmse', 'mape', 'descriptions'])\n",
    "history = model.fit([train_t_y,train_X,train_emb], train_y, epochs=100, batch_size=40, validation_data=([val_t_y,val_X,val_emb], val_y), verbose=1, shuffle=False)\n",
    "# history = model.fit([train_X,train_emb], train_y, epochs=100, batch_size=40, verbose=1, shuffle=False)\n",
    "# history = ts_model.fit(train_X, train_y, epochs=50, batch_size=100, validation_data=(test_X, test_y), verbose=1, shuffle=False)\n",
    "# history = arma_model.fit(train_t_y, train_y, epochs=200, batch_size=40, validation_data=(test_t_y, test_y), verbose=1, shuffle=False)\n",
    "# # plot history\n",
    "pyplot.plot(history.history['loss'], label='train')\n",
    "pyplot.plot(history.history['val_loss'], label='test')\n",
    "pyplot.legend()\n",
    "pyplot.show()"
   ]
  },
  {
   "cell_type": "code",
   "execution_count": 597,
   "metadata": {},
   "outputs": [
    {
     "data": {
      "text/plain": [
       "(670, 1)"
      ]
     },
     "execution_count": 597,
     "metadata": {},
     "output_type": "execute_result"
    }
   ],
   "source": [
    "pred_y = model.predict([test_t_y,test_X,test_emb])\n",
    "# pred_y = model.predict([test_X,test_emb])\n",
    "# pred_y = ts_model.predict(test_X)\n",
    "# pred_y = arma_model.predict(test_t_y)\n",
    "pred_y.shape"
   ]
  },
  {
   "cell_type": "code",
   "execution_count": 598,
   "metadata": {},
   "outputs": [
    {
     "name": "stdout",
     "output_type": "stream",
     "text": [
      "GRU__10,0.70626522771905,0.9299618066403352,0.012876812608474638\n"
     ]
    },
    {
     "data": {
      "text/plain": [
       "{'h': 1,\n",
       " 'mae': [0.70626522771905],\n",
       " 'rmse': [0.9299618066403352],\n",
       " 'mape': [0.012876812608474638],\n",
       " 'r2': [0.9885709152343697],\n",
       " 'descriptions': ''}"
      ]
     },
     "execution_count": 598,
     "metadata": {},
     "output_type": "execute_result"
    }
   ],
   "source": [
    "# pred_y=pred_y[:,0,0,0]\n",
    "inverted_pred_y = y_scaler.inverse_transform(pred_y.reshape(test_y.shape))\n",
    "inverted_test_y = y_scaler.inverse_transform(test_y)\n",
    "original_test_price=df_original_price.to_numpy()[train_size:]\n",
    "inverted_pred_y=inverted_pred_y+original_test_price\n",
    "inverted_test_y=inverted_test_y+original_test_price\n",
    "forecast_error=evaluate_series(inverted_test_y, inverted_pred_y, h)\n",
    "\n",
    "print(f\"GRU_{feature_name},{forecast_error['mae'][0]},{forecast_error['rmse'][0]},{forecast_error['mape'][0]}\")\n",
    "forecast_error"
   ]
  },
  {
   "cell_type": "code",
   "execution_count": null,
   "metadata": {},
   "outputs": [],
   "source": [
    "print(forecast_error)\n",
    "df_forecast_error = df_forecast_error.append(\n",
    "    pd.DataFrame(forecast_error), ignore_index=True)\n",
    "mae = df_forecast_error[\"mae\"]\n",
    "rmse = df_forecast_error[\"rmse\"]\n",
    "mape = df_forecast_error[\"mape\"]\n",
    "k = 1\n",
    "msg = f\"\"\"\n",
    "Forecast Error ({k}-fold cross-validation)\n",
    "X: {X.shape}\n",
    "y: {y.shape}\n",
    "h= {h}\n",
    "Model: {model.__class__.__name__}\n",
    "MAE = {mae.mean():.6f} +/- {mae.std():.3f}\n",
    "RMSE = {rmse.mean():.6f} +/- {rmse.std():.3f}\n",
    "MAPE = {mape.mean():.6f} +/- {mape.std():.3f}\n",
    "\"\"\"\n",
    "print(msg)\n",
    "logging.info(msg)\n",
    "evaluation_result = {\n",
    "'h': h,\n",
    "'mae': [mae.mean()],\n",
    "'rmse': [rmse.mean()],\n",
    "'mape': [mape.mean()],\n",
    "'descriptions': [msg]\n",
    "}\n",
    "print()"
   ]
  },
  {
   "cell_type": "code",
   "execution_count": null,
   "metadata": {},
   "outputs": [],
   "source": [
    "# df_forecast_error\n",
    "# model.save_weights(\"weights.h5\")\n",
    "# model.sa"
   ]
  },
  {
   "cell_type": "code",
   "execution_count": null,
   "metadata": {},
   "outputs": [],
   "source": [
    "# evaluate_series(inverted_test_y, inverted_pred_y, h)"
   ]
  },
  {
   "cell_type": "markdown",
   "metadata": {},
   "source": [
    "### Export Model"
   ]
  },
  {
   "cell_type": "code",
   "execution_count": null,
   "metadata": {},
   "outputs": [],
   "source": [
    "# import pickle\n",
    "# import gzip\n",
    "\n",
    "# with gzip.GzipFile('./trained_models/model.pgz', 'w') as f:\n",
    "#     pickle.dump(model, f)"
   ]
  },
  {
   "cell_type": "code",
   "execution_count": null,
   "metadata": {},
   "outputs": [],
   "source": [
    "# with gzip.open('./trained_models/model.pgz', 'r') as f:\n",
    "#     trained_model = pickle.load(f)"
   ]
  },
  {
   "cell_type": "code",
   "execution_count": null,
   "metadata": {},
   "outputs": [],
   "source": [
    "# pred_y = trained_model.predict([test_X,test_emb])\n",
    "# inverted_pred_y = y_scaler.inverse_transform(pred_y.reshape(-1, 1))\n",
    "# inverted_test_y = y_scaler.inverse_transform(test_y)  # should be same as testXy\n",
    "# # inverted_pred_y=inverted_pred_y.ravel()+df_original_price.Price.to_numpy()[train_size:]\n",
    "# # inverted_test_y=inverted_test_y.ravel()+df_original_price.Price.to_numpy()[train_size:]\n",
    "# forecast_error = evaluate_series(inverted_test_y, inverted_pred_y, h)\n",
    "# forecast_error"
   ]
  },
  {
   "cell_type": "code",
   "execution_count": null,
   "metadata": {},
   "outputs": [],
   "source": [
    "# export architecture as json \n",
    "# model.to_json()"
   ]
  },
  {
   "cell_type": "markdown",
   "metadata": {},
   "source": [
    "### k-fold"
   ]
  },
  {
   "cell_type": "code",
   "execution_count": null,
   "metadata": {},
   "outputs": [],
   "source": [
    "# prepare models\n",
    "step_size=1\n",
    "ts_size=X.shape[-1]\n",
    "\n",
    "ts_inputs = Input(shape=(step_size,ts_size),name='ts_input')\n",
    "# ts_model = Bidirectional(GRU(300,dropout=0.3,return_sequences=False))(ts_inputs)\n",
    "# ts_model = LSTM(300,dropout=0.3,return_sequences=False)(ts_inputs)\n",
    "# ts_model = Bidirectional(GRU(300,dropout=0.4,return_sequences=False))(ts_model)\n",
    "# ts_model= Dropout(0.4)(ts_model)\n",
    "ts_model=Reshape((step_size,ts_size))(ts_inputs)\n",
    "ts_model=GRU(300,dropout=0.33,return_sequences=True)(ts_model)\n",
    "ts_model= Dropout(0.3)(ts_model)\n",
    "ts_model=GRU(300,dropout=0.33,return_sequences=False)(ts_model)\n",
    "ts_model= Dropout(0.3)(ts_model)\n",
    "# ts_model=Bidirectional(ConvLSTM2D(300,(1,5),dropout=0.3,return_sequences=False))(ts_model)\n",
    "# ts_model=ConvLSTM2D(300,(1,5),dropout=0.3,return_sequences=True)(ts_model)\n",
    "# ts_model=ConvLSTM2D(300,(1,5),dropout=0.3,return_sequences=False)(ts_model)\n",
    "# ts_model=Reshape((10,100))(ts_model)\n",
    "# ts_model = Bidirectional(GRU(200,dropout=0.1,return_sequences=True))(ts_model)\n",
    "# ts_model = Bidirectional(GRU(100,dropout=0.1,return_sequences=False))(ts_model)\n",
    "# ts_model = Dense(1)(ts_model)\n",
    "# ts_model=Reshape((1,-1))(ts_model)\n",
    "# ts_model = Dense(1)(ts_model)\n",
    "ts_model = Model(inputs=ts_inputs, outputs=ts_model)\n",
    "# model.compile(loss='mape', optimizer='adam')\n",
    "# model.summary()"
   ]
  },
  {
   "cell_type": "code",
   "execution_count": null,
   "metadata": {},
   "outputs": [],
   "source": [
    "emb_size=emb.shape[-1]\n",
    "emb_inputs = Input(shape=(past,3,emb_size),name='emb_input')\n",
    "emb_model = Reshape((1,past,3,3,300),name='emb_reshape')(emb_inputs)\n",
    "emb_model = Conv3D(50,(3,2,1), activation=\"relu\",padding='valid')(emb_model)\n",
    "emb_model = Dropout(0.3)(emb_model)\n",
    "emb_model = Conv3D(50,(5,1,2), activation=\"relu\",padding='valid')(emb_model)\n",
    "emb_model = Dropout(0.3)(emb_model)\n",
    "emb_model = Reshape((4,4,-1))(emb_model)\n",
    "emb_model = Conv2D(10,(2,2), activation=\"relu\",padding='valid')(emb_model)\n",
    "emb_model = Dropout(0.3)(emb_model)\n",
    "# emb_model = Reshape((1,18,-1))(emb_model)\n",
    "# emb_model = Dropout(0.4)(emb_model) \n",
    "# emb_model = Dropout(0.4)(emb_model) \n",
    "emb_model = Flatten()(emb_model)\n",
    "# emb_model = Dense(1)(emb_model)\n",
    "# opt=Adam(0.0007)\n",
    "emb_model = Model(inputs=emb_inputs, outputs=emb_model)\n",
    "# emb_model.compile(loss='mae', optimizer=opt)\n",
    "# emb_model = Dense(10)(emb_model)\n",
    "# emb_model.compile(loss='mape', optimizer='adam')\n",
    "# emb_model.summary()"
   ]
  },
  {
   "cell_type": "code",
   "execution_count": null,
   "metadata": {},
   "outputs": [],
   "source": [
    "combined_model = concatenate([ts_model.output,emb_model.output])\n",
    "combined_model= Reshape((1,-1),name='alpha')(combined_model)\n",
    "combined_model= Bidirectional(GRU(100,dropout=0.33,return_sequences=False))(combined_model)\n",
    "# combined_model= Bidirectional(GRU(200,dropout=0.33,return_sequences=True))(combined_model)\n",
    "# combined_model= Bidirectional(SimpleRNN(100,dropout=0.3))(combined_model)\n",
    "combined_model = Dropout(0.3)(combined_model)\n",
    "combined_model = Dense(1)(combined_model)\n",
    "model = Model(inputs=[ts_model.input,emb_model.input], outputs=combined_model)\n",
    "# model.compile(loss='mae', optimizer='adam')\n",
    "model.summary()"
   ]
  },
  {
   "cell_type": "code",
   "execution_count": null,
   "metadata": {},
   "outputs": [],
   "source": [
    "emb.shape"
   ]
  },
  {
   "cell_type": "code",
   "execution_count": 959,
   "metadata": {},
   "outputs": [
    {
     "name": "stdout",
     "output_type": "stream",
     "text": [
      "train_X: (328, 1, 10) test_X:(328, 1, 10)\n",
      "train_y: (328, 1) test_y:(328, 1)\n"
     ]
    },
    {
     "data": {
      "image/png": "[encoded data removed]",
      "text/plain": [
       "<Figure size 432x288 with 1 Axes>"
      ]
     },
     "metadata": {
      "needs_background": "light"
     },
     "output_type": "display_data"
    },
    {
     "name": "stdout",
     "output_type": "stream",
     "text": [
      "pred_y: (328, 1)\n",
      "{'h': 1, 'mae': [9.213895321124937], 'rmse': [9.293373906324916], 'mape': [0.096370517901912], 'r2': [-1.252379160452557], 'descriptions': ''}\n",
      "train_X: (656, 1, 10) test_X:(328, 1, 10)\n",
      "train_y: (656, 1) test_y:(328, 1)\n"
     ]
    },
    {
     "data": {
      "image/png": "[encoded data removed]",
      "text/plain": [
       "<Figure size 432x288 with 1 Axes>"
      ]
     },
     "metadata": {
      "needs_background": "light"
     },
     "output_type": "display_data"
    },
    {
     "name": "stdout",
     "output_type": "stream",
     "text": [
      "pred_y: (328, 1)\n",
      "{'h': 1, 'mae': [8.851362147214935], 'rmse': [8.956746638027859], 'mape': [0.11853989328806845], 'r2': [0.8351273546510194], 'descriptions': ''}\n",
      "train_X: (984, 1, 10) test_X:(328, 1, 10)\n",
      "train_y: (984, 1) test_y:(328, 1)\n"
     ]
    },
    {
     "data": {
      "image/png": "[encoded data removed]",
      "text/plain": [
       "<Figure size 432x288 with 1 Axes>"
      ]
     },
     "metadata": {
      "needs_background": "light"
     },
     "output_type": "display_data"
    },
    {
     "name": "stdout",
     "output_type": "stream",
     "text": [
      "pred_y: (328, 1)\n",
      "{'h': 1, 'mae': [8.713456069667165], 'rmse': [8.801164610545342], 'mape': [0.20286108223375163], 'r2': [-0.22843387602871323], 'descriptions': ''}\n",
      "train_X: (1312, 1, 10) test_X:(328, 1, 10)\n",
      "train_y: (1312, 1) test_y:(328, 1)\n"
     ]
    },
    {
     "data": {
      "image/png": "[encoded data removed]",
      "text/plain": [
       "<Figure size 432x288 with 1 Axes>"
      ]
     },
     "metadata": {
      "needs_background": "light"
     },
     "output_type": "display_data"
    },
    {
     "name": "stdout",
     "output_type": "stream",
     "text": [
      "pred_y: (328, 1)\n",
      "{'h': 1, 'mae': [8.550158995651618], 'rmse': [8.596297586289928], 'mape': [0.17149582925555815], 'r2': [-4.196296221089878], 'descriptions': ''}\n",
      "train_X: (1640, 1, 10) test_X:(328, 1, 10)\n",
      "train_y: (1640, 1) test_y:(328, 1)\n"
     ]
    },
    {
     "data": {
      "image/png": "[encoded data removed]",
      "text/plain": [
       "<Figure size 432x288 with 1 Axes>"
      ]
     },
     "metadata": {
      "needs_background": "light"
     },
     "output_type": "display_data"
    },
    {
     "name": "stdout",
     "output_type": "stream",
     "text": [
      "pred_y: (328, 1)\n",
      "{'h': 1, 'mae': [8.30723739519352], 'rmse': [8.38179395601864], 'mape': [0.13415194554421803], 'r2': [-0.2773838375785862], 'descriptions': ''}\n",
      "\n",
      "    Forecast Error (5-fold cross-validation)\n",
      "    X: (1968, 10)\n",
      "    y: (1968, 1)\n",
      "    h= 1\n",
      "    MAE = 8.727222 +/- 0.339\n",
      "    RMSE = 8.805875 +/- 0.348\n",
      "    MAPE = 0.144684 +/- 0.043\n",
      "    \n"
     ]
    }
   ],
   "source": [
    "try:\n",
    "    cv = get_TS_cv()\n",
    "    df_forecast_error = pd.DataFrame(\n",
    "        columns=['h', 'mae', 'rmse', 'mape', 'descriptions'])\n",
    "    for train_idx, test_idx in cv.split(y):\n",
    "        \n",
    "        # split train/test set for emb,X,y      \n",
    "        train_X = X[train_idx,:]\n",
    "        test_X = X[test_idx,:]\n",
    "        train_emb=emb[train_idx,:,:]\n",
    "        test_emb=emb[test_idx,:,:]\n",
    "        train_y = y[train_idx]\n",
    "        test_y = y[test_idx]\n",
    "\n",
    "        # normalize features\n",
    "        X_scaler = MinMaxScaler()\n",
    "        X_scaler.fit(train_X)\n",
    "        y_scaler = MinMaxScaler(feature_range=(1, 100))\n",
    "        y_scaler.fit(train_y)\n",
    "\n",
    "        train_X=X_scaler.transform(train_X)\n",
    "        test_X=X_scaler.transform(test_X)\n",
    "        train_y=y_scaler.transform(train_y)\n",
    "        test_y=y_scaler.transform(test_y)\n",
    "\n",
    "        # reshape to 3D for RNN/LSTM/GRU       \n",
    "        train_X=train_X.reshape(train_X.shape[0],step_size,train_X.shape[-1])\n",
    "        test_X=test_X.reshape(test_X.shape[0],step_size,test_X.shape[-1])\n",
    "        print(f\"train_X: {train_X.shape} test_X:{test_X.shape}\")\n",
    "        print(f\"train_y: {train_y.shape} test_y:{test_y.shape}\")\n",
    "\n",
    "        ts_inputs = Input(shape=(step_size,train_X.shape[-1]))\n",
    "        ts_model=Reshape((step_size,train_X.shape[-1]))(ts_inputs)\n",
    "        ts_model=SimpleRNN(1,return_sequences=False)(ts_model)\n",
    "        ts_model =Dense(1)(ts_model)\n",
    "\n",
    "        model = Model(inputs=ts_inputs, outputs=ts_model)\n",
    "        # model = Model(inputs=emb_inputs, outputs=emb_model)\n",
    "        # model = Model(inputs=[ts_model.input,emb_model.input], outputs=combined_model)\n",
    "        model.compile(loss='mae', optimizer='adam')\n",
    "        # model.compile(loss='msle', optimizer=Adam(0.0005))\n",
    "        # model.compile(loss='log_cosh', optimizer=Adam(0.0002))\n",
    "        history = model.fit(x=train_X, y=train_y, epochs=100, batch_size=50, verbose=0, shuffle=False)\n",
    "        # history = model.fit(x=train_emb, y=train_y, epochs=80, batch_size=100, validation_data=(test_emb, test_y), verbose=0, shuffle=False)\n",
    "        # history = model.fit(x=[train_X,train_emb], y=train_y, epochs=80, batch_size=40, validation_data=([test_X,test_emb], test_y), verbose=0, shuffle=False)\n",
    "        \n",
    "        # plot history\n",
    "        pyplot.plot(history.history['loss'], label='train')\n",
    "        # pyplot.plot(history.history['val_loss'], label='test')\n",
    "        pyplot.legend()\n",
    "        pyplot.show()\n",
    "\n",
    "        pred_y = model.predict(test_X)\n",
    "        # pred_y = model.predict(test_emb)\n",
    "        # pred_y = model.predict([test_X,test_emb])\n",
    "        print(f\"pred_y: {pred_y.shape}\")\n",
    "        \n",
    "        # scale\n",
    "        inverted_pred_y = y_scaler.inverse_transform(pred_y.reshape(test_y.shape))\n",
    "        inverted_test_y = y_scaler.inverse_transform(test_y)\n",
    "        original_test_price=df_original_price.to_numpy()[test_idx]\n",
    "        inverted_pred_y=inverted_pred_y+original_test_price\n",
    "        inverted_test_y=inverted_test_y+original_test_price\n",
    "\n",
    "        forecast_error = evaluate_series(inverted_test_y, inverted_pred_y, h)\n",
    "        # forecast_error = evaluate_series(test_y.reshape(-1, 1), pred_y.reshape(-1, 1), h)\n",
    "        print(forecast_error)\n",
    "        df_forecast_error = df_forecast_error.append(\n",
    "            pd.DataFrame(forecast_error), ignore_index=True)\n",
    "        random.seed(seed_value)\n",
    "        np.random.seed(seed_value)\n",
    "        tf.random.set_seed(seed_value)\n",
    "        del model\n",
    "        tf.keras.backend.clear_session()\n",
    "\n",
    "    mae = df_forecast_error[\"mae\"]\n",
    "    rmse = df_forecast_error[\"rmse\"]\n",
    "    mape = df_forecast_error[\"mape\"]\n",
    "    k = cv.get_n_splits()\n",
    "    msg = f\"\"\"\n",
    "    Forecast Error ({k}-fold cross-validation)\n",
    "    X: {X.shape}\n",
    "    y: {y.shape}\n",
    "    h= {h}\n",
    "    MAE = {mae.mean():.6f} +/- {mae.std():.3f}\n",
    "    RMSE = {rmse.mean():.6f} +/- {rmse.std():.3f}\n",
    "    MAPE = {mape.mean():.6f} +/- {mape.std():.3f}\n",
    "    \"\"\"\n",
    "    print(msg)\n",
    "    logging.info(msg)\n",
    "    evaluation_result = {\n",
    "        'h': h,\n",
    "        'mae': [mae.mean()],\n",
    "        'rmse': [rmse.mean()],\n",
    "        'mape': [mape.mean()],\n",
    "        'descriptions': [msg]\n",
    "    }    \n",
    "except Exception as e:\n",
    "    logging.exception(\"EXCEPTION: %s\", e, exc_info=True)\n",
    "tf.keras.backend.clear_session()\n",
    "tf.random.set_seed(seed_value)"
   ]
  },
  {
   "cell_type": "markdown",
   "metadata": {},
   "source": [
    "#### k-fold results"
   ]
  },
  {
   "cell_type": "code",
   "execution_count": 960,
   "metadata": {},
   "outputs": [
    {
     "name": "stdout",
     "output_type": "stream",
     "text": [
      "multi,8.727222, 8.805875, 0.144684\n"
     ]
    },
    {
     "data": {
      "text/html": [
       "<div>\n",
       "<style scoped>\n",
       "    .dataframe tbody tr th:only-of-type {\n",
       "        vertical-align: middle;\n",
       "    }\n",
       "\n",
       "    .dataframe tbody tr th {\n",
       "        vertical-align: top;\n",
       "    }\n",
       "\n",
       "    .dataframe thead th {\n",
       "        text-align: right;\n",
       "    }\n",
       "</style>\n",
       "<table border=\"1\" class=\"dataframe\">\n",
       "  <thead>\n",
       "    <tr style=\"text-align: right;\">\n",
       "      <th></th>\n",
       "      <th>h</th>\n",
       "      <th>mae</th>\n",
       "      <th>rmse</th>\n",
       "      <th>mape</th>\n",
       "      <th>descriptions</th>\n",
       "      <th>r2</th>\n",
       "    </tr>\n",
       "  </thead>\n",
       "  <tbody>\n",
       "    <tr>\n",
       "      <th>0</th>\n",
       "      <td>1</td>\n",
       "      <td>9.213895</td>\n",
       "      <td>9.293374</td>\n",
       "      <td>0.096371</td>\n",
       "      <td></td>\n",
       "      <td>-1.252379</td>\n",
       "    </tr>\n",
       "    <tr>\n",
       "      <th>1</th>\n",
       "      <td>1</td>\n",
       "      <td>8.851362</td>\n",
       "      <td>8.956747</td>\n",
       "      <td>0.118540</td>\n",
       "      <td></td>\n",
       "      <td>0.835127</td>\n",
       "    </tr>\n",
       "    <tr>\n",
       "      <th>2</th>\n",
       "      <td>1</td>\n",
       "      <td>8.713456</td>\n",
       "      <td>8.801165</td>\n",
       "      <td>0.202861</td>\n",
       "      <td></td>\n",
       "      <td>-0.228434</td>\n",
       "    </tr>\n",
       "    <tr>\n",
       "      <th>3</th>\n",
       "      <td>1</td>\n",
       "      <td>8.550159</td>\n",
       "      <td>8.596298</td>\n",
       "      <td>0.171496</td>\n",
       "      <td></td>\n",
       "      <td>-4.196296</td>\n",
       "    </tr>\n",
       "    <tr>\n",
       "      <th>4</th>\n",
       "      <td>1</td>\n",
       "      <td>8.307237</td>\n",
       "      <td>8.381794</td>\n",
       "      <td>0.134152</td>\n",
       "      <td></td>\n",
       "      <td>-0.277384</td>\n",
       "    </tr>\n",
       "  </tbody>\n",
       "</table>\n",
       "</div>"
      ],
      "text/plain": [
       "   h       mae      rmse      mape descriptions        r2\n",
       "0  1  9.213895  9.293374  0.096371              -1.252379\n",
       "1  1  8.851362  8.956747  0.118540               0.835127\n",
       "2  1  8.713456  8.801165  0.202861              -0.228434\n",
       "3  1  8.550159  8.596298  0.171496              -4.196296\n",
       "4  1  8.307237  8.381794  0.134152              -0.277384"
      ]
     },
     "execution_count": 960,
     "metadata": {},
     "output_type": "execute_result"
    }
   ],
   "source": [
    "print(f\"multi,{df_forecast_error['mae'].to_numpy().mean():.6f}, {df_forecast_error['rmse'].to_numpy().mean():.6f}, {df_forecast_error['mape'].to_numpy().mean():.6f}\")\n",
    "df_forecast_error"
   ]
  },
  {
   "cell_type": "code",
   "execution_count": null,
   "metadata": {},
   "outputs": [],
   "source": [
    "# model_log=\"BiGRU;\"\n",
    "# FE_log=\"CLC1(h=1); 1stDIFF(xy)+ RFE(Ridge,60); scale y;\"\n",
    "# msg=f\"{model_log} {FE_log} mse;\"\n",
    "# evaluation_result[\"descriptions\"]=msg\n",
    "# df_result = pd.DataFrame(evaluation_result)\n",
    "# df_result[\"time\"] = datetime.datetime.now().strftime(\"%Y-%m-%dT%H:%M:%S\")\n",
    "\n",
    "# df_result = df_result[['time', 'descriptions', 'h', 'mae', 'rmse', 'mape']]\n",
    "# df_result"
   ]
  },
  {
   "cell_type": "code",
   "execution_count": null,
   "metadata": {},
   "outputs": [],
   "source": [
    "# df_result.to_csv(f\"{HOME}/results/experiment_results.csv\",mode=\"a+\",index=False,header=False)"
   ]
  },
  {
   "cell_type": "code",
   "execution_count": null,
   "metadata": {},
   "outputs": [],
   "source": []
  }
 ],
 "metadata": {
  "interpreter": {
   "hash": "8f3e05a59671f1eb5b3f5f0e003aaa5a39f5d3316373e39c3606e56079185283"
  },
  "kernelspec": {
   "display_name": "Python 3.8.12 64-bit ('OPP-env': conda)",
   "language": "python",
   "name": "python3"
  },
  "language_info": {
   "codemirror_mode": {
    "name": "ipython",
    "version": 3
   },
   "file_extension": ".py",
   "mimetype": "text/x-python",
   "name": "python",
   "nbconvert_exporter": "python",
   "pygments_lexer": "ipython3",
   "version": "3.8.12"
  },
  "orig_nbformat": 4
 },
 "nbformat": 4,
 "nbformat_minor": 2
}
