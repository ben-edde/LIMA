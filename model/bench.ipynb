{
 "cells": [
  {
   "cell_type": "code",
   "execution_count": null,
   "metadata": {},
   "outputs": [],
   "source": [
    "import datetime\n",
    "import logging\n",
    "import os\n",
    "import numpy as np\n",
    "import pandas as pd\n",
    "from matplotlib import pyplot\n",
    "from sklearn.preprocessing import MinMaxScaler\n",
    "from sklearn.model_selection import cross_validate, TimeSeriesSplit\n",
    "from sklearn.metrics import mean_absolute_error, mean_absolute_percentage_error, mean_squared_error\n",
    "from sklearn.metrics import r2_score\n",
    "import joblib\n",
    "import tensorflow as tf\n",
    "from tensorflow import keras\n",
    "from keras.layers import Reshape, MaxPool3D, Bidirectional, ConvLSTM2D\n",
    "from keras.models import Sequential\n",
    "from keras.layers import Dense\n",
    "from keras.layers import LSTM\n",
    "from keras.layers import GRU\n",
    "from keras.layers import SimpleRNN\n",
    "from keras.layers import Conv2D\n",
    "from keras.layers import Dropout\n",
    "from sklearn.feature_selection import RFE\n",
    "from sklearn.linear_model import Ridge, Lasso\n",
    "import pymongo\n",
    "import random\n",
    "import string\n",
    "import fasttext\n",
    "from nltk.tokenize import word_tokenize\n",
    "from nltk.corpus import stopwords\n",
    "from nltk.stem.porter import PorterStemmer\n",
    "from nltk.tag import pos_tag\n",
    "from sklearn.decomposition import LatentDirichletAllocation\n",
    "from sklearn.preprocessing import MinMaxScaler\n",
    "from textblob import TextBlob\n",
    "physical_devices = tf.config.list_physical_devices('GPU')\n",
    "tf.config.experimental.set_memory_growth(physical_devices[0], True)\n",
    "\n",
    "HOME = os.environ['LIMA_HOME']\n"
   ]
  },
  {
   "cell_type": "code",
   "execution_count": null,
   "metadata": {},
   "outputs": [],
   "source": [
    "def clean(text: str) -> list:\n",
    "    \"\"\"\n",
    "    clean text with tokenization; stemming; removing stop word, punctuation, number, and empty string.\n",
    "\n",
    "    Args:\n",
    "        text (str): text\n",
    "\n",
    "    Returns:\n",
    "        list: cleaned text as list of tokenized str\n",
    "    \"\"\"\n",
    "\n",
    "    # to list of token\n",
    "    text = word_tokenize(text)\n",
    "\n",
    "    # stemming and convert to lower case if not proper noun: punctuation and stop word seem to help POS tagging, remove them after stemming\n",
    "    word_tag = pos_tag(text)\n",
    "    porter = PorterStemmer()\n",
    "    text = [\n",
    "        porter.stem(each[0])\n",
    "        if each[1] != \"NNP\" and each[1] != \"NNPS\" else each[0]\n",
    "        for each in word_tag\n",
    "    ]\n",
    "\n",
    "    # remove stop word: it seems stemming skip stop word; OK to remove stop word after stemming;\n",
    "    stop_word = set(stopwords.words('english'))\n",
    "    text = [each for each in text if not each in stop_word]\n",
    "\n",
    "    # remove punctuation\n",
    "    text = [\n",
    "        each.translate(str.maketrans('', '', string.punctuation))\n",
    "        for each in text\n",
    "    ]\n",
    "    # text = re.sub(r\"(@\\[A-Za-z0-9]+)|([^0-9A-Za-z \\t])|(\\w+:\\/\\/\\S+)|^rt|http.+?\", \" \", text) # if using re\n",
    "\n",
    "    # convert number to <NUM>\n",
    "    text = [\"<NUM>\" if each.isdigit() else each for each in text]\n",
    "\n",
    "    # remove empty string\n",
    "    text = [each for each in text if each != \"\"]\n",
    "\n",
    "    return text\n",
    "\n",
    "# convert series to supervised learning\n",
    "def series_to_supervised(data, n_in=1, n_out=1, dropnan=True):\n",
    "\tn_vars = 1 if type(data) is list else data.shape[1]\n",
    "\tdf = data.copy()\n",
    "\tcols, names = list(), list()\n",
    "\t# input sequence (t-n, ... t-1)\n",
    "\tfor i in range(n_in, 0, -1):\n",
    "\t\tcols.append(df.shift(i))\n",
    "        \n",
    "\t\tnames += [f'{data.columns[j]}(t-{i})' for j in range(n_vars)]\n",
    "\t# forecast sequence (t, t+1, ... t+n)\n",
    "\tfor i in range(0, n_out):\n",
    "\t\tcols.append(df.shift(-i))\n",
    "\t\tif i == 0:\n",
    "\t\t\tnames += [f'{data.columns[j]}(t)' for j in range(n_vars)]\n",
    "\t\telse:\n",
    "\t\t\tnames += [f'{data.columns[j]}(t+{i})' for j in range(n_vars)]\n",
    "\t# put it all together\n",
    "\tagg = pd.concat(cols, axis=1)\n",
    "\tagg.columns = names\n",
    "\t# drop rows with NaN values\n",
    "\tif dropnan:\n",
    "\t\tagg.dropna(inplace=True)\n",
    "\treturn agg\n",
    "\n",
    "def get_TS_cv(k=10, test_size=None):\n",
    "    \"\"\"\n",
    "    ML models do not need to care about forecast horizon when splitting training and test set. Forecast horizon should be handled by feature preparation ([X_t-1,X_t-2...]). Actually repeated K-fold can also be used, but stick to TS split to align with TS_evaluate().\n",
    "    \"\"\"\n",
    "    return TimeSeriesSplit(\n",
    "        n_splits=k,\n",
    "        gap=0,\n",
    "        test_size=test_size,\n",
    "    )\n",
    "\n",
    "def evaluate_series(y_true, y_pred, horizon):\n",
    "    \"\"\"\n",
    "    Some models (like ARIMA) may not support cross_validate(), compare the forecasting result directly\n",
    "    Args:\n",
    "        y_true: y of test set\n",
    "        y_pred: y of prediction\n",
    "        horizon: forecast horizon\n",
    "\n",
    "    Returns:\n",
    "        DataFrame: single row DF with 3 metrics wrt horizon\n",
    "    \"\"\"\n",
    "    # RMSE\n",
    "    rmse = mean_squared_error(y_true, y_pred, squared=False)\n",
    "    # MAE\n",
    "    mae = mean_absolute_error(y_true, y_pred)\n",
    "    # MAPE\n",
    "    mape = mean_absolute_percentage_error(y_true, y_pred)\n",
    "    r2=r2_score(y_true, y_pred)\n",
    "    forecast_error = {\n",
    "        'h': horizon,\n",
    "        'mae': [mae],\n",
    "        'rmse': [rmse],\n",
    "        'mape': [mape],\n",
    "        'r2':[r2],\n",
    "        'descriptions': \"\"\n",
    "    }\n",
    "    return forecast_error\n"
   ]
  },
  {
   "cell_type": "code",
   "execution_count": null,
   "metadata": {},
   "outputs": [],
   "source": [
    "# set random seed\n",
    "seed_value = 42\n",
    "os.environ['PYTHONHASHSEED'] = str(seed_value)\n",
    "\n",
    "random.seed(seed_value)\n",
    "np.random.seed(seed_value)\n",
    "tf.random.set_seed(seed_value)\n",
    "h = 1\n",
    "past = 10"
   ]
  },
  {
   "cell_type": "markdown",
   "metadata": {},
   "source": [
    "## Metrics features"
   ]
  },
  {
   "cell_type": "code",
   "execution_count": null,
   "metadata": {},
   "outputs": [],
   "source": [
    "from influxdb_client import InfluxDBClient\n",
    "client= InfluxDBClient.from_config_file(f\"{HOME}/dev/DB/influxdb_config.ini\")\n",
    "query_api = client.query_api()\n",
    "df_WTI = query_api.query_data_frame(\"\"\"\n",
    "from(bucket: \"dummy\")\n",
    "  |> range(start: 2011-04-01, stop: 2019-04-01)\n",
    "  |> filter(fn: (r) => r[\"_measurement\"] == \"WTI\") \n",
    "  |> filter(fn: (r) => r[\"type\"] == \"closing_price\") \n",
    "  |> pivot(rowKey:[\"_time\"], columnKey: [\"_field\"], valueColumn: \"_value\")\n",
    "  |> drop(columns: [\"_start\", \"_stop\"])\n",
    "\"\"\")\n",
    "df_WTI=df_WTI[[\"_time\",\"CLC4\",\"CLC3\",\"CLC2\",\"CLC1\"]]\n",
    "df_WTI.columns=[\"Date\",\"CLC4\",\"CLC3\",\"CLC2\",\"CLC1\"]\n",
    "df_WTI.set_index(\"Date\",inplace=True)\n",
    "df_WTI.index=df_WTI.index.map(lambda each: each.date())\n",
    "df_WTI.index=pd.to_datetime(df_WTI.index)\n",
    "client.close()"
   ]
  },
  {
   "cell_type": "code",
   "execution_count": null,
   "metadata": {},
   "outputs": [],
   "source": [
    "month=[each.month for each in df_WTI.index]\n",
    "day=[each.day for each in df_WTI.index]\n",
    "day_in_week=[each.weekday() for each in df_WTI.index]"
   ]
  },
  {
   "cell_type": "code",
   "execution_count": null,
   "metadata": {},
   "outputs": [],
   "source": [
    "df_dt=pd.DataFrame()\n",
    "df_dt[\"month\"]=month\n",
    "df_dt[\"day\"]=day\n",
    "df_dt[\"day_in_week\"]=day_in_week\n",
    "df_dt.index=df_WTI.index"
   ]
  },
  {
   "cell_type": "code",
   "execution_count": null,
   "metadata": {},
   "outputs": [],
   "source": [
    "df_WTI"
   ]
  },
  {
   "cell_type": "markdown",
   "metadata": {},
   "source": [
    "## Text features"
   ]
  },
  {
   "cell_type": "code",
   "execution_count": null,
   "metadata": {},
   "outputs": [],
   "source": [
    "mongo_client = pymongo.MongoClient(\"mongodb://localhost:27017/\")\n",
    "mongo_db = mongo_client[\"lima\"]\n",
    "mongo_collection = mongo_db[\"investing_news\"]\n",
    "cursor = mongo_collection.find({\"News\":{\"$ne\":\"NEURONswap: First Dex To Implement Governance 2.0\"}})\n",
    "df_news =  pd.DataFrame(list(cursor))[[\"Date\",\"News\"]]\n",
    "df_news=df_news[df_news.Date.isin(df_WTI.index)]\n",
    "fasttext_model = fasttext.load_model(f\"{HOME}/data/big/cc.en.300.bin\")\n",
    "df_news.News = df_news.News.apply(lambda r: \" \".join(clean(r)))"
   ]
  },
  {
   "cell_type": "markdown",
   "metadata": {},
   "source": [
    "### sentiment features"
   ]
  },
  {
   "cell_type": "code",
   "execution_count": null,
   "metadata": {},
   "outputs": [],
   "source": [
    "def get_sentiment_aggregated(df):\n",
    "    df=df.copy()\n",
    "    df[\"Polarity\"] = df.apply(\n",
    "        lambda row: TextBlob(row['News']).sentiment.polarity, axis=1)\n",
    "    df[\"Subjectivity\"] = df.apply(\n",
    "        lambda row: TextBlob(row['News']).sentiment.subjectivity, axis=1)\n",
    "    df_daily_averaged_sentiment_score = df.groupby(['Date']).mean()\n",
    "    return df_daily_averaged_sentiment_score\n",
    "\n",
    "df_sentiment = get_sentiment_aggregated(df_news)\n",
    "df_sentiment[\"Combined_Sentiment\"]=df_sentiment.Polarity*(1+df_sentiment.Subjectivity)\n",
    "def decay_features(df):\n",
    "    window_size=5\n",
    "    feature_list=[]\n",
    "    for each in df.columns:\n",
    "        feature_list.append(df[each].iloc[:window_size].to_list())\n",
    "    feature_num=len(feature_list)\n",
    "    for idx in range(window_size,len(df_sentiment)):\n",
    "        feature_tmp=np.zeros(feature_num)\n",
    "        for t in range(window_size):\n",
    "            for feature_idx in range(feature_num):\n",
    "                feature_tmp[feature_idx]+=df.iloc[idx-t][df.columns[feature_idx]]*((window_size-t)/window_size)\n",
    "        for feature_idx in range(feature_num):\n",
    "            feature_list[feature_idx].append(feature_tmp[feature_idx])\n",
    "    df_result=pd.DataFrame(feature_list).transpose()\n",
    "    df_result.index=df.index\n",
    "    df_result.columns=[f\"Decay_{each}\" for each in df.columns]\n",
    "    return df_result\n",
    "\n",
    "df_res=decay_features(df_sentiment)\n",
    "df_sentiment=pd.concat([df_sentiment,df_res],axis=1)"
   ]
  },
  {
   "cell_type": "markdown",
   "metadata": {},
   "source": [
    "### topic modeling features"
   ]
  },
  {
   "cell_type": "code",
   "execution_count": null,
   "metadata": {},
   "outputs": [],
   "source": [
    "def get_topic_aggregated(df):\n",
    "    df=df.copy()\n",
    "    news_emb = df.News.apply(lambda x: fasttext_model.get_sentence_vector(\n",
    "        (x))).to_numpy().tolist()\n",
    "    news_emb = np.array(news_emb)\n",
    "    emb_scaler=MinMaxScaler()\n",
    "    news_emb=emb_scaler.fit_transform(news_emb)\n",
    "    lda_model=LatentDirichletAllocation(n_components=5,n_jobs=-1)\n",
    "    topic= lda_model.fit_transform(news_emb)\n",
    "    for i in range(5):\n",
    "        df[f\"Topic{i+1}\"] = topic[:, i]\n",
    "    df_daily_averaged_topic = df.groupby(['Date']).mean()\n",
    "    return df_daily_averaged_topic, emb_scaler, lda_model\n",
    "\n",
    "df_topic, emb_scaler, lda_model = get_topic_aggregated(df_news)\n",
    "df_topic.head()"
   ]
  },
  {
   "cell_type": "code",
   "execution_count": null,
   "metadata": {},
   "outputs": [],
   "source": [
    "df_res=decay_features(df_topic)\n",
    "df_topic=pd.concat([df_topic,df_res],axis=1)"
   ]
  },
  {
   "cell_type": "code",
   "execution_count": null,
   "metadata": {},
   "outputs": [],
   "source": [
    "df_topic.head(1)"
   ]
  },
  {
   "cell_type": "code",
   "execution_count": null,
   "metadata": {},
   "outputs": [],
   "source": [
    "df_Xy = pd.concat([df_sentiment,df_topic, df_WTI], axis=1, join=\"inner\")\n",
    "df_Xy.shape"
   ]
  },
  {
   "cell_type": "markdown",
   "metadata": {},
   "source": [
    "### Embedding"
   ]
  },
  {
   "cell_type": "code",
   "execution_count": null,
   "metadata": {},
   "outputs": [],
   "source": [
    "def aggregate_emb_maxmin(emb):\n",
    "    data=np.array(emb.to_numpy().tolist())\n",
    "    return np.concatenate([data.max(axis=0),data.min(axis=0)])\n",
    "def aggregate_emb_maxmeanmin(emb):\n",
    "    data=np.array(emb.to_numpy().tolist())\n",
    "    return np.concatenate([data.max(axis=0),data.mean(axis=0),data.min(axis=0)])\n",
    "\n",
    "news_emb = df_news.News.apply(lambda x: fasttext_model.get_sentence_vector(\n",
    "        (x)))\n",
    "# news_emb = np.array(news_emb)\n",
    "# emb_scaler=MinMaxScaler()\n",
    "# news_emb=emb_scaler.fit_transform(news_emb)"
   ]
  },
  {
   "cell_type": "code",
   "execution_count": null,
   "metadata": {},
   "outputs": [],
   "source": [
    "df_emb=pd.concat([df_news.Date,news_emb],axis=1)\n",
    "df_emb"
   ]
  },
  {
   "cell_type": "code",
   "execution_count": null,
   "metadata": {},
   "outputs": [],
   "source": [
    "# daily mean of mean\n",
    "# df_emb[\"News\"]=df_emb.News.apply(lambda r:np.array(r.tolist()).mean())\n",
    "\n",
    "# daily mean\n",
    "# df_emb=df_emb.groupby(\"Date\").mean()\n",
    "\n",
    "# max + min\n",
    "# df_emb=df_emb.groupby(\"Date\")['News'].agg(aggregate_emb_maxmin)\n",
    "\n",
    "# max + mean + min\n",
    "df_emb=df_emb.groupby(\"Date\")['News'].agg(aggregate_emb_maxmeanmin)\n",
    "\n",
    "df_emb=pd.DataFrame(df_emb)\n",
    "# df_emb.set_index(\"Date\",inplace=True)\n",
    "df_emb.index=pd.to_datetime(df_emb.index)\n",
    "df_emb"
   ]
  },
  {
   "cell_type": "code",
   "execution_count": null,
   "metadata": {},
   "outputs": [],
   "source": [
    "# filter to align\n",
    "df_emb=df_emb[df_emb.index.isin(df_WTI[\"CLC1\"].index)]\n",
    "# emb=df_emb.to_numpy()\n",
    "# emb =np.array([each.tolist() for each in emb])\n",
    "# emb.shape"
   ]
  },
  {
   "cell_type": "code",
   "execution_count": null,
   "metadata": {},
   "outputs": [],
   "source": [
    "# y=df_WTI[df_WTI.index.isin(df_emb.index)][\"CLC1\"].to_numpy()\n",
    "# y.shape\n",
    "# feature_name=\"EMB_maxmeanmin_single\""
   ]
  },
  {
   "cell_type": "markdown",
   "metadata": {},
   "source": [
    "### Event"
   ]
  },
  {
   "cell_type": "code",
   "execution_count": null,
   "metadata": {},
   "outputs": [],
   "source": [
    "# os.environ[\"CORENLP_HOME\"]=\"~/.stanfordnlp_resources/stanford-corenlp-4.1.0/\"\n",
    "# from openie import StanfordOpenIE\n",
    "# openie_client= StanfordOpenIE()"
   ]
  },
  {
   "cell_type": "code",
   "execution_count": null,
   "metadata": {},
   "outputs": [],
   "source": [
    "# event_tuples = []\n",
    "# for idx, row in df_news.iterrows():\n",
    "#     text = row['News']\n",
    "#     for triple in openie_client.annotate(text):\n",
    "#         triple['Date'] = row['Date']\n",
    "#         event_tuples.append(triple)\n",
    "# openie_client.client.stop()"
   ]
  },
  {
   "cell_type": "code",
   "execution_count": 1520,
   "metadata": {},
   "outputs": [
    {
     "data": {
      "text/html": [
       "<div>\n",
       "<style scoped>\n",
       "    .dataframe tbody tr th:only-of-type {\n",
       "        vertical-align: middle;\n",
       "    }\n",
       "\n",
       "    .dataframe tbody tr th {\n",
       "        vertical-align: top;\n",
       "    }\n",
       "\n",
       "    .dataframe thead th {\n",
       "        text-align: right;\n",
       "    }\n",
       "</style>\n",
       "<table border=\"1\" class=\"dataframe\">\n",
       "  <thead>\n",
       "    <tr style=\"text-align: right;\">\n",
       "      <th></th>\n",
       "      <th>subject</th>\n",
       "      <th>relation</th>\n",
       "      <th>object</th>\n",
       "      <th>Date</th>\n",
       "    </tr>\n",
       "  </thead>\n",
       "  <tbody>\n",
       "    <tr>\n",
       "      <th>0</th>\n",
       "      <td>[-0.015874106, -0.014480274, -0.08655736, 0.05...</td>\n",
       "      <td>[-0.08357154, -0.017450938, -0.036429703, 0.12...</td>\n",
       "      <td>[-0.031064937, 0.048873972, -0.019095859, 0.06...</td>\n",
       "      <td>2019-03-29</td>\n",
       "    </tr>\n",
       "    <tr>\n",
       "      <th>1</th>\n",
       "      <td>[-0.021661486, -0.026249636, -0.034816958, -0....</td>\n",
       "      <td>[-0.0053701503, -0.06189313, -0.089259215, -0....</td>\n",
       "      <td>[0.032303195, -0.020144327, -0.024541315, 0.03...</td>\n",
       "      <td>2019-03-29</td>\n",
       "    </tr>\n",
       "  </tbody>\n",
       "</table>\n",
       "</div>"
      ],
      "text/plain": [
       "                                             subject  \\\n",
       "0  [-0.015874106, -0.014480274, -0.08655736, 0.05...   \n",
       "1  [-0.021661486, -0.026249636, -0.034816958, -0....   \n",
       "\n",
       "                                            relation  \\\n",
       "0  [-0.08357154, -0.017450938, -0.036429703, 0.12...   \n",
       "1  [-0.0053701503, -0.06189313, -0.089259215, -0....   \n",
       "\n",
       "                                              object       Date  \n",
       "0  [-0.031064937, 0.048873972, -0.019095859, 0.06... 2019-03-29  \n",
       "1  [0.032303195, -0.020144327, -0.024541315, 0.03... 2019-03-29  "
      ]
     },
     "execution_count": 1520,
     "metadata": {},
     "output_type": "execute_result"
    }
   ],
   "source": [
    "# df_events = pd.DataFrame(event_tuples)\n",
    "df_events=pd.read_pickle(\"df_events.pkl\")\n",
    "df_events.subject = df_events.subject.apply(\n",
    "    lambda x: fasttext_model.get_sentence_vector((x)))\n",
    "df_events.relation = df_events.relation.apply(\n",
    "    lambda x: fasttext_model.get_sentence_vector((x)))\n",
    "df_events.object = df_events.object.apply(lambda x: fasttext_model.get_sentence_vector(\n",
    "    (x)))\n",
    "df_events.dropna(inplace=True)\n",
    "df_events.head(2)"
   ]
  },
  {
   "cell_type": "code",
   "execution_count": 1521,
   "metadata": {},
   "outputs": [],
   "source": [
    "def aggregate_emb_maxmeanmin(emb):\n",
    "    data=np.array(emb.to_numpy().tolist())\n",
    "    return np.concatenate([data.max(axis=0),data.mean(axis=0),data.min(axis=0)])\n",
    "\n",
    "# max + mean + min\n",
    "series_subject=df_events.groupby(\"Date\")['subject'].agg(aggregate_emb_maxmeanmin)\n",
    "series_relation=df_events.groupby(\"Date\")['relation'].agg(aggregate_emb_maxmeanmin)\n",
    "series_object=df_events.groupby(\"Date\")['object'].agg(aggregate_emb_maxmeanmin)"
   ]
  },
  {
   "cell_type": "code",
   "execution_count": 1522,
   "metadata": {},
   "outputs": [
    {
     "data": {
      "text/plain": [
       "(1963, 3)"
      ]
     },
     "execution_count": 1522,
     "metadata": {},
     "output_type": "execute_result"
    }
   ],
   "source": [
    "df_event_emb=pd.concat([series_subject,series_relation,series_object],axis=1)\n",
    "df_event_emb.index=pd.to_datetime(df_event_emb.index)\n",
    "df_event_emb.shape"
   ]
  },
  {
   "cell_type": "code",
   "execution_count": 1523,
   "metadata": {},
   "outputs": [],
   "source": [
    "# filter to align\n",
    "# df_event_emb=df_event_emb[df_event_emb.index.isin(df_WTI[\"CLC1\"].index)]\n",
    "# join 3 : (-1,2700)\n",
    "# df_event_emb[\"event\"]=df_event_emb.apply(np.concatenate,axis=1)\n",
    "# join 3 : (-1,3,900)\n",
    "df_event_emb[\"event\"]=df_event_emb.apply(np.array,axis=1)\n",
    "# event_emb=df_event_emb[\"event\"].to_numpy()\n",
    "# event_emb=np.array([each.tolist() for each in event_emb])\n",
    "# X=event_emb\n",
    "# event_emb.shape"
   ]
  },
  {
   "cell_type": "code",
   "execution_count": null,
   "metadata": {},
   "outputs": [],
   "source": [
    "df_event_emb.shape"
   ]
  },
  {
   "cell_type": "markdown",
   "metadata": {},
   "source": [
    "## Analysis"
   ]
  },
  {
   "cell_type": "code",
   "execution_count": null,
   "metadata": {},
   "outputs": [],
   "source": [
    "df_Xy.head()"
   ]
  },
  {
   "cell_type": "code",
   "execution_count": null,
   "metadata": {},
   "outputs": [],
   "source": [
    "# stationary test before diff\n",
    "from statsmodels.tsa.stattools import adfuller\n",
    "for i in range(df_Xy.shape[1]):\n",
    "    test_result=adfuller(df_Xy[df_Xy.columns[i]].to_numpy())\n",
    "    if test_result[1]>0.05:\n",
    "        print(f\"{df_Xy.columns[i]}: {test_result[1]}\")"
   ]
  },
  {
   "cell_type": "code",
   "execution_count": null,
   "metadata": {},
   "outputs": [],
   "source": [
    "df_Xy.columns[:]\n",
    "# df_Xy.columns[7:]#\n",
    "df_Xy.columns[:-4]"
   ]
  },
  {
   "cell_type": "code",
   "execution_count": null,
   "metadata": {},
   "outputs": [],
   "source": [
    "from statsmodels.tsa.api import VAR\n",
    "endo=df_Xy[df_Xy.columns[-4:]].to_numpy()\n",
    "exo=df_Xy[df_Xy.columns[:-4]].to_numpy()\n",
    "model = VAR(endog=exo,exog=endo)\n",
    "var_result=model.select_order(30)\n",
    "var_result.selected_orders"
   ]
  },
  {
   "cell_type": "code",
   "execution_count": 565,
   "metadata": {},
   "outputs": [
    {
     "name": "stdout",
     "output_type": "stream",
     "text": [
      "Polarity: {'aic': 15, 'bic': 5, 'hqic': 5, 'fpe': 15}\n",
      "Subjectivity: {'aic': 15, 'bic': 5, 'hqic': 6, 'fpe': 15}\n",
      "Combined_Sentiment: {'aic': 15, 'bic': 5, 'hqic': 5, 'fpe': 15}\n",
      "Decay_Polarity: {'aic': 19, 'bic': 1, 'hqic': 2, 'fpe': 19}\n",
      "Decay_Subjectivity: {'aic': 14, 'bic': 1, 'hqic': 2, 'fpe': 14}\n",
      "Decay_Combined_Sentiment: {'aic': 19, 'bic': 1, 'hqic': 2, 'fpe': 19}\n",
      "Topic1: {'aic': 15, 'bic': 5, 'hqic': 6, 'fpe': 15}\n",
      "Topic2: {'aic': 15, 'bic': 5, 'hqic': 10, 'fpe': 15}\n",
      "Topic3: {'aic': 10, 'bic': 5, 'hqic': 10, 'fpe': 10}\n",
      "Topic4: {'aic': 29, 'bic': 5, 'hqic': 10, 'fpe': 22}\n",
      "Topic5: {'aic': 10, 'bic': 6, 'hqic': 10, 'fpe': 10}\n",
      "Decay_Topic1: {'aic': 18, 'bic': 1, 'hqic': 4, 'fpe': 18}\n",
      "Decay_Topic2: {'aic': 13, 'bic': 1, 'hqic': 6, 'fpe': 13}\n",
      "Decay_Topic3: {'aic': 14, 'bic': 1, 'hqic': 9, 'fpe': 14}\n",
      "Decay_Topic4: {'aic': 24, 'bic': 1, 'hqic': 9, 'fpe': 24}\n",
      "Decay_Topic5: {'aic': 9, 'bic': 1, 'hqic': 9, 'fpe': 9}\n",
      "CLC4: {'aic': 6, 'bic': 2, 'hqic': 2, 'fpe': 6}\n",
      "CLC3: {'aic': 6, 'bic': 2, 'hqic': 2, 'fpe': 6}\n",
      "CLC2: {'aic': 23, 'bic': 2, 'hqic': 2, 'fpe': 23}\n"
     ]
    }
   ],
   "source": [
    "for each in df_Xy.columns[:-1]:\n",
    "    try:\n",
    "        endo=df_Xy[[\"CLC1\",each]].to_numpy()\n",
    "        model = VAR(endo)\n",
    "        var_result=model.select_order(120)\n",
    "        print(f\"{each}: {var_result.selected_orders}\")\n",
    "    except:\n",
    "        print(f\"ERROR: {each}\")"
   ]
  },
  {
   "cell_type": "code",
   "execution_count": 566,
   "metadata": {},
   "outputs": [
    {
     "data": {
      "image/png": "[encoded data removed]",
      "text/plain": [
       "<Figure size 432x288 with 1 Axes>"
      ]
     },
     "execution_count": 566,
     "metadata": {},
     "output_type": "execute_result"
    },
    {
     "data": {
      "image/png": "[encoded data removed]",
      "text/plain": [
       "<Figure size 432x288 with 1 Axes>"
      ]
     },
     "metadata": {
      "needs_background": "light"
     },
     "output_type": "display_data"
    }
   ],
   "source": [
    "import statsmodels.tsa\n",
    "from statsmodels.graphics.tsaplots import plot_acf\n",
    "plot_acf(df_Xy.CLC3,lags=9, alpha=0.05)"
   ]
  },
  {
   "cell_type": "code",
   "execution_count": 573,
   "metadata": {},
   "outputs": [],
   "source": [
    "from statsmodels.tsa.stattools import grangercausalitytests\n",
    "all_results=[]\n",
    "for each in df_Xy.columns:\n",
    "    if each ==\"CLC1\":\n",
    "        continue\n",
    "    rest_results=grangercausalitytests(df_Xy[[\"CLC1\",each]],maxlag=20,verbose=False)\n",
    "    for lag in range(1,20):\n",
    "        all_results.append({\"type\":each,\"lag\":lag, \"p\":rest_results[lag][0]['ssr_ftest'][1]})\n",
    "df_test=pd.DataFrame(all_results)\n"
   ]
  },
  {
   "cell_type": "code",
   "execution_count": 576,
   "metadata": {},
   "outputs": [
    {
     "data": {
      "text/html": [
       "<div>\n",
       "<style scoped>\n",
       "    .dataframe tbody tr th:only-of-type {\n",
       "        vertical-align: middle;\n",
       "    }\n",
       "\n",
       "    .dataframe tbody tr th {\n",
       "        vertical-align: top;\n",
       "    }\n",
       "\n",
       "    .dataframe thead th {\n",
       "        text-align: right;\n",
       "    }\n",
       "</style>\n",
       "<table border=\"1\" class=\"dataframe\">\n",
       "  <thead>\n",
       "    <tr style=\"text-align: right;\">\n",
       "      <th></th>\n",
       "      <th>type</th>\n",
       "      <th>lag</th>\n",
       "      <th>p</th>\n",
       "    </tr>\n",
       "  </thead>\n",
       "  <tbody>\n",
       "    <tr>\n",
       "      <th>156</th>\n",
       "      <td>Topic3</td>\n",
       "      <td>5</td>\n",
       "      <td>0.098527</td>\n",
       "    </tr>\n",
       "    <tr>\n",
       "      <th>353</th>\n",
       "      <td>CLC2</td>\n",
       "      <td>12</td>\n",
       "      <td>0.101438</td>\n",
       "    </tr>\n",
       "    <tr>\n",
       "      <th>42</th>\n",
       "      <td>Combined_Sentiment</td>\n",
       "      <td>5</td>\n",
       "      <td>0.102356</td>\n",
       "    </tr>\n",
       "    <tr>\n",
       "      <th>139</th>\n",
       "      <td>Topic2</td>\n",
       "      <td>7</td>\n",
       "      <td>0.103006</td>\n",
       "    </tr>\n",
       "    <tr>\n",
       "      <th>5</th>\n",
       "      <td>Polarity</td>\n",
       "      <td>6</td>\n",
       "      <td>0.104308</td>\n",
       "    </tr>\n",
       "    <tr>\n",
       "      <th>313</th>\n",
       "      <td>CLC4</td>\n",
       "      <td>10</td>\n",
       "      <td>0.104320</td>\n",
       "    </tr>\n",
       "    <tr>\n",
       "      <th>332</th>\n",
       "      <td>CLC3</td>\n",
       "      <td>10</td>\n",
       "      <td>0.113395</td>\n",
       "    </tr>\n",
       "    <tr>\n",
       "      <th>175</th>\n",
       "      <td>Topic4</td>\n",
       "      <td>5</td>\n",
       "      <td>0.117546</td>\n",
       "    </tr>\n",
       "    <tr>\n",
       "      <th>211</th>\n",
       "      <td>Decay_Topic1</td>\n",
       "      <td>3</td>\n",
       "      <td>0.118395</td>\n",
       "    </tr>\n",
       "    <tr>\n",
       "      <th>350</th>\n",
       "      <td>CLC2</td>\n",
       "      <td>9</td>\n",
       "      <td>0.121168</td>\n",
       "    </tr>\n",
       "    <tr>\n",
       "      <th>115</th>\n",
       "      <td>Topic1</td>\n",
       "      <td>2</td>\n",
       "      <td>0.122009</td>\n",
       "    </tr>\n",
       "    <tr>\n",
       "      <th>43</th>\n",
       "      <td>Combined_Sentiment</td>\n",
       "      <td>6</td>\n",
       "      <td>0.129859</td>\n",
       "    </tr>\n",
       "    <tr>\n",
       "      <th>266</th>\n",
       "      <td>Decay_Topic4</td>\n",
       "      <td>1</td>\n",
       "      <td>0.131926</td>\n",
       "    </tr>\n",
       "    <tr>\n",
       "      <th>22</th>\n",
       "      <td>Subjectivity</td>\n",
       "      <td>4</td>\n",
       "      <td>0.132560</td>\n",
       "    </tr>\n",
       "    <tr>\n",
       "      <th>354</th>\n",
       "      <td>CLC2</td>\n",
       "      <td>13</td>\n",
       "      <td>0.134282</td>\n",
       "    </tr>\n",
       "    <tr>\n",
       "      <th>140</th>\n",
       "      <td>Topic2</td>\n",
       "      <td>8</td>\n",
       "      <td>0.139632</td>\n",
       "    </tr>\n",
       "    <tr>\n",
       "      <th>62</th>\n",
       "      <td>Decay_Polarity</td>\n",
       "      <td>6</td>\n",
       "      <td>0.141504</td>\n",
       "    </tr>\n",
       "    <tr>\n",
       "      <th>157</th>\n",
       "      <td>Topic3</td>\n",
       "      <td>6</td>\n",
       "      <td>0.142592</td>\n",
       "    </tr>\n",
       "    <tr>\n",
       "      <th>174</th>\n",
       "      <td>Topic4</td>\n",
       "      <td>4</td>\n",
       "      <td>0.146012</td>\n",
       "    </tr>\n",
       "    <tr>\n",
       "      <th>314</th>\n",
       "      <td>CLC4</td>\n",
       "      <td>11</td>\n",
       "      <td>0.146746</td>\n",
       "    </tr>\n",
       "  </tbody>\n",
       "</table>\n",
       "</div>"
      ],
      "text/plain": [
       "                   type  lag         p\n",
       "156              Topic3    5  0.098527\n",
       "353                CLC2   12  0.101438\n",
       "42   Combined_Sentiment    5  0.102356\n",
       "139              Topic2    7  0.103006\n",
       "5              Polarity    6  0.104308\n",
       "313                CLC4   10  0.104320\n",
       "332                CLC3   10  0.113395\n",
       "175              Topic4    5  0.117546\n",
       "211        Decay_Topic1    3  0.118395\n",
       "350                CLC2    9  0.121168\n",
       "115              Topic1    2  0.122009\n",
       "43   Combined_Sentiment    6  0.129859\n",
       "266        Decay_Topic4    1  0.131926\n",
       "22         Subjectivity    4  0.132560\n",
       "354                CLC2   13  0.134282\n",
       "140              Topic2    8  0.139632\n",
       "62       Decay_Polarity    6  0.141504\n",
       "157              Topic3    6  0.142592\n",
       "174              Topic4    4  0.146012\n",
       "314                CLC4   11  0.146746"
      ]
     },
     "execution_count": 576,
     "metadata": {},
     "output_type": "execute_result"
    }
   ],
   "source": [
    "df_test.sort_values(\"p\")[20:40]"
   ]
  },
  {
   "cell_type": "code",
   "execution_count": null,
   "metadata": {},
   "outputs": [],
   "source": [
    "feature_name=\"day\"\n",
    "df_selected=df_Xy#[[feature_name,'CLC1']]"
   ]
  },
  {
   "cell_type": "code",
   "execution_count": null,
   "metadata": {},
   "outputs": [],
   "source": [
    "# feature selection with Granger\n",
    "# df_g_test=df.sort_values(\"p\")\n",
    "# selected_features_series=[]\n",
    "# for idx,each in df_g_test.iterrows():\n",
    "#     series=df_Xy[each[\"type\"]].shift(each[\"lag\"])\n",
    "#     series.name=f\"{each['type']}(t-{each['lag']})\"\n",
    "#     selected_features_series.append(series)\n",
    "# df_selected=pd.concat(selected_features_series,axis=1).dropna()\n",
    "# df_selected.columns[:]"
   ]
  },
  {
   "cell_type": "code",
   "execution_count": null,
   "metadata": {},
   "outputs": [],
   "source": [
    "df_selected[df_selected.columns[:1]].shape"
   ]
  },
  {
   "cell_type": "markdown",
   "metadata": {},
   "source": [
    "## Features processing"
   ]
  },
  {
   "cell_type": "code",
   "execution_count": 1304,
   "metadata": {},
   "outputs": [],
   "source": [
    "# preserve original price for inverting prediction\n",
    "df_original_price = df_Xy[[\"CLC1\"]].shift(h).dropna()\n",
    "# 1st order DIFF\n",
    "df_selected = df_Xy.diff().dropna()\n",
    "df_nodiff = df_Xy.dropna()\n",
    "# shift back $past days\n",
    "past=20\n",
    "df_selected = series_to_supervised(df_selected, past, h)\n",
    "df_nodiff = series_to_supervised(df_nodiff, past, h)\n",
    "# df_selected = series_to_supervised(df_emb, past, h)\n",
    "\n",
    "df_original_price = df_original_price[df_original_price.index.isin(df_selected.index)]\n",
    "# remove current day features for forecast\n",
    "for each in df_selected.columns[:-1]:\n",
    "    if \"(t)\" in each:\n",
    "        df_selected.drop(each, axis=1, inplace=True)\n",
    "        df_nodiff.drop(each, axis=1, inplace=True)\n",
    "        \n",
    "\n",
    "# add time feature without shift \n",
    "df_selected=pd.concat([df_dt,df_selected],axis=1).dropna()\n",
    "df_nodiff=pd.concat([df_dt,df_nodiff],axis=1).dropna()\n",
    "df_nodiff=df_nodiff[df_nodiff.index.isin(df_selected.index)]"
   ]
  },
  {
   "cell_type": "code",
   "execution_count": 1305,
   "metadata": {},
   "outputs": [],
   "source": [
    "# # EMB\n",
    "# df_emb = series_to_supervised(df_emb, past, h)\n",
    "# for each in df_emb.columns:\n",
    "#     if \"(t)\" in each:\n",
    "#         df_emb.drop(each, axis=1, inplace=True)\n",
    "# df_emb = df_emb[df_emb.index.isin(df_selected.index)]\n",
    "# df_emb.columns"
   ]
  },
  {
   "cell_type": "code",
   "execution_count": 1524,
   "metadata": {},
   "outputs": [
    {
     "data": {
      "text/plain": [
       "Index(['event(t-20)', 'event(t-19)', 'event(t-18)', 'event(t-17)',\n",
       "       'event(t-16)', 'event(t-15)', 'event(t-14)', 'event(t-13)',\n",
       "       'event(t-12)', 'event(t-11)', 'event(t-10)', 'event(t-9)', 'event(t-8)',\n",
       "       'event(t-7)', 'event(t-6)', 'event(t-5)', 'event(t-4)', 'event(t-3)',\n",
       "       'event(t-2)', 'event(t-1)'],\n",
       "      dtype='object')"
      ]
     },
     "execution_count": 1524,
     "metadata": {},
     "output_type": "execute_result"
    }
   ],
   "source": [
    "# event-EMB\n",
    "df_event_emb = series_to_supervised(df_event_emb[[\"event\"]], past, h)\n",
    "for each in df_event_emb.columns:\n",
    "    if \"(t)\" in each:\n",
    "        df_event_emb.drop(each, axis=1, inplace=True)\n",
    "df_event_emb = df_event_emb[df_event_emb.index.isin(df_selected.index)]\n",
    "df_event_emb.columns"
   ]
  },
  {
   "cell_type": "code",
   "execution_count": 1526,
   "metadata": {},
   "outputs": [
    {
     "name": "stdout",
     "output_type": "stream",
     "text": [
      "(1942, 404) | (1942, 1)\n",
      "(1942, 404) | (1942, 404)\n",
      "(1942, 404) | (1942, 20)\n"
     ]
    },
    {
     "data": {
      "text/plain": [
       "True"
      ]
     },
     "execution_count": 1526,
     "metadata": {},
     "output_type": "execute_result"
    }
   ],
   "source": [
    "df_selected=df_selected[df_selected.index.isin(df_event_emb.index)]\n",
    "df_nodiff=df_nodiff[df_nodiff.index.isin(df_event_emb.index)]\n",
    "df_original_price=df_original_price[df_original_price.index.isin(df_event_emb.index)]\n",
    "print(f\"{df_selected.shape} | {df_original_price.shape}\")\n",
    "print(f\"{df_selected.shape} | {df_nodiff.shape}\")\n",
    "print(f\"{df_selected.shape} | {df_event_emb.shape}\")\n",
    "(df_event_emb.index==df_selected.index).all()\n",
    "# df_selected.head(1)"
   ]
  },
  {
   "cell_type": "code",
   "execution_count": 1527,
   "metadata": {},
   "outputs": [
    {
     "name": "stdout",
     "output_type": "stream",
     "text": [
      "(1942, 20, 3, 900) | (1942, 20, 3, 900)\n"
     ]
    }
   ],
   "source": [
    "# emb =np.array([each.tolist() for each in df_emb.to_numpy()])\n",
    "event_emb= df_event_emb.to_numpy()\n",
    "event_emb =np.array([each.tolist() for each in event_emb])\n",
    "event_emb =np.array([each.tolist() for each in event_emb])\n",
    "print(f\"{event_emb.shape} | {event_emb.shape}\")"
   ]
  },
  {
   "cell_type": "code",
   "execution_count": 1528,
   "metadata": {},
   "outputs": [
    {
     "data": {
      "text/plain": [
       "'(1942, 403) |(1942, 403) |(1942, 1)'"
      ]
     },
     "execution_count": 1528,
     "metadata": {},
     "output_type": "execute_result"
    }
   ],
   "source": [
    "raw_X = df_selected.to_numpy()[:, :-1]\n",
    "no_diff_raw_X = df_nodiff.to_numpy()[:, :-1]\n",
    "y =  df_selected.to_numpy()[:, -1].reshape(-1, 1) \n",
    "no_diff_y =  df_nodiff.to_numpy()[:, -1].reshape(-1, 1) \n",
    "# y = df_Xy[df_Xy.index.isin(df_selected.index)].to_numpy()[:, -1].reshape(-1, 1)\n",
    "# y=df_WTI[df_WTI.index.isin(df_selected.index)][\"CLC1\"].to_numpy().reshape(-1, 1)\n",
    "f\"{raw_X.shape} |{no_diff_raw_X.shape} |{y.shape}\""
   ]
  },
  {
   "cell_type": "code",
   "execution_count": 1310,
   "metadata": {},
   "outputs": [],
   "source": [
    "# for embedding\n",
    "# raw_X=np.array([each.tolist() for each in raw_X])\n",
    "# raw_X=np.array([each.tolist() for each in raw_X])\n",
    "# raw_X.shape\n",
    "# X=raw_X"
   ]
  },
  {
   "cell_type": "code",
   "execution_count": 1311,
   "metadata": {},
   "outputs": [],
   "source": [
    "# dump for ARIMA\n",
    "# df_dump=df_Xy[df_Xy.index.isin(df_selected.index)]\n",
    "# df_dump.to_pickle(\"df_dump.pkl\")\n",
    "# df_Xy=pd.read_pickle(\"df_dump.pkl\")"
   ]
  },
  {
   "cell_type": "markdown",
   "metadata": {},
   "source": [
    "## Feature Selection"
   ]
  },
  {
   "cell_type": "code",
   "execution_count": 1312,
   "metadata": {},
   "outputs": [],
   "source": [
    "from sklearn.feature_selection import mutual_info_regression,RFE,RFECV,SelectFromModel,SequentialFeatureSelector,chi2,SelectKBest,f_regression,VarianceThreshold,r_regression\n",
    "from sklearn.linear_model import Ridge,Lasso\n",
    "from sklearn.tree import DecisionTreeRegressor,ExtraTreeRegressor\n",
    "from sklearn.svm import LinearSVR,SVR"
   ]
  },
  {
   "cell_type": "code",
   "execution_count": 1529,
   "metadata": {},
   "outputs": [
    {
     "name": "stdout",
     "output_type": "stream",
     "text": [
      "(1942, 403) | (1942, 1)\n",
      "(1942, 403) | (1942, 1)\n"
     ]
    }
   ],
   "source": [
    "print(f\"{raw_X.shape} | {y.shape}\")\n",
    "print(f\"{no_diff_raw_X.shape} | {no_diff_y.shape}\")"
   ]
  },
  {
   "cell_type": "code",
   "execution_count": 1244,
   "metadata": {},
   "outputs": [],
   "source": [
    "# from tsfel.feature_extraction.features import entropy,abs_energy,autocorr,neighbourhood_peaks\n",
    "# # tsfel.feature_extraction.features.abs_energy()\n",
    "# def tswrapper(a,b):\n",
    "#     # a=MinMaxScaler().fit_transform(raw_X)\n",
    "#     result=pd.DataFrame(a).apply(autocorr).to_numpy()\n",
    "#     return result"
   ]
  },
  {
   "cell_type": "code",
   "execution_count": 1530,
   "metadata": {},
   "outputs": [],
   "source": [
    "# selector based\n",
    "# estimator = Lasso(random_state=42)\n",
    "# estimator = DecisionTreeRegressor(random_state=42)\n",
    "estimator = Ridge(random_state=42)\n",
    "# estimator = LinearRegression()\n",
    "# estimator = LinearSVR(tol=0.001,max_iter=5000,random_state=42)\n",
    "# selector = RFE(estimator,n_features_to_select=20,step=1)\n",
    "# selector = RFECV(estimator, min_features_to_select=20, cv=get_TS_cv(),step=1,n_jobs=-1)\n",
    "# selector=SelectFromModel(estimator,max_features=20)\n",
    "selector=SequentialFeatureSelector(estimator,n_features_to_select=20,direction='forward',n_jobs=-1,cv=get_TS_cv())\n",
    "# selector=SelectKBest(mutual_info_regression,k=20)\n",
    "# selector=SelectKBest(tswrapper,k=20)\n",
    "# selector=VarianceThreshold(3.21)\n",
    "scaled_raw_X=MinMaxScaler().fit_transform(no_diff_raw_X)\n",
    "# scaled_y=MinMaxScaler().fit_transform(y)\n",
    "# selector = selector.fit(scaled_raw_X,scaled_y.ravel())\n",
    "selector = selector.fit(scaled_raw_X,no_diff_y.ravel())\n",
    "# selector = selector.fit(no_diff_raw_X,no_diff_y.ravel())"
   ]
  },
  {
   "cell_type": "code",
   "execution_count": 1531,
   "metadata": {},
   "outputs": [
    {
     "name": "stdout",
     "output_type": "stream",
     "text": [
      "(1942, 20) | (1942, 1)\n",
      "(1942, 20) | (1942, 1)\n"
     ]
    },
    {
     "data": {
      "text/plain": [
       "Index(['day', 'CLC1(t-20)', 'Topic5(t-19)', 'CLC4(t-19)', 'CLC1(t-19)',\n",
       "       'Topic5(t-18)', 'CLC4(t-18)', 'Decay_Topic1(t-17)', 'CLC1(t-17)',\n",
       "       'Decay_Topic3(t-14)', 'Topic1(t-12)', 'Decay_Topic5(t-8)', 'CLC1(t-3)',\n",
       "       'Subjectivity(t-2)', 'Topic5(t-2)', 'CLC1(t-2)', 'Topic3(t-1)',\n",
       "       'CLC3(t-1)', 'CLC2(t-1)', 'CLC1(t-1)'],\n",
       "      dtype='object')"
      ]
     },
     "execution_count": 1531,
     "metadata": {},
     "output_type": "execute_result"
    }
   ],
   "source": [
    "X = raw_X[:, selector.get_support()]\n",
    "no_diff_X = no_diff_raw_X[:, selector.get_support()]\n",
    "# X = raw_X\n",
    "feature_name=f\"all_{X.shape[-1]}\"\n",
    "print(f\"{X.shape} | {y.shape}\")\n",
    "print(f\"{no_diff_X.shape} | {no_diff_y.shape}\")\n",
    "df_selected.columns[:-1][selector.get_support()]"
   ]
  },
  {
   "cell_type": "code",
   "execution_count": 1421,
   "metadata": {},
   "outputs": [],
   "source": [
    "# from sklearn.decomposition import PCA,FastICA,FactorAnalysis,NMF\n",
    "# scaled_raw_X=MinMaxScaler((1,100)).fit_transform(raw_X)\n",
    "# # pca = PCA(n_components=150,svd_solver='full')\n",
    "# pca = NMF(n_components=150,max_iter=1000)\n",
    "# # decomposer = FactorAnalysis(n_components=7)\n",
    "# X=pca.fit_transform(scaled_raw_X)\n",
    "# feature_name=f\"NMF_{X.shape[-1]}\"\n",
    "# X.shape"
   ]
  },
  {
   "cell_type": "code",
   "execution_count": 1422,
   "metadata": {},
   "outputs": [],
   "source": [
    "# X=raw_X\n",
    "# X.shape"
   ]
  },
  {
   "cell_type": "markdown",
   "metadata": {},
   "source": [
    "## Linear Model"
   ]
  },
  {
   "cell_type": "code",
   "execution_count": 1532,
   "metadata": {},
   "outputs": [
    {
     "name": "stdout",
     "output_type": "stream",
     "text": [
      "\n",
      "Forecast Error (10-fold cross-validated performance):\n",
      "Ridge:\n",
      "MAE = 1.124 +/- 0.320\n",
      "RMSE = 1.443 +/- 0.420\n",
      "MAPE = 0.018 +/- 0.005\n",
      "\n",
      "Ridge_all_20,1.123988,1.443026,0.017696\n"
     ]
    }
   ],
   "source": [
    "from sklearn.svm import SVR, LinearSVR\n",
    "from sklearn.tree import DecisionTreeRegressor\n",
    "from sklearn.kernel_ridge import KernelRidge\n",
    "from sklearn.linear_model import LinearRegression, ARDRegression, SGDRegressor, ElasticNet, Lars, Lasso, GammaRegressor, TweedieRegressor, PoissonRegressor, Lasso, Ridge, BayesianRidge\n",
    "from sklearn.ensemble import AdaBoostRegressor,RandomForestRegressor\n",
    "\n",
    "lin_model=Ridge(random_state =42)    #LinearRegression,Ridge,LinearSVR\n",
    "model_name=\"Ridge\"\n",
    "\n",
    "msg=f\"{model_name}_{feature_name}\"\n",
    "\n",
    "X_scaler = MinMaxScaler()\n",
    "# scaled_X=X_scaler.fit_transform(X)\n",
    "scaled_X=X_scaler.fit_transform(no_diff_X)\n",
    "# scaled_X=X\n",
    "\n",
    "cv_results = cross_validate(lin_model,\n",
    "                                scaled_X,\n",
    "                                no_diff_y.ravel(),\n",
    "                                scoring=[\n",
    "                                    'neg_mean_absolute_error',\n",
    "                                    'neg_root_mean_squared_error',\n",
    "                                    'neg_mean_absolute_percentage_error'\n",
    "                                ],\n",
    "                                cv=get_TS_cv(),\n",
    "                                n_jobs=-1)\n",
    "mae = -cv_results[\"test_neg_mean_absolute_error\"]\n",
    "rmse = -cv_results[\"test_neg_root_mean_squared_error\"]\n",
    "mape = -cv_results[\"test_neg_mean_absolute_percentage_error\"]\n",
    "k = 10\n",
    "print(f\"\"\"\n",
    "Forecast Error ({k}-fold cross-validated performance):\n",
    "{lin_model.__class__.__name__}:\n",
    "MAE = {mae.mean():.3f} +/- {mae.std():.3f}\n",
    "RMSE = {rmse.mean():.3f} +/- {rmse.std():.3f}\n",
    "MAPE = {mape.mean():.3f} +/- {mape.std():.3f}\n",
    "\"\"\")\n",
    "print(f\"{msg},{mae.mean():.6f},{rmse.mean():.6f},{mape.mean():.6f}\")"
   ]
  },
  {
   "cell_type": "markdown",
   "metadata": {},
   "source": [
    "## Model"
   ]
  },
  {
   "cell_type": "code",
   "execution_count": 1533,
   "metadata": {},
   "outputs": [],
   "source": [
    "from keras.layers import Reshape,MaxPooling2D,Bidirectional,ConvLSTM2D\n",
    "import tensorflow as tf\n",
    "from tensorflow import keras\n",
    "from keras.models import Sequential\n",
    "from keras.layers import Dense\n",
    "from keras.layers import LSTM\n",
    "from keras.layers import GRU\n",
    "from keras.layers import SimpleRNN \n",
    "from keras.layers import Conv2D,Conv3D\n",
    "from keras.layers import Dropout\n",
    "from keras.layers import Input\n",
    "from keras.layers import Flatten\n",
    "from keras.models import Model\n",
    "from keras.layers.merge import concatenate\n",
    "from tensorflow.keras.optimizers import Adam\n",
    "tf.keras.backend.clear_session()\n",
    "physical_devices = tf.config.list_physical_devices('GPU') \n",
    "tf.config.experimental.set_memory_growth(physical_devices[0], True)\n",
    "tf.random.set_seed(seed_value)"
   ]
  },
  {
   "cell_type": "markdown",
   "metadata": {},
   "source": [
    "### Hold-out"
   ]
  },
  {
   "cell_type": "code",
   "execution_count": 1534,
   "metadata": {},
   "outputs": [
    {
     "data": {
      "text/plain": [
       "'(1942, 20) | (1942, 1) | (1942, 20, 3, 900)'"
      ]
     },
     "execution_count": 1534,
     "metadata": {},
     "output_type": "execute_result"
    }
   ],
   "source": [
    "# X=event_emb.reshape(-1,3,emb.shape[-1])\n",
    "# y=y.reshape(-1,1)\n",
    "# X=X.reshape(-1,10,900)\n",
    "# X=X.reshape(-1,10,3,900)\n",
    "emb=event_emb\n",
    "f\"{X.shape} | {y.shape} | {emb.shape}\""
   ]
  },
  {
   "cell_type": "code",
   "execution_count": 1603,
   "metadata": {},
   "outputs": [
    {
     "name": "stdout",
     "output_type": "stream",
     "text": [
      "train_X: (388, 1, 20)\n",
      "test_X:(1554, 1, 20)\n",
      "train_emb: (388, 20, 3, 900)\n",
      "test_emb:(1554, 20, 3, 900)\n",
      "train_y: (388, 1)\n",
      "test_y:(1554, 1)\n"
     ]
    }
   ],
   "source": [
    "length=X.shape[0]\n",
    "train_size=int(length*0.2)\n",
    "step_size=1\n",
    "\n",
    "# train_X=no_diff_X[:train_size]\n",
    "train_X=X[:train_size]\n",
    "train_emb=emb[:train_size,:,:]\n",
    "train_y=y[:train_size,:]\n",
    "# test_X=no_diff_X[train_size:]\n",
    "test_X=X[train_size:]\n",
    "test_emb=emb[train_size:,:,:]\n",
    "test_y=y[train_size:,:]\n",
    "\n",
    "X_scaler = MinMaxScaler()\n",
    "X_scaler.fit(train_X)\n",
    "y_scaler = MinMaxScaler(feature_range=(1, 100))\n",
    "# y_scaler = MinMaxScaler()\n",
    "y_scaler.fit(train_y)\n",
    "\n",
    "train_X=X_scaler.transform(train_X)\n",
    "test_X=X_scaler.transform(test_X)\n",
    "train_y=y_scaler.transform(train_y)\n",
    "test_y=y_scaler.transform(test_y)\n",
    "\n",
    "train_X=train_X.reshape(train_X.shape[0],step_size,train_X.shape[-1])\n",
    "test_X=test_X.reshape(test_X.shape[0],step_size,test_X.shape[-1])\n",
    "print(f\"train_X: {train_X.shape}\\ntest_X:{test_X.shape}\")\n",
    "print(f\"train_emb: {train_emb.shape}\\ntest_emb:{test_emb.shape}\")\n",
    "print(f\"train_y: {train_y.shape}\\ntest_y:{test_y.shape}\")"
   ]
  },
  {
   "cell_type": "code",
   "execution_count": 1537,
   "metadata": {},
   "outputs": [],
   "source": [
    "# from nbeats_keras.model import NBeatsNet\n",
    "# model = NBeatsNet(\n",
    "#     backcast_length=1, forecast_length=1,\n",
    "#     stack_types=(NBeatsNet.GENERIC_BLOCK, NBeatsNet.GENERIC_BLOCK),\n",
    "#     nb_blocks_per_stack=2, thetas_dim=(4, 4), share_weights_in_stack=True,\n",
    "#     hidden_layer_units=128\n",
    "# )\n",
    "# model.compile(loss='mse', optimizer='adam',run_eagerly=True)"
   ]
  },
  {
   "cell_type": "code",
   "execution_count": 1584,
   "metadata": {},
   "outputs": [],
   "source": [
    "emb_size=train_emb.shape[-1]\n",
    "emb_inputs = Input(shape=(past,3,emb_size))\n",
    "emb_model = Reshape((1,past,3,3,300))(emb_inputs)\n",
    "emb_model = Conv3D(50,(3,2,1), activation=\"relu\",padding='valid')(emb_model)\n",
    "emb_model = Dropout(0.3)(emb_model)\n",
    "emb_model = Conv3D(50,(5,1,2), activation=\"relu\",padding='valid')(emb_model)\n",
    "emb_model = Dropout(0.3)(emb_model)\n",
    "emb_model = Reshape((4,4,-1))(emb_model)\n",
    "emb_model = Conv2D(10,(2,2), activation=\"relu\",padding='valid')(emb_model)\n",
    "emb_model = Dropout(0.3)(emb_model)\n",
    "emb_model = Flatten()(emb_model)\n",
    "# emb_model = Dense(1)(emb_model)\n",
    "emb_model = Model(inputs=emb_inputs, outputs=emb_model)\n",
    "# opt=Adam(0.0007)\n",
    "# model.compile(loss='mae', optimizer=opt)\n",
    "# model.summary()"
   ]
  },
  {
   "cell_type": "code",
   "execution_count": 1585,
   "metadata": {},
   "outputs": [],
   "source": [
    "# tf.keras.backend.clear_session()\n",
    "ts_inputs = Input(shape=(step_size,train_X.shape[-1]))\n",
    "ts_model=Reshape((step_size,train_X.shape[-1]))(ts_inputs)\n",
    "ts_model=GRU(300,dropout=0.33,return_sequences=True)(ts_model)\n",
    "ts_model= Dropout(0.3)(ts_model)\n",
    "ts_model=GRU(300,dropout=0.33,return_sequences=False)(ts_model)\n",
    "ts_model= Dropout(0.3)(ts_model)\n",
    "# ts_model =Dense(1)(ts_model)\n",
    "ts_model = Model(inputs=ts_inputs, outputs=ts_model)\n",
    "# ts_model.compile(loss='mae', optimizer=Adam(0.0005))\n",
    "# ts_model.compile(loss='mae', optimizer=Adam(0.0005))\n",
    "# ts_model.compile(loss='log_cosh', optimizer=Adam(0.0002))\n",
    "# ts_model = Bidirectional(GRU(500,dropout=0.1,return_sequences=False))(ts_inputs)\n",
    "# ts_model= Dropout(0.2)(ts_model)\n",
    "# model = Model(inputs=ts_inputs, outputs=ts_model)\n",
    "# opt = Adam(learning_rate=0.001)\n",
    "# ts_model.summary()"
   ]
  },
  {
   "cell_type": "code",
   "execution_count": 1590,
   "metadata": {},
   "outputs": [],
   "source": [
    "combined_model = concatenate([ts_model.output,emb_model.output])\n",
    "combined_model= Reshape((1,-1),name='alpha')(combined_model)\n",
    "combined_model= Bidirectional(GRU(100,dropout=0.33,return_sequences=False))(combined_model)\n",
    "combined_model = Dropout(0.3)(combined_model)\n",
    "combined_model = Dense(1)(combined_model)\n",
    "model = Model(inputs=[ts_model.input,emb_model.input], outputs=combined_model)\n",
    "model.compile(loss='log_cosh', optimizer=Adam(0.0002))\n",
    "# model.compile(loss='msle', optimizer=Adam(0.0002))\n",
    "# model.compile(loss='mape', optimizer=Adam(0.0005))\n",
    "# model.summary()"
   ]
  },
  {
   "cell_type": "code",
   "execution_count": 1591,
   "metadata": {},
   "outputs": [
    {
     "name": "stdout",
     "output_type": "stream",
     "text": [
      "Epoch 1/100\n",
      "33/33 [==============================] - 4s 34ms/step - loss: 50.5433 - val_loss: 44.0036\n",
      "Epoch 2/100\n",
      "33/33 [==============================] - 0s 8ms/step - loss: 41.6863 - val_loss: 38.2930\n",
      "Epoch 3/100\n",
      "33/33 [==============================] - 0s 7ms/step - loss: 37.0098 - val_loss: 35.5844\n",
      "Epoch 4/100\n",
      "33/33 [==============================] - 0s 7ms/step - loss: 34.4763 - val_loss: 33.7097\n",
      "Epoch 5/100\n",
      "33/33 [==============================] - 0s 8ms/step - loss: 32.7347 - val_loss: 32.0690\n",
      "Epoch 6/100\n",
      "33/33 [==============================] - 0s 7ms/step - loss: 31.1033 - val_loss: 30.5548\n",
      "Epoch 7/100\n",
      "33/33 [==============================] - 0s 8ms/step - loss: 29.5700 - val_loss: 29.0862\n",
      "Epoch 8/100\n",
      "33/33 [==============================] - 0s 8ms/step - loss: 28.1395 - val_loss: 27.6493\n",
      "Epoch 9/100\n",
      "33/33 [==============================] - 0s 8ms/step - loss: 26.7337 - val_loss: 26.2337\n",
      "Epoch 10/100\n",
      "33/33 [==============================] - 0s 8ms/step - loss: 25.3978 - val_loss: 24.8357\n",
      "Epoch 11/100\n",
      "33/33 [==============================] - 0s 8ms/step - loss: 24.0456 - val_loss: 23.4561\n",
      "Epoch 12/100\n",
      "33/33 [==============================] - 0s 8ms/step - loss: 22.6386 - val_loss: 22.0936\n",
      "Epoch 13/100\n",
      "33/33 [==============================] - 0s 7ms/step - loss: 21.1772 - val_loss: 20.7399\n",
      "Epoch 14/100\n",
      "33/33 [==============================] - 0s 8ms/step - loss: 20.0069 - val_loss: 19.4031\n",
      "Epoch 15/100\n",
      "33/33 [==============================] - 0s 8ms/step - loss: 18.6589 - val_loss: 18.0838\n",
      "Epoch 16/100\n",
      "33/33 [==============================] - 0s 7ms/step - loss: 17.3369 - val_loss: 16.7835\n",
      "Epoch 17/100\n",
      "33/33 [==============================] - 0s 7ms/step - loss: 16.0948 - val_loss: 15.5064\n",
      "Epoch 18/100\n",
      "33/33 [==============================] - 0s 7ms/step - loss: 14.8114 - val_loss: 14.2505\n",
      "Epoch 19/100\n",
      "33/33 [==============================] - 0s 7ms/step - loss: 13.7025 - val_loss: 13.0565\n",
      "Epoch 20/100\n",
      "33/33 [==============================] - 0s 7ms/step - loss: 12.6097 - val_loss: 11.8971\n",
      "Epoch 21/100\n",
      "33/33 [==============================] - 0s 7ms/step - loss: 11.5540 - val_loss: 10.8002\n",
      "Epoch 22/100\n",
      "33/33 [==============================] - 0s 7ms/step - loss: 10.7248 - val_loss: 9.7885\n",
      "Epoch 23/100\n",
      "33/33 [==============================] - 0s 7ms/step - loss: 10.0031 - val_loss: 8.8616\n",
      "Epoch 24/100\n",
      "33/33 [==============================] - 0s 7ms/step - loss: 9.2428 - val_loss: 8.0261\n",
      "Epoch 25/100\n",
      "33/33 [==============================] - 0s 7ms/step - loss: 8.6350 - val_loss: 7.2964\n",
      "Epoch 26/100\n",
      "33/33 [==============================] - 0s 7ms/step - loss: 8.0905 - val_loss: 6.6599\n",
      "Epoch 27/100\n",
      "33/33 [==============================] - 0s 7ms/step - loss: 7.6061 - val_loss: 6.1220\n",
      "Epoch 28/100\n",
      "33/33 [==============================] - 0s 7ms/step - loss: 7.2911 - val_loss: 5.6632\n",
      "Epoch 29/100\n",
      "33/33 [==============================] - 0s 7ms/step - loss: 7.0038 - val_loss: 5.2775\n",
      "Epoch 30/100\n",
      "33/33 [==============================] - 0s 7ms/step - loss: 6.7722 - val_loss: 4.9691\n",
      "Epoch 31/100\n",
      "33/33 [==============================] - 0s 7ms/step - loss: 6.7353 - val_loss: 4.7235\n",
      "Epoch 32/100\n",
      "33/33 [==============================] - 0s 7ms/step - loss: 6.5218 - val_loss: 4.5283\n",
      "Epoch 33/100\n",
      "33/33 [==============================] - 0s 7ms/step - loss: 6.5096 - val_loss: 4.3777\n",
      "Epoch 34/100\n",
      "33/33 [==============================] - 0s 7ms/step - loss: 6.3549 - val_loss: 4.2563\n",
      "Epoch 35/100\n",
      "33/33 [==============================] - 0s 7ms/step - loss: 6.4188 - val_loss: 4.1623\n",
      "Epoch 36/100\n",
      "33/33 [==============================] - 0s 7ms/step - loss: 6.3896 - val_loss: 4.0939\n",
      "Epoch 37/100\n",
      "33/33 [==============================] - 0s 7ms/step - loss: 6.3836 - val_loss: 4.0277\n",
      "Epoch 38/100\n",
      "33/33 [==============================] - 0s 7ms/step - loss: 6.2098 - val_loss: 3.9837\n",
      "Epoch 39/100\n",
      "33/33 [==============================] - 0s 7ms/step - loss: 6.2982 - val_loss: 3.9524\n",
      "Epoch 40/100\n",
      "33/33 [==============================] - 0s 7ms/step - loss: 6.3084 - val_loss: 3.9231\n",
      "Epoch 41/100\n",
      "33/33 [==============================] - 0s 7ms/step - loss: 6.2898 - val_loss: 3.9059\n",
      "Epoch 42/100\n",
      "33/33 [==============================] - 0s 7ms/step - loss: 6.2455 - val_loss: 3.8930\n",
      "Epoch 43/100\n",
      "33/33 [==============================] - 0s 7ms/step - loss: 6.2623 - val_loss: 3.8827\n",
      "Epoch 44/100\n",
      "33/33 [==============================] - 0s 7ms/step - loss: 6.2060 - val_loss: 3.8742\n",
      "Epoch 45/100\n",
      "33/33 [==============================] - 0s 7ms/step - loss: 6.1783 - val_loss: 3.8711\n",
      "Epoch 46/100\n",
      "33/33 [==============================] - 0s 7ms/step - loss: 6.1766 - val_loss: 3.8620\n",
      "Epoch 47/100\n",
      "33/33 [==============================] - 0s 7ms/step - loss: 6.2795 - val_loss: 3.8496\n",
      "Epoch 48/100\n",
      "33/33 [==============================] - 0s 7ms/step - loss: 6.2282 - val_loss: 3.8428\n",
      "Epoch 49/100\n",
      "33/33 [==============================] - 0s 7ms/step - loss: 6.2031 - val_loss: 3.8405\n",
      "Epoch 50/100\n",
      "33/33 [==============================] - 0s 7ms/step - loss: 6.2490 - val_loss: 3.8430\n",
      "Epoch 51/100\n",
      "33/33 [==============================] - 0s 7ms/step - loss: 6.4052 - val_loss: 3.8476\n",
      "Epoch 52/100\n",
      "33/33 [==============================] - 0s 7ms/step - loss: 6.2099 - val_loss: 3.8480\n",
      "Epoch 53/100\n",
      "33/33 [==============================] - 0s 7ms/step - loss: 6.2653 - val_loss: 3.8486\n",
      "Epoch 54/100\n",
      "33/33 [==============================] - 0s 7ms/step - loss: 6.2542 - val_loss: 3.8441\n",
      "Epoch 55/100\n",
      "33/33 [==============================] - 0s 7ms/step - loss: 6.2637 - val_loss: 3.8374\n",
      "Epoch 56/100\n",
      "33/33 [==============================] - 0s 7ms/step - loss: 6.2639 - val_loss: 3.8382\n",
      "Epoch 57/100\n",
      "33/33 [==============================] - 0s 7ms/step - loss: 6.1508 - val_loss: 3.8401\n",
      "Epoch 58/100\n",
      "33/33 [==============================] - 0s 7ms/step - loss: 6.3153 - val_loss: 3.8375\n",
      "Epoch 59/100\n",
      "33/33 [==============================] - 0s 7ms/step - loss: 6.1986 - val_loss: 3.8411\n",
      "Epoch 60/100\n",
      "33/33 [==============================] - 0s 7ms/step - loss: 6.2915 - val_loss: 3.8349\n",
      "Epoch 61/100\n",
      "33/33 [==============================] - 0s 7ms/step - loss: 6.2728 - val_loss: 3.8393\n",
      "Epoch 62/100\n",
      "33/33 [==============================] - 0s 7ms/step - loss: 6.2605 - val_loss: 3.8424\n",
      "Epoch 63/100\n",
      "33/33 [==============================] - 0s 7ms/step - loss: 6.1657 - val_loss: 3.8513\n",
      "Epoch 64/100\n",
      "33/33 [==============================] - 0s 7ms/step - loss: 6.2028 - val_loss: 3.8548\n",
      "Epoch 65/100\n",
      "33/33 [==============================] - 0s 7ms/step - loss: 6.2325 - val_loss: 3.8511\n",
      "Epoch 66/100\n",
      "33/33 [==============================] - 0s 7ms/step - loss: 6.2471 - val_loss: 3.8487\n",
      "Epoch 67/100\n",
      "33/33 [==============================] - 0s 7ms/step - loss: 6.3880 - val_loss: 3.8526\n",
      "Epoch 68/100\n",
      "33/33 [==============================] - 0s 7ms/step - loss: 6.2036 - val_loss: 3.8507\n",
      "Epoch 69/100\n",
      "33/33 [==============================] - 0s 7ms/step - loss: 6.3813 - val_loss: 3.8413\n",
      "Epoch 70/100\n",
      "33/33 [==============================] - 0s 7ms/step - loss: 6.1985 - val_loss: 3.8315\n",
      "Epoch 71/100\n",
      "33/33 [==============================] - 0s 7ms/step - loss: 6.1629 - val_loss: 3.8249\n",
      "Epoch 72/100\n",
      "33/33 [==============================] - 0s 7ms/step - loss: 6.4023 - val_loss: 3.8264\n",
      "Epoch 73/100\n",
      "33/33 [==============================] - 0s 7ms/step - loss: 6.2132 - val_loss: 3.8322\n",
      "Epoch 74/100\n",
      "33/33 [==============================] - 0s 7ms/step - loss: 6.3440 - val_loss: 3.8446\n",
      "Epoch 75/100\n",
      "33/33 [==============================] - 0s 7ms/step - loss: 6.1163 - val_loss: 3.8396\n",
      "Epoch 76/100\n",
      "33/33 [==============================] - 0s 7ms/step - loss: 6.2759 - val_loss: 3.8324\n",
      "Epoch 77/100\n",
      "33/33 [==============================] - 0s 7ms/step - loss: 6.2175 - val_loss: 3.8340\n",
      "Epoch 78/100\n",
      "33/33 [==============================] - 0s 7ms/step - loss: 6.2291 - val_loss: 3.8336\n",
      "Epoch 79/100\n",
      "33/33 [==============================] - 0s 7ms/step - loss: 6.2665 - val_loss: 3.8405\n",
      "Epoch 80/100\n",
      "33/33 [==============================] - 0s 7ms/step - loss: 6.3934 - val_loss: 3.8317\n",
      "Epoch 81/100\n",
      "33/33 [==============================] - 0s 7ms/step - loss: 6.2830 - val_loss: 3.8424\n",
      "Epoch 82/100\n",
      "33/33 [==============================] - 0s 7ms/step - loss: 6.2237 - val_loss: 3.8465\n",
      "Epoch 83/100\n",
      "33/33 [==============================] - 0s 7ms/step - loss: 6.2027 - val_loss: 3.8447\n",
      "Epoch 84/100\n",
      "33/33 [==============================] - 0s 7ms/step - loss: 6.3551 - val_loss: 3.8291\n",
      "Epoch 85/100\n",
      "33/33 [==============================] - 0s 7ms/step - loss: 6.2195 - val_loss: 3.8223\n",
      "Epoch 86/100\n",
      "33/33 [==============================] - 0s 7ms/step - loss: 6.3747 - val_loss: 3.8376\n",
      "Epoch 87/100\n",
      "33/33 [==============================] - 0s 7ms/step - loss: 6.3235 - val_loss: 3.8329\n",
      "Epoch 88/100\n",
      "33/33 [==============================] - 0s 7ms/step - loss: 6.3083 - val_loss: 3.8394\n",
      "Epoch 89/100\n",
      "33/33 [==============================] - 0s 7ms/step - loss: 6.2181 - val_loss: 3.8363\n",
      "Epoch 90/100\n",
      "33/33 [==============================] - 0s 7ms/step - loss: 6.3119 - val_loss: 3.8416\n",
      "Epoch 91/100\n",
      "33/33 [==============================] - 0s 7ms/step - loss: 6.3192 - val_loss: 3.8807\n",
      "Epoch 92/100\n",
      "33/33 [==============================] - 0s 7ms/step - loss: 6.1908 - val_loss: 3.8160\n",
      "Epoch 93/100\n",
      "33/33 [==============================] - 0s 7ms/step - loss: 6.3064 - val_loss: 3.8126\n",
      "Epoch 94/100\n",
      "33/33 [==============================] - 0s 7ms/step - loss: 6.2939 - val_loss: 3.8166\n",
      "Epoch 95/100\n",
      "33/33 [==============================] - 0s 7ms/step - loss: 6.2365 - val_loss: 3.8225\n",
      "Epoch 96/100\n",
      "33/33 [==============================] - 0s 7ms/step - loss: 6.3498 - val_loss: 3.8302\n",
      "Epoch 97/100\n",
      "33/33 [==============================] - 0s 7ms/step - loss: 6.2226 - val_loss: 3.8337\n",
      "Epoch 98/100\n",
      "33/33 [==============================] - 0s 7ms/step - loss: 6.1928 - val_loss: 3.8452\n",
      "Epoch 99/100\n",
      "33/33 [==============================] - 0s 7ms/step - loss: 6.3944 - val_loss: 3.8439\n",
      "Epoch 100/100\n",
      "33/33 [==============================] - 0s 7ms/step - loss: 6.3116 - val_loss: 3.8284\n"
     ]
    },
    {
     "data": {
      "image/png": "[encoded data removed]",
      "text/plain": [
       "<Figure size 432x288 with 1 Axes>"
      ]
     },
     "metadata": {
      "needs_background": "light"
     },
     "output_type": "display_data"
    }
   ],
   "source": [
    "df_forecast_error = pd.DataFrame(\n",
    "        columns=['h', 'mae', 'rmse', 'mape', 'descriptions'])\n",
    "history = model.fit([train_X,train_emb], train_y, epochs=100, batch_size=40, validation_data=([test_X,test_emb], test_y), verbose=1, shuffle=False)\n",
    "# history = model.fit(train_X, train_y, epochs=100, batch_size=50, validation_data=(test_X, test_y), verbose=1, shuffle=False)\n",
    "# # plot history\n",
    "pyplot.plot(history.history['loss'], label='train')\n",
    "pyplot.plot(history.history['val_loss'], label='test')\n",
    "pyplot.legend()\n",
    "pyplot.show()"
   ]
  },
  {
   "cell_type": "code",
   "execution_count": 1604,
   "metadata": {},
   "outputs": [
    {
     "data": {
      "text/plain": [
       "(1554, 1)"
      ]
     },
     "execution_count": 1604,
     "metadata": {},
     "output_type": "execute_result"
    }
   ],
   "source": [
    "pred_y = model.predict([test_X,test_emb])\n",
    "# pred_y = ts_model.predict(test_X)\n",
    "pred_y.shape"
   ]
  },
  {
   "cell_type": "code",
   "execution_count": 1605,
   "metadata": {},
   "outputs": [
    {
     "name": "stdout",
     "output_type": "stream",
     "text": [
      "GRU_all_20,0.25729577879565246,0.4798211570081325,0.0043619089617312635\n"
     ]
    },
    {
     "data": {
      "text/plain": [
       "{'h': 1,\n",
       " 'mae': [0.25729577879565246],\n",
       " 'rmse': [0.4798211570081325],\n",
       " 'mape': [0.0043619089617312635],\n",
       " 'r2': [0.9995455821869985],\n",
       " 'descriptions': ''}"
      ]
     },
     "execution_count": 1605,
     "metadata": {},
     "output_type": "execute_result"
    }
   ],
   "source": [
    "# pred_y=pred_y[:,0,0,0]\n",
    "inverted_pred_y = y_scaler.inverse_transform(pred_y.reshape(test_y.shape))\n",
    "inverted_test_y = y_scaler.inverse_transform(test_y)\n",
    "original_test_price=df_original_price.to_numpy()[train_size:]\n",
    "inverted_pred_y=inverted_pred_y+original_test_price\n",
    "inverted_test_y=inverted_test_y+original_test_price\n",
    "forecast_error=evaluate_series(inverted_test_y, inverted_pred_y, h)\n",
    "\n",
    "print(f\"GRU_{feature_name},{forecast_error['mae'][0]},{forecast_error['rmse'][0]},{forecast_error['mape'][0]}\")\n",
    "forecast_error"
   ]
  },
  {
   "cell_type": "code",
   "execution_count": 1560,
   "metadata": {},
   "outputs": [
    {
     "name": "stdout",
     "output_type": "stream",
     "text": [
      "{'h': 1, 'mae': [0.8115788567857242], 'rmse': [1.0420204326597036], 'mape': [0.014648791923708104], 'r2': [0.985414296864114], 'descriptions': ''}\n",
      "\n",
      "Forecast Error (1-fold cross-validation)\n",
      "X: (1942, 20)\n",
      "y: (1942, 1)\n",
      "h= 1\n",
      "Model: Functional\n",
      "MAE = 0.811579 +/- nan\n",
      "RMSE = 1.042020 +/- nan\n",
      "MAPE = 0.014649 +/- nan\n",
      "\n",
      "\n"
     ]
    }
   ],
   "source": [
    "print(forecast_error)\n",
    "df_forecast_error = df_forecast_error.append(\n",
    "    pd.DataFrame(forecast_error), ignore_index=True)\n",
    "mae = df_forecast_error[\"mae\"]\n",
    "rmse = df_forecast_error[\"rmse\"]\n",
    "mape = df_forecast_error[\"mape\"]\n",
    "k = 1\n",
    "msg = f\"\"\"\n",
    "Forecast Error ({k}-fold cross-validation)\n",
    "X: {X.shape}\n",
    "y: {y.shape}\n",
    "h= {h}\n",
    "Model: {model.__class__.__name__}\n",
    "MAE = {mae.mean():.6f} +/- {mae.std():.3f}\n",
    "RMSE = {rmse.mean():.6f} +/- {rmse.std():.3f}\n",
    "MAPE = {mape.mean():.6f} +/- {mape.std():.3f}\n",
    "\"\"\"\n",
    "print(msg)\n",
    "logging.info(msg)\n",
    "evaluation_result = {\n",
    "'h': h,\n",
    "'mae': [mae.mean()],\n",
    "'rmse': [rmse.mean()],\n",
    "'mape': [mape.mean()],\n",
    "'descriptions': [msg]\n",
    "}\n",
    "print()"
   ]
  },
  {
   "cell_type": "code",
   "execution_count": 1572,
   "metadata": {},
   "outputs": [],
   "source": [
    "# df_forecast_error\n",
    "# model.save_weights(\"weights.h5\")\n",
    "model.sa"
   ]
  },
  {
   "cell_type": "code",
   "execution_count": null,
   "metadata": {},
   "outputs": [],
   "source": [
    "# evaluate_series(inverted_test_y, inverted_pred_y, h)"
   ]
  },
  {
   "cell_type": "markdown",
   "metadata": {},
   "source": [
    "### Export Model"
   ]
  },
  {
   "cell_type": "code",
   "execution_count": 1607,
   "metadata": {},
   "outputs": [],
   "source": [
    "# import pickle\n",
    "# import gzip\n",
    "\n",
    "# with gzip.GzipFile('./trained_models/model.pgz', 'w') as f:\n",
    "#     pickle.dump(model, f)"
   ]
  },
  {
   "cell_type": "code",
   "execution_count": 1608,
   "metadata": {},
   "outputs": [],
   "source": [
    "# with gzip.open('./trained_models/model.pgz', 'r') as f:\n",
    "#     trained_model = pickle.load(f)"
   ]
  },
  {
   "cell_type": "code",
   "execution_count": 1611,
   "metadata": {},
   "outputs": [
    {
     "data": {
      "text/plain": [
       "{'h': 1,\n",
       " 'mae': [0.25729577879565246],\n",
       " 'rmse': [0.4798211570081325],\n",
       " 'mape': [13233433202325.06],\n",
       " 'r2': [0.8308924140488874],\n",
       " 'descriptions': ''}"
      ]
     },
     "execution_count": 1611,
     "metadata": {},
     "output_type": "execute_result"
    }
   ],
   "source": [
    "# pred_y = trained_model.predict([test_X,test_emb])\n",
    "# inverted_pred_y = y_scaler.inverse_transform(pred_y.reshape(-1, 1))\n",
    "# inverted_test_y = y_scaler.inverse_transform(test_y)  # should be same as testXy\n",
    "# # inverted_pred_y=inverted_pred_y.ravel()+df_original_price.Price.to_numpy()[train_size:]\n",
    "# # inverted_test_y=inverted_test_y.ravel()+df_original_price.Price.to_numpy()[train_size:]\n",
    "# forecast_error = evaluate_series(inverted_test_y, inverted_pred_y, h)\n",
    "# forecast_error"
   ]
  },
  {
   "cell_type": "code",
   "execution_count": null,
   "metadata": {},
   "outputs": [],
   "source": [
    "# export architecture as json \n",
    "# model.to_json()"
   ]
  },
  {
   "cell_type": "markdown",
   "metadata": {},
   "source": [
    "### k-fold"
   ]
  },
  {
   "cell_type": "code",
   "execution_count": null,
   "metadata": {},
   "outputs": [],
   "source": [
    "# prepare models\n",
    "step_size=1\n",
    "ts_size=X.shape[-1]\n",
    "\n",
    "ts_inputs = Input(shape=(step_size,ts_size),name='ts_input')\n",
    "# ts_model = Bidirectional(GRU(300,dropout=0.3,return_sequences=False))(ts_inputs)\n",
    "# ts_model = LSTM(300,dropout=0.3,return_sequences=False)(ts_inputs)\n",
    "# ts_model = Bidirectional(GRU(300,dropout=0.4,return_sequences=False))(ts_model)\n",
    "# ts_model= Dropout(0.4)(ts_model)\n",
    "ts_model=Reshape((step_size,ts_size))(ts_inputs)\n",
    "ts_model=GRU(300,dropout=0.33,return_sequences=True)(ts_model)\n",
    "ts_model= Dropout(0.3)(ts_model)\n",
    "ts_model=GRU(300,dropout=0.33,return_sequences=False)(ts_model)\n",
    "ts_model= Dropout(0.3)(ts_model)\n",
    "# ts_model=Bidirectional(ConvLSTM2D(300,(1,5),dropout=0.3,return_sequences=False))(ts_model)\n",
    "# ts_model=ConvLSTM2D(300,(1,5),dropout=0.3,return_sequences=True)(ts_model)\n",
    "# ts_model=ConvLSTM2D(300,(1,5),dropout=0.3,return_sequences=False)(ts_model)\n",
    "# ts_model=Reshape((10,100))(ts_model)\n",
    "# ts_model = Bidirectional(GRU(200,dropout=0.1,return_sequences=True))(ts_model)\n",
    "# ts_model = Bidirectional(GRU(100,dropout=0.1,return_sequences=False))(ts_model)\n",
    "# ts_model = Dense(1)(ts_model)\n",
    "# ts_model=Reshape((1,-1))(ts_model)\n",
    "# ts_model = Dense(1)(ts_model)\n",
    "ts_model = Model(inputs=ts_inputs, outputs=ts_model)\n",
    "# model.compile(loss='mape', optimizer='adam')\n",
    "# model.summary()"
   ]
  },
  {
   "cell_type": "code",
   "execution_count": null,
   "metadata": {},
   "outputs": [],
   "source": [
    "emb_size=emb.shape[-1]\n",
    "emb_inputs = Input(shape=(10,3,emb_size),name='emb_input')\n",
    "emb_model = Reshape((1,10,3,3,300),name='emb_reshape')(emb_inputs)\n",
    "emb_model = Conv3D(50,(3,2,1), activation=\"relu\",padding='valid')(emb_model)\n",
    "emb_model = Dropout(0.3)(emb_model)\n",
    "emb_model = Conv3D(50,(5,1,2), activation=\"relu\",padding='valid')(emb_model)\n",
    "emb_model = Dropout(0.3)(emb_model)\n",
    "emb_model = Reshape((4,4,-1))(emb_model)\n",
    "emb_model = Conv2D(10,(2,2), activation=\"relu\",padding='valid')(emb_model)\n",
    "emb_model = Dropout(0.3)(emb_model)\n",
    "# emb_model = Reshape((1,18,-1))(emb_model)\n",
    "# emb_model = Dropout(0.4)(emb_model) \n",
    "# emb_model = Dropout(0.4)(emb_model) \n",
    "emb_model = Flatten()(emb_model)\n",
    "# emb_model = Dense(1)(emb_model)\n",
    "# opt=Adam(0.0007)\n",
    "emb_model = Model(inputs=emb_inputs, outputs=emb_model)\n",
    "# emb_model.compile(loss='mae', optimizer=opt)\n",
    "# emb_model = Dense(10)(emb_model)\n",
    "# emb_model.compile(loss='mape', optimizer='adam')\n",
    "# emb_model.summary()"
   ]
  },
  {
   "cell_type": "code",
   "execution_count": 1594,
   "metadata": {},
   "outputs": [
    {
     "name": "stdout",
     "output_type": "stream",
     "text": [
      "Model: \"model_18\"\n",
      "__________________________________________________________________________________________________\n",
      " Layer (type)                   Output Shape         Param #     Connected to                     \n",
      "==================================================================================================\n",
      " input_6 (InputLayer)           [(None, 20, 3, 900)  0           []                               \n",
      "                                ]                                                                 \n",
      "                                                                                                  \n",
      " reshape_7 (Reshape)            (None, 1, 20, 3, 3,  0           ['input_6[0][0]']                \n",
      "                                 300)                                                             \n",
      "                                                                                                  \n",
      " conv3d_4 (Conv3D)              (None, 1, 18, 2, 3,  90050       ['reshape_7[0][0]']              \n",
      "                                 50)                                                              \n",
      "                                                                                                  \n",
      " dropout_21 (Dropout)           (None, 1, 18, 2, 3,  0           ['conv3d_4[0][0]']               \n",
      "                                 50)                                                              \n",
      "                                                                                                  \n",
      " input_7 (InputLayer)           [(None, 1, 20)]      0           []                               \n",
      "                                                                                                  \n",
      " conv3d_5 (Conv3D)              (None, 1, 14, 2, 2,  25050       ['dropout_21[0][0]']             \n",
      "                                 50)                                                              \n",
      "                                                                                                  \n",
      " reshape_9 (Reshape)            (None, 1, 20)        0           ['input_7[0][0]']                \n",
      "                                                                                                  \n",
      " dropout_22 (Dropout)           (None, 1, 14, 2, 2,  0           ['conv3d_5[0][0]']               \n",
      "                                 50)                                                              \n",
      "                                                                                                  \n",
      " gru_15 (GRU)                   (None, 1, 300)       289800      ['reshape_9[0][0]']              \n",
      "                                                                                                  \n",
      " reshape_8 (Reshape)            (None, 4, 4, 175)    0           ['dropout_22[0][0]']             \n",
      "                                                                                                  \n",
      " dropout_24 (Dropout)           (None, 1, 300)       0           ['gru_15[0][0]']                 \n",
      "                                                                                                  \n",
      " conv2d_2 (Conv2D)              (None, 3, 3, 10)     7010        ['reshape_8[0][0]']              \n",
      "                                                                                                  \n",
      " gru_16 (GRU)                   (None, 300)          541800      ['dropout_24[0][0]']             \n",
      "                                                                                                  \n",
      " dropout_23 (Dropout)           (None, 3, 3, 10)     0           ['conv2d_2[0][0]']               \n",
      "                                                                                                  \n",
      " dropout_25 (Dropout)           (None, 300)          0           ['gru_16[0][0]']                 \n",
      "                                                                                                  \n",
      " flatten_2 (Flatten)            (None, 90)           0           ['dropout_23[0][0]']             \n",
      "                                                                                                  \n",
      " concatenate_11 (Concatenate)   (None, 390)          0           ['dropout_25[0][0]',             \n",
      "                                                                  'flatten_2[0][0]']              \n",
      "                                                                                                  \n",
      " alpha (Reshape)                (None, 1, 390)       0           ['concatenate_11[0][0]']         \n",
      "                                                                                                  \n",
      " bidirectional_11 (Bidirectiona  (None, 200)         295200      ['alpha[0][0]']                  \n",
      " l)                                                                                               \n",
      "                                                                                                  \n",
      " dropout_28 (Dropout)           (None, 200)          0           ['bidirectional_11[0][0]']       \n",
      "                                                                                                  \n",
      " dense_11 (Dense)               (None, 1)            201         ['dropout_28[0][0]']             \n",
      "                                                                                                  \n",
      "==================================================================================================\n",
      "Total params: 1,249,111\n",
      "Trainable params: 1,249,111\n",
      "Non-trainable params: 0\n",
      "__________________________________________________________________________________________________\n"
     ]
    }
   ],
   "source": [
    "combined_model = concatenate([ts_model.output,emb_model.output])\n",
    "combined_model= Reshape((1,-1),name='alpha')(combined_model)\n",
    "combined_model= Bidirectional(GRU(100,dropout=0.33,return_sequences=False))(combined_model)\n",
    "# combined_model= Bidirectional(GRU(200,dropout=0.33,return_sequences=True))(combined_model)\n",
    "# combined_model= Bidirectional(SimpleRNN(100,dropout=0.3))(combined_model)\n",
    "combined_model = Dropout(0.3)(combined_model)\n",
    "combined_model = Dense(1)(combined_model)\n",
    "model = Model(inputs=[ts_model.input,emb_model.input], outputs=combined_model)\n",
    "# model.compile(loss='mae', optimizer='adam')\n",
    "model.summary()"
   ]
  },
  {
   "cell_type": "code",
   "execution_count": null,
   "metadata": {},
   "outputs": [],
   "source": [
    "emb.shape"
   ]
  },
  {
   "cell_type": "code",
   "execution_count": 1596,
   "metadata": {},
   "outputs": [
    {
     "name": "stdout",
     "output_type": "stream",
     "text": [
      "train_X: (182, 1, 20) test_X:(176, 1, 20)\n",
      "train_y: (182, 1) test_y:(176, 1)\n"
     ]
    },
    {
     "data": {
      "image/png": "[encoded data removed]",
      "text/plain": [
       "<Figure size 432x288 with 1 Axes>"
      ]
     },
     "metadata": {
      "needs_background": "light"
     },
     "output_type": "display_data"
    },
    {
     "name": "stdout",
     "output_type": "stream",
     "text": [
      "pred_y: (176, 1)\n",
      "{'h': 1, 'mae': [0.19685484268183873], 'rmse': [0.4565731672784555], 'mape': [0.0021497435045786523], 'r2': [0.9967096389798883], 'descriptions': ''}\n",
      "train_X: (358, 1, 20) test_X:(176, 1, 20)\n",
      "train_y: (358, 1) test_y:(176, 1)\n"
     ]
    },
    {
     "data": {
      "image/png": "[encoded data removed]",
      "text/plain": [
       "<Figure size 432x288 with 1 Axes>"
      ]
     },
     "metadata": {
      "needs_background": "light"
     },
     "output_type": "display_data"
    },
    {
     "name": "stdout",
     "output_type": "stream",
     "text": [
      "pred_y: (176, 1)\n",
      "{'h': 1, 'mae': [0.14268327202748463], 'rmse': [0.18489075342558353], 'mape': [0.0015268855457023138], 'r2': [0.9986597173425984], 'descriptions': ''}\n",
      "train_X: (534, 1, 20) test_X:(176, 1, 20)\n",
      "train_y: (534, 1) test_y:(176, 1)\n"
     ]
    },
    {
     "data": {
      "image/png": "[encoded data removed]",
      "text/plain": [
       "<Figure size 432x288 with 1 Axes>"
      ]
     },
     "metadata": {
      "needs_background": "light"
     },
     "output_type": "display_data"
    },
    {
     "name": "stdout",
     "output_type": "stream",
     "text": [
      "pred_y: (176, 1)\n",
      "{'h': 1, 'mae': [0.14234992526238796], 'rmse': [0.18602672407254853], 'mape': [0.0014258452669801004], 'r2': [0.998405778381686], 'descriptions': ''}\n",
      "train_X: (710, 1, 20) test_X:(176, 1, 20)\n",
      "train_y: (710, 1) test_y:(176, 1)\n"
     ]
    },
    {
     "data": {
      "image/png": "[encoded data removed]",
      "text/plain": [
       "<Figure size 432x288 with 1 Axes>"
      ]
     },
     "metadata": {
      "needs_background": "light"
     },
     "output_type": "display_data"
    },
    {
     "name": "stdout",
     "output_type": "stream",
     "text": [
      "pred_y: (176, 1)\n",
      "{'h': 1, 'mae': [0.19822618593906327], 'rmse': [0.2542080744868304], 'mape': [0.0023580601238502295], 'r2': [0.9997133241664966], 'descriptions': ''}\n",
      "train_X: (886, 1, 20) test_X:(176, 1, 20)\n",
      "train_y: (886, 1) test_y:(176, 1)\n"
     ]
    },
    {
     "data": {
      "image/png": "[encoded data removed]",
      "text/plain": [
       "<Figure size 432x288 with 1 Axes>"
      ]
     },
     "metadata": {
      "needs_background": "light"
     },
     "output_type": "display_data"
    },
    {
     "name": "stdout",
     "output_type": "stream",
     "text": [
      "pred_y: (176, 1)\n",
      "{'h': 1, 'mae': [0.22961464877960036], 'rmse': [0.30161728983930036], 'mape': [0.004613750219735519], 'r2': [0.9975096415467993], 'descriptions': ''}\n",
      "train_X: (1062, 1, 20) test_X:(176, 1, 20)\n",
      "train_y: (1062, 1) test_y:(176, 1)\n"
     ]
    },
    {
     "data": {
      "image/png": "[encoded data removed]",
      "text/plain": [
       "<Figure size 432x288 with 1 Axes>"
      ]
     },
     "metadata": {
      "needs_background": "light"
     },
     "output_type": "display_data"
    },
    {
     "name": "stdout",
     "output_type": "stream",
     "text": [
      "pred_y: (176, 1)\n",
      "{'h': 1, 'mae': [0.21802344372141488], 'rmse': [0.2737742493410335], 'mape': [0.005575892669299084], 'r2': [0.9980931932124815], 'descriptions': ''}\n",
      "train_X: (1238, 1, 20) test_X:(176, 1, 20)\n",
      "train_y: (1238, 1) test_y:(176, 1)\n"
     ]
    },
    {
     "data": {
      "image/png": "[encoded data removed]",
      "text/plain": [
       "<Figure size 432x288 with 1 Axes>"
      ]
     },
     "metadata": {
      "needs_background": "light"
     },
     "output_type": "display_data"
    },
    {
     "name": "stdout",
     "output_type": "stream",
     "text": [
      "pred_y: (176, 1)\n",
      "{'h': 1, 'mae': [0.18992214919364292], 'rmse': [0.24693190058361014], 'mape': [0.003955833857782324], 'r2': [0.9958740998955141], 'descriptions': ''}\n",
      "train_X: (1414, 1, 20) test_X:(176, 1, 20)\n",
      "train_y: (1414, 1) test_y:(176, 1)\n"
     ]
    },
    {
     "data": {
      "image/png": "[encoded data removed]",
      "text/plain": [
       "<Figure size 432x288 with 1 Axes>"
      ]
     },
     "metadata": {
      "needs_background": "light"
     },
     "output_type": "display_data"
    },
    {
     "name": "stdout",
     "output_type": "stream",
     "text": [
      "pred_y: (176, 1)\n",
      "{'h': 1, 'mae': [0.19331065398566818], 'rmse': [0.24783913595893176], 'mape': [0.003954625439630091], 'r2': [0.9932112070878976], 'descriptions': ''}\n",
      "train_X: (1590, 1, 20) test_X:(176, 1, 20)\n",
      "train_y: (1590, 1) test_y:(176, 1)\n"
     ]
    },
    {
     "data": {
      "image/png": "[encoded data removed]",
      "text/plain": [
       "<Figure size 432x288 with 1 Axes>"
      ]
     },
     "metadata": {
      "needs_background": "light"
     },
     "output_type": "display_data"
    },
    {
     "name": "stdout",
     "output_type": "stream",
     "text": [
      "pred_y: (176, 1)\n",
      "{'h': 1, 'mae': [0.38909347987600107], 'rmse': [0.5129998976788966], 'mape': [0.006005776413510202], 'r2': [0.9878298140171375], 'descriptions': ''}\n",
      "train_X: (1766, 1, 20) test_X:(176, 1, 20)\n",
      "train_y: (1766, 1) test_y:(176, 1)\n"
     ]
    },
    {
     "data": {
      "image/png": "[encoded data removed]",
      "text/plain": [
       "<Figure size 432x288 with 1 Axes>"
      ]
     },
     "metadata": {
      "needs_background": "light"
     },
     "output_type": "display_data"
    },
    {
     "name": "stdout",
     "output_type": "stream",
     "text": [
      "pred_y: (176, 1)\n",
      "{'h': 1, 'mae': [1.0048507724417668], 'rmse': [1.3119762590598483], 'mape': [0.017346911270679832], 'r2': [0.9762727525033206], 'descriptions': ''}\n",
      "\n",
      "    Forecast Error (10-fold cross-validation)\n",
      "    X: (1942, 20)\n",
      "    y: (1942, 1)\n",
      "    h= 1\n",
      "    Model: Functional\n",
      "    MAE = 0.290493 +/- 0.260\n",
      "    RMSE = 0.397684 +/- 0.339\n",
      "    MAPE = 0.004891 +/- 0.005\n",
      "    \n"
     ]
    }
   ],
   "source": [
    "try:\n",
    "    cv = get_TS_cv()\n",
    "    df_forecast_error = pd.DataFrame(\n",
    "        columns=['h', 'mae', 'rmse', 'mape', 'descriptions'])\n",
    "    for train_idx, test_idx in cv.split(y):\n",
    "        # split train/test set for emb,X,y      \n",
    "        train_X = X[train_idx,:]\n",
    "        test_X = X[test_idx,:]\n",
    "        train_emb=emb[train_idx,:,:]\n",
    "        test_emb=emb[test_idx,:,:]\n",
    "        train_y = y[train_idx]\n",
    "        test_y = y[test_idx]\n",
    "\n",
    "        # normalize features\n",
    "        X_scaler = MinMaxScaler()\n",
    "        X_scaler.fit(train_X)\n",
    "        y_scaler = MinMaxScaler(feature_range=(1, 100))\n",
    "        y_scaler.fit(train_y)\n",
    "\n",
    "        train_X=X_scaler.transform(train_X)\n",
    "        test_X=X_scaler.transform(test_X)\n",
    "        train_y=y_scaler.transform(train_y)\n",
    "        test_y=y_scaler.transform(test_y)\n",
    "\n",
    "        # reshape to 3D for RNN/LSTM/GRU       \n",
    "        train_X=train_X.reshape(train_X.shape[0],step_size,train_X.shape[-1])\n",
    "        test_X=test_X.reshape(test_X.shape[0],step_size,test_X.shape[-1])\n",
    "        print(f\"train_X: {train_X.shape} test_X:{test_X.shape}\")\n",
    "        print(f\"train_y: {train_y.shape} test_y:{test_y.shape}\")\n",
    "\n",
    "        # model = Model(inputs=ts_inputs, outputs=ts_model)\n",
    "        # model = Model(inputs=emb_inputs, outputs=emb_model)\n",
    "        model = Model(inputs=[ts_model.input,emb_model.input], outputs=combined_model)\n",
    "        # model.compile(loss='mae', optimizer=opt)\n",
    "        # model.compile(loss='msle', optimizer=Adam(0.0005))\n",
    "        model.compile(loss='log_cosh', optimizer=Adam(0.0002))\n",
    "        # history = model.fit(x=train_X, y=train_y, epochs=80, batch_size=100, validation_data=(test_X, test_y), verbose=0, shuffle=False)\n",
    "        # history = model.fit(x=train_emb, y=train_y, epochs=80, batch_size=100, validation_data=(test_emb, test_y), verbose=0, shuffle=False)\n",
    "        history = model.fit(x=[train_X,train_emb], y=train_y, epochs=80, batch_size=40, validation_data=([test_X,test_emb], test_y), verbose=0, shuffle=False)\n",
    "        \n",
    "        # plot history\n",
    "        pyplot.plot(history.history['loss'], label='train')\n",
    "        pyplot.plot(history.history['val_loss'], label='test')\n",
    "        pyplot.legend()\n",
    "        pyplot.show()\n",
    "\n",
    "        # pred_y = model.predict(test_X)\n",
    "        # pred_y = model.predict(test_emb)\n",
    "        pred_y = model.predict([test_X,test_emb])\n",
    "        print(f\"pred_y: {pred_y.shape}\")\n",
    "\n",
    "        # scale\n",
    "        inverted_pred_y = y_scaler.inverse_transform(pred_y.reshape(test_y.shape))\n",
    "        inverted_test_y = y_scaler.inverse_transform(test_y)\n",
    "        original_test_price=df_original_price.to_numpy()[test_idx]\n",
    "        inverted_pred_y=inverted_pred_y+original_test_price\n",
    "        inverted_test_y=inverted_test_y+original_test_price\n",
    "\n",
    "        forecast_error = evaluate_series(inverted_test_y, inverted_pred_y, h)\n",
    "        # forecast_error = evaluate_series(test_y.reshape(-1, 1), pred_y.reshape(-1, 1), h)\n",
    "        print(forecast_error)\n",
    "        df_forecast_error = df_forecast_error.append(\n",
    "            pd.DataFrame(forecast_error), ignore_index=True)\n",
    "    mae = df_forecast_error[\"mae\"]\n",
    "    rmse = df_forecast_error[\"rmse\"]\n",
    "    mape = df_forecast_error[\"mape\"]\n",
    "    k = cv.get_n_splits()\n",
    "    msg = f\"\"\"\n",
    "    Forecast Error ({k}-fold cross-validation)\n",
    "    X: {X.shape}\n",
    "    y: {y.shape}\n",
    "    h= {h}\n",
    "    Model: {model.__class__.__name__}\n",
    "    MAE = {mae.mean():.6f} +/- {mae.std():.3f}\n",
    "    RMSE = {rmse.mean():.6f} +/- {rmse.std():.3f}\n",
    "    MAPE = {mape.mean():.6f} +/- {mape.std():.3f}\n",
    "    \"\"\"\n",
    "    print(msg)\n",
    "    logging.info(msg)\n",
    "    evaluation_result = {\n",
    "        'h': h,\n",
    "        'mae': [mae.mean()],\n",
    "        'rmse': [rmse.mean()],\n",
    "        'mape': [mape.mean()],\n",
    "        'descriptions': [msg]\n",
    "    }    \n",
    "except Exception as e:\n",
    "    logging.exception(\"EXCEPTION: %s\", e, exc_info=True)\n",
    "tf.keras.backend.clear_session()\n",
    "tf.random.set_seed(seed_value)"
   ]
  },
  {
   "cell_type": "markdown",
   "metadata": {},
   "source": [
    "#### k-fold results"
   ]
  },
  {
   "cell_type": "code",
   "execution_count": null,
   "metadata": {},
   "outputs": [],
   "source": [
    "print(f\"multi,{df_forecast_error['mae'].to_numpy().mean()},{df_forecast_error['rmse'].to_numpy().mean()},{df_forecast_error['mape'].to_numpy().mean()}\")\n",
    "df_forecast_error"
   ]
  },
  {
   "cell_type": "code",
   "execution_count": null,
   "metadata": {},
   "outputs": [],
   "source": [
    "# model_log=\"BiGRU;\"\n",
    "# FE_log=\"CLC1(h=1); 1stDIFF(xy)+ RFE(Ridge,60); scale y;\"\n",
    "# msg=f\"{model_log} {FE_log} mse;\"\n",
    "# evaluation_result[\"descriptions\"]=msg\n",
    "# df_result = pd.DataFrame(evaluation_result)\n",
    "# df_result[\"time\"] = datetime.datetime.now().strftime(\"%Y-%m-%dT%H:%M:%S\")\n",
    "\n",
    "# df_result = df_result[['time', 'descriptions', 'h', 'mae', 'rmse', 'mape']]\n",
    "# df_result"
   ]
  },
  {
   "cell_type": "code",
   "execution_count": null,
   "metadata": {},
   "outputs": [],
   "source": [
    "# df_result.to_csv(f\"{HOME}/results/experiment_results.csv\",mode=\"a+\",index=False,header=False)"
   ]
  },
  {
   "cell_type": "code",
   "execution_count": null,
   "metadata": {},
   "outputs": [],
   "source": []
  }
 ],
 "metadata": {
  "interpreter": {
   "hash": "8f3e05a59671f1eb5b3f5f0e003aaa5a39f5d3316373e39c3606e56079185283"
  },
  "kernelspec": {
   "display_name": "Python 3.8.12 64-bit ('OPP-env': conda)",
   "language": "python",
   "name": "python3"
  },
  "language_info": {
   "codemirror_mode": {
    "name": "ipython",
    "version": 3
   },
   "file_extension": ".py",
   "mimetype": "text/x-python",
   "name": "python",
   "nbconvert_exporter": "python",
   "pygments_lexer": "ipython3",
   "version": "3.8.12"
  },
  "orig_nbformat": 4
 },
 "nbformat": 4,
 "nbformat_minor": 2
}
