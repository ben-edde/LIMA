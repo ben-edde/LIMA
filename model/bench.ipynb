{
 "cells": [
  {
   "cell_type": "code",
   "execution_count": null,
   "metadata": {},
   "outputs": [],
   "source": [
    "import datetime\n",
    "import logging\n",
    "import os\n",
    "import numpy as np\n",
    "import pandas as pd\n",
    "from matplotlib import pyplot\n",
    "from sklearn.preprocessing import MinMaxScaler\n",
    "from sklearn.model_selection import cross_validate, TimeSeriesSplit\n",
    "from sklearn.metrics import mean_absolute_error, mean_absolute_percentage_error, mean_squared_error\n",
    "from sklearn.metrics import r2_score\n",
    "import joblib\n",
    "import tensorflow as tf\n",
    "from tensorflow import keras\n",
    "from keras.layers import Reshape, MaxPool3D, Bidirectional, ConvLSTM2D\n",
    "from keras.models import Sequential\n",
    "from keras.layers import Dense\n",
    "from keras.layers import LSTM\n",
    "from keras.layers import GRU\n",
    "from keras.layers import SimpleRNN\n",
    "from keras.layers import Conv2D\n",
    "from keras.layers import Dropout\n",
    "from sklearn.feature_selection import RFE\n",
    "from sklearn.linear_model import Ridge, Lasso\n",
    "import pymongo\n",
    "import random\n",
    "import string\n",
    "import fasttext\n",
    "from nltk.tokenize import word_tokenize\n",
    "from nltk.corpus import stopwords\n",
    "from nltk.stem.porter import PorterStemmer\n",
    "from nltk.tag import pos_tag\n",
    "from sklearn.decomposition import LatentDirichletAllocation\n",
    "from sklearn.preprocessing import MinMaxScaler\n",
    "from textblob import TextBlob\n",
    "physical_devices = tf.config.list_physical_devices('GPU')\n",
    "tf.config.experimental.set_memory_growth(physical_devices[0], True)\n",
    "\n",
    "HOME = os.environ['LIMA_HOME']\n"
   ]
  },
  {
   "cell_type": "code",
   "execution_count": null,
   "metadata": {},
   "outputs": [],
   "source": [
    "def clean(text: str) -> list:\n",
    "    \"\"\"\n",
    "    clean text with tokenization; stemming; removing stop word, punctuation, number, and empty string.\n",
    "\n",
    "    Args:\n",
    "        text (str): text\n",
    "\n",
    "    Returns:\n",
    "        list: cleaned text as list of tokenized str\n",
    "    \"\"\"\n",
    "\n",
    "    # to list of token\n",
    "    text = word_tokenize(text)\n",
    "\n",
    "    # stemming and convert to lower case if not proper noun: punctuation and stop word seem to help POS tagging, remove them after stemming\n",
    "    word_tag = pos_tag(text)\n",
    "    porter = PorterStemmer()\n",
    "    text = [\n",
    "        porter.stem(each[0])\n",
    "        if each[1] != \"NNP\" and each[1] != \"NNPS\" else each[0]\n",
    "        for each in word_tag\n",
    "    ]\n",
    "\n",
    "    # remove stop word: it seems stemming skip stop word; OK to remove stop word after stemming;\n",
    "    stop_word = set(stopwords.words('english'))\n",
    "    text = [each for each in text if not each in stop_word]\n",
    "\n",
    "    # remove punctuation\n",
    "    text = [\n",
    "        each.translate(str.maketrans('', '', string.punctuation))\n",
    "        for each in text\n",
    "    ]\n",
    "    # text = re.sub(r\"(@\\[A-Za-z0-9]+)|([^0-9A-Za-z \\t])|(\\w+:\\/\\/\\S+)|^rt|http.+?\", \" \", text) # if using re\n",
    "\n",
    "    # convert number to <NUM>\n",
    "    text = [\"<NUM>\" if each.isdigit() else each for each in text]\n",
    "\n",
    "    # remove empty string\n",
    "    text = [each for each in text if each != \"\"]\n",
    "\n",
    "    return text\n",
    "\n",
    "# convert series to supervised learning\n",
    "def series_to_supervised(data, n_in=1, n_out=1, dropnan=True):\n",
    "\tn_vars = 1 if type(data) is list else data.shape[1]\n",
    "\tdf = data.copy()\n",
    "\tcols, names = list(), list()\n",
    "\t# input sequence (t-n, ... t-1)\n",
    "\tfor i in range(n_in, 0, -1):\n",
    "\t\tcols.append(df.shift(i))\n",
    "        \n",
    "\t\tnames += [f'{data.columns[j]}(t-{i})' for j in range(n_vars)]\n",
    "\t# forecast sequence (t, t+1, ... t+n)\n",
    "\tfor i in range(0, n_out):\n",
    "\t\tcols.append(df.shift(-i))\n",
    "\t\tif i == 0:\n",
    "\t\t\tnames += [f'{data.columns[j]}(t)' for j in range(n_vars)]\n",
    "\t\telse:\n",
    "\t\t\tnames += [f'{data.columns[j]}(t+{i})' for j in range(n_vars)]\n",
    "\t# put it all together\n",
    "\tagg = pd.concat(cols, axis=1)\n",
    "\tagg.columns = names\n",
    "\t# drop rows with NaN values\n",
    "\tif dropnan:\n",
    "\t\tagg.dropna(inplace=True)\n",
    "\treturn agg\n",
    "\n",
    "def get_TS_cv(k=10, test_size=None):\n",
    "    \"\"\"\n",
    "    ML models do not need to care about forecast horizon when splitting training and test set. Forecast horizon should be handled by feature preparation ([X_t-1,X_t-2...]). Actually repeated K-fold can also be used, but stick to TS split to align with TS_evaluate().\n",
    "    \"\"\"\n",
    "    return TimeSeriesSplit(\n",
    "        n_splits=k,\n",
    "        gap=0,\n",
    "        test_size=test_size,\n",
    "    )\n",
    "\n",
    "def evaluate_series(y_true, y_pred, horizon):\n",
    "    \"\"\"\n",
    "    Some models (like ARIMA) may not support cross_validate(), compare the forecasting result directly\n",
    "    Args:\n",
    "        y_true: y of test set\n",
    "        y_pred: y of prediction\n",
    "        horizon: forecast horizon\n",
    "\n",
    "    Returns:\n",
    "        DataFrame: single row DF with 3 metrics wrt horizon\n",
    "    \"\"\"\n",
    "    # RMSE\n",
    "    rmse = mean_squared_error(y_true, y_pred, squared=False)\n",
    "    # MAE\n",
    "    mae = mean_absolute_error(y_true, y_pred)\n",
    "    # MAPE\n",
    "    mape = mean_absolute_percentage_error(y_true, y_pred)\n",
    "    r2=r2_score(y_true, y_pred)\n",
    "    forecast_error = {\n",
    "        'h': horizon,\n",
    "        'mae': [mae],\n",
    "        'rmse': [rmse],\n",
    "        'mape': [mape],\n",
    "        'r2':[r2],\n",
    "        'descriptions': \"\"\n",
    "    }\n",
    "    return forecast_error\n"
   ]
  },
  {
   "cell_type": "code",
   "execution_count": null,
   "metadata": {},
   "outputs": [],
   "source": [
    "# set random seed\n",
    "seed_value = 42\n",
    "os.environ['PYTHONHASHSEED'] = str(seed_value)\n",
    "\n",
    "random.seed(seed_value)\n",
    "np.random.seed(seed_value)\n",
    "tf.random.set_seed(seed_value)\n",
    "h = 1\n",
    "past = 10"
   ]
  },
  {
   "cell_type": "markdown",
   "metadata": {},
   "source": [
    "## Metrics features"
   ]
  },
  {
   "cell_type": "code",
   "execution_count": null,
   "metadata": {},
   "outputs": [],
   "source": [
    "from influxdb_client import InfluxDBClient\n",
    "client= InfluxDBClient.from_config_file(f\"{HOME}/dev/DB/influxdb_config.ini\")\n",
    "query_api = client.query_api()\n",
    "df_WTI = query_api.query_data_frame(\"\"\"\n",
    "from(bucket: \"dummy\")\n",
    "  |> range(start: 2011-04-01, stop: 2019-04-01)\n",
    "  |> filter(fn: (r) => r[\"_measurement\"] == \"WTI\") \n",
    "  |> filter(fn: (r) => r[\"type\"] == \"closing_price\") \n",
    "  |> pivot(rowKey:[\"_time\"], columnKey: [\"_field\"], valueColumn: \"_value\")\n",
    "  |> drop(columns: [\"_start\", \"_stop\"])\n",
    "\"\"\")\n",
    "df_WTI=df_WTI[[\"_time\",\"CLC4\",\"CLC3\",\"CLC2\",\"CLC1\"]]\n",
    "df_WTI.columns=[\"Date\",\"CLC4\",\"CLC3\",\"CLC2\",\"CLC1\"]\n",
    "df_WTI.set_index(\"Date\",inplace=True)\n",
    "df_WTI.index=df_WTI.index.map(lambda each: each.date())\n",
    "df_WTI.index=pd.to_datetime(df_WTI.index)"
   ]
  },
  {
   "cell_type": "code",
   "execution_count": null,
   "metadata": {},
   "outputs": [],
   "source": [
    "month=[each.month for each in df_WTI.index]\n",
    "day=[each.day for each in df_WTI.index]\n",
    "day_in_week=[each.weekday() for each in df_WTI.index]"
   ]
  },
  {
   "cell_type": "code",
   "execution_count": null,
   "metadata": {},
   "outputs": [],
   "source": [
    "df_dt=pd.DataFrame()\n",
    "df_dt[\"month\"]=month\n",
    "df_dt[\"day\"]=day\n",
    "df_dt[\"day_in_week\"]=day_in_week\n",
    "df_dt.index=df_WTI.index"
   ]
  },
  {
   "cell_type": "code",
   "execution_count": null,
   "metadata": {},
   "outputs": [],
   "source": [
    "df_WTI"
   ]
  },
  {
   "cell_type": "markdown",
   "metadata": {},
   "source": [
    "## Text features"
   ]
  },
  {
   "cell_type": "code",
   "execution_count": null,
   "metadata": {},
   "outputs": [],
   "source": [
    "mongo_client = pymongo.MongoClient(\"mongodb://localhost:27017/\")\n",
    "mongo_db = mongo_client[\"lima\"]\n",
    "mongo_collection = mongo_db[\"investing_news\"]\n",
    "cursor = mongo_collection.find({\"News\":{\"$ne\":\"NEURONswap: First Dex To Implement Governance 2.0\"}})\n",
    "df_news =  pd.DataFrame(list(cursor))[[\"Date\",\"News\"]]\n",
    "df_news=df_news[df_news.Date.isin(df_WTI.index)]\n",
    "fasttext_model = fasttext.load_model(f\"{HOME}/data/big/cc.en.300.bin\")\n",
    "df_news.News = df_news.News.apply(lambda r: \" \".join(clean(r)))"
   ]
  },
  {
   "cell_type": "markdown",
   "metadata": {},
   "source": [
    "### sentiment features"
   ]
  },
  {
   "cell_type": "code",
   "execution_count": null,
   "metadata": {},
   "outputs": [],
   "source": [
    "def get_sentiment_aggregated(df):\n",
    "    df=df.copy()\n",
    "    df[\"Polarity\"] = df.apply(\n",
    "        lambda row: TextBlob(row['News']).sentiment.polarity, axis=1)\n",
    "    df[\"Subjectivity\"] = df.apply(\n",
    "        lambda row: TextBlob(row['News']).sentiment.subjectivity, axis=1)\n",
    "    df_daily_averaged_sentiment_score = df.groupby(['Date']).mean()\n",
    "    return df_daily_averaged_sentiment_score\n",
    "\n",
    "df_sentiment = get_sentiment_aggregated(df_news)\n",
    "df_sentiment[\"Combined_Sentiment\"]=df_sentiment.Polarity*(1+df_sentiment.Subjectivity)\n",
    "def decay_features(df):\n",
    "    window_size=5\n",
    "    feature_list=[]\n",
    "    for each in df.columns:\n",
    "        feature_list.append(df[each].iloc[:window_size].to_list())\n",
    "    feature_num=len(feature_list)\n",
    "    for idx in range(window_size,len(df_sentiment)):\n",
    "        feature_tmp=np.zeros(feature_num)\n",
    "        for t in range(window_size):\n",
    "            for feature_idx in range(feature_num):\n",
    "                feature_tmp[feature_idx]+=df.iloc[idx-t][df.columns[feature_idx]]*((window_size-t)/window_size)\n",
    "        for feature_idx in range(feature_num):\n",
    "            feature_list[feature_idx].append(feature_tmp[feature_idx])\n",
    "    df_result=pd.DataFrame(feature_list).transpose()\n",
    "    df_result.index=df.index\n",
    "    df_result.columns=[f\"Decay_{each}\" for each in df.columns]\n",
    "    return df_result\n",
    "\n",
    "df_res=decay_features(df_sentiment)"
   ]
  },
  {
   "cell_type": "code",
   "execution_count": null,
   "metadata": {},
   "outputs": [],
   "source": [
    "df_res.tail()"
   ]
  },
  {
   "cell_type": "markdown",
   "metadata": {},
   "source": [
    "### topic modeling features"
   ]
  },
  {
   "cell_type": "code",
   "execution_count": null,
   "metadata": {},
   "outputs": [],
   "source": [
    "def get_topic_aggregated(df):\n",
    "    df=df.copy()\n",
    "    news_emb = df.News.apply(lambda x: fasttext_model.get_sentence_vector(\n",
    "        (x))).to_numpy().tolist()\n",
    "    news_emb = np.array(news_emb)\n",
    "    emb_scaler=MinMaxScaler()\n",
    "    news_emb=emb_scaler.fit_transform(news_emb)\n",
    "    lda_model=LatentDirichletAllocation(n_components=5,n_jobs=-1)\n",
    "    topic= lda_model.fit_transform(news_emb)\n",
    "    for i in range(5):\n",
    "        df[f\"Topic{i+1}\"] = topic[:, i]\n",
    "    df_daily_averaged_topic = df.groupby(['Date']).mean()\n",
    "    return df_daily_averaged_topic, emb_scaler, lda_model\n",
    "\n",
    "df_topic, emb_scaler, lda_model = get_topic_aggregated(df_news)"
   ]
  },
  {
   "cell_type": "code",
   "execution_count": null,
   "metadata": {},
   "outputs": [],
   "source": [
    "df_topic.head()"
   ]
  },
  {
   "cell_type": "code",
   "execution_count": null,
   "metadata": {},
   "outputs": [],
   "source": [
    "window_size=5\n",
    "decay_Topic1=df_topic.Topic1.iloc[:window_size].to_list()\n",
    "decay_Topic2=df_topic.Topic2.iloc[:window_size].to_list()\n",
    "decay_Topic3=df_topic.Topic3.iloc[:window_size].to_list()\n",
    "decay_Topic4=df_topic.Topic4.iloc[:window_size].to_list()\n",
    "decay_Topic5=df_topic.Topic5.iloc[:window_size].to_list()\n",
    "\n",
    "for idx in range(window_size,len(df_topic)):\n",
    "    topic1=0\n",
    "    topic2=0\n",
    "    topic3=0\n",
    "    topic4=0\n",
    "    topic5=0 \n",
    "    for t in range(window_size):\n",
    "        topic1+=df_topic.iloc[idx-t].Topic1*((window_size-t)/window_size)\n",
    "        topic2+=df_topic.iloc[idx-t].Topic2*((window_size-t)/window_size)\n",
    "        topic3+=df_topic.iloc[idx-t].Topic3*((window_size-t)/window_size)\n",
    "        topic4+=df_topic.iloc[idx-t].Topic4*((window_size-t)/window_size)\n",
    "        topic5+=df_topic.iloc[idx-t].Topic5*((window_size-t)/window_size)\n",
    "    decay_Topic1.append(topic1)\n",
    "    decay_Topic2.append(topic2)\n",
    "    decay_Topic3.append(topic3)\n",
    "    decay_Topic4.append(topic4)\n",
    "    decay_Topic5.append(topic5)    \n",
    "df_topic[\"decay_Topic1\"]=decay_Topic1\n",
    "df_topic[\"decay_Topic2\"]=decay_Topic2\n",
    "df_topic[\"decay_Topic3\"]=decay_Topic3\n",
    "df_topic[\"decay_Topic4\"]=decay_Topic4\n",
    "df_topic[\"decay_Topic5\"]=decay_Topic5"
   ]
  },
  {
   "cell_type": "code",
   "execution_count": null,
   "metadata": {},
   "outputs": [],
   "source": [
    "df_Xy = pd.concat([df_dt, df_WTI[\"CLC1\"]], axis=1, join=\"inner\")\n",
    "df_Xy.tail(2)"
   ]
  },
  {
   "cell_type": "markdown",
   "metadata": {},
   "source": [
    "### Embedding"
   ]
  },
  {
   "cell_type": "code",
   "execution_count": null,
   "metadata": {},
   "outputs": [],
   "source": [
    "def aggregate_emb_maxmin(emb):\n",
    "    data=np.array(emb.to_numpy().tolist())\n",
    "    return np.concatenate([data.max(axis=0),data.min(axis=0)])\n",
    "def aggregate_emb_maxmeanmin(emb):\n",
    "    data=np.array(emb.to_numpy().tolist())\n",
    "    return np.concatenate([data.max(axis=0),data.mean(axis=0),data.min(axis=0)])\n",
    "\n",
    "news_emb = df_news.News.apply(lambda x: fasttext_model.get_sentence_vector(\n",
    "        (x)))\n",
    "# news_emb = np.array(news_emb)\n",
    "# emb_scaler=MinMaxScaler()\n",
    "# news_emb=emb_scaler.fit_transform(news_emb)"
   ]
  },
  {
   "cell_type": "code",
   "execution_count": null,
   "metadata": {},
   "outputs": [],
   "source": [
    "df_emb=pd.concat([df_news.Date,news_emb],axis=1)\n",
    "df_emb"
   ]
  },
  {
   "cell_type": "code",
   "execution_count": null,
   "metadata": {},
   "outputs": [],
   "source": [
    "# daily mean of mean\n",
    "# df_emb[\"News\"]=df_emb.News.apply(lambda r:np.array(r.tolist()).mean())\n",
    "\n",
    "# daily mean\n",
    "# df_emb=df_emb.groupby(\"Date\").mean()\n",
    "\n",
    "# max + min\n",
    "# df_emb=df_emb.groupby(\"Date\")['News'].agg(aggregate_emb_maxmin)\n",
    "\n",
    "# max + mean + min\n",
    "df_emb=df_emb.groupby(\"Date\")['News'].agg(aggregate_emb_maxmeanmin)\n",
    "\n",
    "df_emb=pd.DataFrame(df_emb)\n",
    "# df_emb.set_index(\"Date\",inplace=True)\n",
    "df_emb.index=pd.to_datetime(df_emb.index)\n",
    "df_emb"
   ]
  },
  {
   "cell_type": "code",
   "execution_count": null,
   "metadata": {},
   "outputs": [],
   "source": [
    "# filter to align\n",
    "df_emb=df_emb[df_emb.index.isin(df_WTI[\"CLC1\"].index)]\n",
    "emb=df_emb.to_numpy()\n",
    "emb =np.array([each.tolist() for each in emb])\n",
    "emb.shape"
   ]
  },
  {
   "cell_type": "code",
   "execution_count": null,
   "metadata": {},
   "outputs": [],
   "source": [
    "y=df_WTI[df_WTI.index.isin(df_emb.index)][\"CLC1\"].to_numpy()\n",
    "y.shape\n",
    "feature_name=\"EMB_maxmeanmin_single\""
   ]
  },
  {
   "cell_type": "markdown",
   "metadata": {},
   "source": [
    "### Event"
   ]
  },
  {
   "cell_type": "code",
   "execution_count": null,
   "metadata": {},
   "outputs": [],
   "source": [
    "from openie import StanfordOpenIE\n",
    "openie_client = StanfordOpenIE()"
   ]
  },
  {
   "cell_type": "code",
   "execution_count": null,
   "metadata": {},
   "outputs": [],
   "source": [
    "event_tuples = []\n",
    "for idx, row in df_news.iterrows():\n",
    "    text = row['News']\n",
    "    for triple in openie_client.annotate(text):\n",
    "        triple['Date'] = row['Date']\n",
    "        event_tuples.append(triple)"
   ]
  },
  {
   "cell_type": "code",
   "execution_count": null,
   "metadata": {},
   "outputs": [],
   "source": [
    "df_events = pd.DataFrame(event_tuples)\n",
    "df_events.subject = df_events.subject.apply(\n",
    "    lambda x: fasttext_model.get_sentence_vector((x)))\n",
    "df_events.relation = df_events.relation.apply(\n",
    "    lambda x: fasttext_model.get_sentence_vector((x)))\n",
    "df_events.object = df_events.object.apply(lambda x: fasttext_model.get_sentence_vector(\n",
    "    (x)))\n",
    "df_events.dropna(inplace=True)\n",
    "df_events.head(2)"
   ]
  },
  {
   "cell_type": "code",
   "execution_count": 512,
   "metadata": {},
   "outputs": [],
   "source": [
    "def aggregate_emb_maxmeanmin(emb):\n",
    "    data=np.array(emb.to_numpy().tolist())\n",
    "    return np.concatenate([data.max(axis=0),data.mean(axis=0),data.min(axis=0)])\n",
    "\n",
    "# max + mean + min\n",
    "series_subject=df_events.groupby(\"Date\")['subject'].agg(aggregate_emb_maxmeanmin)\n",
    "series_relation=df_events.groupby(\"Date\")['relation'].agg(aggregate_emb_maxmeanmin)\n",
    "series_object=df_events.groupby(\"Date\")['object'].agg(aggregate_emb_maxmeanmin)\n"
   ]
  },
  {
   "cell_type": "code",
   "execution_count": 805,
   "metadata": {},
   "outputs": [
    {
     "data": {
      "text/html": [
       "<div>\n",
       "<style scoped>\n",
       "    .dataframe tbody tr th:only-of-type {\n",
       "        vertical-align: middle;\n",
       "    }\n",
       "\n",
       "    .dataframe tbody tr th {\n",
       "        vertical-align: top;\n",
       "    }\n",
       "\n",
       "    .dataframe thead th {\n",
       "        text-align: right;\n",
       "    }\n",
       "</style>\n",
       "<table border=\"1\" class=\"dataframe\">\n",
       "  <thead>\n",
       "    <tr style=\"text-align: right;\">\n",
       "      <th></th>\n",
       "      <th>subject</th>\n",
       "      <th>relation</th>\n",
       "      <th>object</th>\n",
       "    </tr>\n",
       "    <tr>\n",
       "      <th>Date</th>\n",
       "      <th></th>\n",
       "      <th></th>\n",
       "      <th></th>\n",
       "    </tr>\n",
       "  </thead>\n",
       "  <tbody>\n",
       "    <tr>\n",
       "      <th>2011-04-01</th>\n",
       "      <td>[0.02511599, -0.0009051384, -0.067786574, 0.07...</td>\n",
       "      <td>[0.013598435, 0.01405047, 0.06822249, 0.105036...</td>\n",
       "      <td>[0.023649156, 0.08418993, 0.04753539, 0.036796...</td>\n",
       "    </tr>\n",
       "    <tr>\n",
       "      <th>2011-04-04</th>\n",
       "      <td>[0.02964967, 0.13149805, -0.01020735, 0.182610...</td>\n",
       "      <td>[0.012331505, 0.08418993, -0.021913385, 0.0499...</td>\n",
       "      <td>[-0.0019102872, 0.022416215, 0.00615898, 0.085...</td>\n",
       "    </tr>\n",
       "    <tr>\n",
       "      <th>2011-04-05</th>\n",
       "      <td>[0.01987918, 0.13149805, 0.04098292, 0.1203001...</td>\n",
       "      <td>[0.017394718, 0.14294212, 0.08659482, 0.130057...</td>\n",
       "      <td>[0.008177417, 0.0155524, 0.07380315, 0.0717576...</td>\n",
       "    </tr>\n",
       "  </tbody>\n",
       "</table>\n",
       "</div>"
      ],
      "text/plain": [
       "                                                      subject  \\\n",
       "Date                                                            \n",
       "2011-04-01  [0.02511599, -0.0009051384, -0.067786574, 0.07...   \n",
       "2011-04-04  [0.02964967, 0.13149805, -0.01020735, 0.182610...   \n",
       "2011-04-05  [0.01987918, 0.13149805, 0.04098292, 0.1203001...   \n",
       "\n",
       "                                                     relation  \\\n",
       "Date                                                            \n",
       "2011-04-01  [0.013598435, 0.01405047, 0.06822249, 0.105036...   \n",
       "2011-04-04  [0.012331505, 0.08418993, -0.021913385, 0.0499...   \n",
       "2011-04-05  [0.017394718, 0.14294212, 0.08659482, 0.130057...   \n",
       "\n",
       "                                                       object  \n",
       "Date                                                           \n",
       "2011-04-01  [0.023649156, 0.08418993, 0.04753539, 0.036796...  \n",
       "2011-04-04  [-0.0019102872, 0.022416215, 0.00615898, 0.085...  \n",
       "2011-04-05  [0.008177417, 0.0155524, 0.07380315, 0.0717576...  "
      ]
     },
     "execution_count": 805,
     "metadata": {},
     "output_type": "execute_result"
    }
   ],
   "source": [
    "df_event_emb=pd.concat([series_subject,series_relation,series_object],axis=1)\n",
    "df_event_emb.index=pd.to_datetime(df_event_emb.index)\n",
    "df_event_emb.head(3)"
   ]
  },
  {
   "cell_type": "code",
   "execution_count": 806,
   "metadata": {},
   "outputs": [],
   "source": [
    "# filter to align\n",
    "df_event_emb=df_event_emb[df_event_emb.index.isin(df_WTI[\"CLC1\"].index)]\n",
    "# join 3 : (-1,2700)\n",
    "# df_event_emb[\"event\"]=df_event_emb.apply(np.concatenate,axis=1)\n",
    "# join 3 : (-1,3,900)\n",
    "# df_event_emb[\"event\"]=df_event_emb.apply(np.array,axis=1)\n",
    "# event_emb=df_event_emb[\"event\"].to_numpy()\n",
    "# event_emb=np.array([each.tolist() for each in event_emb])\n",
    "# X=event_emb\n",
    "# event_emb.shape"
   ]
  },
  {
   "cell_type": "code",
   "execution_count": 807,
   "metadata": {},
   "outputs": [
    {
     "data": {
      "text/plain": [
       "(1963,)"
      ]
     },
     "execution_count": 807,
     "metadata": {},
     "output_type": "execute_result"
    }
   ],
   "source": [
    "feature_name=\"eventEMB_maxmeanmin_10step\"\n",
    "y=df_WTI[df_WTI.index.isin(df_event_emb.index)][\"CLC1\"].to_numpy()\n",
    "y.shape"
   ]
  },
  {
   "cell_type": "markdown",
   "metadata": {},
   "source": [
    "## Analysis"
   ]
  },
  {
   "cell_type": "code",
   "execution_count": null,
   "metadata": {},
   "outputs": [],
   "source": [
    "# stationary test before diff\n",
    "from statsmodels.tsa.stattools import adfuller\n",
    "for i in range(df_Xy.shape[1]):\n",
    "    test_result=adfuller(df_Xy[df_Xy.columns[i]].to_numpy())\n",
    "    if test_result[1]>0.05:\n",
    "        print(f\"{df_Xy.columns[i]}: {test_result[1]}\")"
   ]
  },
  {
   "cell_type": "code",
   "execution_count": null,
   "metadata": {},
   "outputs": [],
   "source": [
    "df_Xy.columns[:]\n",
    "# df_Xy.columns[7:]#"
   ]
  },
  {
   "cell_type": "code",
   "execution_count": null,
   "metadata": {},
   "outputs": [],
   "source": [
    "from statsmodels.tsa.api import VAR\n",
    "\n",
    "model = VAR(df_Xy[['Polarity', 'Subjectivity','CLC1']].diff().dropna().to_numpy())\n",
    "var_result=model.select_order(40)\n",
    "var_result.selected_orders"
   ]
  },
  {
   "cell_type": "code",
   "execution_count": null,
   "metadata": {},
   "outputs": [],
   "source": [
    "import statsmodels.tsa\n",
    "from statsmodels.graphics.tsaplots import plot_acf\n",
    "plot_acf(df_Xy.CLC1,lags=9, alpha=0.05)"
   ]
  },
  {
   "cell_type": "code",
   "execution_count": null,
   "metadata": {},
   "outputs": [],
   "source": [
    "from statsmodels.tsa.stattools import grangercausalitytests\n",
    "all_results=[]\n",
    "for each in df_Xy.columns:\n",
    "    if each ==\"CLC1\":\n",
    "        continue\n",
    "    rest_results=grangercausalitytests(df_Xy[[\"CLC1\",each]],maxlag=9,verbose=False)\n",
    "    for lag in range(1,10):\n",
    "        all_results.append({\"type\":each,\"lag\":lag, \"p\":rest_results[lag][0]['ssr_ftest'][1]})\n",
    "df_test=pd.DataFrame(all_results)\n",
    "df_test"
   ]
  },
  {
   "cell_type": "code",
   "execution_count": null,
   "metadata": {},
   "outputs": [],
   "source": [
    "df_Xy.columns"
   ]
  },
  {
   "cell_type": "code",
   "execution_count": null,
   "metadata": {},
   "outputs": [],
   "source": [
    "feature_name=\"day\"\n",
    "df_selected=df_Xy#[[feature_name,'CLC1']]"
   ]
  },
  {
   "cell_type": "code",
   "execution_count": null,
   "metadata": {},
   "outputs": [],
   "source": [
    "# feature selection with Granger\n",
    "# df_g_test=df.sort_values(\"p\")\n",
    "# selected_features_series=[]\n",
    "# for idx,each in df_g_test.iterrows():\n",
    "#     series=df_Xy[each[\"type\"]].shift(each[\"lag\"])\n",
    "#     series.name=f\"{each['type']}(t-{each['lag']})\"\n",
    "#     selected_features_series.append(series)\n",
    "# df_selected=pd.concat(selected_features_series,axis=1).dropna()\n",
    "# df_selected.columns[:]"
   ]
  },
  {
   "cell_type": "code",
   "execution_count": 337,
   "metadata": {},
   "outputs": [
    {
     "data": {
      "text/plain": [
       "(1953, 1)"
      ]
     },
     "execution_count": 337,
     "metadata": {},
     "output_type": "execute_result"
    }
   ],
   "source": [
    "df_selected[df_selected.columns[:1]].shape"
   ]
  },
  {
   "cell_type": "markdown",
   "metadata": {},
   "source": [
    "## Features processing and Selection"
   ]
  },
  {
   "cell_type": "code",
   "execution_count": 808,
   "metadata": {},
   "outputs": [],
   "source": [
    "# preserve original price for inverting prediction\n",
    "# df_original_price = df_selected[[\"CLC1\"]].shift(h).dropna()\n",
    "# 1st order DIFF\n",
    "# df_selected = df_selected.diff().dropna()\n",
    "# shift back $past days\n",
    "# df_selected = series_to_supervised(df_selected[df_selected.columns[:1]], past, h)\n",
    "df_selected = series_to_supervised(df_event_emb, past, h)\n",
    "\n",
    "# df_original_price = df_original_price[df_original_price.index.isin(df_selected.index)]\n",
    "# remove current day features for forecast\n",
    "for each in df_selected.columns[:]:\n",
    "    if \"(t)\" in each:\n",
    "        df_selected.drop(each, axis=1, inplace=True)\n",
    "raw_X = df_selected.to_numpy()[:, :]\n",
    "# y = df_Xy[df_Xy.index.isin(df_selected.index)].to_numpy()[:, -1].reshape(-1, 1)\n",
    "y=df_WTI[df_WTI.index.isin(df_selected.index)][\"CLC1\"].to_numpy().reshape(-1, 1)"
   ]
  },
  {
   "cell_type": "code",
   "execution_count": 809,
   "metadata": {},
   "outputs": [
    {
     "data": {
      "text/plain": [
       "Index(['subject(t-10)', 'relation(t-10)', 'object(t-10)', 'subject(t-9)',\n",
       "       'relation(t-9)', 'object(t-9)', 'subject(t-8)', 'relation(t-8)',\n",
       "       'object(t-8)', 'subject(t-7)', 'relation(t-7)', 'object(t-7)',\n",
       "       'subject(t-6)', 'relation(t-6)', 'object(t-6)', 'subject(t-5)',\n",
       "       'relation(t-5)', 'object(t-5)', 'subject(t-4)', 'relation(t-4)',\n",
       "       'object(t-4)', 'subject(t-3)', 'relation(t-3)', 'object(t-3)',\n",
       "       'subject(t-2)', 'relation(t-2)', 'object(t-2)', 'subject(t-1)',\n",
       "       'relation(t-1)', 'object(t-1)'],\n",
       "      dtype='object')"
      ]
     },
     "execution_count": 809,
     "metadata": {},
     "output_type": "execute_result"
    }
   ],
   "source": [
    "df_selected.columns"
   ]
  },
  {
   "cell_type": "code",
   "execution_count": 810,
   "metadata": {},
   "outputs": [
    {
     "data": {
      "text/plain": [
       "(1953, 30, 900)"
      ]
     },
     "execution_count": 810,
     "metadata": {},
     "output_type": "execute_result"
    }
   ],
   "source": [
    "# for embedding\n",
    "raw_X=np.array([each.tolist() for each in raw_X])\n",
    "# raw_X=np.array([each.tolist() for each in raw_X])\n",
    "# raw_X.shape\n",
    "\n",
    "# df_selected.columns[:-1][selector.get_support()]\n",
    "# X=emb.reshape(-1,emb.shape[-1])\n",
    "# X.shape\n",
    "X=raw_X\n",
    "X.shape"
   ]
  },
  {
   "cell_type": "code",
   "execution_count": 811,
   "metadata": {},
   "outputs": [
    {
     "data": {
      "text/plain": [
       "(1953, 1)"
      ]
     },
     "execution_count": 811,
     "metadata": {},
     "output_type": "execute_result"
    }
   ],
   "source": [
    "# estimator = Ridge()\n",
    "# selector = RFE(estimator, n_features_to_select=10, step=1)\n",
    "# selector = selector.fit(raw_X, y.ravel())\n",
    "# X = raw_X[:, selector.get_support()]\n",
    "# X=raw_X\n",
    "# X .shape\n",
    "# df_selected\n",
    "y.shape"
   ]
  },
  {
   "cell_type": "markdown",
   "metadata": {},
   "source": [
    "## Linear Model"
   ]
  },
  {
   "cell_type": "code",
   "execution_count": null,
   "metadata": {},
   "outputs": [],
   "source": [
    "from sklearn.svm import SVR, LinearSVR\n",
    "from sklearn.tree import DecisionTreeRegressor\n",
    "from sklearn.kernel_ridge import KernelRidge\n",
    "from sklearn.linear_model import LinearRegression, ARDRegression, SGDRegressor, ElasticNet, Lars, Lasso, GammaRegressor, TweedieRegressor, PoissonRegressor, Lasso, Ridge, BayesianRidge\n",
    "from sklearn.ensemble import AdaBoostRegressor\n",
    "\n",
    "lin_model=Ridge()#LinearRegression,Ridge,LinearSVR\n",
    "model_name=\"Ridge\"\n",
    "feature_name=\"EMB_maxmeanmin_single_scale\"\n",
    "msg=f\"{model_name}_{feature_name}\"\n",
    "X_scaler = MinMaxScaler(feature_range=(0.1, 1))\n",
    "X=X_scaler.fit_transform(X)\n",
    "cv_results = cross_validate(lin_model,\n",
    "                                X,\n",
    "                                y.ravel(),\n",
    "                                scoring=[\n",
    "                                    'neg_mean_absolute_error',\n",
    "                                    'neg_root_mean_squared_error',\n",
    "                                    'neg_mean_absolute_percentage_error'\n",
    "                                ],\n",
    "                                cv=get_TS_cv(),\n",
    "                                n_jobs=-1)\n",
    "mae = -cv_results[\"test_neg_mean_absolute_error\"]\n",
    "rmse = -cv_results[\"test_neg_root_mean_squared_error\"]\n",
    "mape = -cv_results[\"test_neg_mean_absolute_percentage_error\"]\n",
    "k = 10\n",
    "print(f\"\"\"\n",
    "Forecast Error ({k}-fold cross-validated performance):\n",
    "{lin_model.__class__.__name__}:\n",
    "MAE = {mae.mean():.3f} +/- {mae.std():.3f}\n",
    "RMSE = {rmse.mean():.3f} +/- {rmse.std():.3f}\n",
    "MAPE = {mape.mean():.3f} +/- {mape.std():.3f}\n",
    "\"\"\")\n",
    "print(f\"{msg},{mae.mean():.6f},{rmse.mean():.6f},{mape.mean():.6f}\")"
   ]
  },
  {
   "cell_type": "markdown",
   "metadata": {},
   "source": [
    "## Model"
   ]
  },
  {
   "cell_type": "code",
   "execution_count": 527,
   "metadata": {},
   "outputs": [],
   "source": [
    "from keras.layers import Reshape,MaxPooling2D,Bidirectional,ConvLSTM2D\n",
    "import tensorflow as tf\n",
    "from tensorflow import keras\n",
    "from keras.models import Sequential\n",
    "from keras.layers import Dense\n",
    "from keras.layers import LSTM\n",
    "from keras.layers import GRU\n",
    "from keras.layers import SimpleRNN \n",
    "from keras.layers import Conv2D \n",
    "from keras.layers import Dropout\n",
    "from keras.layers import Input\n",
    "from keras.layers import Flatten\n",
    "from keras.models import Model\n",
    "from keras.layers.merge import concatenate\n",
    "physical_devices = tf.config.list_physical_devices('GPU') \n",
    "tf.config.experimental.set_memory_growth(physical_devices[0], True)\n",
    "tf.random.set_seed(seed_value)"
   ]
  },
  {
   "cell_type": "markdown",
   "metadata": {},
   "source": [
    "### Hold-out"
   ]
  },
  {
   "cell_type": "code",
   "execution_count": 812,
   "metadata": {},
   "outputs": [
    {
     "data": {
      "text/plain": [
       "(1953, 30, 900)"
      ]
     },
     "execution_count": 812,
     "metadata": {},
     "output_type": "execute_result"
    }
   ],
   "source": [
    "# X=event_emb.reshape(-1,3,emb.shape[-1])\n",
    "y=y.reshape(-1,1)\n",
    "# X=X.reshape(-1,3,10,900)\n",
    "# X=X.reshape(-1,10,3,900)\n",
    "X.shape"
   ]
  },
  {
   "cell_type": "code",
   "execution_count": 813,
   "metadata": {},
   "outputs": [
    {
     "name": "stdout",
     "output_type": "stream",
     "text": [
      "train_X: (1171, 30, 900)\n",
      "test_X:(782, 30, 900)\n",
      "train_y: (1171, 1)\n",
      "test_y:(782, 1)\n"
     ]
    }
   ],
   "source": [
    "length=X.shape[0]\n",
    "train_size=int(length*0.6)\n",
    "step_size=30\n",
    "\n",
    "train_X=X[:train_size]\n",
    "train_y=y[:train_size,:]\n",
    "test_X=X[train_size:]\n",
    "test_y=y[train_size:,:]\n",
    "\n",
    "# X_scaler = MinMaxScaler(feature_range=(0.1, 1))\n",
    "# X_scaler.fit(train_X)\n",
    "y_scaler = MinMaxScaler(feature_range=(0.1, 1))\n",
    "y_scaler.fit(train_y)\n",
    "\n",
    "# train_X=X_scaler.transform(train_X)\n",
    "# test_X=X_scaler.transform(test_X)\n",
    "train_y=y_scaler.transform(train_y)\n",
    "test_y=y_scaler.transform(test_y)\n",
    "\n",
    "# train_X=train_X.reshape(train_X.shape[0],step_size,train_X.shape[-1])\n",
    "# test_X=test_X.reshape(test_X.shape[0],step_size,test_X.shape[-1])\n",
    "print(f\"train_X: {train_X.shape}\\ntest_X:{test_X.shape}\")\n",
    "print(f\"train_y: {train_y.shape}\\ntest_y:{test_y.shape}\")"
   ]
  },
  {
   "cell_type": "code",
   "execution_count": 814,
   "metadata": {},
   "outputs": [
    {
     "name": "stdout",
     "output_type": "stream",
     "text": [
      "Model: \"model_91\"\n",
      "_________________________________________________________________\n",
      " Layer (type)                Output Shape              Param #   \n",
      "=================================================================\n",
      " input_110 (InputLayer)      [(None, 30, 900)]         0         \n",
      "                                                                 \n",
      " reshape_151 (Reshape)       (None, 1, 30, 1, 900)     0         \n",
      "                                                                 \n",
      " conv2d_209 (Conv2D)         (None, 1, 30, 1, 300)     1350300   \n",
      "                                                                 \n",
      " dropout_252 (Dropout)       (None, 1, 30, 1, 300)     0         \n",
      "                                                                 \n",
      " conv2d_210 (Conv2D)         (None, 1, 30, 1, 300)     450300    \n",
      "                                                                 \n",
      " dropout_253 (Dropout)       (None, 1, 30, 1, 300)     0         \n",
      "                                                                 \n",
      " reshape_152 (Reshape)       (None, 1, 30, 1, 300)     0         \n",
      "                                                                 \n",
      " conv_lstm2d_56 (ConvLSTM2D)  (None, 1, 1, 300)        21601200  \n",
      "                                                                 \n",
      " dropout_254 (Dropout)       (None, 1, 1, 300)         0         \n",
      "                                                                 \n",
      " dense_91 (Dense)            (None, 1, 1, 1)           301       \n",
      "                                                                 \n",
      "=================================================================\n",
      "Total params: 23,402,101\n",
      "Trainable params: 23,402,101\n",
      "Non-trainable params: 0\n",
      "_________________________________________________________________\n"
     ]
    }
   ],
   "source": [
    "\n",
    "# emb_inputs = Input(shape=(3,step_size,train_X.shape[-1]))\n",
    "# emb_model = Reshape((1,10,1,train_X.shape[-1]))(emb_inputs)\n",
    "# emb_model = ConvLSTM2D(300,(5,1),padding='same')(emb_model)\n",
    "# emb_model = Dropout(0.4)(emb_model)\n",
    "# emb_model = Reshape((1,-1,1,train_X.shape[-1]))(emb_inputs)\n",
    "# emb_model = ConvLSTM2D(300,(5,1),padding='same')(emb_model)\n",
    "# emb_model = Dropout(0.4)(emb_model)\n",
    "# emb_model = Reshape((1,-1,1,train_X.shape[-1]))(emb_inputs)\n",
    "# emb_model = ConvLSTM2D(300,(5,1),padding='same')(emb_model)\n",
    "# emb_model = Dropout(0.4)(emb_model)\n",
    "# emb_model = Reshape((1,-1,1,train_X.shape[-1]))(emb_inputs)\n",
    "# emb_model = ConvLSTM2D(300,(5,1),padding='same')(emb_model)\n",
    "# emb_model = Dropout(0.4)(emb_model)\n",
    "# emb_model = Reshape((1,-1,1,train_X.shape[-1]))(emb_inputs)\n",
    "# emb_model = ConvLSTM2D(300,(10,1))(emb_model)\n",
    "# emb_model = Dropout(0.4)(emb_model)\n",
    "\n",
    "emb_inputs = Input(shape=(step_size,train_X.shape[-1]))\n",
    "emb_model = Reshape((1,step_size,1,train_X.shape[-1]))(emb_inputs)\n",
    "emb_model = Conv2D(300,(5,1), activation=\"relu\",padding='same')(emb_model)\n",
    "emb_model = Dropout(0.4)(emb_model)\n",
    "emb_model = Conv2D(300,(5, 1), activation=\"relu\",padding='same')(emb_model)\n",
    "emb_model = Dropout(0.4)(emb_model)\n",
    "# emb_model = Conv2D(300,(3,10), activation=\"relu\")(emb_model)\n",
    "# emb_model = Dropout(0.4)(emb_model)\n",
    "emb_model = Reshape((1,step_size,1,300))(emb_model)\n",
    "emb_model = ConvLSTM2D(300,(step_size,1), activation=\"relu\")(emb_model)\n",
    "emb_model = Dropout(0.4)(emb_model)\n",
    "emb_model = Dense(1)(emb_model)\n",
    "model = Model(inputs=emb_inputs, outputs=emb_model)\n",
    "model.compile(loss='mse', optimizer='adam')\n",
    "model.summary()"
   ]
  },
  {
   "cell_type": "code",
   "execution_count": 815,
   "metadata": {},
   "outputs": [],
   "source": [
    "# ts_inputs = Input(shape=(1,train_X.shape[-1]))\n",
    "# ts_model = Bidirectional(GRU(500,dropout=0.1,return_sequences=False))(ts_inputs)\n",
    "# ts_model= Dropout(0.2)(ts_model)\n",
    "# ts_model =Dense(1)(ts_model)\n",
    "# model = Model(inputs=ts_inputs, outputs=ts_model)\n",
    "# model.compile(loss='mse', optimizer='adam')"
   ]
  },
  {
   "cell_type": "code",
   "execution_count": 816,
   "metadata": {},
   "outputs": [
    {
     "data": {
      "image/png": "[encoded data removed]",
      "text/plain": [
       "<Figure size 432x288 with 1 Axes>"
      ]
     },
     "metadata": {
      "needs_background": "light"
     },
     "output_type": "display_data"
    }
   ],
   "source": [
    "df_forecast_error = pd.DataFrame(\n",
    "        columns=['h', 'mae', 'rmse', 'mape', 'descriptions'])\n",
    "history = model.fit(train_X, train_y, epochs=50, batch_size=100, validation_data=(test_X, test_y), verbose=0, shuffle=False)\n",
    "# # plot history\n",
    "pyplot.plot(history.history['loss'], label='train')\n",
    "pyplot.plot(history.history['val_loss'], label='test')\n",
    "pyplot.legend()\n",
    "pyplot.show()"
   ]
  },
  {
   "cell_type": "code",
   "execution_count": 817,
   "metadata": {},
   "outputs": [
    {
     "data": {
      "text/plain": [
       "(782, 1, 1, 1)"
      ]
     },
     "execution_count": 817,
     "metadata": {},
     "output_type": "execute_result"
    }
   ],
   "source": [
    "pred_y = model.predict(test_X)\n",
    "pred_y.shape"
   ]
  },
  {
   "cell_type": "code",
   "execution_count": 818,
   "metadata": {},
   "outputs": [
    {
     "name": "stdout",
     "output_type": "stream",
     "text": [
      "GRU_eventEMB_maxmeanmin_10step,7.581866357515534,9.334348209382727,0.15012066209546604\n"
     ]
    },
    {
     "data": {
      "text/plain": [
       "{'h': 1,\n",
       " 'mae': [7.581866357515534],\n",
       " 'rmse': [9.334348209382727],\n",
       " 'mape': [0.15012066209546604],\n",
       " 'r2': [0.002301793234114502],\n",
       " 'descriptions': ''}"
      ]
     },
     "execution_count": 818,
     "metadata": {},
     "output_type": "execute_result"
    }
   ],
   "source": [
    "# pred_y=pred_y[:,0,0,0]\n",
    "inverted_pred_y = y_scaler.inverse_transform(pred_y.reshape(test_y.shape))\n",
    "inverted_test_y = y_scaler.inverse_transform(test_y)\n",
    "# original_test_price=df_original_price.to_numpy()[train_size:]\n",
    "inverted_pred_y=inverted_pred_y\n",
    "inverted_test_y=inverted_test_y\n",
    "forecast_error=evaluate_series(inverted_test_y, inverted_pred_y, h)\n",
    "print(f\"GRU_{feature_name},{forecast_error['mae'][0]},{forecast_error['rmse'][0]},{forecast_error['mape'][0]}\")\n",
    "forecast_error\n"
   ]
  },
  {
   "cell_type": "code",
   "execution_count": 804,
   "metadata": {},
   "outputs": [
    {
     "name": "stdout",
     "output_type": "stream",
     "text": [
      "{'h': 1, 'mae': [10.998634489698485], 'rmse': [13.628617372415247], 'mape': [0.19079984912457992], 'r2': [-1.1268398722562853], 'descriptions': ''}\n",
      "\n",
      "Forecast Error (1-fold cross-validation)\n",
      "X: (1953, 10, 3, 900)\n",
      "y: (1953, 1)\n",
      "h= 1\n",
      "Model: Functional\n",
      "MAE = 10.998634 +/- nan\n",
      "RMSE = 13.628617 +/- nan\n",
      "MAPE = 0.190800 +/- nan\n",
      "\n",
      "\n"
     ]
    }
   ],
   "source": [
    "print(forecast_error)\n",
    "df_forecast_error = df_forecast_error.append(\n",
    "    pd.DataFrame(forecast_error), ignore_index=True)\n",
    "mae = df_forecast_error[\"mae\"]\n",
    "rmse = df_forecast_error[\"rmse\"]\n",
    "mape = df_forecast_error[\"mape\"]\n",
    "k = 1\n",
    "msg = f\"\"\"\n",
    "Forecast Error ({k}-fold cross-validation)\n",
    "X: {X.shape}\n",
    "y: {y.shape}\n",
    "h= {h}\n",
    "Model: {model.__class__.__name__}\n",
    "MAE = {mae.mean():.6f} +/- {mae.std():.3f}\n",
    "RMSE = {rmse.mean():.6f} +/- {rmse.std():.3f}\n",
    "MAPE = {mape.mean():.6f} +/- {mape.std():.3f}\n",
    "\"\"\"\n",
    "print(msg)\n",
    "logging.info(msg)\n",
    "evaluation_result = {\n",
    "'h': h,\n",
    "'mae': [mae.mean()],\n",
    "'rmse': [rmse.mean()],\n",
    "'mape': [mape.mean()],\n",
    "'descriptions': [msg]\n",
    "}\n",
    "print()"
   ]
  },
  {
   "cell_type": "code",
   "execution_count": null,
   "metadata": {},
   "outputs": [],
   "source": [
    "df_forecast_error"
   ]
  },
  {
   "cell_type": "code",
   "execution_count": null,
   "metadata": {},
   "outputs": [],
   "source": [
    "# evaluate_series(inverted_test_y, inverted_pred_y, h)"
   ]
  },
  {
   "cell_type": "markdown",
   "metadata": {},
   "source": [
    "### Export Model"
   ]
  },
  {
   "cell_type": "code",
   "execution_count": null,
   "metadata": {},
   "outputs": [],
   "source": [
    "# import pickle\n",
    "# import gzip\n",
    "\n",
    "# with gzip.GzipFile('./trained_models/model.pgz', 'w') as f:\n",
    "#     pickle.dump(model, f)"
   ]
  },
  {
   "cell_type": "code",
   "execution_count": null,
   "metadata": {},
   "outputs": [],
   "source": [
    "# with gzip.open('./trained_models/model.pgz', 'r') as f:\n",
    "#     trained_model = pickle.load(f)"
   ]
  },
  {
   "cell_type": "code",
   "execution_count": null,
   "metadata": {},
   "outputs": [],
   "source": [
    "# pred_y = trained_model.predict([test_emb, test_X])\n",
    "# inverted_pred_y = y_scaler.inverse_transform(pred_y.reshape(-1, 1))\n",
    "# inverted_test_y = y_scaler.inverse_transform(test_y)  # should be same as testXy\n",
    "# inverted_pred_y=inverted_pred_y.ravel()+df_original_price.Price.to_numpy()[train_size:]\n",
    "# inverted_test_y=inverted_test_y.ravel()+df_original_price.Price.to_numpy()[train_size:]\n",
    "# forecast_error = evaluate_series(inverted_test_y, inverted_pred_y, h)\n",
    "# forecast_error"
   ]
  },
  {
   "cell_type": "code",
   "execution_count": null,
   "metadata": {},
   "outputs": [],
   "source": [
    "# export architecture as json \n",
    "# model.to_json()"
   ]
  },
  {
   "cell_type": "markdown",
   "metadata": {},
   "source": [
    "### k-fold"
   ]
  },
  {
   "cell_type": "code",
   "execution_count": null,
   "metadata": {},
   "outputs": [],
   "source": [
    "# prepare models\n",
    "\n",
    "ts_size=X.shape[-1]\n",
    "\n",
    "ts_inputs = Input(shape=(1,ts_size))\n",
    "ts_model = Bidirectional(GRU(300,dropout=0.1,return_sequences=False))(ts_inputs)\n",
    "# ts_model=Reshape((1,1,1,30))(ts_inputs)\n",
    "# ts_model=ConvLSTM2D(1000,(1,1))(ts_model)\n",
    "ts_model= Dropout(0.2)(ts_model)\n",
    "# ts_model=Reshape((10,100))(ts_model)\n",
    "# ts_model = Bidirectional(GRU(200,dropout=0.1,return_sequences=True))(ts_model)\n",
    "# ts_model = Bidirectional(GRU(100,dropout=0.1,return_sequences=False))(ts_model)\n",
    "ts_model = Dense(1)(ts_model)\n"
   ]
  },
  {
   "cell_type": "code",
   "execution_count": null,
   "metadata": {},
   "outputs": [],
   "source": [
    "emb_size=X.shape[-1]\n",
    "emb_inputs = Input(shape=(1,emb_size))\n",
    "emb_model = Reshape((1,1,emb_size))(emb_inputs)\n",
    "emb_model = Conv2D(600,(1, 50), activation=\"relu\",padding='same')(emb_model)\n",
    "emb_model = Dropout(0.1)(emb_model)\n",
    "emb_model = Conv2D(400,(1, 50), activation=\"relu\",padding='same')(emb_model)\n",
    "emb_model = Dropout(0.2)(emb_model)\n",
    "emb_model = Conv2D(200,(1, 1), activation=\"relu\")(emb_model)\n",
    "emb_model = Dropout(0.2)(emb_model)\n",
    "emb_model = Dense(1)(emb_model)\n",
    "# model = Model(inputs=emb_inputs, outputs=emb_model)\n",
    "# model.compile(loss='mape', optimizer='adam')"
   ]
  },
  {
   "cell_type": "code",
   "execution_count": null,
   "metadata": {},
   "outputs": [],
   "source": [
    "try:        \n",
    "    cv = get_TS_cv()\n",
    "    df_forecast_error = pd.DataFrame(\n",
    "        columns=['h', 'mae', 'rmse', 'mape', 'descriptions'])\n",
    "    for train_idx, test_idx in cv.split(y):\n",
    "        # split train/test set for emb,X,y      \n",
    "        train_X = X[train_idx,:]\n",
    "        test_X = X[test_idx,:]\n",
    "        train_y = y[train_idx]\n",
    "        test_y = y[test_idx]\n",
    "\n",
    "        # normalize features\n",
    "        # X_scaler = MinMaxScaler(feature_range=(0.1, 1))\n",
    "        # X_scaler.fit(train_X)\n",
    "        y_scaler = MinMaxScaler(feature_range=(0.1, 1))\n",
    "        y_scaler.fit(train_y)\n",
    "\n",
    "        # train_X=X_scaler.transform(train_X)\n",
    "        # test_X=X_scaler.transform(test_X)\n",
    "        train_y=y_scaler.transform(train_y)\n",
    "        test_y=y_scaler.transform(test_y)\n",
    "\n",
    "        # reshape to 3D for RNN/LSTM/GRU       \n",
    "        train_X=train_X.reshape(train_X.shape[0],1,train_X.shape[-1])\n",
    "        test_X=test_X.reshape(test_X.shape[0],1,test_X.shape[-1])\n",
    "        print(f\"train_X: {train_X.shape} test_X:{test_X.shape}\")\n",
    "        print(f\"train_y: {train_y.shape} test_y:{test_y.shape}\")\n",
    "        # model = Model(inputs=ts_inputs, outputs=ts_model)\n",
    "        # model.compile(loss='mse', optimizer='adam')\n",
    "        model = Model(inputs=emb_inputs, outputs=emb_model)\n",
    "        model.compile(loss='mse', optimizer='adam')\n",
    "\n",
    "        history = model.fit(train_X, train_y, epochs=50, batch_size=100, validation_data=(test_X, test_y), verbose=0, shuffle=False)\n",
    "        \n",
    "        # plot history\n",
    "        pyplot.plot(history.history['loss'], label='train')\n",
    "        pyplot.plot(history.history['val_loss'], label='test')\n",
    "        pyplot.legend()\n",
    "        pyplot.show()\n",
    "\n",
    "        pred_y = model.predict(test_X)\n",
    "        print(f\"pred_y: {pred_y.shape}\")\n",
    "\n",
    "        # scale\n",
    "        inverted_pred_y = y_scaler.inverse_transform(pred_y.reshape(test_y.shape))\n",
    "        inverted_test_y = y_scaler.inverse_transform(test_y)\n",
    "        # original_test_price=df_original_price.to_numpy()[test_idx]\n",
    "        # inverted_pred_y=inverted_pred_y+original_test_price\n",
    "        # inverted_test_y=inverted_test_y+original_test_price\n",
    "\n",
    "\n",
    "\n",
    "        # inverted_pred_y = y_scaler.inverse_transform(pred_y.reshape(-1, 1))\n",
    "        # inverted_pred_y=inverted_pred_y.ravel()+df_original_price.Price1.to_numpy()[test_idx]\n",
    "        # inverted_test_y = y_scaler.inverse_transform(test_y)  # should be same as testXy\n",
    "        # inverted_test_y=inverted_test_y.ravel()+df_original_price.Price1.to_numpy()[test_idx]\n",
    "        \n",
    "        # no scale\n",
    "        # inverted_pred_y=pred_y.ravel()+df_original_price.Price.to_numpy()[test_idx]\n",
    "        # inverted_test_y=test_y.ravel()+df_original_price.Price.to_numpy()[test_idx]\n",
    "        \n",
    "        forecast_error = evaluate_series(inverted_test_y, inverted_pred_y, h)\n",
    "        # forecast_error = evaluate_series(test_y.reshape(-1, 1), pred_y.reshape(-1, 1), h)\n",
    "        print(forecast_error)\n",
    "        df_forecast_error = df_forecast_error.append(\n",
    "            pd.DataFrame(forecast_error), ignore_index=True)\n",
    "    mae = df_forecast_error[\"mae\"]\n",
    "    rmse = df_forecast_error[\"rmse\"]\n",
    "    mape = df_forecast_error[\"mape\"]\n",
    "    k = cv.get_n_splits()\n",
    "    msg = f\"\"\"\n",
    "    Forecast Error ({k}-fold cross-validation)\n",
    "    X: {X.shape}\n",
    "    y: {y.shape}\n",
    "    h= {h}\n",
    "    Model: {model.__class__.__name__}\n",
    "    MAE = {mae.mean():.6f} +/- {mae.std():.3f}\n",
    "    RMSE = {rmse.mean():.6f} +/- {rmse.std():.3f}\n",
    "    MAPE = {mape.mean():.6f} +/- {mape.std():.3f}\n",
    "    \"\"\"\n",
    "    print(msg)\n",
    "    logging.info(msg)\n",
    "    evaluation_result = {\n",
    "        'h': h,\n",
    "        'mae': [mae.mean()],\n",
    "        'rmse': [rmse.mean()],\n",
    "        'mape': [mape.mean()],\n",
    "        'descriptions': [msg]\n",
    "    }    \n",
    "except Exception as e:\n",
    "    logging.exception(\"EXCEPTION: %s\", e, exc_info=True)"
   ]
  },
  {
   "cell_type": "code",
   "execution_count": null,
   "metadata": {},
   "outputs": [],
   "source": [
    "df_forecast_error"
   ]
  },
  {
   "cell_type": "code",
   "execution_count": null,
   "metadata": {},
   "outputs": [],
   "source": [
    "model_log=\"BiGRU;\"\n",
    "FE_log=\"CLC1(h=1); 1stDIFF(xy)+ RFE(Ridge,60); scale y;\"\n",
    "msg=f\"{model_log} {FE_log} mse;\"\n",
    "evaluation_result[\"descriptions\"]=msg\n",
    "df_result = pd.DataFrame(evaluation_result)\n",
    "df_result[\"time\"] = datetime.datetime.now().strftime(\"%Y-%m-%dT%H:%M:%S\")\n",
    "\n",
    "df_result = df_result[['time', 'descriptions', 'h', 'mae', 'rmse', 'mape']]\n",
    "df_result"
   ]
  },
  {
   "cell_type": "code",
   "execution_count": null,
   "metadata": {},
   "outputs": [],
   "source": [
    "# df_result.to_csv(f\"{HOME}/results/experiment_results.csv\",mode=\"a+\",index=False,header=False)"
   ]
  },
  {
   "cell_type": "code",
   "execution_count": null,
   "metadata": {},
   "outputs": [],
   "source": []
  },
  {
   "cell_type": "code",
   "execution_count": null,
   "metadata": {},
   "outputs": [],
   "source": []
  }
 ],
 "metadata": {
  "interpreter": {
   "hash": "8f3e05a59671f1eb5b3f5f0e003aaa5a39f5d3316373e39c3606e56079185283"
  },
  "kernelspec": {
   "display_name": "Python 3.8.12 64-bit ('OPP-env': conda)",
   "language": "python",
   "name": "python3"
  },
  "language_info": {
   "codemirror_mode": {
    "name": "ipython",
    "version": 3
   },
   "file_extension": ".py",
   "mimetype": "text/x-python",
   "name": "python",
   "nbconvert_exporter": "python",
   "pygments_lexer": "ipython3",
   "version": "3.8.12"
  },
  "orig_nbformat": 4
 },
 "nbformat": 4,
 "nbformat_minor": 2
}
