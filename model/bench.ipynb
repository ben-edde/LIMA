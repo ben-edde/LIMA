{
 "cells": [
  {
   "cell_type": "code",
   "execution_count": null,
   "metadata": {},
   "outputs": [],
   "source": [
    "import datetime\n",
    "import logging\n",
    "import os\n",
    "import numpy as np\n",
    "import pandas as pd\n",
    "from matplotlib import pyplot\n",
    "from sklearn.preprocessing import MinMaxScaler\n",
    "from sklearn.model_selection import cross_validate, TimeSeriesSplit\n",
    "from sklearn.metrics import mean_absolute_error, mean_absolute_percentage_error, mean_squared_error\n",
    "from sklearn.metrics import r2_score\n",
    "import joblib\n",
    "import tensorflow as tf\n",
    "from tensorflow import keras\n",
    "from keras.layers import Reshape, MaxPool3D, Bidirectional, ConvLSTM2D\n",
    "from keras.models import Sequential\n",
    "from keras.layers import Dense\n",
    "from keras.layers import LSTM\n",
    "from keras.layers import GRU\n",
    "from keras.layers import SimpleRNN\n",
    "from keras.layers import Conv2D\n",
    "from keras.layers import Dropout\n",
    "from sklearn.feature_selection import RFE\n",
    "from sklearn.linear_model import Ridge, Lasso\n",
    "import pymongo\n",
    "import random\n",
    "import string\n",
    "import fasttext\n",
    "from nltk.tokenize import word_tokenize\n",
    "from nltk.corpus import stopwords\n",
    "from nltk.stem.porter import PorterStemmer\n",
    "from nltk.tag import pos_tag\n",
    "from sklearn.decomposition import LatentDirichletAllocation\n",
    "from sklearn.preprocessing import MinMaxScaler\n",
    "from textblob import TextBlob\n",
    "physical_devices = tf.config.list_physical_devices('GPU')\n",
    "tf.config.experimental.set_memory_growth(physical_devices[0], True)\n",
    "\n",
    "HOME = os.environ['LIMA_HOME']\n"
   ]
  },
  {
   "cell_type": "code",
   "execution_count": null,
   "metadata": {},
   "outputs": [],
   "source": [
    "def clean(text: str) -> list:\n",
    "    \"\"\"\n",
    "    clean text with tokenization; stemming; removing stop word, punctuation, number, and empty string.\n",
    "\n",
    "    Args:\n",
    "        text (str): text\n",
    "\n",
    "    Returns:\n",
    "        list: cleaned text as list of tokenized str\n",
    "    \"\"\"\n",
    "\n",
    "    # to list of token\n",
    "    text = word_tokenize(text)\n",
    "\n",
    "    # stemming and convert to lower case if not proper noun: punctuation and stop word seem to help POS tagging, remove them after stemming\n",
    "    word_tag = pos_tag(text)\n",
    "    porter = PorterStemmer()\n",
    "    text = [\n",
    "        porter.stem(each[0])\n",
    "        if each[1] != \"NNP\" and each[1] != \"NNPS\" else each[0]\n",
    "        for each in word_tag\n",
    "    ]\n",
    "\n",
    "    # remove stop word: it seems stemming skip stop word; OK to remove stop word after stemming;\n",
    "    stop_word = set(stopwords.words('english'))\n",
    "    text = [each for each in text if not each in stop_word]\n",
    "\n",
    "    # remove punctuation\n",
    "    text = [\n",
    "        each.translate(str.maketrans('', '', string.punctuation))\n",
    "        for each in text\n",
    "    ]\n",
    "    # text = re.sub(r\"(@\\[A-Za-z0-9]+)|([^0-9A-Za-z \\t])|(\\w+:\\/\\/\\S+)|^rt|http.+?\", \" \", text) # if using re\n",
    "\n",
    "    # convert number to <NUM>\n",
    "    text = [\"<NUM>\" if each.isdigit() else each for each in text]\n",
    "\n",
    "    # remove empty string\n",
    "    text = [each for each in text if each != \"\"]\n",
    "\n",
    "    return text\n",
    "\n",
    "# convert series to supervised learning\n",
    "def series_to_supervised(data, n_in=1, n_out=1, dropnan=True):\n",
    "\tn_vars = 1 if type(data) is list else data.shape[1]\n",
    "\tdf = data.copy()\n",
    "\tcols, names = list(), list()\n",
    "\t# input sequence (t-n, ... t-1)\n",
    "\tfor i in range(n_in, 0, -1):\n",
    "\t\tcols.append(df.shift(i))\n",
    "        \n",
    "\t\tnames += [f'{data.columns[j]}(t-{i})' for j in range(n_vars)]\n",
    "\t# forecast sequence (t, t+1, ... t+n)\n",
    "\tfor i in range(0, n_out):\n",
    "\t\tcols.append(df.shift(-i))\n",
    "\t\tif i == 0:\n",
    "\t\t\tnames += [f'{data.columns[j]}(t)' for j in range(n_vars)]\n",
    "\t\telse:\n",
    "\t\t\tnames += [f'{data.columns[j]}(t+{i})' for j in range(n_vars)]\n",
    "\t# put it all together\n",
    "\tagg = pd.concat(cols, axis=1)\n",
    "\tagg.columns = names\n",
    "\t# drop rows with NaN values\n",
    "\tif dropnan:\n",
    "\t\tagg.dropna(inplace=True)\n",
    "\treturn agg\n",
    "\n",
    "def get_TS_cv(k=10, test_size=None):\n",
    "    \"\"\"\n",
    "    ML models do not need to care about forecast horizon when splitting training and test set. Forecast horizon should be handled by feature preparation ([X_t-1,X_t-2...]). Actually repeated K-fold can also be used, but stick to TS split to align with TS_evaluate().\n",
    "    \"\"\"\n",
    "    return TimeSeriesSplit(\n",
    "        n_splits=k,\n",
    "        gap=0,\n",
    "        test_size=test_size,\n",
    "    )\n",
    "\n",
    "def evaluate_series(y_true, y_pred, horizon):\n",
    "    \"\"\"\n",
    "    Some models (like ARIMA) may not support cross_validate(), compare the forecasting result directly\n",
    "    Args:\n",
    "        y_true: y of test set\n",
    "        y_pred: y of prediction\n",
    "        horizon: forecast horizon\n",
    "\n",
    "    Returns:\n",
    "        DataFrame: single row DF with 3 metrics wrt horizon\n",
    "    \"\"\"\n",
    "    # RMSE\n",
    "    rmse = mean_squared_error(y_true, y_pred, squared=False)\n",
    "    # MAE\n",
    "    mae = mean_absolute_error(y_true, y_pred)\n",
    "    # MAPE\n",
    "    mape = mean_absolute_percentage_error(y_true, y_pred)\n",
    "    r2=r2_score(y_true, y_pred)\n",
    "    forecast_error = {\n",
    "        'h': horizon,\n",
    "        'mae': [mae],\n",
    "        'rmse': [rmse],\n",
    "        'mape': [mape],\n",
    "        'r2':[r2],\n",
    "        'descriptions': \"\"\n",
    "    }\n",
    "    return forecast_error\n"
   ]
  },
  {
   "cell_type": "code",
   "execution_count": null,
   "metadata": {},
   "outputs": [],
   "source": [
    "# set random seed\n",
    "seed_value = 42\n",
    "os.environ['PYTHONHASHSEED'] = str(seed_value)\n",
    "\n",
    "random.seed(seed_value)\n",
    "np.random.seed(seed_value)\n",
    "tf.random.set_seed(seed_value)\n",
    "h = 1\n",
    "past = 10"
   ]
  },
  {
   "cell_type": "markdown",
   "metadata": {},
   "source": [
    "## Metrics features"
   ]
  },
  {
   "cell_type": "code",
   "execution_count": null,
   "metadata": {},
   "outputs": [],
   "source": [
    "from influxdb_client import InfluxDBClient\n",
    "client= InfluxDBClient.from_config_file(f\"{HOME}/dev/DB/influxdb_config.ini\")\n",
    "query_api = client.query_api()\n",
    "df_WTI = query_api.query_data_frame(\"\"\"\n",
    "from(bucket: \"dummy\")\n",
    "  |> range(start: 2011-04-01, stop: 2019-04-01)\n",
    "  |> filter(fn: (r) => r[\"_measurement\"] == \"WTI\") \n",
    "  |> filter(fn: (r) => r[\"type\"] == \"closing_price\") \n",
    "  |> pivot(rowKey:[\"_time\"], columnKey: [\"_field\"], valueColumn: \"_value\")\n",
    "  |> drop(columns: [\"_start\", \"_stop\"])\n",
    "\"\"\")\n",
    "df_WTI=df_WTI[[\"_time\",\"CLC4\",\"CLC3\",\"CLC2\",\"CLC1\"]]\n",
    "df_WTI.columns=[\"Date\",\"CLC4\",\"CLC3\",\"CLC2\",\"CLC1\"]\n",
    "df_WTI.set_index(\"Date\",inplace=True)\n",
    "df_WTI.index=df_WTI.index.map(lambda each: each.date())\n",
    "df_WTI.index=pd.to_datetime(df_WTI.index)"
   ]
  },
  {
   "cell_type": "code",
   "execution_count": null,
   "metadata": {},
   "outputs": [],
   "source": [
    "month=[each.month for each in df_WTI.index]\n",
    "day=[each.day for each in df_WTI.index]\n",
    "day_in_week=[each.weekday() for each in df_WTI.index]"
   ]
  },
  {
   "cell_type": "code",
   "execution_count": null,
   "metadata": {},
   "outputs": [],
   "source": [
    "df_dt=pd.DataFrame()\n",
    "df_dt[\"month\"]=month\n",
    "df_dt[\"day\"]=day\n",
    "df_dt[\"day_in_week\"]=day_in_week\n",
    "df_dt.index=df_WTI.index"
   ]
  },
  {
   "cell_type": "code",
   "execution_count": null,
   "metadata": {},
   "outputs": [],
   "source": [
    "df_WTI"
   ]
  },
  {
   "cell_type": "markdown",
   "metadata": {},
   "source": [
    "## Text features"
   ]
  },
  {
   "cell_type": "code",
   "execution_count": null,
   "metadata": {},
   "outputs": [],
   "source": [
    "mongo_client = pymongo.MongoClient(\"mongodb://localhost:27017/\")\n",
    "mongo_db = mongo_client[\"lima\"]\n",
    "mongo_collection = mongo_db[\"investing_news\"]\n",
    "cursor = mongo_collection.find({\"News\":{\"$ne\":\"NEURONswap: First Dex To Implement Governance 2.0\"}})\n",
    "df_news =  pd.DataFrame(list(cursor))[[\"Date\",\"News\"]]\n",
    "df_news=df_news[df_news.Date.isin(df_WTI.index)]\n",
    "fasttext_model = fasttext.load_model(f\"{HOME}/data/big/cc.en.300.bin\")\n",
    "df_news.News = df_news.News.apply(lambda r: \" \".join(clean(r)))"
   ]
  },
  {
   "cell_type": "markdown",
   "metadata": {},
   "source": [
    "### sentiment features"
   ]
  },
  {
   "cell_type": "code",
   "execution_count": null,
   "metadata": {},
   "outputs": [],
   "source": [
    "def get_sentiment_aggregated(df):\n",
    "    df=df.copy()\n",
    "    df[\"Polarity\"] = df.apply(\n",
    "        lambda row: TextBlob(row['News']).sentiment.polarity, axis=1)\n",
    "    df[\"Subjectivity\"] = df.apply(\n",
    "        lambda row: TextBlob(row['News']).sentiment.subjectivity, axis=1)\n",
    "    df_daily_averaged_sentiment_score = df.groupby(['Date']).mean()\n",
    "    return df_daily_averaged_sentiment_score\n",
    "\n",
    "df_sentiment = get_sentiment_aggregated(df_news)\n",
    "df_sentiment[\"Combined_Sentiment\"]=df_sentiment.Polarity*(1+df_sentiment.Subjectivity)\n",
    "def decay_features(df):\n",
    "    window_size=5\n",
    "    feature_list=[]\n",
    "    for each in df.columns:\n",
    "        feature_list.append(df[each].iloc[:window_size].to_list())\n",
    "    feature_num=len(feature_list)\n",
    "    for idx in range(window_size,len(df_sentiment)):\n",
    "        feature_tmp=np.zeros(feature_num)\n",
    "        for t in range(window_size):\n",
    "            for feature_idx in range(feature_num):\n",
    "                feature_tmp[feature_idx]+=df.iloc[idx-t][df.columns[feature_idx]]*((window_size-t)/window_size)\n",
    "        for feature_idx in range(feature_num):\n",
    "            feature_list[feature_idx].append(feature_tmp[feature_idx])\n",
    "    df_result=pd.DataFrame(feature_list).transpose()\n",
    "    df_result.index=df.index\n",
    "    df_result.columns=[f\"Decay_{each}\" for each in df.columns]\n",
    "    return df_result\n",
    "\n",
    "df_res=decay_features(df_sentiment)\n",
    "df_sentiment=pd.concat([df_sentiment,df_res],axis=1)"
   ]
  },
  {
   "cell_type": "markdown",
   "metadata": {},
   "source": [
    "### topic modeling features"
   ]
  },
  {
   "cell_type": "code",
   "execution_count": null,
   "metadata": {},
   "outputs": [],
   "source": [
    "def get_topic_aggregated(df):\n",
    "    df=df.copy()\n",
    "    news_emb = df.News.apply(lambda x: fasttext_model.get_sentence_vector(\n",
    "        (x))).to_numpy().tolist()\n",
    "    news_emb = np.array(news_emb)\n",
    "    emb_scaler=MinMaxScaler()\n",
    "    news_emb=emb_scaler.fit_transform(news_emb)\n",
    "    lda_model=LatentDirichletAllocation(n_components=5,n_jobs=-1)\n",
    "    topic= lda_model.fit_transform(news_emb)\n",
    "    for i in range(5):\n",
    "        df[f\"Topic{i+1}\"] = topic[:, i]\n",
    "    df_daily_averaged_topic = df.groupby(['Date']).mean()\n",
    "    return df_daily_averaged_topic, emb_scaler, lda_model\n",
    "\n",
    "df_topic, emb_scaler, lda_model = get_topic_aggregated(df_news)\n",
    "df_topic.head()"
   ]
  },
  {
   "cell_type": "code",
   "execution_count": null,
   "metadata": {},
   "outputs": [],
   "source": [
    "df_res=decay_features(df_topic)\n",
    "df_topic=pd.concat([df_topic,df_res],axis=1)"
   ]
  },
  {
   "cell_type": "code",
   "execution_count": null,
   "metadata": {},
   "outputs": [],
   "source": [
    "df_topic.head(1)"
   ]
  },
  {
   "cell_type": "code",
   "execution_count": null,
   "metadata": {},
   "outputs": [],
   "source": [
    "df_Xy = pd.concat([df_sentiment,df_topic, df_WTI], axis=1, join=\"inner\")\n",
    "df_Xy.shape"
   ]
  },
  {
   "cell_type": "markdown",
   "metadata": {},
   "source": [
    "### Embedding"
   ]
  },
  {
   "cell_type": "code",
   "execution_count": null,
   "metadata": {},
   "outputs": [],
   "source": [
    "def aggregate_emb_maxmin(emb):\n",
    "    data=np.array(emb.to_numpy().tolist())\n",
    "    return np.concatenate([data.max(axis=0),data.min(axis=0)])\n",
    "def aggregate_emb_maxmeanmin(emb):\n",
    "    data=np.array(emb.to_numpy().tolist())\n",
    "    return np.concatenate([data.max(axis=0),data.mean(axis=0),data.min(axis=0)])\n",
    "\n",
    "news_emb = df_news.News.apply(lambda x: fasttext_model.get_sentence_vector(\n",
    "        (x)))\n",
    "# news_emb = np.array(news_emb)\n",
    "# emb_scaler=MinMaxScaler()\n",
    "# news_emb=emb_scaler.fit_transform(news_emb)"
   ]
  },
  {
   "cell_type": "code",
   "execution_count": null,
   "metadata": {},
   "outputs": [],
   "source": [
    "df_emb=pd.concat([df_news.Date,news_emb],axis=1)\n",
    "df_emb"
   ]
  },
  {
   "cell_type": "code",
   "execution_count": null,
   "metadata": {},
   "outputs": [],
   "source": [
    "# daily mean of mean\n",
    "# df_emb[\"News\"]=df_emb.News.apply(lambda r:np.array(r.tolist()).mean())\n",
    "\n",
    "# daily mean\n",
    "# df_emb=df_emb.groupby(\"Date\").mean()\n",
    "\n",
    "# max + min\n",
    "# df_emb=df_emb.groupby(\"Date\")['News'].agg(aggregate_emb_maxmin)\n",
    "\n",
    "# max + mean + min\n",
    "df_emb=df_emb.groupby(\"Date\")['News'].agg(aggregate_emb_maxmeanmin)\n",
    "\n",
    "df_emb=pd.DataFrame(df_emb)\n",
    "# df_emb.set_index(\"Date\",inplace=True)\n",
    "df_emb.index=pd.to_datetime(df_emb.index)\n",
    "df_emb"
   ]
  },
  {
   "cell_type": "code",
   "execution_count": null,
   "metadata": {},
   "outputs": [],
   "source": [
    "# filter to align\n",
    "df_emb=df_emb[df_emb.index.isin(df_WTI[\"CLC1\"].index)]\n",
    "# emb=df_emb.to_numpy()\n",
    "# emb =np.array([each.tolist() for each in emb])\n",
    "# emb.shape"
   ]
  },
  {
   "cell_type": "code",
   "execution_count": null,
   "metadata": {},
   "outputs": [],
   "source": [
    "# y=df_WTI[df_WTI.index.isin(df_emb.index)][\"CLC1\"].to_numpy()\n",
    "# y.shape\n",
    "# feature_name=\"EMB_maxmeanmin_single\""
   ]
  },
  {
   "cell_type": "markdown",
   "metadata": {},
   "source": [
    "### Event"
   ]
  },
  {
   "cell_type": "code",
   "execution_count": null,
   "metadata": {},
   "outputs": [],
   "source": [
    "# os.environ[\"CORENLP_HOME\"]=\"~/.stanfordnlp_resources/stanford-corenlp-4.1.0/\"\n",
    "# from openie import StanfordOpenIE\n",
    "# openie_client= StanfordOpenIE()"
   ]
  },
  {
   "cell_type": "code",
   "execution_count": null,
   "metadata": {},
   "outputs": [],
   "source": [
    "# event_tuples = []\n",
    "# for idx, row in df_news.iterrows():\n",
    "#     text = row['News']\n",
    "#     for triple in openie_client.annotate(text):\n",
    "#         triple['Date'] = row['Date']\n",
    "#         event_tuples.append(triple)\n",
    "# openie_client.client.stop()"
   ]
  },
  {
   "cell_type": "code",
   "execution_count": null,
   "metadata": {},
   "outputs": [],
   "source": [
    "# df_events = pd.DataFrame(event_tuples)\n",
    "df_events=pd.read_pickle(\"df_events.pkl\")\n",
    "df_events.subject = df_events.subject.apply(\n",
    "    lambda x: fasttext_model.get_sentence_vector((x)))\n",
    "df_events.relation = df_events.relation.apply(\n",
    "    lambda x: fasttext_model.get_sentence_vector((x)))\n",
    "df_events.object = df_events.object.apply(lambda x: fasttext_model.get_sentence_vector(\n",
    "    (x)))\n",
    "df_events.dropna(inplace=True)\n",
    "df_events.head(2)"
   ]
  },
  {
   "cell_type": "code",
   "execution_count": null,
   "metadata": {},
   "outputs": [],
   "source": [
    "def aggregate_emb_maxmeanmin(emb):\n",
    "    data=np.array(emb.to_numpy().tolist())\n",
    "    return np.concatenate([data.max(axis=0),data.mean(axis=0),data.min(axis=0)])\n",
    "\n",
    "# max + mean + min\n",
    "series_subject=df_events.groupby(\"Date\")['subject'].agg(aggregate_emb_maxmeanmin)\n",
    "series_relation=df_events.groupby(\"Date\")['relation'].agg(aggregate_emb_maxmeanmin)\n",
    "series_object=df_events.groupby(\"Date\")['object'].agg(aggregate_emb_maxmeanmin)"
   ]
  },
  {
   "cell_type": "code",
   "execution_count": null,
   "metadata": {},
   "outputs": [],
   "source": [
    "df_event_emb=pd.concat([series_subject,series_relation,series_object],axis=1)\n",
    "df_event_emb.index=pd.to_datetime(df_event_emb.index)\n",
    "df_event_emb.shape"
   ]
  },
  {
   "cell_type": "code",
   "execution_count": null,
   "metadata": {},
   "outputs": [],
   "source": [
    "# filter to align\n",
    "# df_event_emb=df_event_emb[df_event_emb.index.isin(df_WTI[\"CLC1\"].index)]\n",
    "# join 3 : (-1,2700)\n",
    "# df_event_emb[\"event\"]=df_event_emb.apply(np.concatenate,axis=1)\n",
    "# join 3 : (-1,3,900)\n",
    "df_event_emb[\"event\"]=df_event_emb.apply(np.array,axis=1)\n",
    "# event_emb=df_event_emb[\"event\"].to_numpy()\n",
    "# event_emb=np.array([each.tolist() for each in event_emb])\n",
    "# X=event_emb\n",
    "# event_emb.shape"
   ]
  },
  {
   "cell_type": "code",
   "execution_count": null,
   "metadata": {},
   "outputs": [],
   "source": [
    "df_event_emb.shape"
   ]
  },
  {
   "cell_type": "markdown",
   "metadata": {},
   "source": [
    "## Analysis"
   ]
  },
  {
   "cell_type": "code",
   "execution_count": null,
   "metadata": {},
   "outputs": [],
   "source": [
    "df_Xy.head()"
   ]
  },
  {
   "cell_type": "code",
   "execution_count": null,
   "metadata": {},
   "outputs": [],
   "source": [
    "# stationary test before diff\n",
    "from statsmodels.tsa.stattools import adfuller\n",
    "for i in range(df_Xy.shape[1]):\n",
    "    test_result=adfuller(df_Xy[df_Xy.columns[i]].to_numpy())\n",
    "    if test_result[1]>0.05:\n",
    "        print(f\"{df_Xy.columns[i]}: {test_result[1]}\")"
   ]
  },
  {
   "cell_type": "code",
   "execution_count": null,
   "metadata": {},
   "outputs": [],
   "source": [
    "df_Xy.columns[:]\n",
    "# df_Xy.columns[7:]#"
   ]
  },
  {
   "cell_type": "code",
   "execution_count": null,
   "metadata": {},
   "outputs": [],
   "source": [
    "from statsmodels.tsa.api import VAR\n",
    "\n",
    "model = VAR(df_Xy[['Subjectivity','CLC1']].diff().dropna().to_numpy())\n",
    "var_result=model.select_order(40)\n",
    "var_result.selected_orders"
   ]
  },
  {
   "cell_type": "code",
   "execution_count": null,
   "metadata": {},
   "outputs": [],
   "source": [
    "import statsmodels.tsa\n",
    "from statsmodels.graphics.tsaplots import plot_acf\n",
    "plot_acf(df_Xy.CLC1,lags=9, alpha=0.05)"
   ]
  },
  {
   "cell_type": "code",
   "execution_count": null,
   "metadata": {},
   "outputs": [],
   "source": [
    "from statsmodels.tsa.stattools import grangercausalitytests\n",
    "all_results=[]\n",
    "for each in df_Xy.columns:\n",
    "    if each ==\"CLC1\":\n",
    "        continue\n",
    "    rest_results=grangercausalitytests(df_Xy[[\"CLC1\",each]],maxlag=9,verbose=False)\n",
    "    for lag in range(1,10):\n",
    "        all_results.append({\"type\":each,\"lag\":lag, \"p\":rest_results[lag][0]['ssr_ftest'][1]})\n",
    "df_test=pd.DataFrame(all_results)\n",
    "df_test"
   ]
  },
  {
   "cell_type": "code",
   "execution_count": null,
   "metadata": {},
   "outputs": [],
   "source": [
    "df_Xy.columns"
   ]
  },
  {
   "cell_type": "code",
   "execution_count": null,
   "metadata": {},
   "outputs": [],
   "source": [
    "feature_name=\"day\"\n",
    "df_selected=df_Xy#[[feature_name,'CLC1']]"
   ]
  },
  {
   "cell_type": "code",
   "execution_count": null,
   "metadata": {},
   "outputs": [],
   "source": [
    "# feature selection with Granger\n",
    "# df_g_test=df.sort_values(\"p\")\n",
    "# selected_features_series=[]\n",
    "# for idx,each in df_g_test.iterrows():\n",
    "#     series=df_Xy[each[\"type\"]].shift(each[\"lag\"])\n",
    "#     series.name=f\"{each['type']}(t-{each['lag']})\"\n",
    "#     selected_features_series.append(series)\n",
    "# df_selected=pd.concat(selected_features_series,axis=1).dropna()\n",
    "# df_selected.columns[:]"
   ]
  },
  {
   "cell_type": "code",
   "execution_count": null,
   "metadata": {},
   "outputs": [],
   "source": [
    "df_selected[df_selected.columns[:1]].shape"
   ]
  },
  {
   "cell_type": "markdown",
   "metadata": {},
   "source": [
    "## Features processing"
   ]
  },
  {
   "cell_type": "code",
   "execution_count": null,
   "metadata": {},
   "outputs": [],
   "source": [
    "# preserve original price for inverting prediction\n",
    "df_original_price = df_Xy[[\"CLC1\"]].shift(h).dropna()\n",
    "# 1st order DIFF\n",
    "df_selected = df_Xy.diff().dropna()\n",
    "# shift back $past days\n",
    "past=10\n",
    "df_selected = series_to_supervised(df_selected, past, h)\n",
    "# df_selected = series_to_supervised(df_emb, past, h)\n",
    "\n",
    "df_original_price = df_original_price[df_original_price.index.isin(df_selected.index)]\n",
    "# remove current day features for forecast\n",
    "for each in df_selected.columns[:-1]:\n",
    "    if \"(t)\" in each:\n",
    "        df_selected.drop(each, axis=1, inplace=True)\n",
    "\n",
    "# add time feature without shift \n",
    "df_selected=pd.concat([df_dt,df_selected],axis=1).dropna()"
   ]
  },
  {
   "cell_type": "code",
   "execution_count": null,
   "metadata": {},
   "outputs": [],
   "source": [
    "# EMB\n",
    "df_emb = series_to_supervised(df_emb, past, h)\n",
    "for each in df_emb.columns:\n",
    "    if \"(t)\" in each:\n",
    "        df_emb.drop(each, axis=1, inplace=True)\n",
    "df_emb = df_emb[df_emb.index.isin(df_selected.index)]\n",
    "df_emb.columns"
   ]
  },
  {
   "cell_type": "code",
   "execution_count": null,
   "metadata": {},
   "outputs": [],
   "source": [
    "# event-EMB\n",
    "df_event_emb = series_to_supervised(df_event_emb[[\"event\"]], past, h)\n",
    "for each in df_event_emb.columns:\n",
    "    if \"(t)\" in each:\n",
    "        df_event_emb.drop(each, axis=1, inplace=True)\n",
    "df_event_emb = df_event_emb[df_event_emb.index.isin(df_selected.index)]\n",
    "df_event_emb.columns"
   ]
  },
  {
   "cell_type": "code",
   "execution_count": null,
   "metadata": {},
   "outputs": [],
   "source": [
    "df_selected=df_selected[df_selected.index.isin(df_event_emb.index)]\n",
    "df_original_price=df_original_price[df_original_price.index.isin(df_event_emb.index)]\n",
    "print(f\"{df_selected.shape} | {df_original_price.shape}\")\n",
    "# print(f\"{df_selected.shape} | {df_emb.shape}\")\n",
    "print(f\"{df_selected.shape} | {df_event_emb.shape}\")\n",
    "(df_event_emb.index==df_selected.index).all()\n",
    "# df_selected.head(1)"
   ]
  },
  {
   "cell_type": "code",
   "execution_count": null,
   "metadata": {},
   "outputs": [],
   "source": [
    "# emb =np.array([each.tolist() for each in df_emb.to_numpy()])\n",
    "event_emb= df_event_emb.to_numpy()\n",
    "event_emb =np.array([each.tolist() for each in event_emb])\n",
    "event_emb =np.array([each.tolist() for each in event_emb])\n",
    "print(f\"{event_emb.shape} | {event_emb.shape}\")"
   ]
  },
  {
   "cell_type": "code",
   "execution_count": null,
   "metadata": {},
   "outputs": [],
   "source": [
    "raw_X = df_selected.to_numpy()[:, :-1]\n",
    "y =  df_selected.to_numpy()[:, -1].reshape(-1, 1) \n",
    "# y = df_Xy[df_Xy.index.isin(df_selected.index)].to_numpy()[:, -1].reshape(-1, 1)\n",
    "# y=df_WTI[df_WTI.index.isin(df_selected.index)][\"CLC1\"].to_numpy().reshape(-1, 1)\n",
    "f\"{raw_X.shape} | {y.shape}\""
   ]
  },
  {
   "cell_type": "code",
   "execution_count": 344,
   "metadata": {},
   "outputs": [],
   "source": [
    "# for embedding\n",
    "# raw_X=np.array([each.tolist() for each in raw_X])\n",
    "# raw_X=np.array([each.tolist() for each in raw_X])\n",
    "# raw_X.shape\n",
    "# X=raw_X"
   ]
  },
  {
   "cell_type": "markdown",
   "metadata": {},
   "source": [
    "## Feature Selection"
   ]
  },
  {
   "cell_type": "code",
   "execution_count": null,
   "metadata": {},
   "outputs": [],
   "source": [
    "from sklearn.feature_selection import mutual_info_regression,RFE,RFECV,SelectFromModel,SequentialFeatureSelector,chi2,SelectKBest,f_regression,VarianceThreshold,r_regression\n",
    "from sklearn.linear_model import Ridge,Lasso\n",
    "from sklearn.tree import DecisionTreeRegressor,ExtraTreeRegressor\n",
    "from sklearn.svm import LinearSVR,SVR"
   ]
  },
  {
   "cell_type": "code",
   "execution_count": null,
   "metadata": {},
   "outputs": [],
   "source": [
    "print(f\"{raw_X.shape} | {y.shape}\")"
   ]
  },
  {
   "cell_type": "code",
   "execution_count": 386,
   "metadata": {},
   "outputs": [],
   "source": [
    "from tsfel.feature_extraction.features import entropy\n",
    "# tsfel.feature_extraction.features.abs_energy()\n",
    "def tswrapper(a,b):\n",
    "    a=MinMaxScaler().fit_transform(raw_X)\n",
    "    result=pd.DataFrame(a).apply(entropy).to_numpy()\n",
    "    return -result"
   ]
  },
  {
   "cell_type": "code",
   "execution_count": 413,
   "metadata": {},
   "outputs": [],
   "source": [
    "# selector based\n",
    "# estimator = Lasso(random_state=42)\n",
    "# estimator = DecisionTreeRegressor(criterion='poisson',random_state=42)\n",
    "estimator = Ridge(random_state=42)\n",
    "# estimator = LinearSVR(tol=0.001,max_iter=5000,random_state=42)\n",
    "# selector = RFE(estimator,n_features_to_select=30,step=1)\n",
    "# selector = RFECV(estimator, min_features_to_select=20, cv=get_TS_cv(),step=1,n_jobs=-1)\n",
    "# selector=SelectFromModel(estimator,max_features=60)\n",
    "# selector=SequentialFeatureSelector(estimator,n_features_to_select=100,direction='forward',n_jobs=-1)\n",
    "selector=SelectKBest(mutual_info_regression,k=120)\n",
    "# selector=SelectKBest(tswrapper,k=100)\n",
    "# selector=VarianceThreshold(3.21)\n",
    "scaled_raw_X=MinMaxScaler((1,100)).fit_transform(raw_X)\n",
    "# scaled_y=MinMaxScaler((1,100)).fit_transform(y)\n",
    "selector = selector.fit(scaled_raw_X,dummy_y)\n",
    "# selector = selector.fit(raw_X,dymmy_y)"
   ]
  },
  {
   "cell_type": "code",
   "execution_count": 414,
   "metadata": {},
   "outputs": [
    {
     "name": "stdout",
     "output_type": "stream",
     "text": [
      "(1952, 120) | (1952, 1)\n"
     ]
    },
    {
     "data": {
      "text/plain": [
       "Index(['month', 'Subjectivity(t-10)', 'Combined_Sentiment(t-10)',\n",
       "       'Decay_Subjectivity(t-10)', 'Decay_Combined_Sentiment(t-10)',\n",
       "       'Topic1(t-10)', 'Topic2(t-10)', 'Topic4(t-10)', 'Decay_Topic2(t-10)',\n",
       "       'Decay_Topic4(t-10)',\n",
       "       ...\n",
       "       'Topic3(t-1)', 'Topic4(t-1)', 'Topic5(t-1)', 'Decay_Topic1(t-1)',\n",
       "       'Decay_Topic2(t-1)', 'Decay_Topic4(t-1)', 'CLC4(t-1)', 'CLC3(t-1)',\n",
       "       'CLC2(t-1)', 'CLC1(t-1)'],\n",
       "      dtype='object', length=120)"
      ]
     },
     "execution_count": 414,
     "metadata": {},
     "output_type": "execute_result"
    }
   ],
   "source": [
    "X = raw_X[:, selector.get_support()]\n",
    "feature_name=f\"scale_entropy_{X.shape[-1]}\"\n",
    "print(f\"{X.shape} | {y.shape}\")\n",
    "df_selected.columns[:-1][selector.get_support()]"
   ]
  },
  {
   "cell_type": "code",
   "execution_count": 415,
   "metadata": {},
   "outputs": [],
   "source": [
    "# from sklearn.decomposition import PCA,FastICA,FactorAnalysis,NMF\n",
    "# scaled_raw_X=MinMaxScaler((1,100)).fit_transform(raw_X)\n",
    "# # pca = PCA(n_components=150,svd_solver='full')\n",
    "# pca = NMF(n_components=150,max_iter=1000)\n",
    "# # decomposer = FactorAnalysis(n_components=7)\n",
    "# X=pca.fit_transform(scaled_raw_X)\n",
    "# feature_name=f\"NMF_{X.shape[-1]}\"\n",
    "# X.shape"
   ]
  },
  {
   "cell_type": "code",
   "execution_count": 416,
   "metadata": {},
   "outputs": [],
   "source": [
    "# X=raw_X\n",
    "# X.shape"
   ]
  },
  {
   "cell_type": "markdown",
   "metadata": {},
   "source": [
    "## Linear Model"
   ]
  },
  {
   "cell_type": "code",
   "execution_count": 417,
   "metadata": {},
   "outputs": [
    {
     "name": "stdout",
     "output_type": "stream",
     "text": [
      "\n",
      "Forecast Error (10-fold cross-validated performance):\n",
      "Ridge:\n",
      "MAE = 20.369 +/- 16.134\n",
      "RMSE = 21.479 +/- 15.602\n",
      "MAPE = 0.413 +/- 0.406\n",
      "\n",
      "Ridge_scale_entropy_120,20.369351,21.479234,0.412734\n"
     ]
    }
   ],
   "source": [
    "from sklearn.svm import SVR, LinearSVR\n",
    "from sklearn.tree import DecisionTreeRegressor\n",
    "from sklearn.kernel_ridge import KernelRidge\n",
    "from sklearn.linear_model import LinearRegression, ARDRegression, SGDRegressor, ElasticNet, Lars, Lasso, GammaRegressor, TweedieRegressor, PoissonRegressor, Lasso, Ridge, BayesianRidge\n",
    "from sklearn.ensemble import AdaBoostRegressor,RandomForestRegressor\n",
    "\n",
    "lin_model=Ridge(random_state =42)    #LinearRegression,Ridge,LinearSVR\n",
    "model_name=\"Ridge\"\n",
    "\n",
    "msg=f\"{model_name}_{feature_name}\"\n",
    "\n",
    "X_scaler = MinMaxScaler()\n",
    "scaled_X=X_scaler.fit_transform(X)\n",
    "# scaled_X=X\n",
    "dummy_y=df_original_price.to_numpy().ravel()+y.ravel()\n",
    "\n",
    "cv_results = cross_validate(lin_model,\n",
    "                                scaled_X,\n",
    "                                dummy_y,\n",
    "                                scoring=[\n",
    "                                    'neg_mean_absolute_error',\n",
    "                                    'neg_root_mean_squared_error',\n",
    "                                    'neg_mean_absolute_percentage_error'\n",
    "                                ],\n",
    "                                cv=get_TS_cv(),\n",
    "                                n_jobs=-1)\n",
    "mae = -cv_results[\"test_neg_mean_absolute_error\"]\n",
    "rmse = -cv_results[\"test_neg_root_mean_squared_error\"]\n",
    "mape = -cv_results[\"test_neg_mean_absolute_percentage_error\"]\n",
    "k = 10\n",
    "print(f\"\"\"\n",
    "Forecast Error ({k}-fold cross-validated performance):\n",
    "{lin_model.__class__.__name__}:\n",
    "MAE = {mae.mean():.3f} +/- {mae.std():.3f}\n",
    "RMSE = {rmse.mean():.3f} +/- {rmse.std():.3f}\n",
    "MAPE = {mape.mean():.3f} +/- {mape.std():.3f}\n",
    "\"\"\")\n",
    "print(f\"{msg},{mae.mean():.6f},{rmse.mean():.6f},{mape.mean():.6f}\")"
   ]
  },
  {
   "cell_type": "markdown",
   "metadata": {},
   "source": [
    "## Model"
   ]
  },
  {
   "cell_type": "code",
   "execution_count": 418,
   "metadata": {},
   "outputs": [],
   "source": [
    "from keras.layers import Reshape,MaxPooling2D,Bidirectional,ConvLSTM2D\n",
    "import tensorflow as tf\n",
    "from tensorflow import keras\n",
    "from keras.models import Sequential\n",
    "from keras.layers import Dense\n",
    "from keras.layers import LSTM\n",
    "from keras.layers import GRU\n",
    "from keras.layers import SimpleRNN \n",
    "from keras.layers import Conv2D,Conv3D\n",
    "from keras.layers import Dropout\n",
    "from keras.layers import Input\n",
    "from keras.layers import Flatten\n",
    "from keras.models import Model\n",
    "from keras.layers.merge import concatenate\n",
    "from tensorflow.keras.optimizers import Adam\n",
    "tf.keras.backend.clear_session()\n",
    "physical_devices = tf.config.list_physical_devices('GPU') \n",
    "tf.config.experimental.set_memory_growth(physical_devices[0], True)\n",
    "tf.random.set_seed(seed_value)"
   ]
  },
  {
   "cell_type": "markdown",
   "metadata": {},
   "source": [
    "### Hold-out"
   ]
  },
  {
   "cell_type": "code",
   "execution_count": 419,
   "metadata": {},
   "outputs": [],
   "source": [
    "# X=event_emb.reshape(-1,3,emb.shape[-1])\n",
    "# y=y.reshape(-1,1)\n",
    "# X=X.reshape(-1,10,900)\n",
    "# X=X.reshape(-1,10,3,900)\n",
    "f\"{X.shape} | {y.shape} | {event_emb.shape}\"\n",
    "emb=event_emb\n"
   ]
  },
  {
   "cell_type": "code",
   "execution_count": 420,
   "metadata": {},
   "outputs": [
    {
     "name": "stdout",
     "output_type": "stream",
     "text": [
      "train_X: (1561, 1, 120)\n",
      "test_X:(391, 1, 120)\n",
      "train_emb: (1561, 10, 3, 900)\n",
      "test_emb:(391, 10, 3, 900)\n",
      "train_y: (1561, 1)\n",
      "test_y:(391, 1)\n"
     ]
    }
   ],
   "source": [
    "length=X.shape[0]\n",
    "train_size=int(length*0.8)\n",
    "step_size=1\n",
    "\n",
    "train_X=X[:train_size]\n",
    "train_emb=emb[:train_size,:,:]\n",
    "train_y=y[:train_size,:]\n",
    "test_X=X[train_size:]\n",
    "test_emb=emb[train_size:,:,:]\n",
    "test_y=y[train_size:,:]\n",
    "\n",
    "X_scaler = MinMaxScaler()\n",
    "X_scaler.fit(train_X)\n",
    "y_scaler = MinMaxScaler(feature_range=(1, 100))\n",
    "# y_scaler = MinMaxScaler()\n",
    "y_scaler.fit(train_y)\n",
    "\n",
    "train_X=X_scaler.transform(train_X)\n",
    "test_X=X_scaler.transform(test_X)\n",
    "train_y=y_scaler.transform(train_y)\n",
    "test_y=y_scaler.transform(test_y)\n",
    "\n",
    "train_X=train_X.reshape(train_X.shape[0],step_size,train_X.shape[-1])\n",
    "test_X=test_X.reshape(test_X.shape[0],step_size,test_X.shape[-1])\n",
    "print(f\"train_X: {train_X.shape}\\ntest_X:{test_X.shape}\")\n",
    "print(f\"train_emb: {train_emb.shape}\\ntest_emb:{test_emb.shape}\")\n",
    "print(f\"train_y: {train_y.shape}\\ntest_y:{test_y.shape}\")"
   ]
  },
  {
   "cell_type": "code",
   "execution_count": 421,
   "metadata": {},
   "outputs": [],
   "source": [
    "emb_size=train_emb.shape[-1]\n",
    "emb_inputs = Input(shape=(10,3,emb_size))\n",
    "emb_model = Reshape((1,10,3,3,300))(emb_inputs)\n",
    "emb_model = Conv3D(50,(3,2,1), activation=\"relu\",padding='valid')(emb_model)\n",
    "emb_model = Dropout(0.3)(emb_model)\n",
    "emb_model = Conv3D(50,(5,1,2), activation=\"relu\",padding='valid')(emb_model)\n",
    "emb_model = Dropout(0.3)(emb_model)\n",
    "emb_model = Reshape((4,4,-1))(emb_model)\n",
    "emb_model = Conv2D(10,(2,2), activation=\"relu\",padding='valid')(emb_model)\n",
    "emb_model = Dropout(0.3)(emb_model)\n",
    "emb_model = Flatten()(emb_model)\n",
    "# emb_model = Dense(1)(emb_model)\n",
    "emb_model = Model(inputs=emb_inputs, outputs=emb_model)\n",
    "# opt=Adam(0.0007)\n",
    "# model.compile(loss='mae', optimizer=opt)\n",
    "# model.summary()"
   ]
  },
  {
   "cell_type": "code",
   "execution_count": 422,
   "metadata": {},
   "outputs": [],
   "source": [
    "# tf.keras.backend.clear_session()\n",
    "ts_inputs = Input(shape=(step_size,train_X.shape[-1]))\n",
    "ts_model=Reshape((step_size,train_X.shape[-1]))(ts_inputs)\n",
    "ts_model=GRU(300,dropout=0.33,return_sequences=True)(ts_model)\n",
    "ts_model= Dropout(0.3)(ts_model)\n",
    "ts_model=GRU(300,dropout=0.33,return_sequences=False)(ts_model)\n",
    "ts_model= Dropout(0.3)(ts_model)\n",
    "ts_model = Model(inputs=ts_inputs, outputs=ts_model)\n",
    "# ts_model = Bidirectional(GRU(500,dropout=0.1,return_sequences=False))(ts_inputs)\n",
    "# ts_model= Dropout(0.2)(ts_model)\n",
    "# ts_model =Dense(1)(ts_model)\n",
    "# model = Model(inputs=ts_inputs, outputs=ts_model)\n",
    "# opt = Adam(learning_rate=0.001)\n",
    "# model.compile(loss='mape', optimizer='adam')\n",
    "# ts_model.summary()"
   ]
  },
  {
   "cell_type": "code",
   "execution_count": 452,
   "metadata": {},
   "outputs": [],
   "source": [
    "combined_model = concatenate([ts_model.output,emb_model.output])\n",
    "combined_model= Reshape((1,-1),name='alpha')(combined_model)\n",
    "combined_model= Bidirectional(GRU(100,dropout=0.33,return_sequences=False))(combined_model)\n",
    "combined_model = Dropout(0.3)(combined_model)\n",
    "combined_model = Dense(1)(combined_model)\n",
    "model = Model(inputs=[ts_model.input,emb_model.input], outputs=combined_model)\n",
    "model.compile(loss='log_cosh', optimizer=Adam(0.0002))\n",
    "# model.summary()"
   ]
  },
  {
   "cell_type": "code",
   "execution_count": 453,
   "metadata": {},
   "outputs": [
    {
     "name": "stdout",
     "output_type": "stream",
     "text": [
      "Epoch 1/100\n",
      "32/32 [==============================] - 5s 34ms/step - loss: 52.8096 - val_loss: 47.4020\n",
      "Epoch 2/100\n",
      "32/32 [==============================] - 0s 7ms/step - loss: 44.8608 - val_loss: 39.8725\n",
      "Epoch 3/100\n",
      "32/32 [==============================] - 0s 7ms/step - loss: 38.3107 - val_loss: 36.2862\n",
      "Epoch 4/100\n",
      "32/32 [==============================] - 0s 7ms/step - loss: 35.1366 - val_loss: 34.1822\n",
      "Epoch 5/100\n",
      "32/32 [==============================] - 0s 6ms/step - loss: 33.0905 - val_loss: 32.4783\n",
      "Epoch 6/100\n",
      "32/32 [==============================] - 0s 7ms/step - loss: 31.4926 - val_loss: 30.9580\n",
      "Epoch 7/100\n",
      "32/32 [==============================] - 0s 6ms/step - loss: 30.0153 - val_loss: 29.4942\n",
      "Epoch 8/100\n",
      "32/32 [==============================] - 0s 6ms/step - loss: 28.5041 - val_loss: 28.0662\n",
      "Epoch 9/100\n",
      "32/32 [==============================] - 0s 6ms/step - loss: 27.0860 - val_loss: 26.6615\n",
      "Epoch 10/100\n",
      "32/32 [==============================] - 0s 6ms/step - loss: 25.7511 - val_loss: 25.2805\n",
      "Epoch 11/100\n",
      "32/32 [==============================] - 0s 7ms/step - loss: 24.3873 - val_loss: 23.9185\n",
      "Epoch 12/100\n",
      "32/32 [==============================] - 0s 7ms/step - loss: 22.9696 - val_loss: 22.5772\n",
      "Epoch 13/100\n",
      "32/32 [==============================] - 0s 7ms/step - loss: 21.6996 - val_loss: 21.2502\n",
      "Epoch 14/100\n",
      "32/32 [==============================] - 0s 7ms/step - loss: 20.4405 - val_loss: 19.9401\n",
      "Epoch 15/100\n",
      "32/32 [==============================] - 0s 7ms/step - loss: 19.1230 - val_loss: 18.6473\n",
      "Epoch 16/100\n",
      "32/32 [==============================] - 0s 6ms/step - loss: 17.8378 - val_loss: 17.3716\n",
      "Epoch 17/100\n",
      "32/32 [==============================] - 0s 6ms/step - loss: 16.6458 - val_loss: 16.1203\n",
      "Epoch 18/100\n",
      "32/32 [==============================] - 0s 6ms/step - loss: 15.4047 - val_loss: 14.9019\n",
      "Epoch 19/100\n",
      "32/32 [==============================] - 0s 6ms/step - loss: 14.3180 - val_loss: 13.7154\n",
      "Epoch 20/100\n",
      "32/32 [==============================] - 0s 6ms/step - loss: 13.0744 - val_loss: 12.5579\n",
      "Epoch 21/100\n",
      "32/32 [==============================] - 0s 6ms/step - loss: 12.0397 - val_loss: 11.4620\n",
      "Epoch 22/100\n",
      "32/32 [==============================] - 0s 6ms/step - loss: 10.9486 - val_loss: 10.4286\n",
      "Epoch 23/100\n",
      "32/32 [==============================] - 0s 5ms/step - loss: 10.1410 - val_loss: 9.4796\n",
      "Epoch 24/100\n",
      "32/32 [==============================] - 0s 5ms/step - loss: 9.4416 - val_loss: 8.6179\n",
      "Epoch 25/100\n",
      "32/32 [==============================] - 0s 6ms/step - loss: 8.7093 - val_loss: 7.8498\n",
      "Epoch 26/100\n",
      "32/32 [==============================] - 0s 6ms/step - loss: 8.0978 - val_loss: 7.1673\n",
      "Epoch 27/100\n",
      "32/32 [==============================] - 0s 5ms/step - loss: 7.6825 - val_loss: 6.5747\n",
      "Epoch 28/100\n",
      "32/32 [==============================] - 0s 6ms/step - loss: 7.2145 - val_loss: 6.0837\n",
      "Epoch 29/100\n",
      "32/32 [==============================] - 0s 5ms/step - loss: 6.9476 - val_loss: 5.6651\n",
      "Epoch 30/100\n",
      "32/32 [==============================] - 0s 6ms/step - loss: 6.5678 - val_loss: 5.3227\n",
      "Epoch 31/100\n",
      "32/32 [==============================] - 0s 5ms/step - loss: 6.3697 - val_loss: 5.0454\n",
      "Epoch 32/100\n",
      "32/32 [==============================] - 0s 5ms/step - loss: 6.3529 - val_loss: 4.8176\n",
      "Epoch 33/100\n",
      "32/32 [==============================] - 0s 5ms/step - loss: 6.0739 - val_loss: 4.6312\n",
      "Epoch 34/100\n",
      "32/32 [==============================] - 0s 5ms/step - loss: 5.9316 - val_loss: 4.4837\n",
      "Epoch 35/100\n",
      "32/32 [==============================] - 0s 6ms/step - loss: 5.8748 - val_loss: 4.3725\n",
      "Epoch 36/100\n",
      "32/32 [==============================] - 0s 6ms/step - loss: 5.8699 - val_loss: 4.2910\n",
      "Epoch 37/100\n",
      "32/32 [==============================] - 0s 5ms/step - loss: 5.9011 - val_loss: 4.2315\n",
      "Epoch 38/100\n",
      "32/32 [==============================] - 0s 6ms/step - loss: 5.8305 - val_loss: 4.1856\n",
      "Epoch 39/100\n",
      "32/32 [==============================] - 0s 6ms/step - loss: 5.8396 - val_loss: 4.1536\n",
      "Epoch 40/100\n",
      "32/32 [==============================] - 0s 5ms/step - loss: 5.8246 - val_loss: 4.1258\n",
      "Epoch 41/100\n",
      "32/32 [==============================] - 0s 5ms/step - loss: 5.9189 - val_loss: 4.1059\n",
      "Epoch 42/100\n",
      "32/32 [==============================] - 0s 5ms/step - loss: 5.8558 - val_loss: 4.0938\n",
      "Epoch 43/100\n",
      "32/32 [==============================] - 0s 5ms/step - loss: 5.8351 - val_loss: 4.0903\n",
      "Epoch 44/100\n",
      "32/32 [==============================] - 0s 5ms/step - loss: 5.7707 - val_loss: 4.0778\n",
      "Epoch 45/100\n",
      "32/32 [==============================] - 0s 5ms/step - loss: 5.8637 - val_loss: 4.0623\n",
      "Epoch 46/100\n",
      "32/32 [==============================] - 0s 5ms/step - loss: 5.9773 - val_loss: 4.0538\n",
      "Epoch 47/100\n",
      "32/32 [==============================] - 0s 5ms/step - loss: 5.8376 - val_loss: 4.0514\n",
      "Epoch 48/100\n",
      "32/32 [==============================] - 0s 6ms/step - loss: 5.9111 - val_loss: 4.0526\n",
      "Epoch 49/100\n",
      "32/32 [==============================] - 0s 5ms/step - loss: 5.7884 - val_loss: 4.0466\n",
      "Epoch 50/100\n",
      "32/32 [==============================] - 0s 5ms/step - loss: 5.8404 - val_loss: 4.0390\n",
      "Epoch 51/100\n",
      "32/32 [==============================] - 0s 6ms/step - loss: 5.9119 - val_loss: 4.0384\n",
      "Epoch 52/100\n",
      "32/32 [==============================] - 0s 5ms/step - loss: 5.8539 - val_loss: 4.0324\n",
      "Epoch 53/100\n",
      "32/32 [==============================] - 0s 5ms/step - loss: 5.8628 - val_loss: 4.0308\n",
      "Epoch 54/100\n",
      "32/32 [==============================] - 0s 5ms/step - loss: 5.8748 - val_loss: 4.0287\n",
      "Epoch 55/100\n",
      "32/32 [==============================] - 0s 5ms/step - loss: 5.7770 - val_loss: 4.0272\n",
      "Epoch 56/100\n",
      "32/32 [==============================] - 0s 5ms/step - loss: 5.8280 - val_loss: 4.0248\n",
      "Epoch 57/100\n",
      "32/32 [==============================] - 0s 5ms/step - loss: 5.8611 - val_loss: 4.0448\n",
      "Epoch 58/100\n",
      "32/32 [==============================] - 0s 6ms/step - loss: 5.9204 - val_loss: 4.1201\n",
      "Epoch 59/100\n",
      "32/32 [==============================] - 0s 6ms/step - loss: 5.6671 - val_loss: 4.1721\n",
      "Epoch 60/100\n",
      "32/32 [==============================] - 0s 5ms/step - loss: 5.1965 - val_loss: 4.4230\n",
      "Epoch 61/100\n",
      "32/32 [==============================] - 0s 6ms/step - loss: 4.5910 - val_loss: 5.1735\n",
      "Epoch 62/100\n",
      "32/32 [==============================] - 0s 5ms/step - loss: 4.1464 - val_loss: 4.5313\n",
      "Epoch 63/100\n",
      "32/32 [==============================] - 0s 5ms/step - loss: 3.9311 - val_loss: 4.5945\n",
      "Epoch 64/100\n",
      "32/32 [==============================] - 0s 6ms/step - loss: 3.6446 - val_loss: 4.7512\n",
      "Epoch 65/100\n",
      "32/32 [==============================] - 0s 6ms/step - loss: 3.5514 - val_loss: 4.9321\n",
      "Epoch 66/100\n",
      "32/32 [==============================] - 0s 5ms/step - loss: 3.4954 - val_loss: 4.8876\n",
      "Epoch 67/100\n",
      "32/32 [==============================] - 0s 5ms/step - loss: 3.3871 - val_loss: 4.5795\n",
      "Epoch 68/100\n",
      "32/32 [==============================] - 0s 6ms/step - loss: 3.3110 - val_loss: 4.7805\n",
      "Epoch 69/100\n",
      "32/32 [==============================] - 0s 6ms/step - loss: 3.2759 - val_loss: 4.6851\n",
      "Epoch 70/100\n",
      "32/32 [==============================] - 0s 5ms/step - loss: 3.2204 - val_loss: 4.4598\n",
      "Epoch 71/100\n",
      "32/32 [==============================] - 0s 5ms/step - loss: 3.2471 - val_loss: 4.4545\n",
      "Epoch 72/100\n",
      "32/32 [==============================] - 0s 6ms/step - loss: 3.1701 - val_loss: 4.5091\n",
      "Epoch 73/100\n",
      "32/32 [==============================] - 0s 5ms/step - loss: 3.0574 - val_loss: 4.3831\n",
      "Epoch 74/100\n",
      "32/32 [==============================] - 0s 6ms/step - loss: 3.1131 - val_loss: 4.3731\n",
      "Epoch 75/100\n",
      "32/32 [==============================] - 0s 6ms/step - loss: 3.0619 - val_loss: 4.4090\n",
      "Epoch 76/100\n",
      "32/32 [==============================] - 0s 6ms/step - loss: 3.1767 - val_loss: 4.3919\n",
      "Epoch 77/100\n",
      "32/32 [==============================] - 0s 5ms/step - loss: 2.9051 - val_loss: 4.3913\n",
      "Epoch 78/100\n",
      "32/32 [==============================] - 0s 5ms/step - loss: 3.0072 - val_loss: 4.2924\n",
      "Epoch 79/100\n",
      "32/32 [==============================] - 0s 5ms/step - loss: 3.0359 - val_loss: 4.2794\n",
      "Epoch 80/100\n",
      "32/32 [==============================] - 0s 5ms/step - loss: 2.9056 - val_loss: 4.3150\n",
      "Epoch 81/100\n",
      "32/32 [==============================] - 0s 5ms/step - loss: 2.8551 - val_loss: 4.2716\n",
      "Epoch 82/100\n",
      "32/32 [==============================] - 0s 5ms/step - loss: 2.9819 - val_loss: 4.2673\n",
      "Epoch 83/100\n",
      "32/32 [==============================] - 0s 5ms/step - loss: 2.8493 - val_loss: 4.3307\n",
      "Epoch 84/100\n",
      "32/32 [==============================] - 0s 5ms/step - loss: 2.7855 - val_loss: 4.3635\n",
      "Epoch 85/100\n",
      "32/32 [==============================] - 0s 6ms/step - loss: 2.8938 - val_loss: 4.4557\n",
      "Epoch 86/100\n",
      "32/32 [==============================] - 0s 5ms/step - loss: 2.8146 - val_loss: 4.4159\n",
      "Epoch 87/100\n",
      "32/32 [==============================] - 0s 6ms/step - loss: 2.9678 - val_loss: 4.3409\n",
      "Epoch 88/100\n",
      "32/32 [==============================] - 0s 7ms/step - loss: 2.8575 - val_loss: 4.3381\n",
      "Epoch 89/100\n",
      "32/32 [==============================] - 0s 6ms/step - loss: 2.8777 - val_loss: 4.3161\n",
      "Epoch 90/100\n",
      "32/32 [==============================] - 0s 6ms/step - loss: 2.8280 - val_loss: 4.3460\n",
      "Epoch 91/100\n",
      "32/32 [==============================] - 0s 6ms/step - loss: 2.7870 - val_loss: 4.3210\n",
      "Epoch 92/100\n",
      "32/32 [==============================] - 0s 5ms/step - loss: 2.8419 - val_loss: 4.3073\n",
      "Epoch 93/100\n",
      "32/32 [==============================] - 0s 5ms/step - loss: 2.7250 - val_loss: 4.2705\n",
      "Epoch 94/100\n",
      "32/32 [==============================] - 0s 5ms/step - loss: 2.8353 - val_loss: 4.2582\n",
      "Epoch 95/100\n",
      "32/32 [==============================] - 0s 5ms/step - loss: 2.7889 - val_loss: 4.2809\n",
      "Epoch 96/100\n",
      "32/32 [==============================] - 0s 5ms/step - loss: 2.8288 - val_loss: 4.2196\n",
      "Epoch 97/100\n",
      "32/32 [==============================] - 0s 5ms/step - loss: 2.7862 - val_loss: 4.2497\n",
      "Epoch 98/100\n",
      "32/32 [==============================] - 0s 5ms/step - loss: 2.7416 - val_loss: 4.2562\n",
      "Epoch 99/100\n",
      "32/32 [==============================] - 0s 6ms/step - loss: 2.6433 - val_loss: 4.2726\n",
      "Epoch 100/100\n",
      "32/32 [==============================] - 0s 5ms/step - loss: 2.7193 - val_loss: 4.2848\n"
     ]
    },
    {
     "data": {
      "image/png": "[encoded data removed]",
      "text/plain": [
       "<Figure size 432x288 with 1 Axes>"
      ]
     },
     "metadata": {
      "needs_background": "light"
     },
     "output_type": "display_data"
    }
   ],
   "source": [
    "df_forecast_error = pd.DataFrame(\n",
    "        columns=['h', 'mae', 'rmse', 'mape', 'descriptions'])\n",
    "history = model.fit([train_X,train_emb], train_y, epochs=100, batch_size=50, validation_data=([test_X,test_emb], test_y), verbose=1, shuffle=False)\n",
    "# # plot history\n",
    "pyplot.plot(history.history['loss'], label='train')\n",
    "pyplot.plot(history.history['val_loss'], label='test')\n",
    "pyplot.legend()\n",
    "pyplot.show()"
   ]
  },
  {
   "cell_type": "code",
   "execution_count": 454,
   "metadata": {},
   "outputs": [
    {
     "data": {
      "text/plain": [
       "(391, 1)"
      ]
     },
     "execution_count": 454,
     "metadata": {},
     "output_type": "execute_result"
    }
   ],
   "source": [
    "pred_y = model.predict([test_X,test_emb])\n",
    "pred_y.shape"
   ]
  },
  {
   "cell_type": "code",
   "execution_count": 455,
   "metadata": {},
   "outputs": [
    {
     "name": "stdout",
     "output_type": "stream",
     "text": [
      "GRU_scale_entropy_120,0.8306576402730197,1.0932499996033362,0.01379941441412318\n"
     ]
    },
    {
     "data": {
      "text/plain": [
       "{'h': 1,\n",
       " 'mae': [0.8306576402730197],\n",
       " 'rmse': [1.0932499996033362],\n",
       " 'mape': [0.01379941441412318],\n",
       " 'r2': [0.9786166068909589],\n",
       " 'descriptions': ''}"
      ]
     },
     "execution_count": 455,
     "metadata": {},
     "output_type": "execute_result"
    }
   ],
   "source": [
    "# pred_y=pred_y[:,0,0,0]\n",
    "inverted_pred_y = y_scaler.inverse_transform(pred_y.reshape(test_y.shape))\n",
    "inverted_test_y = y_scaler.inverse_transform(test_y)\n",
    "original_test_price=df_original_price.to_numpy()[train_size:]\n",
    "inverted_pred_y=inverted_pred_y+original_test_price\n",
    "inverted_test_y=inverted_test_y+original_test_price\n",
    "forecast_error=evaluate_series(inverted_test_y, inverted_pred_y, h)\n",
    "\n",
    "print(f\"GRU_{feature_name},{forecast_error['mae'][0]},{forecast_error['rmse'][0]},{forecast_error['mape'][0]}\")\n",
    "forecast_error"
   ]
  },
  {
   "cell_type": "code",
   "execution_count": 224,
   "metadata": {},
   "outputs": [
    {
     "name": "stdout",
     "output_type": "stream",
     "text": [
      "{'h': 1, 'mae': [8.437879100126379], 'rmse': [8.5047731196764], 'mape': [0.1391908041958299], 'r2': [-0.29408592397292654], 'descriptions': ''}\n",
      "\n",
      "Forecast Error (1-fold cross-validation)\n",
      "X: (1952, 30)\n",
      "y: (1952, 1)\n",
      "h= 1\n",
      "Model: Functional\n",
      "MAE = 8.437879 +/- nan\n",
      "RMSE = 8.504773 +/- nan\n",
      "MAPE = 0.139191 +/- nan\n",
      "\n",
      "\n"
     ]
    }
   ],
   "source": [
    "print(forecast_error)\n",
    "df_forecast_error = df_forecast_error.append(\n",
    "    pd.DataFrame(forecast_error), ignore_index=True)\n",
    "mae = df_forecast_error[\"mae\"]\n",
    "rmse = df_forecast_error[\"rmse\"]\n",
    "mape = df_forecast_error[\"mape\"]\n",
    "k = 1\n",
    "msg = f\"\"\"\n",
    "Forecast Error ({k}-fold cross-validation)\n",
    "X: {X.shape}\n",
    "y: {y.shape}\n",
    "h= {h}\n",
    "Model: {model.__class__.__name__}\n",
    "MAE = {mae.mean():.6f} +/- {mae.std():.3f}\n",
    "RMSE = {rmse.mean():.6f} +/- {rmse.std():.3f}\n",
    "MAPE = {mape.mean():.6f} +/- {mape.std():.3f}\n",
    "\"\"\"\n",
    "print(msg)\n",
    "logging.info(msg)\n",
    "evaluation_result = {\n",
    "'h': h,\n",
    "'mae': [mae.mean()],\n",
    "'rmse': [rmse.mean()],\n",
    "'mape': [mape.mean()],\n",
    "'descriptions': [msg]\n",
    "}\n",
    "print()"
   ]
  },
  {
   "cell_type": "code",
   "execution_count": null,
   "metadata": {},
   "outputs": [],
   "source": [
    "df_forecast_error"
   ]
  },
  {
   "cell_type": "code",
   "execution_count": null,
   "metadata": {},
   "outputs": [],
   "source": [
    "# evaluate_series(inverted_test_y, inverted_pred_y, h)"
   ]
  },
  {
   "cell_type": "markdown",
   "metadata": {},
   "source": [
    "### Export Model"
   ]
  },
  {
   "cell_type": "code",
   "execution_count": null,
   "metadata": {},
   "outputs": [],
   "source": [
    "# import pickle\n",
    "# import gzip\n",
    "\n",
    "# with gzip.GzipFile('./trained_models/model.pgz', 'w') as f:\n",
    "#     pickle.dump(model, f)"
   ]
  },
  {
   "cell_type": "code",
   "execution_count": null,
   "metadata": {},
   "outputs": [],
   "source": [
    "# with gzip.open('./trained_models/model.pgz', 'r') as f:\n",
    "#     trained_model = pickle.load(f)"
   ]
  },
  {
   "cell_type": "code",
   "execution_count": null,
   "metadata": {},
   "outputs": [],
   "source": [
    "# pred_y = trained_model.predict([test_emb, test_X])\n",
    "# inverted_pred_y = y_scaler.inverse_transform(pred_y.reshape(-1, 1))\n",
    "# inverted_test_y = y_scaler.inverse_transform(test_y)  # should be same as testXy\n",
    "# inverted_pred_y=inverted_pred_y.ravel()+df_original_price.Price.to_numpy()[train_size:]\n",
    "# inverted_test_y=inverted_test_y.ravel()+df_original_price.Price.to_numpy()[train_size:]\n",
    "# forecast_error = evaluate_series(inverted_test_y, inverted_pred_y, h)\n",
    "# forecast_error"
   ]
  },
  {
   "cell_type": "code",
   "execution_count": null,
   "metadata": {},
   "outputs": [],
   "source": [
    "# export architecture as json \n",
    "# model.to_json()"
   ]
  },
  {
   "cell_type": "markdown",
   "metadata": {},
   "source": [
    "### k-fold"
   ]
  },
  {
   "cell_type": "code",
   "execution_count": null,
   "metadata": {},
   "outputs": [],
   "source": [
    "# prepare models\n",
    "step_size=1\n",
    "ts_size=X.shape[-1]\n",
    "\n",
    "ts_inputs = Input(shape=(step_size,ts_size),name='ts_input')\n",
    "# ts_model = Bidirectional(GRU(300,dropout=0.3,return_sequences=False))(ts_inputs)\n",
    "# ts_model = LSTM(300,dropout=0.3,return_sequences=False)(ts_inputs)\n",
    "# ts_model = Bidirectional(GRU(300,dropout=0.4,return_sequences=False))(ts_model)\n",
    "# ts_model= Dropout(0.4)(ts_model)\n",
    "ts_model=Reshape((step_size,ts_size))(ts_inputs)\n",
    "ts_model=GRU(300,dropout=0.33,return_sequences=True)(ts_model)\n",
    "ts_model= Dropout(0.3)(ts_model)\n",
    "ts_model=GRU(300,dropout=0.33,return_sequences=False)(ts_model)\n",
    "ts_model= Dropout(0.3)(ts_model)\n",
    "# ts_model=Bidirectional(ConvLSTM2D(300,(1,5),dropout=0.3,return_sequences=False))(ts_model)\n",
    "# ts_model=ConvLSTM2D(300,(1,5),dropout=0.3,return_sequences=True)(ts_model)\n",
    "# ts_model=ConvLSTM2D(300,(1,5),dropout=0.3,return_sequences=False)(ts_model)\n",
    "# ts_model=Reshape((10,100))(ts_model)\n",
    "# ts_model = Bidirectional(GRU(200,dropout=0.1,return_sequences=True))(ts_model)\n",
    "# ts_model = Bidirectional(GRU(100,dropout=0.1,return_sequences=False))(ts_model)\n",
    "# ts_model = Dense(1)(ts_model)\n",
    "# ts_model=Reshape((1,-1))(ts_model)\n",
    "# ts_model = Dense(1)(ts_model)\n",
    "ts_model = Model(inputs=ts_inputs, outputs=ts_model)\n",
    "# model.compile(loss='mape', optimizer='adam')\n",
    "# model.summary()"
   ]
  },
  {
   "cell_type": "code",
   "execution_count": null,
   "metadata": {},
   "outputs": [],
   "source": [
    "emb_size=emb.shape[-1]\n",
    "emb_inputs = Input(shape=(10,3,emb_size),name='emb_input')\n",
    "emb_model = Reshape((1,10,3,3,300),name='emb_reshape')(emb_inputs)\n",
    "emb_model = Conv3D(50,(3,2,1), activation=\"relu\",padding='valid')(emb_model)\n",
    "emb_model = Dropout(0.3)(emb_model)\n",
    "emb_model = Conv3D(50,(5,1,2), activation=\"relu\",padding='valid')(emb_model)\n",
    "emb_model = Dropout(0.3)(emb_model)\n",
    "emb_model = Reshape((4,4,-1))(emb_model)\n",
    "emb_model = Conv2D(10,(2,2), activation=\"relu\",padding='valid')(emb_model)\n",
    "emb_model = Dropout(0.3)(emb_model)\n",
    "# emb_model = Reshape((1,18,-1))(emb_model)\n",
    "# emb_model = Dropout(0.4)(emb_model) \n",
    "# emb_model = Dropout(0.4)(emb_model) \n",
    "emb_model = Flatten()(emb_model)\n",
    "# emb_model = Dense(1)(emb_model)\n",
    "opt=Adam(0.0007)\n",
    "emb_model = Model(inputs=emb_inputs, outputs=emb_model)\n",
    "# emb_model.compile(loss='mae', optimizer=opt)\n",
    "# emb_model = Dense(10)(emb_model)\n",
    "# emb_model.compile(loss='mape', optimizer='adam')\n",
    "# emb_model.summary()"
   ]
  },
  {
   "cell_type": "code",
   "execution_count": null,
   "metadata": {},
   "outputs": [],
   "source": [
    "combined_model = concatenate([ts_model.output,emb_model.output])\n",
    "combined_model= Reshape((1,-1),name='alpha')(combined_model)\n",
    "combined_model= Bidirectional(GRU(100,dropout=0.33,return_sequences=False))(combined_model)\n",
    "# combined_model= Bidirectional(GRU(200,dropout=0.33,return_sequences=True))(combined_model)\n",
    "# combined_model= Bidirectional(SimpleRNN(100,dropout=0.3))(combined_model)\n",
    "combined_model = Dropout(0.3)(combined_model)\n",
    "combined_model = Dense(1)(combined_model)\n",
    "model = Model(inputs=[ts_model.input,emb_model.input], outputs=combined_model)\n",
    "# model.compile(loss='mae', optimizer='adam')\n",
    "model.summary()"
   ]
  },
  {
   "cell_type": "code",
   "execution_count": null,
   "metadata": {},
   "outputs": [],
   "source": [
    "emb.shape"
   ]
  },
  {
   "cell_type": "code",
   "execution_count": 458,
   "metadata": {},
   "outputs": [
    {
     "name": "stdout",
     "output_type": "stream",
     "text": [
      "train_X: (182, 1, 120) test_X:(177, 1, 120)\n",
      "train_y: (182, 1) test_y:(177, 1)\n"
     ]
    },
    {
     "data": {
      "image/png": "[encoded data removed]",
      "text/plain": [
       "<Figure size 432x288 with 1 Axes>"
      ]
     },
     "metadata": {
      "needs_background": "light"
     },
     "output_type": "display_data"
    },
    {
     "name": "stdout",
     "output_type": "stream",
     "text": [
      "pred_y: (177, 1)\n",
      "{'h': 1, 'mae': [0.26364822968403884], 'rmse': [0.4807243648561471], 'mape': [0.0028563731493109696], 'r2': [0.9962023768427888], 'descriptions': ''}\n",
      "train_X: (359, 1, 120) test_X:(177, 1, 120)\n",
      "train_y: (359, 1) test_y:(177, 1)\n"
     ]
    },
    {
     "data": {
      "image/png": "[encoded data removed]",
      "text/plain": [
       "<Figure size 432x288 with 1 Axes>"
      ]
     },
     "metadata": {
      "needs_background": "light"
     },
     "output_type": "display_data"
    },
    {
     "name": "stdout",
     "output_type": "stream",
     "text": [
      "pred_y: (177, 1)\n",
      "{'h': 1, 'mae': [0.15150629793225365], 'rmse': [0.20169456711762346], 'mape': [0.0016354055692535774], 'r2': [0.9979535835692681], 'descriptions': ''}\n",
      "train_X: (536, 1, 120) test_X:(177, 1, 120)\n",
      "train_y: (536, 1) test_y:(177, 1)\n"
     ]
    },
    {
     "data": {
      "image/png": "[encoded data removed]",
      "text/plain": [
       "<Figure size 432x288 with 1 Axes>"
      ]
     },
     "metadata": {
      "needs_background": "light"
     },
     "output_type": "display_data"
    },
    {
     "name": "stdout",
     "output_type": "stream",
     "text": [
      "pred_y: (177, 1)\n",
      "{'h': 1, 'mae': [0.21400688151965816], 'rmse': [0.2777238936149078], 'mape': [0.0021323608095119057], 'r2': [0.9967119306439441], 'descriptions': ''}\n",
      "train_X: (713, 1, 120) test_X:(177, 1, 120)\n",
      "train_y: (713, 1) test_y:(177, 1)\n"
     ]
    },
    {
     "data": {
      "image/png": "[encoded data removed]",
      "text/plain": [
       "<Figure size 432x288 with 1 Axes>"
      ]
     },
     "metadata": {
      "needs_background": "light"
     },
     "output_type": "display_data"
    },
    {
     "name": "stdout",
     "output_type": "stream",
     "text": [
      "pred_y: (177, 1)\n",
      "{'h': 1, 'mae': [0.1623691416358792], 'rmse': [0.2818651092278375], 'mape': [0.0019187631456203077], 'r2': [0.9995565302399596], 'descriptions': ''}\n",
      "train_X: (890, 1, 120) test_X:(177, 1, 120)\n",
      "train_y: (890, 1) test_y:(177, 1)\n"
     ]
    },
    {
     "data": {
      "image/png": "[encoded data removed]",
      "text/plain": [
       "<Figure size 432x288 with 1 Axes>"
      ]
     },
     "metadata": {
      "needs_background": "light"
     },
     "output_type": "display_data"
    },
    {
     "name": "stdout",
     "output_type": "stream",
     "text": [
      "pred_y: (177, 1)\n",
      "{'h': 1, 'mae': [0.19604427509788552], 'rmse': [0.2585657292583663], 'mape': [0.0038971688519519225], 'r2': [0.9981254235424443], 'descriptions': ''}\n",
      "train_X: (1067, 1, 120) test_X:(177, 1, 120)\n",
      "train_y: (1067, 1) test_y:(177, 1)\n"
     ]
    },
    {
     "data": {
      "image/png": "[encoded data removed]",
      "text/plain": [
       "<Figure size 432x288 with 1 Axes>"
      ]
     },
     "metadata": {
      "needs_background": "light"
     },
     "output_type": "display_data"
    },
    {
     "name": "stdout",
     "output_type": "stream",
     "text": [
      "pred_y: (177, 1)\n",
      "{'h': 1, 'mae': [0.18987149233556258], 'rmse': [0.23274883796658283], 'mape': [0.004972764333070061], 'r2': [0.9985873354005906], 'descriptions': ''}\n",
      "train_X: (1244, 1, 120) test_X:(177, 1, 120)\n",
      "train_y: (1244, 1) test_y:(177, 1)\n"
     ]
    },
    {
     "data": {
      "image/png": "[encoded data removed]",
      "text/plain": [
       "<Figure size 432x288 with 1 Axes>"
      ]
     },
     "metadata": {
      "needs_background": "light"
     },
     "output_type": "display_data"
    },
    {
     "name": "stdout",
     "output_type": "stream",
     "text": [
      "pred_y: (177, 1)\n",
      "{'h': 1, 'mae': [0.18130618897724476], 'rmse': [0.22664059772547332], 'mape': [0.0037462623235121574], 'r2': [0.9964263192842109], 'descriptions': ''}\n",
      "train_X: (1421, 1, 120) test_X:(177, 1, 120)\n",
      "train_y: (1421, 1) test_y:(177, 1)\n"
     ]
    },
    {
     "data": {
      "image/png": "[encoded data removed]",
      "text/plain": [
       "<Figure size 432x288 with 1 Axes>"
      ]
     },
     "metadata": {
      "needs_background": "light"
     },
     "output_type": "display_data"
    },
    {
     "name": "stdout",
     "output_type": "stream",
     "text": [
      "pred_y: (177, 1)\n",
      "{'h': 1, 'mae': [0.20315602788364898], 'rmse': [0.2722612785435386], 'mape': [0.004125544122723421], 'r2': [0.9916332516338512], 'descriptions': ''}\n",
      "train_X: (1598, 1, 120) test_X:(177, 1, 120)\n",
      "train_y: (1598, 1) test_y:(177, 1)\n"
     ]
    },
    {
     "data": {
      "image/png": "[encoded data removed]",
      "text/plain": [
       "<Figure size 432x288 with 1 Axes>"
      ]
     },
     "metadata": {
      "needs_background": "light"
     },
     "output_type": "display_data"
    },
    {
     "name": "stdout",
     "output_type": "stream",
     "text": [
      "pred_y: (177, 1)\n",
      "{'h': 1, 'mae': [0.42353432242342853], 'rmse': [0.5935007603421877], 'mape': [0.0065731582066794825], 'r2': [0.9842705737380437], 'descriptions': ''}\n",
      "train_X: (1775, 1, 120) test_X:(177, 1, 120)\n",
      "train_y: (1775, 1) test_y:(177, 1)\n"
     ]
    },
    {
     "data": {
      "image/png": "[encoded data removed]",
      "text/plain": [
       "<Figure size 432x288 with 1 Axes>"
      ]
     },
     "metadata": {
      "needs_background": "light"
     },
     "output_type": "display_data"
    },
    {
     "name": "stdout",
     "output_type": "stream",
     "text": [
      "pred_y: (177, 1)\n",
      "{'h': 1, 'mae': [0.8983369495226516], 'rmse': [1.2066794338026998], 'mape': [0.015501352050548934], 'r2': [0.9799443517453198], 'descriptions': ''}\n",
      "\n",
      "    Forecast Error (10-fold cross-validation)\n",
      "    X: (1952, 120)\n",
      "    y: (1952, 1)\n",
      "    h= 1\n",
      "    Model: Functional\n",
      "    MAE = 0.288378 +/- 0.228\n",
      "    RMSE = 0.403240 +/- 0.309\n",
      "    MAPE = 0.004736 +/- 0.004\n",
      "    \n"
     ]
    }
   ],
   "source": [
    "try:\n",
    "    cv = get_TS_cv()\n",
    "    df_forecast_error = pd.DataFrame(\n",
    "        columns=['h', 'mae', 'rmse', 'mape', 'descriptions'])\n",
    "    for train_idx, test_idx in cv.split(y):\n",
    "        # split train/test set for emb,X,y      \n",
    "        train_X = X[train_idx,:]\n",
    "        test_X = X[test_idx,:]\n",
    "        train_emb=emb[train_idx,:,:]\n",
    "        test_emb=emb[test_idx,:,:]\n",
    "        train_y = y[train_idx]\n",
    "        test_y = y[test_idx]\n",
    "\n",
    "        # normalize features\n",
    "        X_scaler = MinMaxScaler()\n",
    "        X_scaler.fit(train_X)\n",
    "        y_scaler = MinMaxScaler(feature_range=(1, 100))\n",
    "        y_scaler.fit(train_y)\n",
    "\n",
    "        train_X=X_scaler.transform(train_X)\n",
    "        test_X=X_scaler.transform(test_X)\n",
    "        train_y=y_scaler.transform(train_y)\n",
    "        test_y=y_scaler.transform(test_y)\n",
    "\n",
    "        # reshape to 3D for RNN/LSTM/GRU       \n",
    "        train_X=train_X.reshape(train_X.shape[0],step_size,train_X.shape[-1])\n",
    "        test_X=test_X.reshape(test_X.shape[0],step_size,test_X.shape[-1])\n",
    "        print(f\"train_X: {train_X.shape} test_X:{test_X.shape}\")\n",
    "        print(f\"train_y: {train_y.shape} test_y:{test_y.shape}\")\n",
    "\n",
    "        # model = Model(inputs=ts_inputs, outputs=ts_model)\n",
    "        # model = Model(inputs=emb_inputs, outputs=emb_model)\n",
    "        model = Model(inputs=[ts_model.input,emb_model.input], outputs=combined_model)\n",
    "        # model.compile(loss='mae', optimizer=opt)\n",
    "        model.compile(loss='msle', optimizer=Adam(0.0005))\n",
    "        # history = model.fit(x=train_X, y=train_y, epochs=80, batch_size=100, validation_data=(test_X, test_y), verbose=0, shuffle=False)\n",
    "        # history = model.fit(x=train_emb, y=train_y, epochs=80, batch_size=100, validation_data=(test_emb, test_y), verbose=0, shuffle=False)\n",
    "        history = model.fit(x=[train_X,train_emb], y=train_y, epochs=80, batch_size=50, validation_data=([test_X,test_emb], test_y), verbose=0, shuffle=False)\n",
    "        \n",
    "        # plot history\n",
    "        pyplot.plot(history.history['loss'], label='train')\n",
    "        pyplot.plot(history.history['val_loss'], label='test')\n",
    "        pyplot.legend()\n",
    "        pyplot.show()\n",
    "\n",
    "        # pred_y = model.predict(test_X)\n",
    "        # pred_y = model.predict(test_emb)\n",
    "        pred_y = model.predict([test_X,test_emb])\n",
    "        print(f\"pred_y: {pred_y.shape}\")\n",
    "\n",
    "        # scale\n",
    "        inverted_pred_y = y_scaler.inverse_transform(pred_y.reshape(test_y.shape))\n",
    "        inverted_test_y = y_scaler.inverse_transform(test_y)\n",
    "        original_test_price=df_original_price.to_numpy()[test_idx]\n",
    "        inverted_pred_y=inverted_pred_y+original_test_price\n",
    "        inverted_test_y=inverted_test_y+original_test_price\n",
    "\n",
    "        forecast_error = evaluate_series(inverted_test_y, inverted_pred_y, h)\n",
    "        # forecast_error = evaluate_series(test_y.reshape(-1, 1), pred_y.reshape(-1, 1), h)\n",
    "        print(forecast_error)\n",
    "        df_forecast_error = df_forecast_error.append(\n",
    "            pd.DataFrame(forecast_error), ignore_index=True)\n",
    "    mae = df_forecast_error[\"mae\"]\n",
    "    rmse = df_forecast_error[\"rmse\"]\n",
    "    mape = df_forecast_error[\"mape\"]\n",
    "    k = cv.get_n_splits()\n",
    "    msg = f\"\"\"\n",
    "    Forecast Error ({k}-fold cross-validation)\n",
    "    X: {X.shape}\n",
    "    y: {y.shape}\n",
    "    h= {h}\n",
    "    Model: {model.__class__.__name__}\n",
    "    MAE = {mae.mean():.6f} +/- {mae.std():.3f}\n",
    "    RMSE = {rmse.mean():.6f} +/- {rmse.std():.3f}\n",
    "    MAPE = {mape.mean():.6f} +/- {mape.std():.3f}\n",
    "    \"\"\"\n",
    "    print(msg)\n",
    "    logging.info(msg)\n",
    "    evaluation_result = {\n",
    "        'h': h,\n",
    "        'mae': [mae.mean()],\n",
    "        'rmse': [rmse.mean()],\n",
    "        'mape': [mape.mean()],\n",
    "        'descriptions': [msg]\n",
    "    }    \n",
    "except Exception as e:\n",
    "    logging.exception(\"EXCEPTION: %s\", e, exc_info=True)\n",
    "tf.keras.backend.clear_session()\n",
    "tf.random.set_seed(seed_value)"
   ]
  },
  {
   "cell_type": "markdown",
   "metadata": {},
   "source": [
    "#### k-fold results"
   ]
  },
  {
   "cell_type": "code",
   "execution_count": 459,
   "metadata": {},
   "outputs": [
    {
     "name": "stdout",
     "output_type": "stream",
     "text": [
      "multi,0.28837798070122517,0.4032404572455365,0.004735915256218274\n"
     ]
    },
    {
     "data": {
      "text/html": [
       "<div>\n",
       "<style scoped>\n",
       "    .dataframe tbody tr th:only-of-type {\n",
       "        vertical-align: middle;\n",
       "    }\n",
       "\n",
       "    .dataframe tbody tr th {\n",
       "        vertical-align: top;\n",
       "    }\n",
       "\n",
       "    .dataframe thead th {\n",
       "        text-align: right;\n",
       "    }\n",
       "</style>\n",
       "<table border=\"1\" class=\"dataframe\">\n",
       "  <thead>\n",
       "    <tr style=\"text-align: right;\">\n",
       "      <th></th>\n",
       "      <th>h</th>\n",
       "      <th>mae</th>\n",
       "      <th>rmse</th>\n",
       "      <th>mape</th>\n",
       "      <th>descriptions</th>\n",
       "      <th>r2</th>\n",
       "    </tr>\n",
       "  </thead>\n",
       "  <tbody>\n",
       "    <tr>\n",
       "      <th>0</th>\n",
       "      <td>1</td>\n",
       "      <td>0.263648</td>\n",
       "      <td>0.480724</td>\n",
       "      <td>0.002856</td>\n",
       "      <td></td>\n",
       "      <td>0.996202</td>\n",
       "    </tr>\n",
       "    <tr>\n",
       "      <th>1</th>\n",
       "      <td>1</td>\n",
       "      <td>0.151506</td>\n",
       "      <td>0.201695</td>\n",
       "      <td>0.001635</td>\n",
       "      <td></td>\n",
       "      <td>0.997954</td>\n",
       "    </tr>\n",
       "    <tr>\n",
       "      <th>2</th>\n",
       "      <td>1</td>\n",
       "      <td>0.214007</td>\n",
       "      <td>0.277724</td>\n",
       "      <td>0.002132</td>\n",
       "      <td></td>\n",
       "      <td>0.996712</td>\n",
       "    </tr>\n",
       "    <tr>\n",
       "      <th>3</th>\n",
       "      <td>1</td>\n",
       "      <td>0.162369</td>\n",
       "      <td>0.281865</td>\n",
       "      <td>0.001919</td>\n",
       "      <td></td>\n",
       "      <td>0.999557</td>\n",
       "    </tr>\n",
       "    <tr>\n",
       "      <th>4</th>\n",
       "      <td>1</td>\n",
       "      <td>0.196044</td>\n",
       "      <td>0.258566</td>\n",
       "      <td>0.003897</td>\n",
       "      <td></td>\n",
       "      <td>0.998125</td>\n",
       "    </tr>\n",
       "    <tr>\n",
       "      <th>5</th>\n",
       "      <td>1</td>\n",
       "      <td>0.189871</td>\n",
       "      <td>0.232749</td>\n",
       "      <td>0.004973</td>\n",
       "      <td></td>\n",
       "      <td>0.998587</td>\n",
       "    </tr>\n",
       "    <tr>\n",
       "      <th>6</th>\n",
       "      <td>1</td>\n",
       "      <td>0.181306</td>\n",
       "      <td>0.226641</td>\n",
       "      <td>0.003746</td>\n",
       "      <td></td>\n",
       "      <td>0.996426</td>\n",
       "    </tr>\n",
       "    <tr>\n",
       "      <th>7</th>\n",
       "      <td>1</td>\n",
       "      <td>0.203156</td>\n",
       "      <td>0.272261</td>\n",
       "      <td>0.004126</td>\n",
       "      <td></td>\n",
       "      <td>0.991633</td>\n",
       "    </tr>\n",
       "    <tr>\n",
       "      <th>8</th>\n",
       "      <td>1</td>\n",
       "      <td>0.423534</td>\n",
       "      <td>0.593501</td>\n",
       "      <td>0.006573</td>\n",
       "      <td></td>\n",
       "      <td>0.984271</td>\n",
       "    </tr>\n",
       "    <tr>\n",
       "      <th>9</th>\n",
       "      <td>1</td>\n",
       "      <td>0.898337</td>\n",
       "      <td>1.206679</td>\n",
       "      <td>0.015501</td>\n",
       "      <td></td>\n",
       "      <td>0.979944</td>\n",
       "    </tr>\n",
       "  </tbody>\n",
       "</table>\n",
       "</div>"
      ],
      "text/plain": [
       "   h       mae      rmse      mape descriptions        r2\n",
       "0  1  0.263648  0.480724  0.002856               0.996202\n",
       "1  1  0.151506  0.201695  0.001635               0.997954\n",
       "2  1  0.214007  0.277724  0.002132               0.996712\n",
       "3  1  0.162369  0.281865  0.001919               0.999557\n",
       "4  1  0.196044  0.258566  0.003897               0.998125\n",
       "5  1  0.189871  0.232749  0.004973               0.998587\n",
       "6  1  0.181306  0.226641  0.003746               0.996426\n",
       "7  1  0.203156  0.272261  0.004126               0.991633\n",
       "8  1  0.423534  0.593501  0.006573               0.984271\n",
       "9  1  0.898337  1.206679  0.015501               0.979944"
      ]
     },
     "execution_count": 459,
     "metadata": {},
     "output_type": "execute_result"
    }
   ],
   "source": [
    "print(f\"multi,{df_forecast_error['mae'].to_numpy().mean()},{df_forecast_error['rmse'].to_numpy().mean()},{df_forecast_error['mape'].to_numpy().mean()}\")\n",
    "df_forecast_error"
   ]
  },
  {
   "cell_type": "code",
   "execution_count": null,
   "metadata": {},
   "outputs": [],
   "source": [
    "# model_log=\"BiGRU;\"\n",
    "# FE_log=\"CLC1(h=1); 1stDIFF(xy)+ RFE(Ridge,60); scale y;\"\n",
    "# msg=f\"{model_log} {FE_log} mse;\"\n",
    "# evaluation_result[\"descriptions\"]=msg\n",
    "# df_result = pd.DataFrame(evaluation_result)\n",
    "# df_result[\"time\"] = datetime.datetime.now().strftime(\"%Y-%m-%dT%H:%M:%S\")\n",
    "\n",
    "# df_result = df_result[['time', 'descriptions', 'h', 'mae', 'rmse', 'mape']]\n",
    "# df_result"
   ]
  },
  {
   "cell_type": "code",
   "execution_count": null,
   "metadata": {},
   "outputs": [],
   "source": [
    "# df_result.to_csv(f\"{HOME}/results/experiment_results.csv\",mode=\"a+\",index=False,header=False)"
   ]
  },
  {
   "cell_type": "code",
   "execution_count": null,
   "metadata": {},
   "outputs": [],
   "source": []
  }
 ],
 "metadata": {
  "interpreter": {
   "hash": "8f3e05a59671f1eb5b3f5f0e003aaa5a39f5d3316373e39c3606e56079185283"
  },
  "kernelspec": {
   "display_name": "Python 3.8.12 64-bit ('OPP-env': conda)",
   "language": "python",
   "name": "python3"
  },
  "language_info": {
   "codemirror_mode": {
    "name": "ipython",
    "version": 3
   },
   "file_extension": ".py",
   "mimetype": "text/x-python",
   "name": "python",
   "nbconvert_exporter": "python",
   "pygments_lexer": "ipython3",
   "version": "3.8.12"
  },
  "orig_nbformat": 4
 },
 "nbformat": 4,
 "nbformat_minor": 2
}
