{
    "cells": [
        {
            "cell_type": "code",
            "execution_count": 1,
            "source": [
                "import pandas as pd\r\n",
                "from textblob import TextBlob\r\n",
                "import math\r\n",
                "from sklearn.preprocessing import MinMaxScaler\r\n",
                "from matplotlib.pyplot import MultipleLocator\r\n",
                "import matplotlib.pyplot as plt\r\n",
                "import numpy as np\r\n",
                "from sklearn.feature_selection import RFE\r\n",
                "from sklearn.tree import DecisionTreeRegressor\r\n",
                "from sklearn.ensemble import AdaBoostRegressor\r\n",
                "from tqdm import tqdm\r\n",
                "from statsmodels.tsa.statespace.sarimax import SARIMAX\r\n",
                "\r\n",
                "#define RMSE\r\n",
                "# l1-true,l2-false\r\n",
                "def RMSE(l1, l2):\r\n",
                "    length = len(l1)\r\n",
                "    sum = 0\r\n",
                "    for i in range(length):\r\n",
                "        sum = sum + np.square(l1[i] - l2[i])\r\n",
                "    return math.sqrt(sum / length)\r\n",
                "\r\n",
                "\r\n",
                "#define MAE\r\n",
                "def MAE(l1, l2):\r\n",
                "    n = len(l1)\r\n",
                "    l1 = np.array(l1)\r\n",
                "    l2 = np.array(l2)\r\n",
                "    mae = sum(np.abs(l1 - l2)) / n\r\n",
                "    return mae\r\n",
                "\r\n",
                "\r\n",
                "#def MAPE\r\n",
                "def MAPE(l1, l2):\r\n",
                "    n = len(l1)\r\n",
                "    l1 = np.array(l1)\r\n",
                "    l2 = np.array(l2)\r\n",
                "    for i in range(len(l1)):\r\n",
                "        if l1[i] == 0:\r\n",
                "            l1[i] = 0.01\r\n",
                "    mape = sum(np.abs((l1 - l2) / l1)) / n\r\n",
                "    return mape\r\n",
                "\r\n",
                "\r\n",
                "\r\n"
            ],
            "outputs": [],
            "metadata": {}
        },
        {
            "cell_type": "code",
            "execution_count": 2,
            "source": [
                "df_price = pd.read_csv(\"integrated_series.csv\")[[\"date\",\"normalized_price\"]]\r\n",
                "df_price.date = pd.to_datetime(df_price.date)"
            ],
            "outputs": [],
            "metadata": {}
        },
        {
            "cell_type": "code",
            "execution_count": 6,
            "source": [
                "df_price.head()"
            ],
            "outputs": [
                {
                    "output_type": "execute_result",
                    "data": {
                        "text/plain": [
                            "        date  normalized_price\n",
                            "0 2011-03-29          0.896216\n",
                            "1 2011-03-30          0.890023\n",
                            "2 2011-03-31          0.917431\n",
                            "3 2011-04-01          0.933028\n",
                            "4 2011-04-04          0.939794"
                        ],
                        "text/html": [
                            "<div>\n",
                            "<style scoped>\n",
                            "    .dataframe tbody tr th:only-of-type {\n",
                            "        vertical-align: middle;\n",
                            "    }\n",
                            "\n",
                            "    .dataframe tbody tr th {\n",
                            "        vertical-align: top;\n",
                            "    }\n",
                            "\n",
                            "    .dataframe thead th {\n",
                            "        text-align: right;\n",
                            "    }\n",
                            "</style>\n",
                            "<table border=\"1\" class=\"dataframe\">\n",
                            "  <thead>\n",
                            "    <tr style=\"text-align: right;\">\n",
                            "      <th></th>\n",
                            "      <th>date</th>\n",
                            "      <th>normalized_price</th>\n",
                            "    </tr>\n",
                            "  </thead>\n",
                            "  <tbody>\n",
                            "    <tr>\n",
                            "      <th>0</th>\n",
                            "      <td>2011-03-29</td>\n",
                            "      <td>0.896216</td>\n",
                            "    </tr>\n",
                            "    <tr>\n",
                            "      <th>1</th>\n",
                            "      <td>2011-03-30</td>\n",
                            "      <td>0.890023</td>\n",
                            "    </tr>\n",
                            "    <tr>\n",
                            "      <th>2</th>\n",
                            "      <td>2011-03-31</td>\n",
                            "      <td>0.917431</td>\n",
                            "    </tr>\n",
                            "    <tr>\n",
                            "      <th>3</th>\n",
                            "      <td>2011-04-01</td>\n",
                            "      <td>0.933028</td>\n",
                            "    </tr>\n",
                            "    <tr>\n",
                            "      <th>4</th>\n",
                            "      <td>2011-04-04</td>\n",
                            "      <td>0.939794</td>\n",
                            "    </tr>\n",
                            "  </tbody>\n",
                            "</table>\n",
                            "</div>"
                        ]
                    },
                    "metadata": {},
                    "execution_count": 6
                }
            ],
            "metadata": {}
        },
        {
            "cell_type": "code",
            "execution_count": 18,
            "source": [
                "size=int(df_price.shape[0]* 2 / 3)\r\n",
                "train_set=df_price.iloc[:size]['normalized_price']\r\n",
                "test_set=df_price.iloc[size:]['normalized_price']"
            ],
            "outputs": [],
            "metadata": {}
        },
        {
            "cell_type": "code",
            "execution_count": 69,
            "source": [
                "df=pd.DataFrame(columns=[\"order1\",\"order2\",\"order3\",\"rmse\",\"mae\",\"mape\"])\r\n",
                "for i in range(1,5):\r\n",
                "    for j in range(3):\r\n",
                "        for k in range(1,5):\r\n",
                "            #print(f\"order: {(i,j,k)}\")\r\n",
                "            model = SARIMAX(train_set,order=(i,j,k),seasonal_order=(0,0,0,0),exog = None,enforce_stationarity=False, enforce_invertibility=False)\r\n",
                "\r\n",
                "            result = model.fit()\r\n",
                "\r\n",
                "            pred_h1=result.predict(start=size-1,end=df_price.shape[0]-1-1)\r\n",
                "            rmse_h1 = RMSE(test_set.tolist(),pred_h1.tolist())\r\n",
                "            mae_h1 = MAE(test_set.tolist(),pred_h1.tolist())\r\n",
                "            mape_h1 = MAPE(test_set.tolist(),pred_h1.tolist())\r\n",
                "            #print(f\"rmse_h1={rmse_h1}\\n mae_h1 ={mae_h1}\\n mape_h1 ={mape_h1}\\n\")\r\n",
                "            df.loc[len(df)]=[i,j,k,rmse_h1,mae_h1,mape_h1]\r\n",
                "            pred_h2=result.predict(start=size-2,end=df_price.shape[0]-1-2)\r\n",
                "            rmse_h2 = RMSE(test_set.tolist(),pred_h2.tolist())\r\n",
                "            mae_h2 = MAE(test_set.tolist(),pred_h2.tolist())\r\n",
                "            mape_h2 = MAPE(test_set.tolist(),pred_h2.tolist())\r\n",
                "            #print(f\"rmse_h2={rmse_h2}\\n mae_h2 ={mae_h2}\\n mape_h2 ={mape_h2}\\n\")\r\n",
                "\r\n",
                "            pred_h3=result.predict(start=size-3,end=df_price.shape[0]-1-3)\r\n",
                "            rmse_h3 = RMSE(test_set.tolist(),pred_h3.tolist())\r\n",
                "            mae_h3 = MAE(test_set.tolist(),pred_h3.tolist())\r\n",
                "            mape_h3 = MAPE(test_set.tolist(),pred_h3.tolist())\r\n",
                "            #print(f\"rmse_h3={rmse_h3}\\n mae_h3 ={mae_h3}\\n mape_h3 ={mape_h3}\\n\")"
            ],
            "outputs": [
                {
                    "output_type": "stream",
                    "name": "stderr",
                    "text": [
                        "D:\\Program Files\\Anaconda3\\envs\\ds-env\\lib\\site-packages\\statsmodels\\base\\model.py:568: ConvergenceWarning: Maximum Likelihood optimization failed to converge. Check mle_retvals\n",
                        "  ConvergenceWarning)\n",
                        "D:\\Program Files\\Anaconda3\\envs\\ds-env\\lib\\site-packages\\statsmodels\\base\\model.py:568: ConvergenceWarning: Maximum Likelihood optimization failed to converge. Check mle_retvals\n",
                        "  ConvergenceWarning)\n",
                        "D:\\Program Files\\Anaconda3\\envs\\ds-env\\lib\\site-packages\\statsmodels\\base\\model.py:568: ConvergenceWarning: Maximum Likelihood optimization failed to converge. Check mle_retvals\n",
                        "  ConvergenceWarning)\n",
                        "D:\\Program Files\\Anaconda3\\envs\\ds-env\\lib\\site-packages\\statsmodels\\base\\model.py:568: ConvergenceWarning: Maximum Likelihood optimization failed to converge. Check mle_retvals\n",
                        "  ConvergenceWarning)\n",
                        "D:\\Program Files\\Anaconda3\\envs\\ds-env\\lib\\site-packages\\statsmodels\\base\\model.py:568: ConvergenceWarning: Maximum Likelihood optimization failed to converge. Check mle_retvals\n",
                        "  ConvergenceWarning)\n",
                        "D:\\Program Files\\Anaconda3\\envs\\ds-env\\lib\\site-packages\\statsmodels\\base\\model.py:568: ConvergenceWarning: Maximum Likelihood optimization failed to converge. Check mle_retvals\n",
                        "  ConvergenceWarning)\n",
                        "D:\\Program Files\\Anaconda3\\envs\\ds-env\\lib\\site-packages\\statsmodels\\base\\model.py:568: ConvergenceWarning: Maximum Likelihood optimization failed to converge. Check mle_retvals\n",
                        "  ConvergenceWarning)\n",
                        "D:\\Program Files\\Anaconda3\\envs\\ds-env\\lib\\site-packages\\statsmodels\\base\\model.py:568: ConvergenceWarning: Maximum Likelihood optimization failed to converge. Check mle_retvals\n",
                        "  ConvergenceWarning)\n",
                        "D:\\Program Files\\Anaconda3\\envs\\ds-env\\lib\\site-packages\\statsmodels\\base\\model.py:568: ConvergenceWarning: Maximum Likelihood optimization failed to converge. Check mle_retvals\n",
                        "  ConvergenceWarning)\n",
                        "D:\\Program Files\\Anaconda3\\envs\\ds-env\\lib\\site-packages\\statsmodels\\base\\model.py:568: ConvergenceWarning: Maximum Likelihood optimization failed to converge. Check mle_retvals\n",
                        "  ConvergenceWarning)\n",
                        "D:\\Program Files\\Anaconda3\\envs\\ds-env\\lib\\site-packages\\statsmodels\\base\\model.py:568: ConvergenceWarning: Maximum Likelihood optimization failed to converge. Check mle_retvals\n",
                        "  ConvergenceWarning)\n",
                        "D:\\Program Files\\Anaconda3\\envs\\ds-env\\lib\\site-packages\\statsmodels\\base\\model.py:568: ConvergenceWarning: Maximum Likelihood optimization failed to converge. Check mle_retvals\n",
                        "  ConvergenceWarning)\n"
                    ]
                }
            ],
            "metadata": {}
        },
        {
            "cell_type": "code",
            "execution_count": 70,
            "source": [
                "df.head()"
            ],
            "outputs": [
                {
                    "output_type": "execute_result",
                    "data": {
                        "text/plain": [
                            "   order1  order2  order3      rmse       mae      mape\n",
                            "0     1.0     0.0     1.0  0.215551  0.179058  0.468524\n",
                            "1     1.0     0.0     2.0  0.217168  0.180610  0.472996\n",
                            "2     1.0     0.0     3.0  0.218023  0.181403  0.475249\n",
                            "3     1.0     0.0     4.0  0.218732  0.182092  0.477247\n",
                            "4     1.0     1.0     1.0  0.161785  0.127811  0.323588"
                        ],
                        "text/html": [
                            "<div>\n",
                            "<style scoped>\n",
                            "    .dataframe tbody tr th:only-of-type {\n",
                            "        vertical-align: middle;\n",
                            "    }\n",
                            "\n",
                            "    .dataframe tbody tr th {\n",
                            "        vertical-align: top;\n",
                            "    }\n",
                            "\n",
                            "    .dataframe thead th {\n",
                            "        text-align: right;\n",
                            "    }\n",
                            "</style>\n",
                            "<table border=\"1\" class=\"dataframe\">\n",
                            "  <thead>\n",
                            "    <tr style=\"text-align: right;\">\n",
                            "      <th></th>\n",
                            "      <th>order1</th>\n",
                            "      <th>order2</th>\n",
                            "      <th>order3</th>\n",
                            "      <th>rmse</th>\n",
                            "      <th>mae</th>\n",
                            "      <th>mape</th>\n",
                            "    </tr>\n",
                            "  </thead>\n",
                            "  <tbody>\n",
                            "    <tr>\n",
                            "      <th>0</th>\n",
                            "      <td>1.0</td>\n",
                            "      <td>0.0</td>\n",
                            "      <td>1.0</td>\n",
                            "      <td>0.215551</td>\n",
                            "      <td>0.179058</td>\n",
                            "      <td>0.468524</td>\n",
                            "    </tr>\n",
                            "    <tr>\n",
                            "      <th>1</th>\n",
                            "      <td>1.0</td>\n",
                            "      <td>0.0</td>\n",
                            "      <td>2.0</td>\n",
                            "      <td>0.217168</td>\n",
                            "      <td>0.180610</td>\n",
                            "      <td>0.472996</td>\n",
                            "    </tr>\n",
                            "    <tr>\n",
                            "      <th>2</th>\n",
                            "      <td>1.0</td>\n",
                            "      <td>0.0</td>\n",
                            "      <td>3.0</td>\n",
                            "      <td>0.218023</td>\n",
                            "      <td>0.181403</td>\n",
                            "      <td>0.475249</td>\n",
                            "    </tr>\n",
                            "    <tr>\n",
                            "      <th>3</th>\n",
                            "      <td>1.0</td>\n",
                            "      <td>0.0</td>\n",
                            "      <td>4.0</td>\n",
                            "      <td>0.218732</td>\n",
                            "      <td>0.182092</td>\n",
                            "      <td>0.477247</td>\n",
                            "    </tr>\n",
                            "    <tr>\n",
                            "      <th>4</th>\n",
                            "      <td>1.0</td>\n",
                            "      <td>1.0</td>\n",
                            "      <td>1.0</td>\n",
                            "      <td>0.161785</td>\n",
                            "      <td>0.127811</td>\n",
                            "      <td>0.323588</td>\n",
                            "    </tr>\n",
                            "  </tbody>\n",
                            "</table>\n",
                            "</div>"
                        ]
                    },
                    "metadata": {},
                    "execution_count": 70
                }
            ],
            "metadata": {}
        },
        {
            "cell_type": "code",
            "execution_count": 71,
            "source": [
                "rmselist = np.array(df[\"rmse\"])\r\n",
                "maelist = np.array(df[\"mae\"])\r\n",
                "mapelist = np.array(df[\"mape\"])\r\n",
                "newlist = (rmselist + maelist + mapelist) / 3\r\n",
                "newlist = list(newlist)\r\n",
                "index = newlist.index(min(newlist))"
            ],
            "outputs": [],
            "metadata": {}
        },
        {
            "cell_type": "code",
            "execution_count": 78,
            "source": [
                "optimal_order=(int(df.iloc[index].order1),int(df.iloc[index].order2),int(df.iloc[index].order3))"
            ],
            "outputs": [],
            "metadata": {}
        },
        {
            "cell_type": "code",
            "execution_count": 79,
            "source": [
                "model = SARIMAX(train_set,order=optimal_order,seasonal_order=(0,0,0,0),exog = None,\r\n",
                "                                        enforce_stationarity=False, enforce_invertibility=False)\r\n",
                "\r\n",
                "result = model.fit()\r\n",
                "\r\n",
                "pred_h1=result.predict(start=size-1,end=df_price.shape[0]-1-1)\r\n",
                "rmse_h1 = RMSE(test_set.tolist(),pred_h1.tolist())\r\n",
                "mae_h1 = MAE(test_set.tolist(),pred_h1.tolist())\r\n",
                "mape_h1 = MAPE(test_set.tolist(),pred_h1.tolist())\r\n",
                "print(f\"rmse_h1={rmse_h1}\\n mae_h1 ={mae_h1}\\n mape_h1 ={mape_h1}\\n\")\r\n",
                "\r\n",
                "pred_h2=result.predict(start=size-2,end=df_price.shape[0]-1-2)\r\n",
                "rmse_h2 = RMSE(test_set.tolist(),pred_h2.tolist())\r\n",
                "mae_h2 = MAE(test_set.tolist(),pred_h2.tolist())\r\n",
                "mape_h2 = MAPE(test_set.tolist(),pred_h2.tolist())\r\n",
                "print(f\"rmse_h2={rmse_h2}\\n mae_h2 ={mae_h2}\\n mape_h2 ={mape_h2}\\n\")\r\n",
                "\r\n",
                "pred_h3=result.predict(start=size-3,end=df_price.shape[0]-1-3)\r\n",
                "rmse_h3 = RMSE(test_set.tolist(),pred_h3.tolist())\r\n",
                "mae_h3 = MAE(test_set.tolist(),pred_h3.tolist())\r\n",
                "mape_h3 = MAPE(test_set.tolist(),pred_h3.tolist())\r\n",
                "print(f\"rmse_h3={rmse_h3}\\n mae_h3 ={mae_h3}\\n mape_h3 ={mape_h3}\\n\")"
            ],
            "outputs": [
                {
                    "output_type": "stream",
                    "name": "stdout",
                    "text": [
                        "rmse_h1=0.16160273602544462\n",
                        " mae_h1 =0.1276106357918228\n",
                        " mape_h1 =0.3230088934490065\n",
                        "\n",
                        "rmse_h2=0.16160296179498784\n",
                        " mae_h2 =0.12761579051287833\n",
                        " mape_h2 =0.3230334033734224\n",
                        "\n",
                        "rmse_h3=0.16160461700948334\n",
                        " mae_h3 =0.12763280582008812\n",
                        " mape_h3 =0.32311616169518714\n",
                        "\n"
                    ]
                },
                {
                    "output_type": "stream",
                    "name": "stderr",
                    "text": [
                        "D:\\Program Files\\Anaconda3\\envs\\ds-env\\lib\\site-packages\\statsmodels\\base\\model.py:568: ConvergenceWarning: Maximum Likelihood optimization failed to converge. Check mle_retvals\n",
                        "  ConvergenceWarning)\n"
                    ]
                }
            ],
            "metadata": {}
        },
        {
            "cell_type": "code",
            "execution_count": null,
            "source": [],
            "outputs": [],
            "metadata": {}
        }
    ],
    "metadata": {
        "orig_nbformat": 4,
        "language_info": {
            "name": "python",
            "version": "3.7.11",
            "mimetype": "text/x-python",
            "codemirror_mode": {
                "name": "ipython",
                "version": 3
            },
            "pygments_lexer": "ipython3",
            "nbconvert_exporter": "python",
            "file_extension": ".py"
        },
        "kernelspec": {
            "name": "python3",
            "display_name": "Python 3.7.11 64-bit ('ds-env': conda)"
        },
        "interpreter": {
            "hash": "6ea1ff613e4d4108378a98b641e44fcddf5add35145041c20507c4a55380beef"
        }
    },
    "nbformat": 4,
    "nbformat_minor": 2
}