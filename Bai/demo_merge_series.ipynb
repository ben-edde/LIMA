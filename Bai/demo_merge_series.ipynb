{
    "cells": [
        {
            "cell_type": "code",
            "execution_count": 9,
            "source": [
                "import pandas as pd\r\n",
                "from textblob import TextBlob\r\n",
                "import math\r\n",
                "from sklearn.preprocessing import MinMaxScaler\r\n",
                "from matplotlib.pyplot import MultipleLocator\r\n",
                "import matplotlib.pyplot as plt\r\n",
                "import numpy as np"
            ],
            "outputs": [],
            "metadata": {}
        },
        {
            "cell_type": "code",
            "execution_count": 5,
            "source": [
                "df_sentiment = pd.read_csv(\"Bai_news_headlines_sentiment_indicators.csv\")\r\n",
                "df_sentiment.date = pd.to_datetime(df_sentiment.date)"
            ],
            "outputs": [],
            "metadata": {}
        },
        {
            "cell_type": "code",
            "execution_count": 17,
            "source": [
                "df_sentiment['normalized_polarity']= MinMaxScaler().fit_transform(np.array(df_sentiment['cumulated_polarity']).reshape(-1, 1))\r\n"
            ],
            "outputs": [],
            "metadata": {}
        },
        {
            "cell_type": "code",
            "execution_count": 25,
            "source": [
                "df_price = pd.read_csv(\"data/Bai_origin_oil.csv\")\r\n",
                "df_price.date = pd.to_datetime(df_price.date)"
            ],
            "outputs": [],
            "metadata": {}
        },
        {
            "cell_type": "code",
            "execution_count": 29,
            "source": [
                "df_price['normalized_price']= MinMaxScaler().fit_transform(np.array(df_price['price']).reshape(-1, 1))\r\n"
            ],
            "outputs": [],
            "metadata": {}
        },
        {
            "cell_type": "code",
            "execution_count": 52,
            "source": [
                "df_price_copy=df_price.set_index('date')\r\n",
                "di=pd.date_range(df_price_copy.index[0],df_price_copy.index[-1],freq='D')"
            ],
            "outputs": [],
            "metadata": {}
        },
        {
            "cell_type": "code",
            "execution_count": 68,
            "source": [
                "datestr_list=[str(i)[:10] for i in df_price.date]\r\n",
                "date_list=list(str(i) for i in df_price.date)"
            ],
            "outputs": [],
            "metadata": {}
        },
        {
            "cell_type": "code",
            "execution_count": 69,
            "source": [
                "datestr_list[:3]"
            ],
            "outputs": [
                {
                    "output_type": "execute_result",
                    "data": {
                        "text/plain": [
                            "['2011-03-29', '2011-03-30', '2011-03-31']"
                        ]
                    },
                    "metadata": {},
                    "execution_count": 69
                }
            ],
            "metadata": {}
        },
        {
            "cell_type": "code",
            "execution_count": 70,
            "source": [
                "date_list[:3]"
            ],
            "outputs": [
                {
                    "output_type": "execute_result",
                    "data": {
                        "text/plain": [
                            "['2011-03-29 00:00:00', '2011-03-30 00:00:00', '2011-03-31 00:00:00']"
                        ]
                    },
                    "metadata": {},
                    "execution_count": 70
                }
            ],
            "metadata": {}
        },
        {
            "cell_type": "code",
            "execution_count": 73,
            "source": [
                "datestr_list[0] in date_list"
            ],
            "outputs": [
                {
                    "output_type": "execute_result",
                    "data": {
                        "text/plain": [
                            "False"
                        ]
                    },
                    "metadata": {},
                    "execution_count": 73
                }
            ],
            "metadata": {}
        },
        {
            "cell_type": "code",
            "execution_count": 79,
            "source": [
                "df_price_copy.iloc[:,1][0]"
            ],
            "outputs": [
                {
                    "output_type": "execute_result",
                    "data": {
                        "text/plain": [
                            "0.8962155963302751"
                        ]
                    },
                    "metadata": {},
                    "execution_count": 79
                }
            ],
            "metadata": {}
        },
        {
            "cell_type": "code",
            "execution_count": 89,
            "source": [
                "# problem: no.price < no.days of news, there are some days having news but no price; discard those news at this moment\r\n",
                "df_polarity_price=pd.merge(df_sentiment,df_price,on=[\"date\"])[[\"date\",\"normalized_polarity\",\"normalized_price\"]]\r\n"
            ],
            "outputs": [],
            "metadata": {}
        },
        {
            "cell_type": "code",
            "execution_count": 90,
            "source": [
                "df_polarity_price.to_csv(\"normalized_polarity_price.csv\",index=False)"
            ],
            "outputs": [],
            "metadata": {}
        },
        {
            "cell_type": "code",
            "execution_count": null,
            "source": [],
            "outputs": [],
            "metadata": {}
        }
    ],
    "metadata": {
        "orig_nbformat": 4,
        "language_info": {
            "name": "python",
            "version": "3.7.11",
            "mimetype": "text/x-python",
            "codemirror_mode": {
                "name": "ipython",
                "version": 3
            },
            "pygments_lexer": "ipython3",
            "nbconvert_exporter": "python",
            "file_extension": ".py"
        },
        "kernelspec": {
            "name": "python3",
            "display_name": "Python 3.7.11 64-bit ('ds-env': conda)"
        },
        "interpreter": {
            "hash": "6ea1ff613e4d4108378a98b641e44fcddf5add35145041c20507c4a55380beef"
        }
    },
    "nbformat": 4,
    "nbformat_minor": 2
}